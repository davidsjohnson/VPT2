{
 "cells": [
  {
   "cell_type": "code",
   "execution_count": 1,
   "metadata": {
    "collapsed": true
   },
   "outputs": [],
   "source": [
    "from vpt.common import *\n",
    "import vpt.settings as s\n",
    "\n",
    "s.sensor = \"realsense\""
   ]
  },
  {
   "cell_type": "code",
   "execution_count": 2,
   "metadata": {
    "collapsed": true
   },
   "outputs": [],
   "source": [
    "hands = np.load(\"data/rdf/training/p6/000072.npz\")\n",
    "m = hands[\"dmap\"]\n",
    "mask = hands['mask']"
   ]
  },
  {
   "cell_type": "code",
   "execution_count": 21,
   "metadata": {
    "collapsed": true
   },
   "outputs": [],
   "source": [
    "# # m = np.random.randint(0, 100, (10,10))\n",
    "# m = np.array([[0, 0, 0, 0, 0],\n",
    "#               [0, 0, 0, 0, 0],\n",
    "#               [100, 100, 150, 100, 100],\n",
    "#               [200, 201, 195, 190, 180],\n",
    "#               [150, 80, 75, 80, 99]])\n",
    "\n",
    "np.random.seed(0)\n",
    "offsets_u = np.random.randint(-100000, 100000, (50,2))\n",
    "offsets_v = np.random.randint(-100000, 100000, (50,2))\n",
    "\n",
    "# offsets_u = np.array([[300, 250], [250, 198], [99, 68], [100,90]])\n",
    "# offsets_v = np.array([[100, 90], [125, 36], [10, 50], [9,100]])\n",
    "max_val = 10000\n",
    "m[m==0] = max_val"
   ]
  },
  {
   "cell_type": "code",
   "execution_count": 22,
   "metadata": {
    "collapsed": false
   },
   "outputs": [
    {
     "name": "stdout",
     "output_type": "stream",
     "text": [
      "[ 99340 -56433]\n"
     ]
    }
   ],
   "source": [
    "print(offsets_u[0])"
   ]
  },
  {
   "cell_type": "code",
   "execution_count": 23,
   "metadata": {
    "collapsed": true
   },
   "outputs": [],
   "source": [
    "m_ = m.ravel()\n",
    "offsets_u_ = np.repeat(offsets_u[np.newaxis, :], len(m_), axis=0)\n",
    "offsets_v_ = np.repeat(offsets_v[np.newaxis, :], len(m_), axis=0)\n",
    "m_ = np.repeat(m_[:, np.newaxis], offsets_u.shape[0], axis=1)\n",
    "m_ = np.repeat(m_[:,:, np.newaxis], offsets_u.shape[1], axis=2)"
   ]
  },
  {
   "cell_type": "code",
   "execution_count": 24,
   "metadata": {
    "collapsed": true
   },
   "outputs": [],
   "source": [
    "offsets_u_ = offsets_u_ / m_\n",
    "offsets_v_ = offsets_v_ / m_"
   ]
  },
  {
   "cell_type": "code",
   "execution_count": 25,
   "metadata": {
    "collapsed": false
   },
   "outputs": [
    {
     "name": "stdout",
     "output_type": "stream",
     "text": [
      "(92160, 50, 2)\n"
     ]
    }
   ],
   "source": [
    "print(offsets_u_.shape)"
   ]
  },
  {
   "cell_type": "code",
   "execution_count": 26,
   "metadata": {
    "collapsed": true
   },
   "outputs": [],
   "source": [
    "indexes = np.indices(m.shape)\n",
    "indexes = np.moveaxis(indexes, 0, 2)\n",
    "indexes = np.reshape(indexes, (indexes.shape[0]*indexes.shape[1], indexes.shape[2]))\n",
    "indexes = np.repeat(indexes[:, np.newaxis, :], offsets_u.shape[0], axis=1)"
   ]
  },
  {
   "cell_type": "code",
   "execution_count": 27,
   "metadata": {
    "collapsed": true
   },
   "outputs": [],
   "source": [
    "indexes_u = indexes+offsets_u_\n",
    "indexes_v = indexes+offsets_v_"
   ]
  },
  {
   "cell_type": "code",
   "execution_count": 28,
   "metadata": {
    "collapsed": true
   },
   "outputs": [],
   "source": [
    "indexes_u = indexes_u.astype(int)\n",
    "indexes_v = indexes_v.astype(int)"
   ]
  },
  {
   "cell_type": "code",
   "execution_count": 29,
   "metadata": {
    "collapsed": true
   },
   "outputs": [],
   "source": [
    "indexes_u[:, :, 0][indexes_u[:, :, 0] >= m.shape[0]] = -1\n",
    "indexes_u[:, :, 1][indexes_u[:, :, 1] >= m.shape[1]] = -1\n",
    "indexes_u[indexes_u < 0] = -1\n",
    "\n",
    "indexes_v[:, :, 0][indexes_v[:, :, 0] >= m.shape[0]] = -1\n",
    "indexes_v[:, :, 1][indexes_v[:, :, 1] >= m.shape[1]] = -1\n",
    "indexes_v[indexes_v < 0] = -1"
   ]
  },
  {
   "cell_type": "code",
   "execution_count": 30,
   "metadata": {
    "collapsed": true
   },
   "outputs": [],
   "source": [
    "d_u = np.ones((offsets_u_.shape[0], offsets_u_.shape[1])) * max_val\n",
    "d_v = np.ones((offsets_v_.shape[0], offsets_v_.shape[1])) * max_val"
   ]
  },
  {
   "cell_type": "code",
   "execution_count": 31,
   "metadata": {
    "collapsed": true
   },
   "outputs": [],
   "source": [
    "idxes_u = np.all(indexes_u != -1, axis=2)\n",
    "idxes_v = np.all(indexes_v != -1, axis=2)"
   ]
  },
  {
   "cell_type": "code",
   "execution_count": 32,
   "metadata": {
    "collapsed": true
   },
   "outputs": [],
   "source": [
    "d_u[idxes_u] = m[indexes_u[idxes_u][:, 0], indexes_u[idxes_u][:, 1]]\n",
    "d_v[idxes_v] = m[indexes_v[idxes_v][:, 0], indexes_v[idxes_v][:, 1]]"
   ]
  },
  {
   "cell_type": "code",
   "execution_count": 33,
   "metadata": {
    "collapsed": false
   },
   "outputs": [
    {
     "name": "stdout",
     "output_type": "stream",
     "text": [
      "[ 10000.  10000.  10000.  10000.  10000.  10000.  10000.  10000.  10000.\n",
      "  10000.  10000.  10000.  10000.  10000.  10000.  10000.  10000.  10000.\n",
      "  10000.  10000.  10000.  10000.  10000.  10000.  10000.  10000.  10000.\n",
      "  10000.  10000.  10000.  10000.  10000.  10000.  10000.  10000.  10000.\n",
      "  10000.  10000.  10000.  10000.  10000.  10000.  10000.  10000.  10000.\n",
      "  10000.  10000.  10000.  10000.  10000.] [ 10000.  10000.  10000.  10000.  10000.  10000.  10000.  10000.  10000.\n",
      "  10000.  10000.  10000.  10000.  10000.  10000.  10000.  10000.  10000.\n",
      "  10000.  10000.  10000.  10000.  10000.  10000.  10000.  10000.  10000.\n",
      "  10000.  10000.  10000.  10000.  10000.  10000.  10000.  10000.  10000.\n",
      "  10000.  10000.  10000.  10000.  10000.  10000.  10000.  10000.  10000.\n",
      "  10000.  10000.  10000.  10000.  10000.]\n",
      "748\n"
     ]
    }
   ],
   "source": [
    "print(d_u[150], d_v[150])\n",
    "print(m[150,180])"
   ]
  },
  {
   "cell_type": "code",
   "execution_count": 34,
   "metadata": {
    "collapsed": true
   },
   "outputs": [],
   "source": [
    "features = d_u-d_v"
   ]
  },
  {
   "cell_type": "code",
   "execution_count": 35,
   "metadata": {
    "collapsed": false
   },
   "outputs": [
    {
     "name": "stdout",
     "output_type": "stream",
     "text": [
      "9317.0\n"
     ]
    }
   ],
   "source": [
    "print(features.max())\n",
    "features = np.reshape(features, (m.shape[0], m.shape[1], len(offsets_u)))\n",
    "avg = np.average(features, axis=2)"
   ]
  },
  {
   "cell_type": "code",
   "execution_count": 36,
   "metadata": {
    "collapsed": false
   },
   "outputs": [
    {
     "data": {
      "text/plain": [
       "array([  0.00000000e+00,   9.24400000e+03,   0.00000000e+00,\n",
       "         3.00000000e+00,  -9.26400000e+03,  -9.30500000e+03,\n",
       "         0.00000000e+00,   0.00000000e+00,   0.00000000e+00,\n",
       "         0.00000000e+00,   0.00000000e+00,  -9.29600000e+03,\n",
       "         0.00000000e+00,   0.00000000e+00,   0.00000000e+00,\n",
       "         0.00000000e+00,   0.00000000e+00,   0.00000000e+00,\n",
       "         0.00000000e+00,  -9.31000000e+03,  -5.00000000e+00,\n",
       "        -1.30000000e+01,   9.24900000e+03,   2.00000000e+00,\n",
       "         9.25600000e+03,   9.22700000e+03,  -1.00000000e+01,\n",
       "        -9.25200000e+03,   0.00000000e+00,   0.00000000e+00,\n",
       "         0.00000000e+00,   0.00000000e+00,   0.00000000e+00,\n",
       "         0.00000000e+00,   0.00000000e+00,   9.25100000e+03,\n",
       "        -9.25000000e+03,   9.25200000e+03,   9.25400000e+03,\n",
       "         0.00000000e+00,   0.00000000e+00,  -9.25000000e+03,\n",
       "         0.00000000e+00,   9.25200000e+03,   0.00000000e+00,\n",
       "         9.25800000e+03,  -9.24800000e+03,   0.00000000e+00,\n",
       "        -9.24600000e+03,   0.00000000e+00])"
      ]
     },
     "execution_count": 36,
     "metadata": {},
     "output_type": "execute_result"
    }
   ],
   "source": [
    "features[150,180]"
   ]
  },
  {
   "cell_type": "code",
   "execution_count": 37,
   "metadata": {
    "collapsed": false
   },
   "outputs": [
    {
     "data": {
      "image/png": "[encoded data removed]",
      "text/plain": [
       "<matplotlib.figure.Figure at 0x118744390>"
      ]
     },
     "metadata": {},
     "output_type": "display_data"
    }
   ],
   "source": [
    "plt.imshow(avg)\n",
    "plt.colorbar()\n",
    "plt.show()"
   ]
  },
  {
   "cell_type": "code",
   "execution_count": 20,
   "metadata": {
    "collapsed": false
   },
   "outputs": [
    {
     "data": {
      "image/png": "[encoded data removed]",
      "text/plain": [
       "<matplotlib.figure.Figure at 0x118744828>"
      ]
     },
     "metadata": {},
     "output_type": "display_data"
    }
   ],
   "source": [
    "m_plt = m.copy()\n",
    "m_plt[m_plt==10000] = 0\n",
    "plt.imshow(m_plt)\n",
    "plt.colorbar()\n",
    "plt.show()"
   ]
  },
  {
   "cell_type": "code",
   "execution_count": null,
   "metadata": {
    "collapsed": true
   },
   "outputs": [],
   "source": []
  },
  {
   "cell_type": "code",
   "execution_count": null,
   "metadata": {
    "collapsed": true
   },
   "outputs": [],
   "source": []
  }
 ],
 "metadata": {
  "kernelspec": {
   "display_name": "Python 2",
   "language": "python",
   "name": "python2"
  },
  "language_info": {
   "codemirror_mode": {
    "name": "ipython",
    "version": 2
   },
   "file_extension": ".py",
   "mimetype": "text/x-python",
   "name": "python",
   "nbconvert_exporter": "python",
   "pygments_lexer": "ipython2",
   "version": "2.7.12"
  },
  "toc": {
   "nav_menu": {},
   "number_sections": true,
   "sideBar": true,
   "skip_h1_title": false,
   "toc_cell": false,
   "toc_position": {},
   "toc_section_display": "block",
   "toc_window_display": false
  }
 },
 "nbformat": 4,
 "nbformat_minor": 2
}
