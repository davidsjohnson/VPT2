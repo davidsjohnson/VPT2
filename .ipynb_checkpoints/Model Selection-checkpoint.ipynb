{
 "cells": [
  {
   "cell_type": "markdown",
   "metadata": {},
   "source": [
    "# Virtual Piano Tutor"
   ]
  },
  {
   "cell_type": "markdown",
   "metadata": {
    "heading_collapsed": true
   },
   "source": [
    "## Project Description\n",
    "\n",
    "This is a notebook for tracking my progress on VPT...\n",
    "\n",
    "- Best Classifier as of 11/30\n",
    "    - SVM {'C': 100, 'gamma': 0.1, 'kernel': 'rbf'}"
   ]
  },
  {
   "cell_type": "markdown",
   "metadata": {},
   "source": [
    "## TODO List"
   ]
  },
  {
   "cell_type": "markdown",
   "metadata": {},
   "source": [
    "- TODAY\n",
    "    - Work on RDF data and annotations\n",
    "    - Add results to file\n",
    "    - Rewrite RDF for GridSearchCV\n",
    "        - Extend RDF\n",
    "    - Work on ideas for paper\n",
    "        - Visualizations\n",
    "    - Play with CAE\n",
    "    \n",
    "- DONE\n",
    "    - ~~Organize RDF data~~\n",
    "    - ~~Generate data from already extracted hands...~~\n",
    "    - ~~Get notebook running on Compute Canada~~\n",
    "    - ~~Get data on Compute Canada~~\n",
    "    - ~~Setup CAE to deal with hand images~~\n",
    "    - ~~setup data for training autoencoder on LH and RH~~\n",
    "    - ~~Train Autoencoder for LH and Rh~~\n",
    "    \n",
    "\n",
    "- Bad Segmentation\n",
    "    - p3c - left hand (not terrible)\n",
    "    - p1s - right hand (shouldn't use)\n",
    "    - p5a - Both could use some work but still caputures most of the left hand (RH not so good...)\n",
    "    - p5c - not good (left hand passable...)\n",
    "    \n",
    "- Add noise to CAE\n",
    "    - http://scikit-image.org/docs/dev/api/skimage.util.html#random-noise\n",
    "    \n",
    "- ~~Multiple Participants~~\n",
    "    - ~~have one holdout set participant~~\n",
    "        - ~~Test with p1&2 training p3 testing, then p1&3...~~\n",
    "    - ~~have one holdout set exercise~~\n",
    "\n",
    "- Test with RH too\n",
    "\n",
    "- Windowing data\n",
    "    - Summarize data for classification\n",
    "    - Majority Voting (or with probabilities)\n",
    "\n",
    "- Look for other features\n",
    "    - Others??\n",
    "    - ~~Autoencoder features~~\n",
    "    - ~~HONV~~\n",
    "    \n",
    "- Work on hand segmentation\n",
    "   - See p1e for bad examples\n",
    "   - How to validate segmentation?\n",
    "       - Statistical analysis on length and width ratios\n",
    "       \n",
    "- Visualize !!!\n",
    "    - Input \n",
    "    - Results !!!\n",
    "        - F Scores\n",
    "        - Accuracy\n",
    "        - Try weighted instead of macro\n",
    "\n",
    "\n",
    "\n",
    "\n",
    "- Finish Project Description\n",
    "\n",
    "- ~~Turn into functions~~\n",
    "    \n",
    "- ~~Verify Segmentation~~\n",
    "    - have only done basic verification\n",
    "    \n",
    "- ~~FIRST THING: Test by ignoring training data (p1s) and then using train_test_split on recordings~~\n",
    "    - ~~Data should be ready for spliting~~\n",
    "    \n",
    "- ~~Remove data from testing to find culprit~~\n",
    "    \n",
    "- ~~Track my progress better !!! (duh through notebooks!)~~"
   ]
  },
  {
   "cell_type": "markdown",
   "metadata": {},
   "source": [
    "# Setup"
   ]
  },
  {
   "cell_type": "markdown",
   "metadata": {},
   "source": [
    "## Libraries"
   ]
  },
  {
   "cell_type": "code",
   "execution_count": 1,
   "metadata": {
    "collapsed": true
   },
   "outputs": [],
   "source": [
    "import os\n",
    "\n",
    "%matplotlib inline\n",
    "import matplotlib.pyplot as plt\n",
    "import numpy as np\n",
    "import cv2\n",
    "\n",
    "from vpt.features.features import *\n",
    "import vpt.utils.image_processing as ip\n",
    "import vpt.settings as s\n",
    "\n",
    "%load_ext autoreload\n",
    "%autoreload 2"
   ]
  },
  {
   "cell_type": "markdown",
   "metadata": {},
   "source": [
    "## Some helper functions"
   ]
  },
  {
   "cell_type": "markdown",
   "metadata": {},
   "source": [
    "### Visualize Hands"
   ]
  },
  {
   "cell_type": "code",
   "execution_count": 2,
   "metadata": {
    "collapsed": true
   },
   "outputs": [],
   "source": [
    "def show_hand(hand):\n",
    "    dmap = hand.get_original()\n",
    "    mask = hand.get_mask()\n",
    "        \n",
    "    img = (ip.normalize(dmap)*255).astype('uint8')\n",
    "    img_hand = cv2.bitwise_and(img, img, mask=mask)\n",
    "\n",
    "    cv2.imshow(\"OG\", img)\n",
    "    cv2.imshow(\"Mask\", mask)\n",
    "    cv2.imshow(\"Hand Only\", img_hand)\n",
    "    \n",
    "    return cv2.waitKey(20)"
   ]
  },
  {
   "cell_type": "markdown",
   "metadata": {},
   "source": [
    "### Generate Dataset"
   ]
  },
  {
   "cell_type": "code",
   "execution_count": 3,
   "metadata": {
    "collapsed": true
   },
   "outputs": [],
   "source": [
    "def init_hand_detector(M, radius, n_samples, folder, ftype, annotation_file):\n",
    "    annotations = load_annotations(annotation_file)\n",
    "\n",
    "    # generate or load model\n",
    "    segmentation_model_path = \"data/rdf/trainedmodels/p4_M%i_rad%0.1f\" % (M, radius)\n",
    "    rdf_hs = load_hs_model('p4', M, radius, n_samples, refreshHD, segmentation_model_path, masks=\"seq_masks\")\n",
    "\n",
    "    fs = FileStream(folder, ftype, annotations=annotations, ignore=True)\n",
    "    hd = HandDetector(rdf_hs)\n",
    "    \n",
    "    return hd"
   ]
  },
  {
   "cell_type": "code",
   "execution_count": 4,
   "metadata": {
    "collapsed": true
   },
   "outputs": [],
   "source": [
    "def generate_data(fs, hd, annotations):\n",
    "\n",
    "    X_lh = []\n",
    "    y_lh = []\n",
    "    training_idxs_lh = []\n",
    "\n",
    "    X_rh = []\n",
    "    y_rh = []\n",
    "    training_idxs_rh = []\n",
    "\n",
    "    filenames = []\n",
    "\n",
    "    hg = HandGenerator(fs, hd, annotations)\n",
    "\n",
    "    hgen = hg.hand_generator(debug=True)\n",
    "    for lh, rh in hgen:\n",
    "        if lh.label() != None and rh.label() != None:\n",
    "\n",
    "            if (s.participant != \"p0\" and s.participant != \"p9\") and \"{}s\".format(s.participant) in lh.get_fpath():\n",
    "                training_idxs_lh.append(i)\n",
    "            elif (s.participant == \"p0\" and \"p0a\" in lh.get_fpath() or \"p0b\" in lh.get_fpath()) or (s.participant == \"p9\" and \"p9a\" in lh.get_fpath() or \"p9b\" in lh.get_fpath()):\n",
    "                training_idxs_lh.append(i)\n",
    "\n",
    "            filenames.append(lh.get_fpath())\n",
    "            y_lh.append(lh.label())\n",
    "            X_lh.append(extract_features(lh.get_hand_img(), feature_type, n_slices=n_slices))\n",
    "            \n",
    "            i+=1\n",
    "            \n",
    "        else:\n",
    "            raise RuntimeWarning(\"Warning: No label found for hands\")\n",
    "\n",
    "    X_lh = np.array(X_lh)\n",
    "    y_lh = np.array(y_lh)\n",
    "    filenames = np.array(filenames)\n",
    "\n",
    "    training_mask_lh = np.zeros((len(y_lh),), dtype=bool)\n",
    "    training_mask_lh[training_idxs_lh] = True\n",
    "    \n",
    "    return X_lh, y_lh, training_mask_lh, filenames"
   ]
  },
  {
   "cell_type": "markdown",
   "metadata": {},
   "source": [
    "### Load/Save Data Set"
   ]
  },
  {
   "cell_type": "code",
   "execution_count": 5,
   "metadata": {
    "collapsed": true
   },
   "outputs": [],
   "source": [
    "def save_data(X_lh, y_lh, training_mask, filenames, participant, M, radius, feature_type):\n",
    "\n",
    "    data_path = os.path.join(\"data/posture\", participant, \"models/M{}_rad{:0.1f}_{}\".format(M, radius, feature_type))\n",
    "    np.save(data_path + \".full_data_lh.npy\", np.hstack((X_lh, np.expand_dims(y_lh, 1))))\n",
    "    np.save(os.path.join(\"data/posture\", participant, \"models/training_mask_lh.npy\"), training_mask_lh)\n",
    "    np.save(os.path.join(\"data/posture\", participant, \"models/filenames.npy\"), filenames)"
   ]
  },
  {
   "cell_type": "code",
   "execution_count": 6,
   "metadata": {
    "collapsed": true
   },
   "outputs": [],
   "source": [
    "def load_data(participant, M, radius, feature_type):\n",
    "    data_path = os.path.join(\"data/posture\", participant, \"models/M{}_rad{:0.1f}_{}\".format(M, radius, feature_type))\n",
    "    data_lh = np.load(data_path + \".full_data_lh.npy\")\n",
    "    training_mask_lh = np.load(os.path.join(\"data/posture\", participant, \"models/training_mask_lh.npy\"))\n",
    "    filenames = np.load(os.path.join(\"data/posture\", participant, \"models/filenames.npy\"))\n",
    "\n",
    "    X_lh = data_lh[:, :-1].squeeze()\n",
    "    y_lh = data_lh[:,j -1].squeeze()\n",
    "    \n",
    "    return X_lh, y_lh, training_mask_lh, filenames"
   ]
  },
  {
   "cell_type": "markdown",
   "metadata": {},
   "source": [
    "## Project Setup"
   ]
  },
  {
   "cell_type": "code",
   "execution_count": 23,
   "metadata": {
    "collapsed": true
   },
   "outputs": [],
   "source": [
    "## Some General Parameters\n",
    "s.participant = \"all\"\n",
    "s.sensor = \"realsense\"\n",
    "s.note = \"all_data_11_30\"\n",
    "\n",
    "ftype = \"bin\"\n",
    "folder = \"data/posture/|all/\"\n",
    "annotation_file = \"data/posture/all/annotations.txt\""
   ]
  },
  {
   "cell_type": "code",
   "execution_count": 24,
   "metadata": {
    "collapsed": true
   },
   "outputs": [],
   "source": [
    "## Model Parameters\n",
    "\n",
    "refreshHD = False\n",
    "refreshCLF = True\n",
    "\n",
    "## RDF Parameters\n",
    "M = 3\n",
    "radius = .3\n",
    "n_samples = 500\n",
    "\n",
    "## Posture Detection Parameters\n",
    "feature_type = \"hog\"\n",
    "n_slices = 20"
   ]
  },
  {
   "cell_type": "markdown",
   "metadata": {},
   "source": [
    "### Get Data"
   ]
  },
  {
   "cell_type": "code",
   "execution_count": 25,
   "metadata": {},
   "outputs": [
    {
     "name": "stdout",
     "output_type": "stream",
     "text": [
      "X LH: (12261, 968)\n",
      "y LH: (12261,)\n",
      "Training LH: (12261,)\n",
      "File names: (12261,)\n"
     ]
    }
   ],
   "source": [
    "### Load Existing Data\n",
    "X_lh, y_lh, training_mask_lh, filenames = load_data(s.participant, M, radius, feature_type)\n",
    "print(\"X LH:\", X_lh.shape)\n",
    "print(\"y LH:\", y_lh.shape)\n",
    "print(\"Training LH:\", training_mask_lh.shape)\n",
    "print(\"File names:\", filenames.shape)"
   ]
  },
  {
   "cell_type": "markdown",
   "metadata": {},
   "source": [
    "# Classification"
   ]
  },
  {
   "cell_type": "markdown",
   "metadata": {},
   "source": [
    "### Libraries"
   ]
  },
  {
   "cell_type": "code",
   "execution_count": 10,
   "metadata": {
    "collapsed": true
   },
   "outputs": [],
   "source": [
    "from sklearn.svm import SVC\n",
    "from sklearn.ensemble import RandomForestClassifier\n",
    "from sklearn.metrics import confusion_matrix, classification_report\n",
    "from sklearn.model_selection import cross_val_score, train_test_split, GridSearchCV \n",
    "\n",
    "from imblearn.over_sampling import SMOTE"
   ]
  },
  {
   "cell_type": "markdown",
   "metadata": {},
   "source": [
    "## Load Data for Classification"
   ]
  },
  {
   "cell_type": "code",
   "execution_count": 26,
   "metadata": {
    "collapsed": true
   },
   "outputs": [],
   "source": [
    "## find all \"static\" data so we can ignore for now\n",
    "r = re.compile('p[\\d]s')\n",
    "\n",
    "# remove p#s data\n",
    "vmatch = np.vectorize(lambda x:bool(r.search(x)))\n",
    "rem_static = vmatch(filenames)\n",
    "\n",
    "X_lh, y_lh, filenames = X_lh[~rem_static], y_lh[~rem_static], filenames[~rem_static]\n",
    "\n",
    "# seperate p3 from data\n",
    "r_p3 = re.compile('/p3/')\n",
    "vmatch = np.vectorize(lambda x:bool(r_p3.search(x)))\n",
    "sel = vmatch(filenames)\n",
    "\n",
    "X_lh2, y_lh2 = X_lh[~sel], y_lh[~sel]\n",
    "\n",
    "#augment data with SMOTE (but first split it so we have some good testing data)\n",
    "# X_train_lh, X_test_lh, y_train_lh, y_test_lh = train_test_split(X_lh2, y_lh2, test_size=.20)\n",
    "X_train_lh, X_test_lh, y_train_lh, y_test_lh = X_lh2, X_lh[sel], y_lh2, y_lh[sel]\n",
    "X_smote_lh, y_smote_lh = SMOTE(kind='svm').fit_sample(X_train_lh, y_train_lh)"
   ]
  },
  {
   "cell_type": "code",
   "execution_count": 27,
   "metadata": {},
   "outputs": [
    {
     "name": "stdout",
     "output_type": "stream",
     "text": [
      "SMOTE: (11460, 968) (11460,)\n",
      "TEST: (2650, 968) (2650,)\n"
     ]
    },
    {
     "data": {
      "text/plain": [
       "<matplotlib.text.Text at 0x11dc4c7f0>"
      ]
     },
     "execution_count": 27,
     "metadata": {},
     "output_type": "execute_result"
    },
    {
     "data": {
      "image/png": "[encoded data removed]",
      "text/plain": [
       "<matplotlib.figure.Figure at 0x11cf36198>"
      ]
     },
     "metadata": {},
     "output_type": "display_data"
    }
   ],
   "source": [
    "# Plot Data sets\n",
    "print(\"SMOTE:\", X_smote_lh.shape, y_smote_lh.shape)\n",
    "\n",
    "print(\"TEST:\", X_test_lh.shape, y_test_lh.shape)\n",
    "\n",
    "plt.figure(figsize=(12,4))\n",
    "\n",
    "plt.subplot(121)\n",
    "plt.hist(y_smote_lh, bins=3, rwidth=.5)\n",
    "plt.title(\"SMOTE Training Labels\")\n",
    "\n",
    "plt.subplot(122)\n",
    "plt.hist(y_test_lh, bins=3, rwidth=.5)\n",
    "plt.title(\"Test data Labels\")"
   ]
  },
  {
   "cell_type": "markdown",
   "metadata": {},
   "source": [
    "## Model Testing"
   ]
  },
  {
   "cell_type": "markdown",
   "metadata": {},
   "source": [
    "### SVM"
   ]
  },
  {
   "cell_type": "code",
   "execution_count": 28,
   "metadata": {
    "scrolled": false
   },
   "outputs": [
    {
     "name": "stdout",
     "output_type": "stream",
     "text": [
      "## Tuning hyper-parameters for f1\n",
      "\n",
      "Best Parameters set found on data set:\n",
      "\n",
      "{'C': 10, 'gamma': 0.01, 'kernel': 'rbf'}\n",
      "\n",
      "Grid scores on data set:\n",
      "\n",
      "0.353 (+/-0.065) for {'C': 0.001, 'kernel': 'linear'}\n",
      "0.649 (+/-0.082) for {'C': 0.01, 'kernel': 'linear'}\n",
      "0.665 (+/-0.079) for {'C': 0.1, 'kernel': 'linear'}\n",
      "0.653 (+/-0.072) for {'C': 1, 'kernel': 'linear'}\n",
      "0.641 (+/-0.060) for {'C': 10, 'kernel': 'linear'}\n",
      "0.638 (+/-0.058) for {'C': 100, 'kernel': 'linear'}\n",
      "0.638 (+/-0.058) for {'C': 1000, 'kernel': 'linear'}\n",
      "0.249 (+/-0.000) for {'C': 0.001, 'gamma': 0.1, 'kernel': 'rbf'}\n",
      "0.249 (+/-0.000) for {'C': 0.001, 'gamma': 0.01, 'kernel': 'rbf'}\n",
      "0.249 (+/-0.000) for {'C': 0.001, 'gamma': 0.001, 'kernel': 'rbf'}\n",
      "0.249 (+/-0.000) for {'C': 0.001, 'gamma': 0.0001, 'kernel': 'rbf'}\n",
      "0.251 (+/-0.004) for {'C': 0.01, 'gamma': 0.1, 'kernel': 'rbf'}\n",
      "0.249 (+/-0.000) for {'C': 0.01, 'gamma': 0.01, 'kernel': 'rbf'}\n",
      "0.249 (+/-0.000) for {'C': 0.01, 'gamma': 0.001, 'kernel': 'rbf'}\n",
      "0.249 (+/-0.000) for {'C': 0.01, 'gamma': 0.0001, 'kernel': 'rbf'}\n",
      "0.639 (+/-0.086) for {'C': 0.1, 'gamma': 0.1, 'kernel': 'rbf'}\n",
      "0.551 (+/-0.066) for {'C': 0.1, 'gamma': 0.01, 'kernel': 'rbf'}\n",
      "0.249 (+/-0.000) for {'C': 0.1, 'gamma': 0.001, 'kernel': 'rbf'}\n",
      "0.249 (+/-0.000) for {'C': 0.1, 'gamma': 0.0001, 'kernel': 'rbf'}\n",
      "0.659 (+/-0.074) for {'C': 1, 'gamma': 0.1, 'kernel': 'rbf'}\n",
      "0.652 (+/-0.080) for {'C': 1, 'gamma': 0.01, 'kernel': 'rbf'}\n",
      "0.583 (+/-0.077) for {'C': 1, 'gamma': 0.001, 'kernel': 'rbf'}\n",
      "0.249 (+/-0.000) for {'C': 1, 'gamma': 0.0001, 'kernel': 'rbf'}\n",
      "0.662 (+/-0.070) for {'C': 10, 'gamma': 0.1, 'kernel': 'rbf'}\n",
      "0.666 (+/-0.075) for {'C': 10, 'gamma': 0.01, 'kernel': 'rbf'}\n",
      "0.653 (+/-0.081) for {'C': 10, 'gamma': 0.001, 'kernel': 'rbf'}\n",
      "0.586 (+/-0.078) for {'C': 10, 'gamma': 0.0001, 'kernel': 'rbf'}\n",
      "0.662 (+/-0.070) for {'C': 100, 'gamma': 0.1, 'kernel': 'rbf'}\n",
      "0.654 (+/-0.063) for {'C': 100, 'gamma': 0.01, 'kernel': 'rbf'}\n",
      "0.666 (+/-0.079) for {'C': 100, 'gamma': 0.001, 'kernel': 'rbf'}\n",
      "0.654 (+/-0.082) for {'C': 100, 'gamma': 0.0001, 'kernel': 'rbf'}\n",
      "0.662 (+/-0.070) for {'C': 1000, 'gamma': 0.1, 'kernel': 'rbf'}\n",
      "0.651 (+/-0.061) for {'C': 1000, 'gamma': 0.01, 'kernel': 'rbf'}\n",
      "0.650 (+/-0.066) for {'C': 1000, 'gamma': 0.001, 'kernel': 'rbf'}\n",
      "0.666 (+/-0.078) for {'C': 1000, 'gamma': 0.0001, 'kernel': 'rbf'}\n",
      "\n",
      "Detailed classification report:\n",
      "\n",
      "The model is trained on full SMOTE data set.\n",
      "The scores on computed on the full TEST data set.\n",
      "\n",
      "             precision    recall  f1-score   support\n",
      "\n",
      "        0.0       0.60      0.96      0.73      1267\n",
      "        1.0       0.91      0.41      0.56      1336\n",
      "        2.0       0.00      0.00      0.00        47\n",
      "\n",
      "avg / total       0.74      0.67      0.64      2650\n",
      "\n",
      "\n",
      "## Tuning hyper-parameters for accuracy\n",
      "\n",
      "Best Parameters set found on data set:\n",
      "\n",
      "{'C': 10, 'gamma': 0.01, 'kernel': 'rbf'}\n",
      "\n",
      "Grid scores on data set:\n",
      "\n",
      "0.576 (+/-0.113) for {'C': 0.001, 'kernel': 'linear'}\n",
      "0.697 (+/-0.080) for {'C': 0.01, 'kernel': 'linear'}\n",
      "0.702 (+/-0.083) for {'C': 0.1, 'kernel': 'linear'}\n",
      "0.692 (+/-0.076) for {'C': 1, 'kernel': 'linear'}\n",
      "0.676 (+/-0.072) for {'C': 10, 'kernel': 'linear'}\n",
      "0.673 (+/-0.071) for {'C': 100, 'kernel': 'linear'}\n",
      "0.673 (+/-0.071) for {'C': 1000, 'kernel': 'linear'}\n",
      "0.595 (+/-0.000) for {'C': 0.001, 'gamma': 0.1, 'kernel': 'rbf'}\n",
      "0.595 (+/-0.000) for {'C': 0.001, 'gamma': 0.01, 'kernel': 'rbf'}\n",
      "0.595 (+/-0.000) for {'C': 0.001, 'gamma': 0.001, 'kernel': 'rbf'}\n",
      "0.595 (+/-0.000) for {'C': 0.001, 'gamma': 0.0001, 'kernel': 'rbf'}\n",
      "0.595 (+/-0.000) for {'C': 0.01, 'gamma': 0.1, 'kernel': 'rbf'}\n",
      "0.595 (+/-0.000) for {'C': 0.01, 'gamma': 0.01, 'kernel': 'rbf'}\n",
      "0.595 (+/-0.000) for {'C': 0.01, 'gamma': 0.001, 'kernel': 'rbf'}\n",
      "0.595 (+/-0.000) for {'C': 0.01, 'gamma': 0.0001, 'kernel': 'rbf'}\n",
      "0.695 (+/-0.080) for {'C': 0.1, 'gamma': 0.1, 'kernel': 'rbf'}\n",
      "0.659 (+/-0.081) for {'C': 0.1, 'gamma': 0.01, 'kernel': 'rbf'}\n",
      "0.595 (+/-0.000) for {'C': 0.1, 'gamma': 0.001, 'kernel': 'rbf'}\n",
      "0.595 (+/-0.000) for {'C': 0.1, 'gamma': 0.0001, 'kernel': 'rbf'}\n",
      "0.698 (+/-0.076) for {'C': 1, 'gamma': 0.1, 'kernel': 'rbf'}\n",
      "0.696 (+/-0.083) for {'C': 1, 'gamma': 0.01, 'kernel': 'rbf'}\n",
      "0.673 (+/-0.078) for {'C': 1, 'gamma': 0.001, 'kernel': 'rbf'}\n",
      "0.595 (+/-0.000) for {'C': 1, 'gamma': 0.0001, 'kernel': 'rbf'}\n",
      "0.703 (+/-0.069) for {'C': 10, 'gamma': 0.1, 'kernel': 'rbf'}\n",
      "0.704 (+/-0.078) for {'C': 10, 'gamma': 0.01, 'kernel': 'rbf'}\n",
      "0.697 (+/-0.083) for {'C': 10, 'gamma': 0.001, 'kernel': 'rbf'}\n",
      "0.674 (+/-0.078) for {'C': 10, 'gamma': 0.0001, 'kernel': 'rbf'}\n",
      "0.703 (+/-0.069) for {'C': 100, 'gamma': 0.1, 'kernel': 'rbf'}\n",
      "0.693 (+/-0.067) for {'C': 100, 'gamma': 0.01, 'kernel': 'rbf'}\n",
      "0.702 (+/-0.084) for {'C': 100, 'gamma': 0.001, 'kernel': 'rbf'}\n",
      "0.697 (+/-0.083) for {'C': 100, 'gamma': 0.0001, 'kernel': 'rbf'}\n",
      "0.703 (+/-0.069) for {'C': 1000, 'gamma': 0.1, 'kernel': 'rbf'}\n",
      "0.690 (+/-0.066) for {'C': 1000, 'gamma': 0.01, 'kernel': 'rbf'}\n",
      "0.688 (+/-0.070) for {'C': 1000, 'gamma': 0.001, 'kernel': 'rbf'}\n",
      "0.702 (+/-0.083) for {'C': 1000, 'gamma': 0.0001, 'kernel': 'rbf'}\n",
      "\n",
      "Detailed classification report:\n",
      "\n",
      "The model is trained on full SMOTE data set.\n",
      "The scores on computed on the full TEST data set.\n",
      "\n",
      "             precision    recall  f1-score   support\n",
      "\n",
      "        0.0       0.60      0.96      0.73      1267\n",
      "        1.0       0.91      0.41      0.56      1336\n",
      "        2.0       0.00      0.00      0.00        47\n",
      "\n",
      "avg / total       0.74      0.67      0.64      2650\n",
      "\n",
      "\n"
     ]
    }
   ],
   "source": [
    "## Parameters for SVMs\n",
    "param_grid = [\n",
    "  {'C': [.001, .01, .1, 1, 10, 100, 1000], 'kernel': ['linear']},\n",
    "  {'C': [.001, .01, .1, 1, 10, 100, 1000], 'gamma': [0.1, 0.01, 0.001, 0.0001], 'kernel': ['rbf']},\n",
    " ]\n",
    "\n",
    "scores = ['f1', 'accuracy']\n",
    "\n",
    "# Hyper Parameter Tuning\n",
    "for score in scores:\n",
    "    \n",
    "    with warnings.catch_warnings():\n",
    "        warnings.simplefilter(\"ignore\")\n",
    "        print(\"## Tuning hyper-parameters for {}\".format(score))\n",
    "        print()\n",
    "\n",
    "        if score is \"accuracy\":\n",
    "            scoring = score\n",
    "        else:\n",
    "            scoring = '{}_macro'.format(score)\n",
    "\n",
    "        clf = GridSearchCV(SVC(), param_grid, cv=5, scoring=scoring)\n",
    "        clf.fit(X_train_lh, y_train_lh)\n",
    "\n",
    "        print(\"Best Parameters set found on data set:\")\n",
    "        print()\n",
    "        print(clf.best_params_)\n",
    "        print()\n",
    "        print(\"Grid scores on data set:\")\n",
    "        print()\n",
    "        means = clf.cv_results_['mean_test_score']\n",
    "        stds  = clf.cv_results_['std_test_score']\n",
    "        for mean, std, params in zip(means, stds, clf.cv_results_['params']):\n",
    "            print(\"%0.3f (+/-%0.3f) for %r\" % (mean, std, params))\n",
    "        print()\n",
    "\n",
    "        print(\"Detailed classification report:\")\n",
    "        print()\n",
    "        print(\"The model is trained on full SMOTE data set.\")\n",
    "        print(\"The scores on computed on the full TEST data set.\")\n",
    "        print()\n",
    "\n",
    "        y_true, y_pred = y_test_lh, clf.predict(X_test_lh)\n",
    "        print(classification_report(y_true, y_pred))\n",
    "        print()"
   ]
  },
  {
   "cell_type": "code",
   "execution_count": 22,
   "metadata": {},
   "outputs": [
    {
     "name": "stdout",
     "output_type": "stream",
     "text": [
      "Validatation Score: 0.58679245283\n",
      "Confustion Matrix:\n",
      " [[939 328   0]\n",
      " [715 616   5]\n",
      " [ 29  18   0]]\n"
     ]
    }
   ],
   "source": [
    "from sklearn.metrics import accuracy_score\n",
    "y_true, y_pred = y_test_lh, clf.predict(X_test_lh)\n",
    "print(\"Validatation Score:\", accuracy_score(y_true, y_pred))\n",
    "print(\"Confustion Matrix:\\n\", confusion_matrix(y_true, y_pred))"
   ]
  },
  {
   "cell_type": "markdown",
   "metadata": {
    "heading_collapsed": true
   },
   "source": [
    "### RDF"
   ]
  },
  {
   "cell_type": "code",
   "execution_count": null,
   "metadata": {
    "collapsed": true,
    "hidden": true,
    "scrolled": false
   },
   "outputs": [],
   "source": [
    "## Parameters for SVMs\n",
    "param_grid = [\n",
    "  {'C': [.001, .01, .1, 1, 10, 100, 1000], 'kernel': ['linear']},\n",
    "  {'C': [.001, .01, .1, 1, 10, 100, 1000], 'gamma': [0.1, 0.01, 0.001, 0.0001], 'kernel': ['rbf']},\n",
    " ]\n",
    "\n",
    "param_grid = [\n",
    "    {'n_estimators' : [10, 20, 50], 'max_depth': [20, 40, 80, None], 'criterion': ['gini', 'entropy']}\n",
    "]\n",
    "\n",
    "scores = ['precision', 'recall', 'accuracy']\n",
    "\n",
    "# Hyper Parameter Tuning\n",
    "for score in scores:\n",
    "    \n",
    "    with warnings.catch_warnings():\n",
    "        warnings.simplefilter(\"ignore\")\n",
    "        print(\"## Tuning hyper-parameters for {}\".format(score))\n",
    "        print()\n",
    "\n",
    "        if score is \"accuracy\":\n",
    "            scoring = score\n",
    "        else:\n",
    "            scoring = '{}_macro'.format(score)\n",
    "\n",
    "        clf = GridSearchCV(RandomForestClassifier(), param_grid, cv=5, scoring=scoring)\n",
    "        clf.fit(X_train_lh2, y_train_lh2)\n",
    "\n",
    "        print(\"Best Parameters set found on data set:\")\n",
    "        print()\n",
    "        print(clf.best_params_)\n",
    "        print()\n",
    "        print(\"Grid scores on data set:\")\n",
    "        print()\n",
    "        means = clf.cv_results_['mean_test_score']\n",
    "        stds  = clf.cv_results_['std_test_score']\n",
    "        for mean, std, params in zip(means, stds, clf.cv_results_['params']):\n",
    "            print(\"%0.3f (+/-%0.3f) for %r\" % (mean, std, params))\n",
    "        print()\n",
    "\n",
    "        print(\"Detailed classification report:\")\n",
    "        print()\n",
    "        print(\"The model is trained on full SMOTE data set.\")\n",
    "        print(\"The scores on computed on the full TEST data set.\")\n",
    "        print()\n",
    "\n",
    "        y_true, y_pred = y_test_lh2, clf.predict(X_test_lh2)\n",
    "        print(classification_report(y_true, y_pred))\n",
    "        print()"
   ]
  },
  {
   "cell_type": "code",
   "execution_count": null,
   "metadata": {
    "collapsed": true,
    "hidden": true
   },
   "outputs": [],
   "source": [
    "from sklearn.metrics import accuracy_score\n",
    "y_true, y_pred = y_valid_lh2, clf.predict(X_valid_lh2)\n",
    "print(\"Validatation Score:\", accuracy_score(y_true, y_pred))\n",
    "print(\"Confustion Matrix:\\n\", confusion_matrix(y_true, y_pred))"
   ]
  },
  {
   "cell_type": "markdown",
   "metadata": {},
   "source": [
    "### NN"
   ]
  },
  {
   "cell_type": "code",
   "execution_count": null,
   "metadata": {
    "collapsed": true,
    "scrolled": false
   },
   "outputs": [],
   "source": [
    "from sklearn.neural_network import MLPClassifier\n",
    "\n",
    "## Parameters for SVMs\n",
    "param_grid = [\n",
    "  {'hidden_layer_sizes': [(256,), (256, 256), (512, 256)] , 'solver': ['adam'],\n",
    "   'activation': ['logistic', 'relu'], 'alpha' : np.linspace(.00005, .005, 4),\n",
    "  }\n",
    " ]\n",
    "\n",
    "scores = ['precision', 'recall', 'accuracy']\n",
    "\n",
    "for score in scores:\n",
    "    \n",
    "    with warnings.catch_warnings():\n",
    "        warnings.simplefilter(\"ignore\")\n",
    "        print(\"## Tuning hyper-parameters for {}\".format(score))\n",
    "        print()\n",
    "\n",
    "        if score is \"accuracy\":\n",
    "            scoring = score\n",
    "        else:\n",
    "            scoring = '{}_macro'.format(score)\n",
    "\n",
    "        clf = GridSearchCV(MLPClassifier(), param_grid, cv=5, scoring=scoring)\n",
    "        clf.fit(X_train_lh2, y_train_lh2)\n",
    "\n",
    "        print(\"Best Parameters set found on data set:\")\n",
    "        print()\n",
    "        print(clf.best_params_)\n",
    "        print()\n",
    "        print(\"Grid scores on data set:\")\n",
    "        print()\n",
    "        means = clf.cv_results_['mean_test_score']\n",
    "        stds  = clf.cv_results_['std_test_score']\n",
    "        for mean, std, params in zip(means, stds, clf.cv_results_['params']):\n",
    "            print(\"%0.3f (+/-%0.3f) for %r\" % (mean, std, params))\n",
    "        print()\n",
    "\n",
    "        print(\"Detailed classification report:\")\n",
    "        print()\n",
    "        print(\"The model is trained on full SMOTE data set.\")\n",
    "        print(\"The scores on computed on the full TEST data set.\")\n",
    "        print()\n",
    "\n",
    "        y_true, y_pred = y_test_lh2, clf.predict(X_test_lh2)\n",
    "        print(classification_report(y_true, y_pred))\n",
    "        print()"
   ]
  },
  {
   "cell_type": "code",
   "execution_count": null,
   "metadata": {
    "collapsed": true
   },
   "outputs": [],
   "source": [
    "from sklearn.metrics import accuracy_score\n",
    "X_test_temp = np.concatenate((X_test_lh2, X_valid_lh2))\n",
    "y_test_temp = np.concatenate((y_test_lh2, y_valid_lh2))\n",
    "y_true, y_pred = y_test_temp, clf.predict(X_test_temp)\n",
    "print(\"Validatation Score:\", accuracy_score(y_true, y_pred))\n",
    "print(\"Confustion Matrix:\\n\", confusion_matrix(y_true, y_pred))"
   ]
  },
  {
   "cell_type": "code",
   "execution_count": null,
   "metadata": {
    "collapsed": true
   },
   "outputs": [],
   "source": []
  }
 ],
 "metadata": {
  "kernelspec": {
   "display_name": "Python 3",
   "language": "python",
   "name": "python3"
  },
  "language_info": {
   "codemirror_mode": {
    "name": "ipython",
    "version": 3
   },
   "file_extension": ".py",
   "mimetype": "text/x-python",
   "name": "python",
   "nbconvert_exporter": "python",
   "pygments_lexer": "ipython3",
   "version": "3.6.1"
  },
  "toc": {
   "nav_menu": {
    "height": "172px",
    "width": "169px"
   },
   "number_sections": true,
   "sideBar": true,
   "skip_h1_title": false,
   "toc_cell": false,
   "toc_position": {},
   "toc_section_display": "block",
   "toc_window_display": false
  }
 },
 "nbformat": 4,
 "nbformat_minor": 2
}
