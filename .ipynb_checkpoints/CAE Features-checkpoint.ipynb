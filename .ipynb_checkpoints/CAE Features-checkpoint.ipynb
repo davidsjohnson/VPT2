{
 "cells": [
  {
   "cell_type": "code",
   "execution_count": 1,
   "metadata": {},
   "outputs": [
    {
     "name": "stderr",
     "output_type": "stream",
     "text": [
      "Using TensorFlow backend.\n"
     ]
    }
   ],
   "source": [
    "import os\n",
    "\n",
    "%matplotlib inline\n",
    "import matplotlib.pyplot as plt\n",
    "import numpy as np\n",
    "import cv2\n",
    "from keras import models\n",
    "from IPython import display\n",
    "\n",
    "from vpt.features.features import *\n",
    "import vpt.utils.image_processing as ip\n",
    "import vpt.settings as s\n",
    "\n",
    "%load_ext autoreload\n",
    "%autoreload 2"
   ]
  },
  {
   "cell_type": "code",
   "execution_count": 2,
   "metadata": {
    "collapsed": true
   },
   "outputs": [],
   "source": [
    "def generate_hand_data(fs, hd, annotations, show=False):\n",
    "\n",
    "    X_lh = []\n",
    "    y_lh = []\n",
    "\n",
    "    X_rh = []\n",
    "    y_rh = []\n",
    "\n",
    "    filenames = []\n",
    "\n",
    "    hg = HandGenerator(fs, hd, annotations)\n",
    "    \n",
    "    hgen = hg.hand_generator(debug=False)\n",
    "    init_show = False\n",
    "    for lh, rh in hgen:\n",
    "        if lh.label() != None and rh.label() != None:\n",
    "            \n",
    "            # display\n",
    "            if show:\n",
    "                if not init_show:\n",
    "                    plt.figure(figsize=(12,4))\n",
    "                    plt.subplot(121)\n",
    "                    disp_lh = plt.imshow(lh.get_hand_img())\n",
    "                    \n",
    "                    plt.subplot(122)\n",
    "                    disp_rh = plt.imshow(rh.get_hand_img())\n",
    "                    \n",
    "                    init_show = True\n",
    "                else:\n",
    "                    print(lh.get_fpath())\n",
    "                    disp_lh.set_data(lh.get_hand_img())\n",
    "                    disp_rh.set_data(rh.get_hand_img())\n",
    "                    plt.draw()\n",
    "                    \n",
    "                    display.clear_output(wait=True)\n",
    "                    display.display(plt.gcf())\n",
    "                    print(lh.get_fpath())\n",
    "                    plt.pause(0.001)\n",
    "            \n",
    "            filenames.append(lh.get_fpath())\n",
    "            \n",
    "            y_lh.append(lh.label())\n",
    "            X_lh.append(lh.get_hand_img())\n",
    "            \n",
    "            y_rh.append(rh.label())\n",
    "            X_rh.append(rh.get_hand_img())\n",
    "            \n",
    "        else:\n",
    "            raise RuntimeWarning(\"Warning: No label found for hands\")\n",
    "\n",
    "    X_lh = np.array(X_lh)\n",
    "    y_lh = np.array(y_lh)\n",
    "    filenames = np.array(filenames)\n",
    "    \n",
    "    return X_lh, y_lh, X_rh, y_rh, filenames"
   ]
  },
  {
   "cell_type": "code",
   "execution_count": 3,
   "metadata": {
    "code_folding": []
   },
   "outputs": [],
   "source": [
    "# Initialize Data Loading Parameters\n",
    "s.participant = \"p6\"\n",
    "s.sensor = \"realsense\"\n",
    "s.note = \"all_data_12_07\"\n",
    "\n",
    "ftype = \"bin\"\n",
    "folder = \"data/posture/p6/\"\n",
    "annotation_file = \"data/posture/all/annotations.txt\"\n",
    "\n",
    "# RDF Parameters\n",
    "refreshHD = False\n",
    "M = 3\n",
    "radius = .3\n",
    "n_samples = 500\n",
    "segmentation_model_path = \"data/rdf/trainedmodels/{}_M{}_rad{:0.1f}\".format(\"all\", M, radius)\n",
    "\n",
    "# Posture Parameters\n",
    "feature_type = \"cae\""
   ]
  },
  {
   "cell_type": "code",
   "execution_count": 4,
   "metadata": {
    "scrolled": true
   },
   "outputs": [
    {
     "name": "stdout",
     "output_type": "stream",
     "text": [
      "# Files Loaded: 3505\n",
      "Loading existing hand segmentation model: data/rdf/trainedmodels/all_M3_rad0.3\n"
     ]
    }
   ],
   "source": [
    "annotations = load_annotations(annotation_file, debug=False)\n",
    "fs = FileStream(folder, ftype=ftype, annotations=annotations, ignore=True)\n",
    "rdf_hs = load_hs_model(s.participant, M, radius, n_samples , refreshHD, segmentation_model_path)\n",
    "\n",
    "hd = HandDetector(rdf_hs)"
   ]
  },
  {
   "cell_type": "code",
   "execution_count": 5,
   "metadata": {
    "scrolled": false
   },
   "outputs": [
    {
     "name": "stdout",
     "output_type": "stream",
     "text": [
      "Error Generating Image: ('Invalid Data', 'data/posture/p6/p6b/000866.bin', (0,))\n"
     ]
    }
   ],
   "source": [
    "X_lh_p3, y_lh_p3, X_rh_p3, y_rh_p3, filenames_p3 = generate_hand_data(fs, hd, annotations, show=False)"
   ]
  },
  {
   "cell_type": "code",
   "execution_count": 8,
   "metadata": {},
   "outputs": [],
   "source": [
    "np.save(\"data/posture/p6/hand_data_M3_rad.3/X_lh.npy\", X_lh_p3)\n",
    "np.save(\"data/posture/p6/hand_data_M3_rad.3/y_lh.npy\", y_lh_p3)\n",
    "np.save(\"data/posture/p6/hand_data_M3_rad.3/X_rh.npy\", X_rh_p3)\n",
    "np.save(\"data/posture/p6/hand_data_M3_rad.3/y_rh.npy\", y_rh_p3)\n",
    "np.save(\"data/posture/p6/hand_data_M3_rad.3/filenames.npy\", filenames_p3)"
   ]
  },
  {
   "cell_type": "code",
   "execution_count": 7,
   "metadata": {},
   "outputs": [
    {
     "data": {
      "text/plain": [
       "3504"
      ]
     },
     "execution_count": 7,
     "metadata": {},
     "output_type": "execute_result"
    }
   ],
   "source": [
    "len(X_lh_p3)"
   ]
  },
  {
   "cell_type": "code",
   "execution_count": null,
   "metadata": {
    "collapsed": true
   },
   "outputs": [],
   "source": []
  }
 ],
 "metadata": {
  "kernelspec": {
   "display_name": "Python 3",
   "language": "python",
   "name": "python3"
  },
  "language_info": {
   "codemirror_mode": {
    "name": "ipython",
    "version": 3
   },
   "file_extension": ".py",
   "mimetype": "text/x-python",
   "name": "python",
   "nbconvert_exporter": "python",
   "pygments_lexer": "ipython3",
   "version": "3.6.1"
  },
  "toc": {
   "nav_menu": {},
   "number_sections": true,
   "sideBar": true,
   "skip_h1_title": false,
   "toc_cell": false,
   "toc_position": {},
   "toc_section_display": "block",
   "toc_window_display": false
  }
 },
 "nbformat": 4,
 "nbformat_minor": 2
}
