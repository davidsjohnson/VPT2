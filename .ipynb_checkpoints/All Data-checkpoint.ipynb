{
 "cells": [
  {
   "cell_type": "markdown",
   "metadata": {},
   "source": [
    "# All Data"
   ]
  },
  {
   "cell_type": "markdown",
   "metadata": {},
   "source": [
    "# Setup"
   ]
  },
  {
   "cell_type": "markdown",
   "metadata": {},
   "source": [
    "## Import Libraries"
   ]
  },
  {
   "cell_type": "code",
   "execution_count": 24,
   "metadata": {},
   "outputs": [
    {
     "name": "stdout",
     "output_type": "stream",
     "text": [
      "The autoreload extension is already loaded. To reload it, use:\n",
      "  %reload_ext autoreload\n"
     ]
    }
   ],
   "source": [
    "import os\n",
    "import re\n",
    "\n",
    "%matplotlib inline\n",
    "import matplotlib.pyplot as plt\n",
    "import numpy as np\n",
    "import cv2\n",
    "from IPython import display\n",
    "\n",
    "from vpt.features.features import *\n",
    "import vpt.utils.image_processing as ip\n",
    "import vpt.settings as s\n",
    "\n",
    "%load_ext autoreload\n",
    "%autoreload 2"
   ]
  },
  {
   "cell_type": "markdown",
   "metadata": {},
   "source": [
    "## Helper Functions"
   ]
  },
  {
   "cell_type": "markdown",
   "metadata": {},
   "source": [
    "### Visualize Hands"
   ]
  },
  {
   "cell_type": "code",
   "execution_count": 25,
   "metadata": {
    "collapsed": true
   },
   "outputs": [],
   "source": [
    "def get_hand_imgs(lh, rh):\n",
    "    dmap_lh, dmap_rh = lh.get_original(), rh.get_original()\n",
    "    mask_lh, mask_rh = lh.get_mask(), rh.get_mask()\n",
    "        \n",
    "    img_lh, img_rh = (ip.normalize(dmap_rh)*255).astype('uint8'), (ip.normalize(dmap_rh)*255).astype('uint8')\n",
    "    img_lh, img_rh = cv2.bitwise_and(img_lh, img_lh, mask=mask_lh), cv2.bitwise_and(img_rh, img_rh, mask=mask_rh)\n",
    "    \n",
    "    return img_lh, img_rh\n",
    "    \n"
   ]
  },
  {
   "cell_type": "markdown",
   "metadata": {},
   "source": [
    "### Generate Dataset"
   ]
  },
  {
   "cell_type": "code",
   "execution_count": 3,
   "metadata": {
    "code_folding": [
     0
    ],
    "collapsed": true
   },
   "outputs": [],
   "source": [
    "def init_hand_detector(M, radius, n_samples, folder, ftype, annotation_file):\n",
    "    annotations = load_annotations(annotation_file)\n",
    "\n",
    "    # generate or load model\n",
    "    segmentation_model_path = \"data/rdf/trainedmodels/p4_M%i_rad%0.1f\" % (M, radius)\n",
    "    rdf_hs = load_hs_model('p4', M, radius, n_samples, refreshHD, segmentation_model_path, masks=\"seq_masks\")\n",
    "\n",
    "    fs = FileStream(folder, ftype, annotations=annotations, ignore=True)\n",
    "    hd = HandDetector(rdf_hs)\n",
    "    \n",
    "    return fs, hd, annotations"
   ]
  },
  {
   "cell_type": "code",
   "execution_count": null,
   "metadata": {
    "code_folding": [],
    "collapsed": true
   },
   "outputs": [],
   "source": [
    "def generate_data(fs, hd, annotations, show=False):\n",
    "\n",
    "    X_lh = []\n",
    "    y_lh = []\n",
    "    training_idxs_lh = []\n",
    "\n",
    "    X_rh = []\n",
    "    y_rh = []\n",
    "    training_idxs_rh = []\n",
    "\n",
    "    filenames = []\n",
    "\n",
    "    hg = HandGenerator(fs, hd, annotations)\n",
    "\n",
    "    hgen = hg.hand_generator(debug=True)\n",
    "    i = 0\n",
    "    init_show = False\n",
    "    for lh, rh in hgen:\n",
    "        if lh.label() != None and rh.label() != None:\n",
    "            \n",
    "            # display\n",
    "            if show:\n",
    "                img_lh, img_rh = get_hand_imgs(lh, rh)\n",
    "                if not init_show:\n",
    "                    plt.figure(figsize=(12,4))\n",
    "                    plt.subplot(121)\n",
    "                    disp_lh = plt.imshow(img_lh)\n",
    "                    \n",
    "                    plt.subplot(122)\n",
    "                    disp_rh = plt.imshow(img_rh)\n",
    "                    \n",
    "                    init_show = True\n",
    "                else:\n",
    "                    print(lh.get_fpath())\n",
    "                    disp_lh.set_data(img_lh)\n",
    "                    disp_rh.set_data(img_rh)\n",
    "                    plt.draw()\n",
    "                    \n",
    "                    display.clear_output(wait=True)\n",
    "                    display.display(plt.gcf())\n",
    "                    print(lh.get_fpath())\n",
    "                    plt.pause(0.1)\n",
    "                    \n",
    "                \n",
    "\n",
    "            if (s.participant != \"p0\" and s.participant != \"p9\") and re.search(\"p[\\d]s\", lh.get_fpath()) is not None:\n",
    "                print(\"training idx:\", i)\n",
    "            elif (s.participant == \"p0\" and \"p0a\" in lh.get_fpath() or \"p0b\" in lh.get_fpath()) or (s.participant == \"p9\" and \"p9a\" in lh.get_fpath() or \"p9b\" in lh.get_fpath()):\n",
    "                training_idxs_lh.append(i)\n",
    "\n",
    "            filenames.append(lh.get_fpath())\n",
    "            y_lh.append(lh.label())\n",
    "            X_lh.append(extract_features(lh.get_hand_img(), feature_type, n_slices=n_slices))\n",
    "            \n",
    "            i+=1\n",
    "            \n",
    "        else:\n",
    "            raise RuntimeWarning(\"Warning: No label found for hands\")\n",
    "\n",
    "    X_lh = np.array(X_lh)\n",
    "    y_lh = np.array(y_lh)\n",
    "    filenames = np.array(filenames)\n",
    "\n",
    "    training_mask_lh = np.zeros((len(y_lh),), dtype=bool)\n",
    "    training_mask_lh[training_idxs_lh] = True\n",
    "    \n",
    "    return X_lh, y_lh, training_mask_lh, filenames"
   ]
  },
  {
   "cell_type": "markdown",
   "metadata": {},
   "source": [
    "### Load/Save Dataset"
   ]
  },
  {
   "cell_type": "code",
   "execution_count": 5,
   "metadata": {
    "collapsed": true
   },
   "outputs": [],
   "source": [
    "def save_data(X_lh, y_lh, training_mask_lh, filenames, participant, M, radius, feature_type):\n",
    "\n",
    "    data_path = os.path.join(\"data/posture\", participant, \"models/M{}_rad{:0.1f}_{}\".format(M, radius, feature_type))\n",
    "    np.save(data_path + \".full_data_lh.npy\", np.hstack((X_lh, np.expand_dims(y_lh, 1))))\n",
    "    np.save(os.path.join(\"data/posture\", participant, \"models/training_mask_lh.npy\"), training_mask_lh)\n",
    "    np.save(os.path.join(\"data/posture\", participant, \"models/filenames.npy\"), filenames)"
   ]
  },
  {
   "cell_type": "code",
   "execution_count": 6,
   "metadata": {
    "collapsed": true
   },
   "outputs": [],
   "source": [
    "def load_data(participant, M, radius, feature_type):\n",
    "    data_path = os.path.join(\"data/posture\", participant, \"models/M{}_rad{:0.1f}_{}\".format(M, radius, feature_type))\n",
    "    data_lh = np.load(data_path + \".full_data_lh.npy\")\n",
    "    training_mask_lh = np.load(os.path.join(\"data/posture\", participant, \"models/training_mask_lh.npy\"))\n",
    "    filenames = np.load(os.path.join(\"data/posture\", participant, \"models/filenames.npy\"))\n",
    "\n",
    "    X_lh = data_lh[:, :-1].squeeze()\n",
    "    y_lh = data_lh[:, -1].squeeze()\n",
    "    \n",
    "    return X_lh, y_lh, training_mask_lh, filenames"
   ]
  },
  {
   "cell_type": "markdown",
   "metadata": {},
   "source": [
    "# Loading Data"
   ]
  },
  {
   "cell_type": "code",
   "execution_count": 7,
   "metadata": {
    "code_folding": []
   },
   "outputs": [],
   "source": [
    "# Initialize Data Loading Parameters\n",
    "s.participant = \"all\"\n",
    "s.sensor = \"realsense\"\n",
    "s.note = \"all_data_11_30\"\n",
    "\n",
    "ftype = \"bin\"\n",
    "folder = \"data/posture/all/\"\n",
    "annotation_file = \"data/posture/all/annotations.txt\"\n",
    "\n",
    "refreshHD = False\n",
    "refreshCLF = True\n",
    "\n",
    "# RDF Parameters\n",
    "M = 3\n",
    "radius = .3\n",
    "n_samples = 500\n",
    "\n",
    "# Posture Parameters\n",
    "feature_type = \"hog\"\n",
    "n_slices = 20"
   ]
  },
  {
   "cell_type": "code",
   "execution_count": null,
   "metadata": {},
   "outputs": [
    {
     "data": {
      "image/png": "[encoded data removed]",
      "text/plain": [
       "<matplotlib.figure.Figure at 0x117fdbf60>"
      ]
     },
     "metadata": {},
     "output_type": "display_data"
    }
   ],
   "source": [
    "# generate and save data\n",
    "print(\"Setting up Hand Dectector...\")\n",
    "fs, hd, annotations = init_hand_detector(M, radius, n_samples, folder, ftype, annotation_file)\n",
    "print(\"Done\")\n",
    "print()\n",
    "print(\"Generating Data..\")\n",
    "X_lh, y_lh, training_mask_lh, filenames = generate_data(fs, hd, annotations, show=True)\n",
    "print(\"Done\")\n",
    "print()\n",
    "print(\"Saving Data...\")\n",
    "save_data(X_lh, y_lh, training_mask_lh, filenames, s.participant, M, radius, feature_type)\n",
    "print(\"Done\")"
   ]
  },
  {
   "cell_type": "code",
   "execution_count": null,
   "metadata": {
    "collapsed": true
   },
   "outputs": [],
   "source": [
    "# load existing data\n",
    "X_lh, y_lh, training_mask_lh, filenames = load_data(s.participant, M, radius, feature_type)"
   ]
  },
  {
   "cell_type": "markdown",
   "metadata": {},
   "source": [
    "# Classification"
   ]
  },
  {
   "cell_type": "markdown",
   "metadata": {},
   "source": [
    "### Libraries"
   ]
  },
  {
   "cell_type": "code",
   "execution_count": 14,
   "metadata": {
    "collapsed": true
   },
   "outputs": [],
   "source": [
    "from sklearn.svm import SVC\n",
    "from sklearn.neural_network import MLPClassifier\n",
    "from sklearn.metrics import accuracy_score, confusion_matrix, classification_report\n",
    "from sklearn.model_selection import train_test_split, cross_val_score\n",
    "from imblearn.over_sampling import SMOTE"
   ]
  },
  {
   "cell_type": "markdown",
   "metadata": {},
   "source": [
    "## Data Setup"
   ]
  },
  {
   "cell_type": "code",
   "execution_count": 22,
   "metadata": {},
   "outputs": [],
   "source": [
    "## find all \"static\" data so we can ignore for now\n",
    "r = re.compile('p[\\d]s')\n",
    "r2 = re.compile('p[\\d]d')\n",
    "\n",
    "r_p3 = re.compile('/p3/')\n",
    "vmatch = np.vectorize(lambda x:bool(r_p3.search(x)))\n",
    "sel = vmatch(filenames)\n",
    "\n",
    "X_lh2, y_lh2 = X_lh[~sel], y_lh[~sel]\n",
    "\n",
    "#augment data with SMOTE (but first split it so we have some good testing data)\n",
    "# X_train_lh, X_test_lh, y_train_lh, y_test_lh = train_test_split(X_lh2, y_lh2, test_size=.20)\n",
    "X_train_lh, X_test_lh, y_train_lh, y_test_lh = X_lh2, X_lh[sel], y_lh2, y_lh[sel]\n",
    "X_smote_lh, y_smote_lh = SMOTE(kind='svm').fit_sample(X_train_lh, y_train_lh)"
   ]
  },
  {
   "cell_type": "code",
   "execution_count": 23,
   "metadata": {},
   "outputs": [
    {
     "name": "stdout",
     "output_type": "stream",
     "text": [
      "SMOTE: (12650, 968) (12650,)\n",
      "TEST: (4572, 968) (4572,)\n"
     ]
    },
    {
     "data": {
      "text/plain": [
       "<matplotlib.text.Text at 0x1174faf60>"
      ]
     },
     "execution_count": 23,
     "metadata": {},
     "output_type": "execute_result"
    },
    {
     "data": {
      "image/png": "[encoded data removed]",
      "text/plain": [
       "<matplotlib.figure.Figure at 0x118597b38>"
      ]
     },
     "metadata": {},
     "output_type": "display_data"
    }
   ],
   "source": [
    "# Plot Data sets\n",
    "print(\"SMOTE:\", X_smote_lh.shape, y_smote_lh.shape)\n",
    "print(\"TEST:\", X_test_lh.shape, y_test_lh.shape)\n",
    "\n",
    "plt.figure(figsize=(12,4))\n",
    "plt.subplot(121)\n",
    "plt.hist(y_smote_lh, bins=3, rwidth=.5)\n",
    "plt.title(\"SMOTE Training Labels\")\n",
    "\n",
    "plt.subplot(122)\n",
    "plt.hist(y_test_lh, bins=3, rwidth=.5)\n",
    "plt.title(\"Test data Labels\")"
   ]
  },
  {
   "cell_type": "markdown",
   "metadata": {},
   "source": [
    "## SVM"
   ]
  },
  {
   "cell_type": "code",
   "execution_count": 17,
   "metadata": {},
   "outputs": [],
   "source": [
    "# Using Models selected in previous notebook (see model selection)\n",
    "C = 100\n",
    "gamma = .1\n",
    "kernel = 'rbf'\n",
    "clf_svm = SVC(C=C, gamma=gamma, kernel=kernel)"
   ]
  },
  {
   "cell_type": "code",
   "execution_count": 18,
   "metadata": {
    "collapsed": true
   },
   "outputs": [],
   "source": [
    "scores = cross_val_score(clf_svm, X_smote_lh, y_smote_lh)"
   ]
  },
  {
   "cell_type": "code",
   "execution_count": 19,
   "metadata": {},
   "outputs": [
    {
     "name": "stdout",
     "output_type": "stream",
     "text": [
      "Scores: [ 0.77560446  0.7392013   0.6694754 ]\n",
      "Avg Score: 0.728093720076\n"
     ]
    }
   ],
   "source": [
    "print(\"Scores:\", scores)\n",
    "print(\"Avg Score:\", np.average(scores))"
   ]
  },
  {
   "cell_type": "code",
   "execution_count": 20,
   "metadata": {},
   "outputs": [
    {
     "data": {
      "text/plain": [
       "SVC(C=100, cache_size=200, class_weight=None, coef0=0.0,\n",
       "  decision_function_shape='ovr', degree=3, gamma=0.1, kernel='rbf',\n",
       "  max_iter=-1, probability=False, random_state=None, shrinking=True,\n",
       "  tol=0.001, verbose=False)"
      ]
     },
     "execution_count": 20,
     "metadata": {},
     "output_type": "execute_result"
    }
   ],
   "source": [
    "clf_svm.fit(X_smote_lh, y_smote_lh)"
   ]
  },
  {
   "cell_type": "code",
   "execution_count": 21,
   "metadata": {},
   "outputs": [
    {
     "name": "stdout",
     "output_type": "stream",
     "text": [
      "Test Set Accuracy Score: 0.597531847134\n",
      "Confustion Matrix:\n",
      " [[2047  282   89]\n",
      " [ 582  731    2]\n",
      " [ 601  466  224]]\n",
      "             precision    recall  f1-score   support\n",
      "\n",
      "          0       0.63      0.85      0.72      2418\n",
      "          1       0.49      0.56      0.52      1315\n",
      "          2       0.71      0.17      0.28      1291\n",
      "\n",
      "avg / total       0.62      0.60      0.56      5024\n",
      "\n"
     ]
    }
   ],
   "source": [
    "y_true, y_pred = y_test_lh, clf_svm.predict(X_test_lh)\n",
    "print(\"Test Set Accuracy Score:\", accuracy_score(y_true, y_pred))\n",
    "print(\"Confustion Matrix:\\n\", confusion_matrix(y_true, y_pred))\n",
    "print(classification_report(y_true, y_pred))"
   ]
  },
  {
   "cell_type": "markdown",
   "metadata": {
    "heading_collapsed": true
   },
   "source": [
    "## NN"
   ]
  },
  {
   "cell_type": "code",
   "execution_count": null,
   "metadata": {
    "collapsed": true,
    "hidden": true
   },
   "outputs": [],
   "source": [
    "# Using model parameters found in model selection notebook\n",
    "activation = \"relu\"\n",
    "alpha = .0035\n",
    "hidden_layer_sizes = (256,256)\n",
    "solver = \"adam\""
   ]
  },
  {
   "cell_type": "code",
   "execution_count": null,
   "metadata": {
    "collapsed": true,
    "hidden": true
   },
   "outputs": [],
   "source": [
    "clf_mlp = MLPClassifier(activation=activation, alpha=alpha, hidden_layer_sizes=hidden_layer_sizes, solver=solver)"
   ]
  },
  {
   "cell_type": "code",
   "execution_count": null,
   "metadata": {
    "hidden": true
   },
   "outputs": [],
   "source": [
    "scores_mlp = cross_val_score(clf_mlp, X_smote_lh, y_smote_lh)\n",
    "print(\"Scores:\", scores_mlp)\n",
    "print(\"Avg Score:\", np.average(scores_mlp))"
   ]
  },
  {
   "cell_type": "code",
   "execution_count": null,
   "metadata": {
    "hidden": true
   },
   "outputs": [],
   "source": [
    "clf_mlp.fit(X_smote_lh, y_smote_lh)"
   ]
  },
  {
   "cell_type": "code",
   "execution_count": null,
   "metadata": {
    "hidden": true
   },
   "outputs": [],
   "source": [
    "y_true, y_pred = y_test_lh, clf_mlp.predict(X_test_lh)\n",
    "print(\"Test Set Accuracy Score:\", accuracy_score(y_true, y_pred))\n",
    "print(\"Confustion Matrix:\\n\", confusion_matrix(y_true, y_pred))\n",
    "print(classification_report(y_true, y_pred))"
   ]
  },
  {
   "cell_type": "code",
   "execution_count": null,
   "metadata": {
    "collapsed": true,
    "hidden": true
   },
   "outputs": [],
   "source": []
  }
 ],
 "metadata": {
  "kernelspec": {
   "display_name": "Python 3",
   "language": "python",
   "name": "python3"
  },
  "language_info": {
   "codemirror_mode": {
    "name": "ipython",
    "version": 3
   },
   "file_extension": ".py",
   "mimetype": "text/x-python",
   "name": "python",
   "nbconvert_exporter": "python",
   "pygments_lexer": "ipython3",
   "version": "3.6.1"
  },
  "toc": {
   "nav_menu": {},
   "number_sections": true,
   "sideBar": true,
   "skip_h1_title": false,
   "toc_cell": false,
   "toc_position": {},
   "toc_section_display": "block",
   "toc_window_display": false
  }
 },
 "nbformat": 4,
 "nbformat_minor": 2
}
