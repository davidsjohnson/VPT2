{
 "cells": [
  {
   "cell_type": "code",
   "execution_count": 1,
   "metadata": {},
   "outputs": [],
   "source": [
    "import os\n",
    "\n",
    "%matplotlib inline\n",
    "import matplotlib.pyplot as plt\n",
    "import numpy as np\n",
    "import cv2\n",
    "from skimage.transform import resize\n",
    "from skimage.filters import gaussian\n",
    "\n",
    "from vpt.features.features import *\n",
    "import vpt.utils.image_processing as ip\n",
    "import vpt.settings as s\n",
    "\n",
    "%load_ext autoreload\n",
    "%autoreload 2"
   ]
  },
  {
   "cell_type": "code",
   "execution_count": 2,
   "metadata": {},
   "outputs": [
    {
     "name": "stderr",
     "output_type": "stream",
     "text": [
      "Using Theano backend.\n"
     ]
    }
   ],
   "source": [
    "from sklearn.decomposition import PCA\n",
    "from imblearn.over_sampling import SMOTE\n",
    "from sklearn.svm import SVC\n",
    "from sklearn.metrics import confusion_matrix, accuracy_score, classification_report\n",
    "from sklearn.model_selection import cross_val_score\n",
    "\n",
    "from keras import models"
   ]
  },
  {
   "cell_type": "code",
   "execution_count": 3,
   "metadata": {},
   "outputs": [],
   "source": [
    "from IPython.display import Audio\n",
    "soundfile ='duetta1.wav'"
   ]
  },
  {
   "cell_type": "code",
   "execution_count": 4,
   "metadata": {},
   "outputs": [],
   "source": [
    "participants = [\"p1\", \"p3\", \"p4\", \"p5\", \"p6\"]\n",
    "base_folder = \"data/posture\"\n",
    "hand_folder = \"hand_data_M3_rad.3\"\n",
    "\n",
    "size = (120, 96)"
   ]
  },
  {
   "cell_type": "code",
   "execution_count": 5,
   "metadata": {},
   "outputs": [
    {
     "name": "stdout",
     "output_type": "stream",
     "text": [
      "LH: (17622,) (17622,)\n",
      "RH: (17622,) (17622,)\n",
      "Filenames: (17622,)\n"
     ]
    }
   ],
   "source": [
    "# Load all data\n",
    "\n",
    "X_lh = np.array([])\n",
    "y_lh = np.array([])\n",
    "X_rh = np.array([])\n",
    "y_rh = np.array([])\n",
    "filenames = np.array([])\n",
    "\n",
    "for p in participants:\n",
    "      \n",
    "    folder = os.path.join(base_folder, p, hand_folder)\n",
    "    X_lh = np.concatenate( (X_lh, np.load(os.path.join(folder, \"X_lh.npy\"))))\n",
    "    y_lh = np.concatenate( (y_lh, np.load(os.path.join(folder, \"y_lh.npy\"))))\n",
    "    X_rh = np.concatenate( (X_rh, np.load(os.path.join(folder, \"X_rh.npy\"))))\n",
    "    y_rh = np.concatenate( (y_rh, np.load(os.path.join(folder, \"y_rh.npy\"))))\n",
    "    filenames = np.concatenate( (filenames, np.load(os.path.join(folder, \"filenames.npy\"))))\n",
    "    \n",
    "print(\"LH:\", X_lh.shape, y_lh.shape)\n",
    "print(\"RH:\", X_rh.shape, y_rh.shape)\n",
    "print(\"Filenames:\", filenames.shape)"
   ]
  },
  {
   "cell_type": "code",
   "execution_count": 6,
   "metadata": {},
   "outputs": [
    {
     "name": "stderr",
     "output_type": "stream",
     "text": [
      "/home/davidjo/vpt2/vpt2_py3/lib/python3.5/site-packages/skimage/transform/_warps.py:84: UserWarning: The default mode, 'constant', will be changed to 'reflect' in skimage 0.15.\n",
      "  warn(\"The default mode, 'constant', will be changed to 'reflect' in \"\n"
     ]
    }
   ],
   "source": [
    "X_lh_ds = np.zeros((len(X_lh), size[0], size[1]))\n",
    "X_rh_ds = np.zeros((len(X_rh), size[0], size[1]))\n",
    "\n",
    "for i, (lh, rh) in enumerate(zip(X_lh, X_rh)):\n",
    "    X_lh_ds[i] = resize(ip.normalize(lh), size, preserve_range=True)\n",
    "    X_rh_ds[i] = resize(ip.normalize(rh), size, preserve_range=True)\n",
    "    \n",
    "X_lh_ds = X_lh_ds[:,:,:, np.newaxis]\n",
    "X_rh_ds = X_rh_ds[:,:,:, np.newaxis]"
   ]
  },
  {
   "cell_type": "code",
   "execution_count": 7,
   "metadata": {},
   "outputs": [
    {
     "name": "stderr",
     "output_type": "stream",
     "text": [
      "/home/davidjo/vpt2/vpt2_py3/lib/python3.5/site-packages/keras/models.py:251: UserWarning: No training configuration found in save file: the model was *not* compiled. Compile it manually.\n",
      "  warnings.warn('No training configuration found in save file: '\n"
     ]
    }
   ],
   "source": [
    "cae_lh = models.load_model(\"data/cae/lh_20171212_encoder_model.h5\")\n",
    "# cae_rh = models.load_model(\"data/cae/hands/rh_20171207_encoder_model.h5\")"
   ]
  },
  {
   "cell_type": "code",
   "execution_count": 8,
   "metadata": {},
   "outputs": [
    {
     "name": "stdout",
     "output_type": "stream",
     "text": [
      "LH Shape (17622, 300)\n"
     ]
    }
   ],
   "source": [
    "encoded_imgs_lh = cae_lh.predict(X_lh_ds)\n",
    "# encoded_imgs_rh = cae_lh.predict(X_rh_ds)\n",
    "\n",
    "print(\"LH Shape\", encoded_imgs_lh.shape)\n",
    "# print(\"RH Shape\", encoded_imgs_rh.shape)"
   ]
  },
  {
   "cell_type": "code",
   "execution_count": 10,
   "metadata": {},
   "outputs": [],
   "source": [
    "np.save(\"data/posture/all/encoded/encoded_imgs_lh_test.npy\", encoded_imgs_lh)\n",
    "# np.save(\"data/posture/all/encoded/encoded_imgs_rh.npy\", encoded_imgs_rh)"
   ]
  },
  {
   "cell_type": "code",
   "execution_count": null,
   "metadata": {},
   "outputs": [],
   "source": [
    "encoded_imgs_lh = np.load(\"data/posture/all/encoded/encoded_imgs_lh.npy\")\n",
    "# encoded_imgs_rh = np.load(\"data/posture/all/encoded/encoded_imgs_rh.npy\")"
   ]
  },
  {
   "cell_type": "code",
   "execution_count": 9,
   "metadata": {},
   "outputs": [
    {
     "data": {
      "text/html": [
       "\n",
       "                <audio controls=\"controls\" autoplay=\"autoplay\">\n",
       "                    <source src=\"duetta1.wav\" type=\"audio/x-wav\" />\n",
       "                    Your browser does not support the audio element.\n",
       "                </audio>\n",
       "              "
      ],
      "text/plain": [
       "<IPython.lib.display.Audio object>"
      ]
     },
     "execution_count": 9,
     "metadata": {},
     "output_type": "execute_result"
    }
   ],
   "source": [
    "Audio(url=soundfile, autoplay=True)"
   ]
  },
  {
   "cell_type": "code",
   "execution_count": null,
   "metadata": {},
   "outputs": [],
   "source": []
  },
  {
   "cell_type": "code",
   "execution_count": 13,
   "metadata": {},
   "outputs": [],
   "source": [
    "## find all \"static\" data so we can ignore for now\n",
    "r = re.compile('p[\\d]s')\n",
    "# r2 = re.compile('p[\\d]d')\n",
    "\n",
    "# remove p#s data\n",
    "vmatch = np.vectorize(lambda x:bool(r.search(x)))\n",
    "rem_static = vmatch(filenames)\n",
    "\n",
    "X_lh2, y_lh2, filenames2 = encoded_imgs_lh[~rem_static], y_lh[~rem_static], filenames[~rem_static]\n",
    "\n",
    "# seperate p3 from data\n",
    "r_p3 = re.compile('/p3/')\n",
    "vmatch = np.vectorize(lambda x:bool(r_p3.search(x)))\n",
    "sel = vmatch(filenames2)\n",
    "\n",
    "#augment data with SMOTE (but first split it so we have some good testing data)\n",
    "# X_train_lh, X_test_lh, y_train_lh, y_test_lh = train_test_split(X_lh2, y_lh2, test_size=.20)\n",
    "X_train_lh, X_test_lh, y_train_lh, y_test_lh = X_lh2[~sel], X_lh2[sel], y_lh2[~sel], y_lh2[sel]\n",
    "X_smote_lh, y_smote_lh = SMOTE(kind='svm').fit_sample(X_train_lh, y_train_lh)"
   ]
  },
  {
   "cell_type": "code",
   "execution_count": 14,
   "metadata": {},
   "outputs": [
    {
     "name": "stdout",
     "output_type": "stream",
     "text": [
      "SMOTE: (24226, 300) (24226,)\n",
      "TEST: (2650, 300) (2650,)\n"
     ]
    },
    {
     "data": {
      "text/plain": [
       "<matplotlib.text.Text at 0x2b3706b48710>"
      ]
     },
     "execution_count": 14,
     "metadata": {},
     "output_type": "execute_result"
    },
    {
     "data": {
      "image/png": "[encoded data removed]",
      "text/plain": [
       "<matplotlib.figure.Figure at 0x2b363fb5f1d0>"
      ]
     },
     "metadata": {},
     "output_type": "display_data"
    }
   ],
   "source": [
    "# Plot Data sets\n",
    "print(\"SMOTE:\", X_smote_lh.shape, y_smote_lh.shape)\n",
    "print(\"TEST:\", X_test_lh.shape, y_test_lh.shape)\n",
    "\n",
    "plt.figure(figsize=(12,4))\n",
    "plt.subplot(121)\n",
    "plt.hist(y_smote_lh, bins=3, rwidth=.5)\n",
    "plt.title(\"SMOTE Training Labels\")\n",
    "\n",
    "plt.subplot(122)\n",
    "plt.hist(y_test_lh, bins=3, rwidth=.5)\n",
    "plt.title(\"Test data Labels\")"
   ]
  },
  {
   "cell_type": "code",
   "execution_count": 15,
   "metadata": {},
   "outputs": [],
   "source": [
    "# Using Models selected in previous notebook (see model selection)\n",
    "C = 100\n",
    "gamma = .1\n",
    "kernel = 'rbf'\n",
    "clf_svm = SVC(C=C, gamma=gamma, kernel=kernel)"
   ]
  },
  {
   "cell_type": "code",
   "execution_count": 16,
   "metadata": {},
   "outputs": [],
   "source": [
    "scores = cross_val_score(clf_svm, X_smote_lh, y_smote_lh)"
   ]
  },
  {
   "cell_type": "code",
   "execution_count": 17,
   "metadata": {},
   "outputs": [
    {
     "name": "stdout",
     "output_type": "stream",
     "text": [
      "Scores: [ 0.33333333  0.33333333  0.58694575]\n",
      "Avg Score: 0.417870806154\n"
     ]
    }
   ],
   "source": [
    "print(\"Scores:\", scores)\n",
    "print(\"Avg Score:\", np.average(scores))"
   ]
  },
  {
   "cell_type": "code",
   "execution_count": 18,
   "metadata": {},
   "outputs": [
    {
     "data": {
      "text/plain": [
       "SVC(C=100, cache_size=200, class_weight=None, coef0=0.0,\n",
       "  decision_function_shape='ovr', degree=3, gamma=0.1, kernel='rbf',\n",
       "  max_iter=-1, probability=False, random_state=None, shrinking=True,\n",
       "  tol=0.001, verbose=False)"
      ]
     },
     "execution_count": 18,
     "metadata": {},
     "output_type": "execute_result"
    }
   ],
   "source": [
    "clf_svm.fit(X_smote_lh, y_smote_lh)"
   ]
  },
  {
   "cell_type": "code",
   "execution_count": 19,
   "metadata": {},
   "outputs": [
    {
     "name": "stdout",
     "output_type": "stream",
     "text": [
      "Test Set Accuracy Score: 0.478113207547\n",
      "Confustion Matrix:\n",
      " [[1267    0    0]\n",
      " [1336    0    0]\n",
      " [  47    0    0]]\n",
      "             precision    recall  f1-score   support\n",
      "\n",
      "        0.0       0.48      1.00      0.65      1267\n",
      "        1.0       0.00      0.00      0.00      1336\n",
      "        2.0       0.00      0.00      0.00        47\n",
      "\n",
      "avg / total       0.23      0.48      0.31      2650\n",
      "\n"
     ]
    },
    {
     "name": "stderr",
     "output_type": "stream",
     "text": [
      "/home/davidjo/vpt2/vpt2_py3/lib/python3.5/site-packages/sklearn/metrics/classification.py:1135: UndefinedMetricWarning: Precision and F-score are ill-defined and being set to 0.0 in labels with no predicted samples.\n",
      "  'precision', 'predicted', average, warn_for)\n"
     ]
    }
   ],
   "source": [
    "y_true, y_pred = y_test_lh, clf_svm.predict(X_test_lh)\n",
    "print(\"Test Set Accuracy Score:\", accuracy_score(y_true, y_pred))\n",
    "print(\"Confustion Matrix:\\n\", confusion_matrix(y_true, y_pred))\n",
    "print(classification_report(y_true, y_pred))"
   ]
  },
  {
   "cell_type": "code",
   "execution_count": 20,
   "metadata": {},
   "outputs": [
    {
     "data": {
      "text/plain": [
       "array([ 0.00323127,  0.0035656 ,  0.0034933 ,  0.00343249,  0.00360331,\n",
       "        0.00308309,  0.0033993 ,  0.00337801,  0.00351542,  0.00326293,\n",
       "        0.00357859,  0.00348671,  0.0033434 ,  0.00350743,  0.00377488,\n",
       "        0.0033717 ,  0.00348822,  0.00355613,  0.00312273,  0.00361942,\n",
       "        0.00329591,  0.00374651,  0.00353696,  0.00304422,  0.00309629,\n",
       "        0.00376256,  0.00357306,  0.00316045,  0.00349276,  0.00352161,\n",
       "        0.00351974,  0.00326535,  0.00298072,  0.00326124,  0.003545  ,\n",
       "        0.00322828,  0.00322062,  0.00346703,  0.00348149,  0.00348656,\n",
       "        0.00322988,  0.0030623 ,  0.00318318,  0.00323526,  0.00364316,\n",
       "        0.00339439,  0.00336812,  0.0032616 ,  0.00315093,  0.00324372,\n",
       "        0.00328204,  0.00306144,  0.00359213,  0.00333313,  0.00345344,\n",
       "        0.00309669,  0.00329078,  0.0032523 ,  0.00299221,  0.00321997,\n",
       "        0.0031143 ,  0.0030593 ,  0.00389341,  0.00358836,  0.00322113,\n",
       "        0.00307322,  0.00310824,  0.00321627,  0.0031581 ,  0.00295811,\n",
       "        0.00313894,  0.00353909,  0.00325885,  0.00330637,  0.00327281,\n",
       "        0.00280622,  0.00343991,  0.00328562,  0.0034439 ,  0.00347126,\n",
       "        0.00353296,  0.00360514,  0.00312427,  0.00353153,  0.00315812,\n",
       "        0.00329392,  0.00310029,  0.00377041,  0.00316858,  0.00317289,\n",
       "        0.00326992,  0.00322734,  0.00324963,  0.00324766,  0.00373948,\n",
       "        0.00364774,  0.00335246,  0.00310967,  0.0032991 ,  0.00346213,\n",
       "        0.00329077,  0.00322824,  0.00325551,  0.00287273,  0.00330327,\n",
       "        0.00327583,  0.00317966,  0.00309353,  0.00339247,  0.00349032,\n",
       "        0.00359338,  0.00325083,  0.00316936,  0.00350692,  0.00308244,\n",
       "        0.00331862,  0.00317667,  0.00318996,  0.00317477,  0.00310952,\n",
       "        0.00312241,  0.00347417,  0.00320157,  0.00300827,  0.00325887,\n",
       "        0.00370056,  0.00322066,  0.00369733,  0.00334506,  0.00345201,\n",
       "        0.00365123,  0.00332948,  0.00333217,  0.00303462,  0.00329192,\n",
       "        0.00330002,  0.00305099,  0.00359362,  0.00309837,  0.00314094,\n",
       "        0.00331397,  0.00373402,  0.00337318,  0.0033177 ,  0.00317837,\n",
       "        0.00362087,  0.00318818,  0.00339282,  0.00306594,  0.00379921,\n",
       "        0.00320845,  0.00307644,  0.00310796,  0.00356045,  0.00338878,\n",
       "        0.00301186,  0.00387435,  0.00327042,  0.00289797,  0.00350392,\n",
       "        0.00350819,  0.00328003,  0.00311224,  0.00350479,  0.00341715,\n",
       "        0.0034601 ,  0.00360971,  0.00341045,  0.00360404,  0.00292177,\n",
       "        0.00301819,  0.00340546,  0.00335251,  0.00366064,  0.00296949,\n",
       "        0.00309671,  0.00326986,  0.00332145,  0.00340562,  0.00314719,\n",
       "        0.00310308,  0.00316161,  0.00353849,  0.00355571,  0.00345638,\n",
       "        0.00313836,  0.00326161,  0.00337949,  0.00347252,  0.00294391,\n",
       "        0.00343088,  0.00322548,  0.00352011,  0.00336966,  0.00317265,\n",
       "        0.00302488,  0.00353383,  0.00333645,  0.00296502,  0.00321586,\n",
       "        0.00342268,  0.00359544,  0.00345321,  0.00354483,  0.00344132,\n",
       "        0.00318765,  0.00320921,  0.00298667,  0.00303493,  0.00378836,\n",
       "        0.00312581,  0.00330787,  0.00298416,  0.00332575,  0.00341882,\n",
       "        0.00337822,  0.00351465,  0.00314775,  0.00297701,  0.00339282,\n",
       "        0.00348491,  0.00370774,  0.00305048,  0.0035373 ,  0.00347742,\n",
       "        0.00388766,  0.00342278,  0.00342616,  0.00344541,  0.00316917,\n",
       "        0.00309155,  0.00330745,  0.00319699,  0.00361662,  0.00311769,\n",
       "        0.00326586,  0.0034795 ,  0.00299223,  0.00336077,  0.00336274,\n",
       "        0.00325666,  0.00303298,  0.00353679,  0.00328694,  0.00342431,\n",
       "        0.00342231,  0.00322654,  0.00329336,  0.0036399 ,  0.00332165,\n",
       "        0.00324411,  0.00329792,  0.00317608,  0.00337161,  0.0036206 ,\n",
       "        0.00351397,  0.00332672,  0.00322834,  0.00335204,  0.00343508,\n",
       "        0.00319057,  0.00337981,  0.0035896 ,  0.00347056,  0.00394017,\n",
       "        0.0033615 ,  0.0032771 ,  0.00330382,  0.00304602,  0.00357285,\n",
       "        0.00352839,  0.00260638,  0.00369358,  0.0034264 ,  0.00330972,\n",
       "        0.0033789 ,  0.0034871 ,  0.00322821,  0.00335583,  0.00355712,\n",
       "        0.00325546,  0.00303511,  0.00351328,  0.00312474,  0.00314695,\n",
       "        0.0033511 ,  0.00348452,  0.00348483,  0.00323394,  0.00320755,\n",
       "        0.00329246,  0.00381614,  0.00348573,  0.00355888,  0.00371038,\n",
       "        0.00343226,  0.00319514,  0.0030252 ,  0.00331264,  0.00329543], dtype=float32)"
      ]
     },
     "execution_count": 20,
     "metadata": {},
     "output_type": "execute_result"
    }
   ],
   "source": [
    "encoded_imgs_lh[1000]"
   ]
  },
  {
   "cell_type": "code",
   "execution_count": null,
   "metadata": {},
   "outputs": [],
   "source": []
  }
 ],
 "metadata": {
  "kernelspec": {
   "display_name": "Python 3",
   "language": "python",
   "name": "python3"
  },
  "language_info": {
   "codemirror_mode": {
    "name": "ipython",
    "version": 3
   },
   "file_extension": ".py",
   "mimetype": "text/x-python",
   "name": "python",
   "nbconvert_exporter": "python",
   "pygments_lexer": "ipython3",
   "version": "3.5.2"
  }
 },
 "nbformat": 4,
 "nbformat_minor": 2
}
