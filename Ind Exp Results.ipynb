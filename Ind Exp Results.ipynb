{
 "cells": [
  {
   "cell_type": "code",
   "execution_count": 19,
   "metadata": {
    "collapsed": true
   },
   "outputs": [
    {
     "name": "stdout",
     "output_type": "stream",
     "text": [
      "The autoreload extension is already loaded. To reload it, use:\n",
      "  %reload_ext autoreload\n"
     ]
    }
   ],
   "source": [
    "%load_ext autoreload\n",
    "%autoreload 2"
   ]
  },
  {
   "cell_type": "code",
   "execution_count": 20,
   "metadata": {
    "collapsed": true
   },
   "outputs": [],
   "source": [
    "import pickle\n",
    "import matplotlib.pyplot as plt\n",
    "import numpy as np\n",
    "%matplotlib inline"
   ]
  },
  {
   "cell_type": "code",
   "execution_count": 194,
   "metadata": {
    "collapsed": true
   },
   "outputs": [],
   "source": [
    "default_hog = pickle.load(open(\"cmj_exp_results_1.pkl\", \"rb\"))\n",
    "default_honv = pickle.load(open(\"cmj_exp_results_2.pkl\", \"rb\"))\n",
    "scaled_hog = pickle.load(open(\"cmj_exp_results_3.pkl\", \"rb\"))\n",
    "scaled_honv = pickle.load(open(\"cmj_exp_results_4.pkl\", \"rb\"))\n",
    "padded_hog = pickle.load(open(\"cmj_exp_results_5.pkl\", \"rb\"))\n",
    "# padded_honv = pickle.load(open(\"cmj_exp_results_6.pkl\", \"rb\"))\n",
    "small_hog = pickle.load(open(\"cmj_exp_results_7.pkl\", \"rb\"))\n",
    "small_honv = pickle.load(open(\"cmj_exp_results_8.pkl\", \"rb\"))"
   ]
  },
  {
   "cell_type": "code",
   "execution_count": 303,
   "metadata": {
    "collapsed": true
   },
   "outputs": [],
   "source": [
    "results_hog = {\"Default HOG\": default_hog, \"Scaled HOG\": scaled_hog, \"Padded HOG\": padded_hog, \"Small HOG\": small_hog}\n",
    "results_honv = {\"Default HONV\": default_honv, \"Scaled HONV\": scaled_honv, \"Small HONV\": small_honv}"
   ]
  },
  {
   "cell_type": "code",
   "execution_count": 296,
   "metadata": {
    "collapsed": true
   },
   "outputs": [],
   "source": [
    "def average_participant_results(results, k_folds=3):\n",
    "    \n",
    "    acc = 0\n",
    "    f_score = 0\n",
    "    conf_mat = np.zeros((3,3), dtype=\"int\")\n",
    "    \n",
    "    for i in range(k_folds):\n",
    "        acc += results[\"cv{}_accuracy\".format(i)]\n",
    "        f_score += results[\"cv{}_f_score\".format(i)]\n",
    "       \n",
    "        # dealing with different size confusion matrices / shouldn't be larger than 3,3\n",
    "        cm = np.array(results[\"cv{}_conf_mat\".format(i)], dtype=\"int\")\n",
    "        idx_y = conf_mat.shape[0] - cm.shape[0]\n",
    "        idx_x = conf_mat.shape[1] - cm.shape[1]\n",
    "        conf_mat[:-idx_y or None, :-idx_x or None] += cm\n",
    "        \n",
    "    return acc / k_folds, f_score / k_folds, conf_mat\n"
   ]
  },
  {
   "cell_type": "code",
   "execution_count": 297,
   "metadata": {
    "collapsed": true
   },
   "outputs": [],
   "source": [
    "def average_experiment_results(results, participants, k_folds=3):\n",
    "    \n",
    "    exp_acc = 0\n",
    "    exp_f = 0\n",
    "    exp_cm = np.zeros((3,3), dtype=\"int\")\n",
    "    \n",
    "    for p in participants:\n",
    "        acc, f_score, cm = average_participant_results(results[p], k_folds)\n",
    "        exp_acc += acc\n",
    "        exp_f += f_score\n",
    "        \n",
    "        diff_x = (exp_cm.shape[1] - cm.shape[1]) * -1\n",
    "        diff_y = (exp_cm.shape[0] - cm.shape[0]) * -1\n",
    "        exp_cm[:diff_y or None,:diff_x or None] += cm\n",
    "        \n",
    "    return exp_acc / len(participants), exp_f / len(participants), exp_cm"
   ]
  },
  {
   "cell_type": "code",
   "execution_count": 198,
   "metadata": {
    "collapsed": true
   },
   "outputs": [],
   "source": [
    "acc, f_score, conf_mat = average_participant_results(default_hog[\"p4\"])"
   ]
  },
  {
   "cell_type": "code",
   "execution_count": 199,
   "metadata": {},
   "outputs": [
    {
     "name": "stdout",
     "output_type": "stream",
     "text": [
      "0.867604447212\n",
      "0.867388477777\n",
      "[[1869  393    0]\n",
      " [ 353 3023    0]\n",
      " [   0    0    0]]\n"
     ]
    }
   ],
   "source": [
    "print(acc)\n",
    "print(f_score)\n",
    "print(conf_mat)"
   ]
  },
  {
   "cell_type": "code",
   "execution_count": 324,
   "metadata": {},
   "outputs": [],
   "source": [
    "acc, f_score, conf_mat = average_participant_results(default_honv[\"p1\"])"
   ]
  },
  {
   "cell_type": "code",
   "execution_count": 325,
   "metadata": {},
   "outputs": [
    {
     "name": "stdout",
     "output_type": "stream",
     "text": [
      "0.926052979671\n",
      "0.923984232195\n",
      "[[5811   12  188]\n",
      " [  67   90    5]\n",
      " [ 260    0  761]]\n"
     ]
    }
   ],
   "source": [
    "print(acc)\n",
    "print(f_score)\n",
    "print(conf_mat)"
   ]
  },
  {
   "cell_type": "code",
   "execution_count": 202,
   "metadata": {
    "collapsed": true
   },
   "outputs": [],
   "source": [
    "participants = [\"p1\", \"p3\", \"p4\", \"p6\"]\n",
    "acc, f_score, conf_mat = average_experiment_results(default_hog, participants)"
   ]
  },
  {
   "cell_type": "code",
   "execution_count": 203,
   "metadata": {},
   "outputs": [
    {
     "name": "stdout",
     "output_type": "stream",
     "text": [
      "0.933265995752\n",
      "0.930524465362\n",
      "[[17624   448   229]\n",
      " [  612  4533    15]\n",
      " [  314    19   762]]\n"
     ]
    }
   ],
   "source": [
    "print(acc)\n",
    "print(f_score)\n",
    "print(conf_mat)"
   ]
  },
  {
   "cell_type": "code",
   "execution_count": 204,
   "metadata": {},
   "outputs": [],
   "source": [
    "acc, f_score, conf_mat = average_experiment_results(scaled_hog, participants)"
   ]
  },
  {
   "cell_type": "code",
   "execution_count": 205,
   "metadata": {},
   "outputs": [
    {
     "name": "stdout",
     "output_type": "stream",
     "text": [
      "0.928905226533\n",
      "0.92626098735\n",
      "[[17590   452   259]\n",
      " [  662  4484    14]\n",
      " [  347    15   733]]\n"
     ]
    }
   ],
   "source": [
    "print(acc)\n",
    "print(f_score)\n",
    "print(conf_mat)"
   ]
  },
  {
   "cell_type": "code",
   "execution_count": 206,
   "metadata": {},
   "outputs": [],
   "source": [
    "acc, f_score, conf_mat = average_experiment_results(padded_hog, participants)"
   ]
  },
  {
   "cell_type": "code",
   "execution_count": 207,
   "metadata": {},
   "outputs": [
    {
     "name": "stdout",
     "output_type": "stream",
     "text": [
      "0.932509514392\n",
      "0.930004969956\n",
      "[[17575   440   286]\n",
      " [  548  4595    17]\n",
      " [  358    24   713]]\n"
     ]
    }
   ],
   "source": [
    "print(acc)\n",
    "print(f_score)\n",
    "print(conf_mat)"
   ]
  },
  {
   "cell_type": "code",
   "execution_count": 208,
   "metadata": {},
   "outputs": [],
   "source": [
    "acc, f_score, conf_mat = average_experiment_results(default_honv, participants)"
   ]
  },
  {
   "cell_type": "code",
   "execution_count": 209,
   "metadata": {},
   "outputs": [
    {
     "name": "stdout",
     "output_type": "stream",
     "text": [
      "0.947489182457\n",
      "0.945159779681\n",
      "[[17804   309   188]\n",
      " [  464  4691     5]\n",
      " [  318    15   762]]\n"
     ]
    }
   ],
   "source": [
    "print(acc)\n",
    "print(f_score)\n",
    "print(conf_mat)"
   ]
  },
  {
   "cell_type": "code",
   "execution_count": 210,
   "metadata": {},
   "outputs": [],
   "source": [
    "acc, f_score, conf_mat = average_experiment_results(scaled_honv, participants)"
   ]
  },
  {
   "cell_type": "code",
   "execution_count": 211,
   "metadata": {},
   "outputs": [
    {
     "name": "stdout",
     "output_type": "stream",
     "text": [
      "0.947739695747\n",
      "0.945238493371\n",
      "[[17813   306   182]\n",
      " [  462  4690     8]\n",
      " [  320    16   759]]\n"
     ]
    }
   ],
   "source": [
    "print(acc)\n",
    "print(f_score)\n",
    "print(conf_mat)"
   ]
  },
  {
   "cell_type": "code",
   "execution_count": 326,
   "metadata": {
    "collapsed": true
   },
   "outputs": [],
   "source": [
    "accs, fs, cms = [], [], []\n",
    "\n",
    "for r in results_hog.values():\n",
    "    exp_accs, exp_fs, exp_cms = [], [], []\n",
    "    \n",
    "    for p in participants:\n",
    "        acc, f_score, cm = average_participant_results(r[p])\n",
    "        \n",
    "        exp_accs.append(acc)\n",
    "        exp_fs.append(f_score)\n",
    "        exp_cms.append(cm)\n",
    "        \n",
    "    accs.append(exp_accs)\n",
    "    fs.append(exp_fs)\n",
    "    cms.append(exp_cms)\n",
    "    \n",
    "accs = np.array(accs)\n",
    "fs = np.array(fs)\n",
    "cms = np.array(cms)\n",
    "\n",
    "l = len(accs)"
   ]
  },
  {
   "cell_type": "code",
   "execution_count": 327,
   "metadata": {},
   "outputs": [
    {
     "data": {
      "image/png": "[encoded data removed]",
      "text/plain": [
       "<matplotlib.figure.Figure at 0x11934ff28>"
      ]
     },
     "metadata": {},
     "output_type": "display_data"
    }
   ],
   "source": [
    "idx = np.arange(l) + 1\n",
    "width = .2\n",
    "\n",
    "plt.figure(figsize=(8,6))\n",
    "plt.ylim([.85, 1.0])\n",
    "plt.yticks(np.linspace(.8, 1.0, 5))\n",
    "plt.xticks(idx,[\"128x128\", \"90x160\", \"130x190\", \"96x96\"])\n",
    "\n",
    "plt.title(\"HOG - Effect of Image Size\")\n",
    "plt.bar(idx-(width*1+width/2), accs[:,0], width, hatch=\"/\", edgecolor='black')\n",
    "plt.bar(idx-(width*0+width/2), accs[:,1], width, hatch=\"o\", edgecolor='black')\n",
    "plt.bar(idx+(width*1-width/2), accs[:,2], width, hatch=\"\\\\\", edgecolor='black')\n",
    "plt.bar(idx+(width*2-width/2), accs[:,3], width, hatch=\".\", edgecolor='black')\n",
    "plt.legend([\"p1\", \"p2\", \"p3\", \"p4\"], loc='center left', bbox_to_anchor=(.96, 0.75), fancybox=False, shadow=True)\n",
    "plt.savefig(\"cmj-hog-imagesize.jpg\")"
   ]
  },
  {
   "cell_type": "code",
   "execution_count": 328,
   "metadata": {},
   "outputs": [
    {
     "name": "stdout",
     "output_type": "stream",
     "text": [
      "[ 0.933266    0.92890523  0.93250951  0.9314528 ]\n"
     ]
    }
   ],
   "source": [
    "print(np.average(accs, axis=1))"
   ]
  },
  {
   "cell_type": "code",
   "execution_count": 286,
   "metadata": {},
   "outputs": [
    {
     "data": {
      "text/plain": [
       "<Container object of 3 artists>"
      ]
     },
     "execution_count": 286,
     "metadata": {},
     "output_type": "execute_result"
    },
    {
     "data": {
      "image/png": "[encoded data removed]",
      "text/plain": [
       "<matplotlib.figure.Figure at 0x118c960f0>"
      ]
     },
     "metadata": {},
     "output_type": "display_data"
    }
   ],
   "source": [
    "idx = np.arange(l) + 1\n",
    "width = .2\n",
    "\n",
    "plt.ylim([.8, 1.0])\n",
    "\n",
    "plt.bar(idx, np.average(accs, axis=1), width)"
   ]
  },
  {
   "cell_type": "code",
   "execution_count": 159,
   "metadata": {
    "collapsed": true
   },
   "outputs": [
    {
     "name": "stdout",
     "output_type": "stream",
     "text": [
      "[[17624   448   229]\n",
      " [  612  4533    15]\n",
      " [  314    19   762]]\n",
      "[[17804   309   188]\n",
      " [  464  4691     5]\n",
      " [  318    15   762]]\n",
      "[[17590   452   259]\n",
      " [  662  4484    14]\n",
      " [  347    15   733]]\n",
      "[[17813   306   182]\n",
      " [  462  4690     8]\n",
      " [  320    16   759]]\n",
      "[[17575   440   286]\n",
      " [  548  4595    17]\n",
      " [  358    24   713]]\n",
      "[[17573   501   227]\n",
      " [  578  4561    21]\n",
      " [  334    18   743]]\n",
      "[[17796   307   198]\n",
      " [  443  4709     8]\n",
      " [  329    16   750]]\n"
     ]
    },
    {
     "data": {
      "image/png": "[encoded data removed]",
      "text/plain": [
       "<matplotlib.figure.Figure at 0x11410e0b8>"
      ]
     },
     "metadata": {},
     "output_type": "display_data"
    }
   ],
   "source": [
    "plt.figure(figsize=(20,4))\n",
    "for i, (title, results) in enumerate(results_dict.items()):\n",
    "    acc, f_score, conf_mat = average_experiment_results(results, participants)\n",
    "    print(conf_mat)\n",
    "    conf_mat = conf_mat.astype('float') / conf_mat.sum(axis=1)[:, np.newaxis]\n",
    "    plt.subplot(1, len(results_dict), i+1)\n",
    "    plt.imshow(conf_mat, cmap=\"Blues\")"
   ]
  },
  {
   "cell_type": "code",
   "execution_count": 124,
   "metadata": {},
   "outputs": [],
   "source": [
    "acc, f_score, conf_mat = average_experiment_results(results_dict[\"Default HOG\"], participants)\n",
    "total_corr = np.sum(conf_mat[0])"
   ]
  },
  {
   "cell_type": "code",
   "execution_count": 125,
   "metadata": {},
   "outputs": [
    {
     "data": {
      "text/plain": [
       "0.74527610359993479"
      ]
     },
     "execution_count": 125,
     "metadata": {},
     "output_type": "execute_result"
    }
   ],
   "source": [
    "total_corr / np.sum(conf_mat)"
   ]
  }
 ],
 "metadata": {
  "kernelspec": {
   "display_name": "Python 3",
   "language": "python",
   "name": "python3"
  },
  "language_info": {
   "codemirror_mode": {
    "name": "ipython",
    "version": 3
   },
   "file_extension": ".py",
   "mimetype": "text/x-python",
   "name": "python",
   "nbconvert_exporter": "python",
   "pygments_lexer": "ipython3",
   "version": "3.6.1"
  },
  "toc": {
   "nav_menu": {},
   "number_sections": true,
   "sideBar": true,
   "skip_h1_title": false,
   "toc_cell": false,
   "toc_position": {},
   "toc_section_display": "block",
   "toc_window_display": false
  }
 },
 "nbformat": 4,
 "nbformat_minor": 2
}
