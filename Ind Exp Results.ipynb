{
 "cells": [
  {
   "cell_type": "code",
   "execution_count": 1,
   "metadata": {
    "collapsed": true
   },
   "outputs": [],
   "source": [
    "%load_ext autoreload\n",
    "%autoreload 2"
   ]
  },
  {
   "cell_type": "code",
   "execution_count": 2,
   "metadata": {
    "collapsed": true
   },
   "outputs": [],
   "source": [
    "import pickle\n",
    "import matplotlib.pyplot as plt\n",
    "import numpy as np\n",
    "%matplotlib inline"
   ]
  },
  {
   "cell_type": "code",
   "execution_count": 4,
   "metadata": {
    "collapsed": true
   },
   "outputs": [],
   "source": [
    "results_1 = pickle.load(open(\"cmj_exp_results_1.pkl\", \"rb\"))\n",
    "results_2 = pickle.load(open(\"cmj_exp_results_2.pkl\", \"rb\"))"
   ]
  },
  {
   "cell_type": "code",
   "execution_count": 5,
   "metadata": {
    "collapsed": true
   },
   "outputs": [],
   "source": [
    "results_all = [results_1, results_2]"
   ]
  },
  {
   "cell_type": "code",
   "execution_count": 6,
   "metadata": {
    "collapsed": true
   },
   "outputs": [],
   "source": [
    "def average_participant_results(results, k_folds=3):\n",
    "    \n",
    "    acc = 0\n",
    "    f_score = 0\n",
    "    conf_mat = np.zeros((3,3), dtype=\"int\")\n",
    "    \n",
    "    for i in range(k_folds):\n",
    "        acc += results[\"cv{}_accuracy\".format(i)]\n",
    "        f_score += results[\"cv{}_f_score\".format(i)]\n",
    "       \n",
    "        # dealing with different size confusion matrices / shouldn't be larger than 3,3\n",
    "        cm = np.array(results[\"cv{}_conf_mat\".format(i)], dtype=\"int\")\n",
    "        idx_y = cm.shape[0] - cm.shape[0]\n",
    "        idx_x = cm.shape[1] - cm.shape[1]\n",
    "        cm[:-idx_y or None, :-idx_x or None] += cm\n",
    "        \n",
    "    return acc / k_folds, f_score / k_folds, cm\n"
   ]
  },
  {
   "cell_type": "code",
   "execution_count": 7,
   "metadata": {
    "collapsed": true
   },
   "outputs": [],
   "source": [
    "def average_experiment_results(results, participants, k_folds=3):\n",
    "    \n",
    "    exp_acc = 0\n",
    "    exp_f = 0\n",
    "    exp_cm = np.zeros((3,3), dtype=\"int\")\n",
    "    \n",
    "    for p in participants:\n",
    "        acc, f_score, cm = average_participant_results(results[p], k_folds)\n",
    "        exp_acc += acc\n",
    "        exp_f += f_score\n",
    "        \n",
    "        diff_x = (exp_cm.shape[1] - cm.shape[1]) * -1\n",
    "        diff_y = (exp_cm.shape[0] - cm.shape[0]) * -1\n",
    "        exp_cm[:diff_y or None,:diff_x or None] += cm\n",
    "        \n",
    "    return exp_acc / len(participants), exp_f / len(participants), exp_cm"
   ]
  },
  {
   "cell_type": "code",
   "execution_count": 28,
   "metadata": {
    "collapsed": true
   },
   "outputs": [],
   "source": [
    "acc, f_score, conf_mat = average_participant_results(results_1[\"p4\"])"
   ]
  },
  {
   "cell_type": "code",
   "execution_count": 29,
   "metadata": {},
   "outputs": [
    {
     "name": "stdout",
     "output_type": "stream",
     "text": [
      "0.867604447212\n",
      "0.867388477777\n",
      "[[1248  370]\n",
      " [ 184 1918]]\n"
     ]
    }
   ],
   "source": [
    "print(acc)\n",
    "print(f_score)\n",
    "print(conf_mat)"
   ]
  },
  {
   "cell_type": "code",
   "execution_count": 11,
   "metadata": {
    "collapsed": true
   },
   "outputs": [],
   "source": [
    "participants = [\"p1\", \"p3\", \"p4\", \"p6\"]\n",
    "acc, f_score, conf_mat = average_experiment_results(results_1, participants)"
   ]
  },
  {
   "cell_type": "code",
   "execution_count": 12,
   "metadata": {},
   "outputs": [
    {
     "name": "stdout",
     "output_type": "stream",
     "text": [
      "0.933265995752\n",
      "0.930524465362\n",
      "[[11778   398   140]\n",
      " [  404  2896     0]\n",
      " [  178    24   470]]\n"
     ]
    }
   ],
   "source": [
    "print(acc)\n",
    "print(f_score)\n",
    "print(conf_mat)"
   ]
  },
  {
   "cell_type": "code",
   "execution_count": 24,
   "metadata": {},
   "outputs": [],
   "source": [
    "acc, f_score, conf_mat = average_experiment_results(results_2, participants)"
   ]
  },
  {
   "cell_type": "code",
   "execution_count": 25,
   "metadata": {},
   "outputs": [
    {
     "name": "stdout",
     "output_type": "stream",
     "text": [
      "0.947489182457\n",
      "0.945159779681\n",
      "[[11890   296   130]\n",
      " [  318  2982     0]\n",
      " [  184    22   466]]\n"
     ]
    }
   ],
   "source": [
    "print(acc)\n",
    "print(f_score)\n",
    "print(conf_mat)"
   ]
  },
  {
   "cell_type": "code",
   "execution_count": 13,
   "metadata": {
    "collapsed": true
   },
   "outputs": [],
   "source": [
    "accs, fs, cms = [], [], []\n",
    "for r in results_all:\n",
    "    exp_accs, exp_fs, exp_cms = [], [], []\n",
    "    \n",
    "    for p in participants:\n",
    "        acc, f_score, cm = average_participant_results(r[p])\n",
    "        \n",
    "        exp_accs.append(acc)\n",
    "        exp_fs.append(f_score)\n",
    "        exp_cms.append(cm)\n",
    "        \n",
    "    accs.append(exp_accs)\n",
    "    fs.append(exp_fs)\n",
    "    cms.append(exp_cms)\n",
    "    \n",
    "accs = np.array(accs)\n",
    "fs = np.array(fs)\n",
    "cms = np.array(cms)\n",
    "\n",
    "l = len(accs)"
   ]
  },
  {
   "cell_type": "code",
   "execution_count": 14,
   "metadata": {},
   "outputs": [
    {
     "data": {
      "text/plain": [
       "<Container object of 2 artists>"
      ]
     },
     "execution_count": 14,
     "metadata": {},
     "output_type": "execute_result"
    },
    {
     "data": {
      "image/png": "[encoded data removed]",
      "text/plain": [
       "<matplotlib.figure.Figure at 0x1121024e0>"
      ]
     },
     "metadata": {},
     "output_type": "display_data"
    }
   ],
   "source": [
    "idx = np.arange(l) + 1\n",
    "width = .2\n",
    "\n",
    "plt.ylim([.8, 1.0])\n",
    "\n",
    "plt.bar(idx+width*0, accs[:,0], width)\n",
    "plt.bar(idx+width*1, accs[:,1], width)\n",
    "plt.bar(idx+width*2, accs[:,2], width)\n",
    "plt.bar(idx+width*3, accs[:,3], width)"
   ]
  },
  {
   "cell_type": "code",
   "execution_count": 15,
   "metadata": {},
   "outputs": [
    {
     "data": {
      "text/plain": [
       "<Container object of 2 artists>"
      ]
     },
     "execution_count": 15,
     "metadata": {},
     "output_type": "execute_result"
    },
    {
     "data": {
      "image/png": "[encoded data removed]",
      "text/plain": [
       "<matplotlib.figure.Figure at 0x112102358>"
      ]
     },
     "metadata": {},
     "output_type": "display_data"
    }
   ],
   "source": [
    "idx = np.arange(l) + 1\n",
    "width = .2\n",
    "\n",
    "plt.ylim([.8, 1.0])\n",
    "\n",
    "plt.bar(idx+width*0, fs[:,0], width)\n",
    "plt.bar(idx+width*1, fs[:,1], width)\n",
    "plt.bar(idx+width*2, fs[:,2], width)\n",
    "plt.bar(idx+width*3, fs[:,3], width)"
   ]
  },
  {
   "cell_type": "code",
   "execution_count": 16,
   "metadata": {},
   "outputs": [
    {
     "data": {
      "text/plain": [
       "<Container object of 2 artists>"
      ]
     },
     "execution_count": 16,
     "metadata": {},
     "output_type": "execute_result"
    },
    {
     "data": {
      "image/png": "[encoded data removed]",
      "text/plain": [
       "<matplotlib.figure.Figure at 0x112109908>"
      ]
     },
     "metadata": {},
     "output_type": "display_data"
    }
   ],
   "source": [
    "idx = np.arange(l) + 1\n",
    "width = .2\n",
    "\n",
    "plt.ylim([.8, 1.0])\n",
    "\n",
    "plt.bar(idx, np.average(accs, axis=1), width)"
   ]
  },
  {
   "cell_type": "code",
   "execution_count": 17,
   "metadata": {},
   "outputs": [
    {
     "data": {
      "text/plain": [
       "<Container object of 2 artists>"
      ]
     },
     "execution_count": 17,
     "metadata": {},
     "output_type": "execute_result"
    },
    {
     "data": {
      "image/png": "[encoded data removed]",
      "text/plain": [
       "<matplotlib.figure.Figure at 0x11244e400>"
      ]
     },
     "metadata": {},
     "output_type": "display_data"
    }
   ],
   "source": [
    "idx = np.arange(l) + 1\n",
    "width = .2\n",
    "\n",
    "plt.ylim([.8, 1.0])\n",
    "\n",
    "plt.bar(idx, np.average(fs, axis=1), width)"
   ]
  },
  {
   "cell_type": "code",
   "execution_count": 19,
   "metadata": {},
   "outputs": [
    {
     "name": "stdout",
     "output_type": "stream",
     "text": [
      "[[3922   10  140]\n",
      " [  52   48    0]\n",
      " [ 144    2  470]]\n",
      "[[2524   16    0]\n",
      " [  88  870    0]\n",
      " [   0   22    0]]\n",
      "[[1248  370]\n",
      " [ 184 1918]]\n",
      "[[4084    2    0]\n",
      " [  80   60    0]\n",
      " [  34    0    0]]\n"
     ]
    },
    {
     "data": {
      "image/png": "[encoded data removed]",
      "text/plain": [
       "<matplotlib.figure.Figure at 0x1124fd470>"
      ]
     },
     "metadata": {},
     "output_type": "display_data"
    }
   ],
   "source": [
    "plt.figure(figsize=(12, 6))\n",
    "plt.subplot(141)\n",
    "for i, cm in enumerate(cms[0]):\n",
    "\n",
    "    print(cm)\n",
    "    \n",
    "    cm = cm.astype('float') / cm.sum(axis=1)[:,np.newaxis]\n",
    "\n",
    "    plt.subplot(1, 4, i+1)\n",
    "    plt.imshow(cm, cmap=\"Blues\")\n",
    "    \n",
    "plt.show()"
   ]
  },
  {
   "cell_type": "code",
   "execution_count": 21,
   "metadata": {},
   "outputs": [
    {
     "name": "stdout",
     "output_type": "stream",
     "text": [
      "[[3938    4  130]\n",
      " [  50   50    0]\n",
      " [ 150    0  466]]\n",
      "[[2538    2    0]\n",
      " [ 104  854    0]\n",
      " [   0   22    0]]\n",
      "[[1330  288]\n",
      " [ 106 1996]]\n",
      "[[4084    2    0]\n",
      " [  58   82    0]\n",
      " [  34    0    0]]\n"
     ]
    },
    {
     "data": {
      "image/png": "[encoded data removed]",
      "text/plain": [
       "<matplotlib.figure.Figure at 0x112bd0710>"
      ]
     },
     "metadata": {},
     "output_type": "display_data"
    }
   ],
   "source": [
    "plt.figure(figsize=(12, 6))\n",
    "plt.subplot(141)\n",
    "for i, cm in enumerate(cms[1]):\n",
    "\n",
    "    print(cm)\n",
    "    \n",
    "    cm = cm.astype('float') / cm.sum(axis=1)[:,np.newaxis]\n",
    "\n",
    "    plt.subplot(1, 4, i+1)\n",
    "    plt.imshow(cm, cmap=\"Blues\")\n",
    "    \n",
    "plt.show()"
   ]
  },
  {
   "cell_type": "code",
   "execution_count": null,
   "metadata": {
    "collapsed": true
   },
   "outputs": [],
   "source": []
  }
 ],
 "metadata": {
  "kernelspec": {
   "display_name": "Python 3",
   "language": "python",
   "name": "python3"
  },
  "language_info": {
   "codemirror_mode": {
    "name": "ipython",
    "version": 3
   },
   "file_extension": ".py",
   "mimetype": "text/x-python",
   "name": "python",
   "nbconvert_exporter": "python",
   "pygments_lexer": "ipython3",
   "version": "3.6.1"
  },
  "toc": {
   "nav_menu": {},
   "number_sections": true,
   "sideBar": true,
   "skip_h1_title": false,
   "toc_cell": false,
   "toc_position": {},
   "toc_section_display": "block",
   "toc_window_display": false
  }
 },
 "nbformat": 4,
 "nbformat_minor": 2
}
