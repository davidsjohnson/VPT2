{
 "cells": [
  {
   "cell_type": "markdown",
   "metadata": {},
   "source": [
    "# Virtual Piano Tutor"
   ]
  },
  {
   "cell_type": "markdown",
   "metadata": {
    "heading_collapsed": true
   },
   "source": [
    "## Project Description\n",
    "\n",
    "This is a notebook for tracking my progress on VPT...\n",
    "\n",
    "- Best Classifier as of 11/30\n",
    "    - SVM {'C': 100, 'gamma': 0.1, 'kernel': 'rbf'}"
   ]
  },
  {
   "cell_type": "markdown",
   "metadata": {
    "heading_collapsed": true
   },
   "source": [
    "## TODO List"
   ]
  },
  {
   "cell_type": "markdown",
   "metadata": {
    "hidden": true
   },
   "source": [
    "- TODAY\n",
    "    - Decide on RDF model to keep for rest of project\n",
    "    - Work on RDF data and annotations\n",
    "    - Add results to file\n",
    "    - Rewrite RDF for GridSearchCV\n",
    "        - Extend RDF\n",
    "    - Work on ideas for paper\n",
    "        - Visualizations\n",
    "    - Play with CAE\n",
    "    - How to automate this...\n",
    "    - Windowing/Summarizing\n",
    "    \n",
    "- DONE\n",
    "    - ~~Organize RDF data~~\n",
    "    - ~~Generate data from already extracted hands...~~\n",
    "    - ~~Get notebook running on Compute Canada~~\n",
    "    - ~~Get data on Compute Canada~~\n",
    "    - ~~Setup CAE to deal with hand images~~\n",
    "    - ~~setup data for training autoencoder on LH and RH~~\n",
    "    - ~~Train Autoencoder for LH and Rh~~\n",
    "    \n",
    "\n",
    "- Bad Segmentation\n",
    "    - p3c - left hand (not terrible)\n",
    "    - p1s - right hand (shouldn't use)\n",
    "    - p5a - Both could use some work but still caputures most of the left hand (RH not so good...)\n",
    "    - p5c - not good (left hand passable...)\n",
    "    \n",
    "- Add noise to CAE\n",
    "    - http://scikit-image.org/docs/dev/api/skimage.util.html#random-noise\n",
    "    \n",
    "- ~~Multiple Participants~~\n",
    "    - ~~have one holdout set participant~~\n",
    "        - ~~Test with p1&2 training p3 testing, then p1&3...~~\n",
    "    - ~~have one holdout set exercise~~\n",
    "\n",
    "- Test with RH too\n",
    "\n",
    "- Windowing data\n",
    "    - Summarize data for classification\n",
    "    - Majority Voting (or with probabilities)\n",
    "\n",
    "- Look for other features\n",
    "    - Others??\n",
    "    - ~~Autoencoder features~~\n",
    "    - ~~HONV~~\n",
    "    \n",
    "- Work on hand segmentation\n",
    "   - See p1e for bad examples\n",
    "   - How to validate segmentation?\n",
    "       - Statistical analysis on length and width ratios\n",
    "       \n",
    "- Visualize !!!\n",
    "    - Input \n",
    "    - Results !!!\n",
    "        - F Scores\n",
    "        - Accuracy\n",
    "        - Try weighted instead of macro\n",
    "\n",
    "\n",
    "\n",
    "\n",
    "- Finish Project Description\n",
    "\n",
    "- ~~Turn into functions~~\n",
    "    \n",
    "- ~~Verify Segmentation~~\n",
    "    - have only done basic verification\n",
    "    \n",
    "- ~~FIRST THING: Test by ignoring training data (p1s) and then using train_test_split on recordings~~\n",
    "    - ~~Data should be ready for spliting~~\n",
    "    \n",
    "- ~~Remove data from testing to find culprit~~\n",
    "    \n",
    "- ~~Track my progress better !!! (duh through notebooks!)~~"
   ]
  },
  {
   "cell_type": "markdown",
   "metadata": {},
   "source": [
    "# Setup"
   ]
  },
  {
   "cell_type": "markdown",
   "metadata": {},
   "source": [
    "## Libraries"
   ]
  },
  {
   "cell_type": "code",
   "execution_count": 1,
   "metadata": {},
   "outputs": [],
   "source": [
    "import os\n",
    "\n",
    "%matplotlib inline\n",
    "import matplotlib.pyplot as plt\n",
    "import numpy as np\n",
    "import cv2\n",
    "\n",
    "from vpt.features.features import *\n",
    "import vpt.utils.image_processing as ip\n",
    "import vpt.settings as s\n",
    "import vpt.hand_detection.depth_context_features as dcf\n",
    "\n",
    "%load_ext autoreload\n",
    "%autoreload 2"
   ]
  },
  {
   "cell_type": "markdown",
   "metadata": {},
   "source": [
    "## Some helper functions"
   ]
  },
  {
   "cell_type": "markdown",
   "metadata": {},
   "source": [
    "### Load/Save Data Set"
   ]
  },
  {
   "cell_type": "code",
   "execution_count": 2,
   "metadata": {
    "collapsed": true
   },
   "outputs": [],
   "source": [
    "def load_data(testing_p, M, radius, feature_type, data_type):\n",
    "    base = \"data/posture/extracted/\"\n",
    "    data_path = os.path.join(base, \"{}_M{}_rad{:0.2f}_{}_\".format(testing_p, M, radius, feature_type))\n",
    "    data = np.load(data_path + data_type + \"_data_combined.npz\")    \n",
    "    return data"
   ]
  },
  {
   "cell_type": "markdown",
   "metadata": {},
   "source": [
    "## Project Setup"
   ]
  },
  {
   "cell_type": "markdown",
   "metadata": {},
   "source": [
    "### Generate or Load Data"
   ]
  },
  {
   "cell_type": "code",
   "execution_count": 3,
   "metadata": {
    "collapsed": true
   },
   "outputs": [],
   "source": [
    "M = 5\n",
    "radius = .15\n",
    "feature_type = \"hog3\"\n",
    "\n",
    "participants = [\"p1\", \"p3\", \"p4\", \"p6\"]"
   ]
  },
  {
   "cell_type": "code",
   "execution_count": 4,
   "metadata": {},
   "outputs": [
    {
     "name": "stdout",
     "output_type": "stream",
     "text": [
      "X LH (15822, 693) y LH (15822,) (15822, 180, 120)\n",
      "X RH (15822, 693) y RH (15822,) (15822, 180, 120)\n",
      "Filenames (15822,)\n"
     ]
    }
   ],
   "source": [
    "#### Load data for a single paricipant\n",
    "data = load_data(\"all_participants\", M, radius, feature_type, \"train\")\n",
    "print(\"X LH\", data[\"X_lh\"].shape, \"y LH\", data[\"y_lh\"].shape, data[\"vis_lhs\"].shape)\n",
    "print(\"X RH\", data[\"X_rh\"].shape, \"y RH\", data[\"y_rh\"].shape, data[\"vis_rhs\"].shape)\n",
    "print(\"Filenames\", data[\"filenames\"].shape)\n",
    "\n",
    "X_lh, y_lh = data[\"X_lh\"], data[\"y_lh\"]\n",
    "X_rh, y_rh = data[\"X_rh\"], data[\"y_rh\"]\n",
    "filenames = data[\"filenames\"]"
   ]
  },
  {
   "cell_type": "code",
   "execution_count": 5,
   "metadata": {
    "collapsed": true
   },
   "outputs": [],
   "source": [
    "r = re.compile('p[\\d]s')\n",
    "\n",
    "# remove p#s data\n",
    "vmatch = np.vectorize(lambda x:bool(r.search(x)))\n",
    "rem_static = vmatch(filenames)\n",
    "\n",
    "X_lh, y_lh, filenames = X_lh[~rem_static], y_lh[~rem_static], filenames[~rem_static]\n",
    "X_rh, y_rh = X_rh[~rem_static], y_rh[~rem_static]"
   ]
  },
  {
   "cell_type": "markdown",
   "metadata": {},
   "source": [
    "# Classification"
   ]
  },
  {
   "cell_type": "markdown",
   "metadata": {},
   "source": [
    "### Libraries"
   ]
  },
  {
   "cell_type": "code",
   "execution_count": null,
   "metadata": {
    "collapsed": true
   },
   "outputs": [],
   "source": [
    "from sklearn.svm import SVC\n",
    "from sklearn.ensemble import RandomForestClassifier\n",
    "from sklearn.metrics import confusion_matrix, classification_report, accuracy_score\n",
    "from sklearn.model_selection import cross_val_score, train_test_split, GridSearchCV, LeaveOneGroupOut, LeavePGroupsOut, GroupKFold\n",
    "from imblearn.pipeline import Pipeline\n",
    "\n",
    "from sklearn.decomposition import PCA\n",
    "\n",
    "from imblearn.over_sampling import SMOTE\n",
    "from imblearn.combine import SMOTEENN\n",
    "from imblearn.under_sampling import EditedNearestNeighbours"
   ]
  },
  {
   "cell_type": "markdown",
   "metadata": {},
   "source": [
    "## Load Data for Classification"
   ]
  },
  {
   "cell_type": "markdown",
   "metadata": {},
   "source": [
    "## Model Testing"
   ]
  },
  {
   "cell_type": "markdown",
   "metadata": {},
   "source": [
    "### Hyper Tuning"
   ]
  },
  {
   "cell_type": "code",
   "execution_count": null,
   "metadata": {
    "collapsed": true
   },
   "outputs": [],
   "source": [
    "## Parameters for SVMs\n",
    "# steps = [('SMOTE', SMOTE()), (\"SVC\", SVC())]\n",
    "# param_grid = [\n",
    "# #   {'SVC__C': [1, 10, 100], 'SVC__kernel': ['linear'], 'SMOTE__kind': ['regular', 'borderline1', 'borderline2', 'svm']},\n",
    "# #   {'SVC__C': [1, 10, 100], 'SVC__gamma': [.0001, .001, .01, .1], 'SVC__kernel': ['rbf'], 'SMOTE__kind': ['regular', 'borderline1', 'borderline2', 'svm']},\n",
    "# #   {'SVC__C': [10, 100], 'SVC__gamma': [.000005, .00001, .00005,], 'SVC__kernel': ['rbf'], 'SMOTE__kind': ['regular', 'borderline1', 'borderline2']},\n",
    "#  ]\n",
    "\n",
    "steps = [('SMOTE', SMOTEENN()), (\"SVC\", SVC())]\n",
    "param_grid = [\n",
    "  {'SVC__C': [1, 10, 100], \n",
    "   'SVC__gamma': [.001, .01, .1], \n",
    "   'SVC__kernel': ['rbf'],\n",
    "   'SMOTE__smote': [SMOTE(kind='borderline1'), SMOTE(kind='borderline2'), SMOTE(kind='svm')]}\n",
    "] \n",
    "\n",
    "# param_grid = [\n",
    "#   {'SVC__C': [1, 10, 100], \n",
    "#    'SVC__gamma': [.001, .01, .1], \n",
    "#    'SVC__kernel': ['rbf'],\n",
    "#    'SMOTE__kind': ['borderline1', 'borderline2', 'svm']}\n",
    "# ] \n",
    "\n",
    "pipeline = Pipeline(steps)\n",
    "\n",
    "scoring = ['recall_macro', 'accuracy']\n",
    "logo = GroupKFold(n_splits=3)"
   ]
  },
  {
   "cell_type": "code",
   "execution_count": null,
   "metadata": {
    "scrolled": true
   },
   "outputs": [],
   "source": [
    "# Hyper Parameter Tuning\n",
    "\n",
    "\n",
    "results = {}\n",
    "\n",
    "for testing_p in participants:\n",
    "    \n",
    "    r = re.compile(testing_p)\n",
    "    vmatch = np.vectorize(lambda x:bool(r.search(x)))\n",
    "    val_p = vmatch(filenames)\n",
    "\n",
    "    X_lh_p = X_lh[val_p]\n",
    "    y_lh_p = y_lh[val_p]\n",
    "    X_rh_p = X_rh[val_p]\n",
    "    y_rh_p = y_rh[val_p]\n",
    "    filenames_p = filenames[val_p]\n",
    "\n",
    "    X_comb = np.vstack((X_lh_p, X_rh_p))\n",
    "    y_comb = np.hstack((y_lh_p, y_rh_p))\n",
    "    filenames_comb = np.hstack((filenames_p, filenames_p))\n",
    "\n",
    "    print(\"{} Data:\".format(testing_p))\n",
    "    print(\"LH:\", X_lh_p.shape, y_lh_p.shape)\n",
    "    print(\"RH:\", X_rh_p.shape, y_rh_p.shape)\n",
    "    print(filenames_p.shape)\n",
    "    print(\"Comb:\", X_comb.shape, y_comb.shape)\n",
    "    print(filenames_comb.shape)\n",
    "    \n",
    "    \n",
    "    group_size = 30\n",
    "    groups_samp = np.zeros_like(filenames_comb, dtype=int)\n",
    "\n",
    "    for i in range(len(filenames_comb)//group_size):\n",
    "        groups_samp[i*group_size:i*group_size+group_size] = i\n",
    "\n",
    "    groups_samp[len(groups_samp)%group_size * -1:] = i+1\n",
    "\n",
    "#     print(np.unique(groups_samp))\n",
    "\n",
    "    for score in scores:\n",
    "\n",
    "        with warnings.catch_warnings():\n",
    "            warnings.simplefilter(\"ignore\")\n",
    "            print(\"## Tuning hyper-parameters for {}\".format(score))\n",
    "            print()\n",
    "\n",
    "#             if score is \"accuracy\":\n",
    "#                 scoring = score\n",
    "#             else:\n",
    "#                 scoring = '{}_weighted'.format(score)      \n",
    "\n",
    "            #### TRAIN COMBINED LH & RH\n",
    "            clf_comb = GridSearchCV(pipeline, param_grid, cv=logo.split(X_comb, y_comb, groups=groups_samp), scoring=scoring, n_jobs=2, verbose=1, refit=\"recall_macro\")\n",
    "            clf_comb.fit(X_comb, y_comb)\n",
    "\n",
    "            print(\"Best Combined Parameters set found on data set:\")\n",
    "            print()\n",
    "            print(clf_comb.best_params_)\n",
    "            print()\n",
    "            print(\"Grid scores on data set:\")\n",
    "            print()\n",
    "            means_acc = clf_comb.cv_results_['mean_test_accuracy']\n",
    "            stds_acc  = clf_comb.cv_results_['std_test_accuracy']\n",
    "            means_recall = clf_comb.cv_results_['mean_test_recall_macro']\n",
    "            stds_recall = clf_comb.cv_results_['std_test_recall_macro']\n",
    "            for mean_acc, std_acc, mean_recall, std_recall, params in zip(means_acc, stds_acc, means_recall, stds_recall, clf_comb.cv_results_['params']):\n",
    "                print(\"Recall: %0.3f (+/-%0.3f) - Accuracy: %0.3f (+/-%0.3f) for\\n %r\" % (mean_recall, std_recall, mean_acc, std_acc, params))\n",
    "                print()\n",
    "            print()\n",
    "            \n",
    "            results[testing_p] = clf_comb.cv_results_"
   ]
  },
  {
   "cell_type": "code",
   "execution_count": null,
   "metadata": {
    "collapsed": true
   },
   "outputs": [],
   "source": [
    "import pandas as pd"
   ]
  },
  {
   "cell_type": "code",
   "execution_count": null,
   "metadata": {
    "collapsed": true
   },
   "outputs": [],
   "source": [
    "results_p1 = pd.DataFrame(results['p1'])"
   ]
  },
  {
   "cell_type": "code",
   "execution_count": null,
   "metadata": {
    "collapsed": true
   },
   "outputs": [],
   "source": [
    "results_df = pd.DataFrame(results)"
   ]
  },
  {
   "cell_type": "code",
   "execution_count": null,
   "metadata": {},
   "outputs": [],
   "source": [
    "plt.plot(results_p1[\"mean_test_recall_macro\"])"
   ]
  },
  {
   "cell_type": "code",
   "execution_count": null,
   "metadata": {},
   "outputs": [],
   "source": [
    "plt.plot(results_p1[\"mean_test_accuracy\"])"
   ]
  },
  {
   "cell_type": "code",
   "execution_count": null,
   "metadata": {
    "collapsed": true
   },
   "outputs": [],
   "source": [
    "pickle.dump(results, open(\"results_0308.pkl\", 'wb'))"
   ]
  },
  {
   "cell_type": "code",
   "execution_count": null,
   "metadata": {
    "collapsed": true
   },
   "outputs": [],
   "source": [
    "r = pickle.load(open(\"results_0308.pkl\", 'rb'))"
   ]
  }
 ],
 "metadata": {
  "kernelspec": {
   "display_name": "Python 3",
   "language": "python",
   "name": "python3"
  },
  "language_info": {
   "codemirror_mode": {
    "name": "ipython",
    "version": 3
   },
   "file_extension": ".py",
   "mimetype": "text/x-python",
   "name": "python",
   "nbconvert_exporter": "python",
   "pygments_lexer": "ipython3",
   "version": "3.6.1"
  },
  "toc": {
   "nav_menu": {
    "height": "172px",
    "width": "169px"
   },
   "number_sections": true,
   "sideBar": true,
   "skip_h1_title": false,
   "toc_cell": false,
   "toc_position": {},
   "toc_section_display": "block",
   "toc_window_display": false
  }
 },
 "nbformat": 4,
 "nbformat_minor": 2
}
