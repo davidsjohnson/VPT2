{
 "cells": [
  {
   "cell_type": "markdown",
   "metadata": {},
   "source": [
    "# Virtual Piano Tutor"
   ]
  },
  {
   "cell_type": "markdown",
   "metadata": {
    "heading_collapsed": true
   },
   "source": [
    "## Project Description\n",
    "\n",
    "This is a notebook for tracking my progress on VPT...\n",
    "\n",
    "- Best Classifier as of 11/30\n",
    "    - SVM {'C': 100, 'gamma': 0.1, 'kernel': 'rbf'}"
   ]
  },
  {
   "cell_type": "markdown",
   "metadata": {
    "heading_collapsed": true
   },
   "source": [
    "## TODO List"
   ]
  },
  {
   "cell_type": "markdown",
   "metadata": {
    "hidden": true
   },
   "source": [
    "- TODAY\n",
    "    - Decide on RDF model to keep for rest of project\n",
    "    - Work on RDF data and annotations\n",
    "    - Add results to file\n",
    "    - Rewrite RDF for GridSearchCV\n",
    "        - Extend RDF\n",
    "    - Work on ideas for paper\n",
    "        - Visualizations\n",
    "    - Play with CAE\n",
    "    - How to automate this...\n",
    "    - Windowing/Summarizing\n",
    "    \n",
    "- DONE\n",
    "    - ~~Organize RDF data~~\n",
    "    - ~~Generate data from already extracted hands...~~\n",
    "    - ~~Get notebook running on Compute Canada~~\n",
    "    - ~~Get data on Compute Canada~~\n",
    "    - ~~Setup CAE to deal with hand images~~\n",
    "    - ~~setup data for training autoencoder on LH and RH~~\n",
    "    - ~~Train Autoencoder for LH and Rh~~\n",
    "    \n",
    "\n",
    "- Bad Segmentation\n",
    "    - p3c - left hand (not terrible)\n",
    "    - p1s - right hand (shouldn't use)\n",
    "    - p5a - Both could use some work but still caputures most of the left hand (RH not so good...)\n",
    "    - p5c - not good (left hand passable...)\n",
    "    \n",
    "- Add noise to CAE\n",
    "    - http://scikit-image.org/docs/dev/api/skimage.util.html#random-noise\n",
    "    \n",
    "- ~~Multiple Participants~~\n",
    "    - ~~have one holdout set participant~~\n",
    "        - ~~Test with p1&2 training p3 testing, then p1&3...~~\n",
    "    - ~~have one holdout set exercise~~\n",
    "\n",
    "- Test with RH too\n",
    "\n",
    "- Windowing data\n",
    "    - Summarize data for classification\n",
    "    - Majority Voting (or with probabilities)\n",
    "\n",
    "- Look for other features\n",
    "    - Others??\n",
    "    - ~~Autoencoder features~~\n",
    "    - ~~HONV~~\n",
    "    \n",
    "- Work on hand segmentation\n",
    "   - See p1e for bad examples\n",
    "   - How to validate segmentation?\n",
    "       - Statistical analysis on length and width ratios\n",
    "       \n",
    "- Visualize !!!\n",
    "    - Input \n",
    "    - Results !!!\n",
    "        - F Scores\n",
    "        - Accuracy\n",
    "        - Try weighted instead of macro\n",
    "\n",
    "\n",
    "\n",
    "\n",
    "- Finish Project Description\n",
    "\n",
    "- ~~Turn into functions~~\n",
    "    \n",
    "- ~~Verify Segmentation~~\n",
    "    - have only done basic verification\n",
    "    \n",
    "- ~~FIRST THING: Test by ignoring training data (p1s) and then using train_test_split on recordings~~\n",
    "    - ~~Data should be ready for spliting~~\n",
    "    \n",
    "- ~~Remove data from testing to find culprit~~\n",
    "    \n",
    "- ~~Track my progress better !!! (duh through notebooks!)~~"
   ]
  },
  {
   "cell_type": "markdown",
   "metadata": {},
   "source": [
    "# Setup"
   ]
  },
  {
   "cell_type": "markdown",
   "metadata": {},
   "source": [
    "## Libraries"
   ]
  },
  {
   "cell_type": "code",
   "execution_count": 1,
   "metadata": {
    "collapsed": true
   },
   "outputs": [],
   "source": [
    "import os\n",
    "\n",
    "%matplotlib inline\n",
    "import matplotlib.pyplot as plt\n",
    "import numpy as np\n",
    "import cv2\n",
    "\n",
    "from vpt.features.features import *\n",
    "import vpt.utils.image_processing as ip\n",
    "import vpt.settings as s\n",
    "import vpt.hand_detection.depth_context_features as dcf\n",
    "\n",
    "%load_ext autoreload\n",
    "%autoreload 2"
   ]
  },
  {
   "cell_type": "markdown",
   "metadata": {},
   "source": [
    "## Some helper functions"
   ]
  },
  {
   "cell_type": "markdown",
   "metadata": {},
   "source": [
    "### Load/Save Data Set"
   ]
  },
  {
   "cell_type": "code",
   "execution_count": 2,
   "metadata": {
    "collapsed": true
   },
   "outputs": [],
   "source": [
    "def load_data(testing_p, M, radius, feature_type, data_type):\n",
    "    base = \"data/posture/extracted/\"\n",
    "    data_path = os.path.join(base, \"{}_M{}_rad{:0.2f}_{}_\".format(testing_p, M, radius, feature_type))\n",
    "    data = np.load(data_path + data_type + \"_data_combined.npz\")    \n",
    "    return data"
   ]
  },
  {
   "cell_type": "markdown",
   "metadata": {},
   "source": [
    "## Project Setup"
   ]
  },
  {
   "cell_type": "markdown",
   "metadata": {},
   "source": [
    "### Generate or Load Data"
   ]
  },
  {
   "cell_type": "code",
   "execution_count": 3,
   "metadata": {
    "collapsed": true
   },
   "outputs": [],
   "source": [
    "M = 5\n",
    "radius = .15\n",
    "feature_type = \"hog\"\n",
    "testing_p = \"p3\""
   ]
  },
  {
   "cell_type": "code",
   "execution_count": 4,
   "metadata": {},
   "outputs": [
    {
     "name": "stdout",
     "output_type": "stream",
     "text": [
      "X LH (15818, 1089) y LH (15818,) (15818, 180, 180)\n",
      "X RH (15818, 1089) y RH (15818,) (15818, 180, 180)\n",
      "Filenames (15818,)\n"
     ]
    }
   ],
   "source": [
    "#### Load data for a single paricipant\n",
    "data = load_data(\"all_participants\", M, radius, feature_type, \"train\")\n",
    "print(\"X LH\", data[\"X_lh\"].shape, \"y LH\", data[\"y_lh\"].shape, data[\"vis_lhs\"].shape)\n",
    "print(\"X RH\", data[\"X_rh\"].shape, \"y RH\", data[\"y_rh\"].shape, data[\"vis_rhs\"].shape)\n",
    "print(\"Filenames\", data[\"filenames\"].shape)"
   ]
  },
  {
   "cell_type": "code",
   "execution_count": 5,
   "metadata": {},
   "outputs": [
    {
     "name": "stdout",
     "output_type": "stream",
     "text": [
      "Cross Val Data:\n",
      "(11246, 1089) (11246,)\n",
      "(11246, 1089) (11246,)\n",
      "(11246,)\n",
      "\n",
      "Validation Data\n",
      "(4572, 1089) (4572,)\n",
      "(4572, 1089) (4572,)\n",
      "(4572,)\n"
     ]
    }
   ],
   "source": [
    "## using p6 for validation\n",
    "r = re.compile(testing_p)\n",
    "vmatch = np.vectorize(lambda x:bool(r.search(x)))\n",
    "val_p = vmatch(data['filenames'])\n",
    "\n",
    "X_lh = data['X_lh'][~val_p]\n",
    "y_lh = data['y_lh'][~val_p]\n",
    "X_rh = data['X_rh'][~val_p]\n",
    "y_rh = data['y_rh'][~val_p]\n",
    "filenames = data['filenames'][~val_p]\n",
    "\n",
    "\n",
    "X_lh_test = data['X_lh'][val_p]\n",
    "y_lh_test = data['y_lh'][val_p]\n",
    "X_rh_test = data['X_rh'][val_p]\n",
    "y_rh_test = data['y_rh'][val_p]\n",
    "filenames_test = data['filenames'][val_p]\n",
    "\n",
    "print(\"Cross Val Data:\")\n",
    "print(X_lh.shape, y_lh.shape)\n",
    "print(X_rh.shape, y_rh.shape)\n",
    "print(filenames.shape)\n",
    "print()\n",
    "print(\"Validation Data\")\n",
    "print(X_lh_test.shape, y_lh_test.shape)\n",
    "print(X_rh_test.shape, y_rh_test.shape)\n",
    "print(filenames_test.shape)"
   ]
  },
  {
   "cell_type": "code",
   "execution_count": 6,
   "metadata": {},
   "outputs": [
    {
     "name": "stdout",
     "output_type": "stream",
     "text": [
      "(11246,)\n",
      "[1 4 6]\n",
      "[1 1 1 ..., 6 6 6]\n"
     ]
    }
   ],
   "source": [
    "groups = np.zeros_like(filenames, dtype=int)\n",
    "\n",
    "for p in [\"p1\", \"p3\", \"p4\", \"p6\"]:\n",
    "    p_num = int(p[1])\n",
    "    groups[np.where(np.char.find(filenames, p) != -1)] = p_num\n",
    "    \n",
    "print(groups.shape)\n",
    "print(np.unique(groups))\n",
    "print(groups)"
   ]
  },
  {
   "cell_type": "markdown",
   "metadata": {},
   "source": [
    "# Classification"
   ]
  },
  {
   "cell_type": "markdown",
   "metadata": {},
   "source": [
    "### Libraries"
   ]
  },
  {
   "cell_type": "code",
   "execution_count": 24,
   "metadata": {
    "collapsed": true
   },
   "outputs": [],
   "source": [
    "from sklearn.svm import SVC\n",
    "from sklearn.ensemble import RandomForestClassifier\n",
    "from sklearn.metrics import confusion_matrix, classification_report, accuracy_score\n",
    "from sklearn.model_selection import cross_val_score, train_test_split, GridSearchCV, LeaveOneGroupOut, GroupKFold\n",
    "from imblearn.pipeline import Pipeline\n",
    "\n",
    "from sklearn.decomposition import PCA\n",
    "\n",
    "from imblearn.over_sampling import SMOTE\n",
    "from imblearn.combine import SMOTEENN\n",
    "from imblearn.under_sampling import EditedNearestNeighbours"
   ]
  },
  {
   "cell_type": "markdown",
   "metadata": {},
   "source": [
    "## Load Data for Classification"
   ]
  },
  {
   "cell_type": "code",
   "execution_count": 8,
   "metadata": {
    "code_folding": [],
    "collapsed": true
   },
   "outputs": [],
   "source": [
    "## find all \"static\" data so we can ignore for now\n",
    "r = re.compile('p[\\d]s')\n",
    "\n",
    "# remove p#s data\n",
    "vmatch = np.vectorize(lambda x:bool(r.search(x)))\n",
    "rem_static = vmatch(filenames)\n",
    "rem_static_test = vmatch(filenames_test)\n",
    "\n",
    "X_lh_train, y_lh_train, filenames_train, groups_train = X_lh[~rem_static], y_lh[~rem_static], filenames[~rem_static], groups[~rem_static]\n",
    "X_rh_train, y_rh_train, filenames_train, groups_train = X_rh[~rem_static], y_rh[~rem_static], filenames[~rem_static], groups[~rem_static]"
   ]
  },
  {
   "cell_type": "code",
   "execution_count": 9,
   "metadata": {
    "collapsed": true
   },
   "outputs": [],
   "source": [
    "X_lh_val, y_lh_val, filenames_val = X_lh_test[~rem_static_test], y_lh_test[~rem_static_test], filenames_test[~rem_static_test]\n",
    "X_rh_val, y_rh_val, filenames_val = X_rh_test[~rem_static_test], y_rh_test[~rem_static_test], filenames_test[~rem_static_test]"
   ]
  },
  {
   "cell_type": "code",
   "execution_count": 10,
   "metadata": {
    "collapsed": true
   },
   "outputs": [],
   "source": [
    "X_comb_train = np.vstack((X_lh_train, X_rh_train))\n",
    "y_comb_train = np.hstack((y_lh_train, y_rh_train))\n",
    "groups_comb_train = np.hstack((groups_train, groups_train))\n",
    "filenames_comb_train = np.hstack((filenames_train, filenames_train))\n",
    "\n",
    "X_comb_val = np.vstack((X_lh_val, X_rh_val))\n",
    "y_comb_val = np.hstack((y_lh_val, y_rh_val))\n",
    "filenames_comb_val = np.hstack((filenames_val, filenames_val))"
   ]
  },
  {
   "cell_type": "code",
   "execution_count": 11,
   "metadata": {},
   "outputs": [
    {
     "name": "stdout",
     "output_type": "stream",
     "text": [
      "Cross Validation Data\n",
      "LH: (9629, 1089) (9629,)\n",
      "(array([0, 1, 2]), array([6890, 1718, 1021]))\n",
      "RH: (9629, 1089) (9629,)\n",
      "(9629,)\n",
      "(9629,)\n",
      "(array([0, 1, 2]), array([7496, 2106,   27]))\n",
      "Combined: (19258, 1089) (19258,)\n",
      "(19258,)\n",
      "(19258,)\n",
      "(array([0, 1, 2]), array([14386,  3824,  1048]))\n",
      "\n",
      "\n",
      "Validation Data\n",
      "LH: (2650, 1089) (2650,)\n",
      "(array([0, 1, 2]), array([1267, 1336,   47]))\n",
      "RH: (2650, 1089) (2650,)\n",
      "(array([0]), array([2650]))\n",
      "Combined: (5300, 1089) (5300,)\n",
      "(array([0, 1, 2]), array([3917, 1336,   47]))\n",
      "(5300,)\n"
     ]
    }
   ],
   "source": [
    "print(\"Cross Validation Data\")\n",
    "print(\"LH:\", X_lh_train.shape, y_lh_train.shape)\n",
    "print(np.unique(y_lh_train, return_counts=True))\n",
    "print(\"RH:\", X_rh_train.shape, y_rh_train.shape)\n",
    "print(filenames_train.shape)\n",
    "print(groups_train.shape)\n",
    "print(np.unique(y_rh_train, return_counts=True))\n",
    "print(\"Combined:\", X_comb_train.shape, y_comb_train.shape)\n",
    "print(filenames_comb_train.shape)\n",
    "print(groups_comb_train.shape)\n",
    "print(np.unique(y_comb_train, return_counts=True))\n",
    "print()\n",
    "print()\n",
    "print(\"Validation Data\")\n",
    "print(\"LH:\", X_lh_val.shape, y_lh_val.shape)\n",
    "print(np.unique(y_lh_val, return_counts=True))\n",
    "print(\"RH:\", X_rh_val.shape, y_rh_val.shape)\n",
    "print(np.unique(y_rh_val, return_counts=True))\n",
    "print(\"Combined:\", X_comb_val.shape, y_comb_val.shape)\n",
    "print(np.unique(y_comb_val, return_counts=True))\n",
    "print(filenames_comb_val.shape)"
   ]
  },
  {
   "cell_type": "code",
   "execution_count": 18,
   "metadata": {},
   "outputs": [
    {
     "name": "stdout",
     "output_type": "stream",
     "text": [
      "(array([0, 1]), array([14386,  4872]))\n",
      "(array([0, 1]), array([3917, 1383]))\n"
     ]
    }
   ],
   "source": [
    "y_comb_train_bin = np.zeros_like(y_comb_train)\n",
    "y_comb_train_bin[y_comb_train != 0] = 1\n",
    "\n",
    "y_comb_val_bin = np.zeros_like(y_comb_val)\n",
    "y_comb_val_bin[y_comb_val != 0] = 1\n",
    "\n",
    "print(np.unique(y_comb_train_bin, return_counts=True))\n",
    "print(np.unique(y_comb_val_bin, return_counts=True))"
   ]
  },
  {
   "cell_type": "markdown",
   "metadata": {},
   "source": [
    "## Model Testing"
   ]
  },
  {
   "cell_type": "markdown",
   "metadata": {},
   "source": [
    "### SVM"
   ]
  },
  {
   "cell_type": "code",
   "execution_count": 31,
   "metadata": {},
   "outputs": [],
   "source": [
    "size = 30\n",
    "groups_kfold = np.zeros_like(filenames_comb_train, dtype=int)\n",
    "for i in range(len(filenames_comb_train) // size):\n",
    "    groups_kfold[i * size:i * size + size] = i\n",
    "groups_kfold[len(groups_kfold) % size * -1:] = i + 1\n",
    "\n",
    "cv = GroupKFold(n_splits=3)"
   ]
  },
  {
   "cell_type": "code",
   "execution_count": 32,
   "metadata": {},
   "outputs": [],
   "source": [
    "## Parameters for SVMs\n",
    "steps = [('SMOTE', SMOTEENN()), (\"SVC\", SVC())]\n",
    "# param_grid = [\n",
    "# #   {'SVC__C': [1, 10, 100], 'SVC__kernel': ['linear'], 'SMOTE__kind': ['regular', 'borderline1', 'borderline2', 'svm']},\n",
    "# #   {'SVC__C': [1, 10, 100], 'SVC__gamma': [.0001, .001, .01, .1], 'SVC__kernel': ['rbf'], 'SMOTE__kind': ['regular', 'borderline1', 'borderline2', 'svm']},\n",
    "#   {'SVC__C': [10, 100], 'SVC__gamma': [.000005, .00001, .00005,], 'SVC__kernel': ['rbf'], 'SMOTE__kind': ['regular', 'borderline1', 'borderline2']},\n",
    "#  ]\n",
    "\n",
    "steps = [('SMOTE', SMOTEENN()), (\"SVC\", SVC())]\n",
    "param_grid = [\n",
    "  {'SVC__C': [1, 10, 100], \n",
    "   'SVC__kernel': ['linear'], \n",
    "   'SMOTE__smote': [SMOTE(kind='borderline2')], \n",
    "   \"SMOTE__enn\": [EditedNearestNeighbours(n_neighbors=7, kind_sel='mode'), EditedNearestNeighbours(n_neighbors=5, kind_sel='mode')]},\n",
    "  {'SVC__C': [1, 10, 100], \n",
    "   'SVC__gamma': [.001, .01, .1], \n",
    "   'SVC__kernel': ['rbf'], \n",
    "   'SMOTE__smote': [SMOTE(kind='borderline2')], \n",
    "   \"SMOTE__enn\": [EditedNearestNeighbours(n_neighbors=7, kind_sel='mode'), EditedNearestNeighbours(n_neighbors=5, kind_sel='mode')]},\n",
    " ]\n",
    "\n",
    "\n",
    "pipeline = Pipeline(steps)\n",
    "\n",
    "scores = ['accuracy']\n",
    "logo = GroupKFold()"
   ]
  },
  {
   "cell_type": "code",
   "execution_count": 33,
   "metadata": {
    "scrolled": false
   },
   "outputs": [
    {
     "name": "stdout",
     "output_type": "stream",
     "text": [
      "## Tuning hyper-parameters for accuracy\n",
      "\n",
      "Fitting 3 folds for each of 24 candidates, totalling 72 fits\n",
      "[CV] SMOTE__enn=EditedNearestNeighbours(kind_sel='mode', n_jobs=1, n_neighbors=7,\n",
      "            random_state=None, ratio='auto', return_indices=False,\n",
      "            size_ngh=None), SMOTE__smote=SMOTE(k=None, k_neighbors=5, kind='borderline2', m=None, m_neighbors=10,\n",
      "   n_jobs=1, out_step=0.5, random_state=None, ratio='auto',\n",
      "   svm_estimator=None), SVC__C=1, SVC__kernel=linear \n",
      "[CV] SMOTE__enn=EditedNearestNeighbours(kind_sel='mode', n_jobs=1, n_neighbors=7,\n",
      "            random_state=None, ratio='auto', return_indices=False,\n",
      "            size_ngh=None), SMOTE__smote=SMOTE(k=None, k_neighbors=5, kind='borderline2', m=None, m_neighbors=10,\n",
      "   n_jobs=1, out_step=0.5, random_state=None, ratio='auto',\n",
      "   svm_estimator=None), SVC__C=1, SVC__kernel=linear \n",
      "[CV]  SMOTE__enn=EditedNearestNeighbours(kind_sel='mode', n_jobs=1, n_neighbors=7,\n",
      "            random_state=None, ratio='auto', return_indices=False,\n",
      "            size_ngh=None), SMOTE__smote=SMOTE(k=None, k_neighbors=5, kind='borderline2', m=None, m_neighbors=10,\n",
      "   n_jobs=1, out_step=0.5, random_state=None, ratio='auto',\n",
      "   svm_estimator=None), SVC__C=1, SVC__kernel=linear, score=0.8422118380062306, total= 9.1min\n",
      "[CV] SMOTE__enn=EditedNearestNeighbours(kind_sel='mode', n_jobs=1, n_neighbors=7,\n",
      "            random_state=None, ratio='auto', return_indices=False,\n",
      "            size_ngh=None), SMOTE__smote=SMOTE(k=None, k_neighbors=5, kind='borderline2', m=None, m_neighbors=10,\n",
      "   n_jobs=1, out_step=0.5, random_state=None, ratio='auto',\n",
      "   svm_estimator=None), SVC__C=1, SVC__kernel=linear \n"
     ]
    },
    {
     "name": "stderr",
     "output_type": "stream",
     "text": [
      "[Parallel(n_jobs=2)]: Done   1 tasks      | elapsed:  9.7min\n"
     ]
    },
    {
     "name": "stdout",
     "output_type": "stream",
     "text": [
      "[CV]  SMOTE__enn=EditedNearestNeighbours(kind_sel='mode', n_jobs=1, n_neighbors=7,\n",
      "            random_state=None, ratio='auto', return_indices=False,\n",
      "            size_ngh=None), SMOTE__smote=SMOTE(k=None, k_neighbors=5, kind='borderline2', m=None, m_neighbors=10,\n",
      "   n_jobs=1, out_step=0.5, random_state=None, ratio='auto',\n",
      "   svm_estimator=None), SVC__C=1, SVC__kernel=linear, score=0.8557632398753894, total= 9.3min\n",
      "[CV] SMOTE__enn=EditedNearestNeighbours(kind_sel='mode', n_jobs=1, n_neighbors=7,\n",
      "            random_state=None, ratio='auto', return_indices=False,\n",
      "            size_ngh=None), SMOTE__smote=SMOTE(k=None, k_neighbors=5, kind='borderline2', m=None, m_neighbors=10,\n",
      "   n_jobs=1, out_step=0.5, random_state=None, ratio='auto',\n",
      "   svm_estimator=None), SVC__C=10, SVC__kernel=linear \n",
      "[CV]  SMOTE__enn=EditedNearestNeighbours(kind_sel='mode', n_jobs=1, n_neighbors=7,\n",
      "            random_state=None, ratio='auto', return_indices=False,\n",
      "            size_ngh=None), SMOTE__smote=SMOTE(k=None, k_neighbors=5, kind='borderline2', m=None, m_neighbors=10,\n",
      "   n_jobs=1, out_step=0.5, random_state=None, ratio='auto',\n",
      "   svm_estimator=None), SVC__C=1, SVC__kernel=linear, score=0.8465253973200374, total= 9.1min\n",
      "[CV] SMOTE__enn=EditedNearestNeighbours(kind_sel='mode', n_jobs=1, n_neighbors=7,\n",
      "            random_state=None, ratio='auto', return_indices=False,\n",
      "            size_ngh=None), SMOTE__smote=SMOTE(k=None, k_neighbors=5, kind='borderline2', m=None, m_neighbors=10,\n",
      "   n_jobs=1, out_step=0.5, random_state=None, ratio='auto',\n",
      "   svm_estimator=None), SVC__C=10, SVC__kernel=linear \n",
      "[CV]  SMOTE__enn=EditedNearestNeighbours(kind_sel='mode', n_jobs=1, n_neighbors=7,\n",
      "            random_state=None, ratio='auto', return_indices=False,\n",
      "            size_ngh=None), SMOTE__smote=SMOTE(k=None, k_neighbors=5, kind='borderline2', m=None, m_neighbors=10,\n",
      "   n_jobs=1, out_step=0.5, random_state=None, ratio='auto',\n",
      "   svm_estimator=None), SVC__C=10, SVC__kernel=linear, score=0.8403426791277259, total=18.6min\n",
      "[CV] SMOTE__enn=EditedNearestNeighbours(kind_sel='mode', n_jobs=1, n_neighbors=7,\n",
      "            random_state=None, ratio='auto', return_indices=False,\n",
      "            size_ngh=None), SMOTE__smote=SMOTE(k=None, k_neighbors=5, kind='borderline2', m=None, m_neighbors=10,\n",
      "   n_jobs=1, out_step=0.5, random_state=None, ratio='auto',\n",
      "   svm_estimator=None), SVC__C=10, SVC__kernel=linear \n"
     ]
    },
    {
     "name": "stderr",
     "output_type": "stream",
     "text": [
      "[Parallel(n_jobs=2)]: Done   4 tasks      | elapsed: 29.3min\n"
     ]
    },
    {
     "name": "stdout",
     "output_type": "stream",
     "text": [
      "[CV]  SMOTE__enn=EditedNearestNeighbours(kind_sel='mode', n_jobs=1, n_neighbors=7,\n",
      "            random_state=None, ratio='auto', return_indices=False,\n",
      "            size_ngh=None), SMOTE__smote=SMOTE(k=None, k_neighbors=5, kind='borderline2', m=None, m_neighbors=10,\n",
      "   n_jobs=1, out_step=0.5, random_state=None, ratio='auto',\n",
      "   svm_estimator=None), SVC__C=10, SVC__kernel=linear, score=0.8436137071651091, total=10.4min\n",
      "[CV] SMOTE__enn=EditedNearestNeighbours(kind_sel='mode', n_jobs=1, n_neighbors=7,\n",
      "            random_state=None, ratio='auto', return_indices=False,\n",
      "            size_ngh=None), SMOTE__smote=SMOTE(k=None, k_neighbors=5, kind='borderline2', m=None, m_neighbors=10,\n",
      "   n_jobs=1, out_step=0.5, random_state=None, ratio='auto',\n",
      "   svm_estimator=None), SVC__C=100, SVC__kernel=linear \n",
      "[CV]  SMOTE__enn=EditedNearestNeighbours(kind_sel='mode', n_jobs=1, n_neighbors=7,\n",
      "            random_state=None, ratio='auto', return_indices=False,\n",
      "            size_ngh=None), SMOTE__smote=SMOTE(k=None, k_neighbors=5, kind='borderline2', m=None, m_neighbors=10,\n",
      "   n_jobs=1, out_step=0.5, random_state=None, ratio='auto',\n",
      "   svm_estimator=None), SVC__C=100, SVC__kernel=linear, score=0.8288161993769471, total=22.8min\n",
      "[CV] SMOTE__enn=EditedNearestNeighbours(kind_sel='mode', n_jobs=1, n_neighbors=7,\n",
      "            random_state=None, ratio='auto', return_indices=False,\n",
      "            size_ngh=None), SMOTE__smote=SMOTE(k=None, k_neighbors=5, kind='borderline2', m=None, m_neighbors=10,\n",
      "   n_jobs=1, out_step=0.5, random_state=None, ratio='auto',\n",
      "   svm_estimator=None), SVC__C=100, SVC__kernel=linear \n",
      "[CV]  SMOTE__enn=EditedNearestNeighbours(kind_sel='mode', n_jobs=1, n_neighbors=7,\n",
      "            random_state=None, ratio='auto', return_indices=False,\n",
      "            size_ngh=None), SMOTE__smote=SMOTE(k=None, k_neighbors=5, kind='borderline2', m=None, m_neighbors=10,\n",
      "   n_jobs=1, out_step=0.5, random_state=None, ratio='auto',\n",
      "   svm_estimator=None), SVC__C=10, SVC__kernel=linear, score=0.8538485509504519, total=26.2min\n",
      "[CV] SMOTE__enn=EditedNearestNeighbours(kind_sel='mode', n_jobs=1, n_neighbors=7,\n",
      "            random_state=None, ratio='auto', return_indices=False,\n",
      "            size_ngh=None), SMOTE__smote=SMOTE(k=None, k_neighbors=5, kind='borderline2', m=None, m_neighbors=10,\n",
      "   n_jobs=1, out_step=0.5, random_state=None, ratio='auto',\n",
      "   svm_estimator=None), SVC__C=100, SVC__kernel=linear \n",
      "[CV]  SMOTE__enn=EditedNearestNeighbours(kind_sel='mode', n_jobs=1, n_neighbors=7,\n",
      "            random_state=None, ratio='auto', return_indices=False,\n",
      "            size_ngh=None), SMOTE__smote=SMOTE(k=None, k_neighbors=5, kind='borderline2', m=None, m_neighbors=10,\n",
      "   n_jobs=1, out_step=0.5, random_state=None, ratio='auto',\n",
      "   svm_estimator=None), SVC__C=100, SVC__kernel=linear, score=0.8419003115264797, total=21.7min\n",
      "[CV] SMOTE__enn=EditedNearestNeighbours(kind_sel='mode', n_jobs=1, n_neighbors=5,\n",
      "            random_state=None, ratio='auto', return_indices=False,\n",
      "            size_ngh=None), SMOTE__smote=SMOTE(k=None, k_neighbors=5, kind='borderline2', m=None, m_neighbors=10,\n",
      "   n_jobs=1, out_step=0.5, random_state=None, ratio='auto',\n",
      "   svm_estimator=None), SVC__C=1, SVC__kernel=linear \n",
      "[CV]  SMOTE__enn=EditedNearestNeighbours(kind_sel='mode', n_jobs=1, n_neighbors=5,\n",
      "            random_state=None, ratio='auto', return_indices=False,\n",
      "            size_ngh=None), SMOTE__smote=SMOTE(k=None, k_neighbors=5, kind='borderline2', m=None, m_neighbors=10,\n",
      "   n_jobs=1, out_step=0.5, random_state=None, ratio='auto',\n",
      "   svm_estimator=None), SVC__C=1, SVC__kernel=linear, score=0.8316199376947041, total= 9.4min\n",
      "[CV] SMOTE__enn=EditedNearestNeighbours(kind_sel='mode', n_jobs=1, n_neighbors=5,\n",
      "            random_state=None, ratio='auto', return_indices=False,\n",
      "            size_ngh=None), SMOTE__smote=SMOTE(k=None, k_neighbors=5, kind='borderline2', m=None, m_neighbors=10,\n",
      "   n_jobs=1, out_step=0.5, random_state=None, ratio='auto',\n",
      "   svm_estimator=None), SVC__C=1, SVC__kernel=linear \n"
     ]
    },
    {
     "name": "stderr",
     "output_type": "stream",
     "text": [
      "[Parallel(n_jobs=2)]: Done   9 tasks      | elapsed: 85.6min\n"
     ]
    },
    {
     "name": "stdout",
     "output_type": "stream",
     "text": [
      "[CV]  SMOTE__enn=EditedNearestNeighbours(kind_sel='mode', n_jobs=1, n_neighbors=7,\n",
      "            random_state=None, ratio='auto', return_indices=False,\n",
      "            size_ngh=None), SMOTE__smote=SMOTE(k=None, k_neighbors=5, kind='borderline2', m=None, m_neighbors=10,\n",
      "   n_jobs=1, out_step=0.5, random_state=None, ratio='auto',\n",
      "   svm_estimator=None), SVC__C=100, SVC__kernel=linear, score=0.8381115612340293, total=28.7min\n",
      "[CV] SMOTE__enn=EditedNearestNeighbours(kind_sel='mode', n_jobs=1, n_neighbors=5,\n",
      "            random_state=None, ratio='auto', return_indices=False,\n",
      "            size_ngh=None), SMOTE__smote=SMOTE(k=None, k_neighbors=5, kind='borderline2', m=None, m_neighbors=10,\n",
      "   n_jobs=1, out_step=0.5, random_state=None, ratio='auto',\n",
      "   svm_estimator=None), SVC__C=1, SVC__kernel=linear \n",
      "[CV]  SMOTE__enn=EditedNearestNeighbours(kind_sel='mode', n_jobs=1, n_neighbors=5,\n",
      "            random_state=None, ratio='auto', return_indices=False,\n",
      "            size_ngh=None), SMOTE__smote=SMOTE(k=None, k_neighbors=5, kind='borderline2', m=None, m_neighbors=10,\n",
      "   n_jobs=1, out_step=0.5, random_state=None, ratio='auto',\n",
      "   svm_estimator=None), SVC__C=1, SVC__kernel=linear, score=0.861993769470405, total= 8.6min\n",
      "[CV] SMOTE__enn=EditedNearestNeighbours(kind_sel='mode', n_jobs=1, n_neighbors=5,\n",
      "            random_state=None, ratio='auto', return_indices=False,\n",
      "            size_ngh=None), SMOTE__smote=SMOTE(k=None, k_neighbors=5, kind='borderline2', m=None, m_neighbors=10,\n",
      "   n_jobs=1, out_step=0.5, random_state=None, ratio='auto',\n",
      "   svm_estimator=None), SVC__C=10, SVC__kernel=linear \n",
      "[CV]  SMOTE__enn=EditedNearestNeighbours(kind_sel='mode', n_jobs=1, n_neighbors=5,\n",
      "            random_state=None, ratio='auto', return_indices=False,\n",
      "            size_ngh=None), SMOTE__smote=SMOTE(k=None, k_neighbors=5, kind='borderline2', m=None, m_neighbors=10,\n",
      "   n_jobs=1, out_step=0.5, random_state=None, ratio='auto',\n",
      "   svm_estimator=None), SVC__C=1, SVC__kernel=linear, score=0.8535369273917108, total=10.7min\n",
      "[CV] SMOTE__enn=EditedNearestNeighbours(kind_sel='mode', n_jobs=1, n_neighbors=5,\n",
      "            random_state=None, ratio='auto', return_indices=False,\n",
      "            size_ngh=None), SMOTE__smote=SMOTE(k=None, k_neighbors=5, kind='borderline2', m=None, m_neighbors=10,\n",
      "   n_jobs=1, out_step=0.5, random_state=None, ratio='auto',\n",
      "   svm_estimator=None), SVC__C=10, SVC__kernel=linear \n",
      "[CV]  SMOTE__enn=EditedNearestNeighbours(kind_sel='mode', n_jobs=1, n_neighbors=5,\n",
      "            random_state=None, ratio='auto', return_indices=False,\n",
      "            size_ngh=None), SMOTE__smote=SMOTE(k=None, k_neighbors=5, kind='borderline2', m=None, m_neighbors=10,\n",
      "   n_jobs=1, out_step=0.5, random_state=None, ratio='auto',\n",
      "   svm_estimator=None), SVC__C=10, SVC__kernel=linear, score=0.8425233644859813, total=18.3min\n",
      "[CV] SMOTE__enn=EditedNearestNeighbours(kind_sel='mode', n_jobs=1, n_neighbors=5,\n",
      "            random_state=None, ratio='auto', return_indices=False,\n",
      "            size_ngh=None), SMOTE__smote=SMOTE(k=None, k_neighbors=5, kind='borderline2', m=None, m_neighbors=10,\n",
      "   n_jobs=1, out_step=0.5, random_state=None, ratio='auto',\n",
      "   svm_estimator=None), SVC__C=10, SVC__kernel=linear \n",
      "[CV]  SMOTE__enn=EditedNearestNeighbours(kind_sel='mode', n_jobs=1, n_neighbors=5,\n",
      "            random_state=None, ratio='auto', return_indices=False,\n",
      "            size_ngh=None), SMOTE__smote=SMOTE(k=None, k_neighbors=5, kind='borderline2', m=None, m_neighbors=10,\n",
      "   n_jobs=1, out_step=0.5, random_state=None, ratio='auto',\n",
      "   svm_estimator=None), SVC__C=10, SVC__kernel=linear, score=0.8520249221183801, total=20.3min\n",
      "[CV] SMOTE__enn=EditedNearestNeighbours(kind_sel='mode', n_jobs=1, n_neighbors=5,\n",
      "            random_state=None, ratio='auto', return_indices=False,\n",
      "            size_ngh=None), SMOTE__smote=SMOTE(k=None, k_neighbors=5, kind='borderline2', m=None, m_neighbors=10,\n",
      "   n_jobs=1, out_step=0.5, random_state=None, ratio='auto',\n",
      "   svm_estimator=None), SVC__C=100, SVC__kernel=linear \n"
     ]
    },
    {
     "name": "stderr",
     "output_type": "stream",
     "text": [
      "[Parallel(n_jobs=2)]: Done  14 tasks      | elapsed: 118.5min\n"
     ]
    },
    {
     "name": "stdout",
     "output_type": "stream",
     "text": [
      "[CV]  SMOTE__enn=EditedNearestNeighbours(kind_sel='mode', n_jobs=1, n_neighbors=5,\n",
      "            random_state=None, ratio='auto', return_indices=False,\n",
      "            size_ngh=None), SMOTE__smote=SMOTE(k=None, k_neighbors=5, kind='borderline2', m=None, m_neighbors=10,\n",
      "   n_jobs=1, out_step=0.5, random_state=None, ratio='auto',\n",
      "   svm_estimator=None), SVC__C=10, SVC__kernel=linear, score=0.8589903396696791, total=21.3min\n",
      "[CV] SMOTE__enn=EditedNearestNeighbours(kind_sel='mode', n_jobs=1, n_neighbors=5,\n",
      "            random_state=None, ratio='auto', return_indices=False,\n",
      "            size_ngh=None), SMOTE__smote=SMOTE(k=None, k_neighbors=5, kind='borderline2', m=None, m_neighbors=10,\n",
      "   n_jobs=1, out_step=0.5, random_state=None, ratio='auto',\n",
      "   svm_estimator=None), SVC__C=100, SVC__kernel=linear \n",
      "[CV]  SMOTE__enn=EditedNearestNeighbours(kind_sel='mode', n_jobs=1, n_neighbors=5,\n",
      "            random_state=None, ratio='auto', return_indices=False,\n",
      "            size_ngh=None), SMOTE__smote=SMOTE(k=None, k_neighbors=5, kind='borderline2', m=None, m_neighbors=10,\n",
      "   n_jobs=1, out_step=0.5, random_state=None, ratio='auto',\n",
      "   svm_estimator=None), SVC__C=100, SVC__kernel=linear, score=0.8281931464174455, total=28.2min\n",
      "[CV] SMOTE__enn=EditedNearestNeighbours(kind_sel='mode', n_jobs=1, n_neighbors=5,\n",
      "            random_state=None, ratio='auto', return_indices=False,\n",
      "            size_ngh=None), SMOTE__smote=SMOTE(k=None, k_neighbors=5, kind='borderline2', m=None, m_neighbors=10,\n",
      "   n_jobs=1, out_step=0.5, random_state=None, ratio='auto',\n",
      "   svm_estimator=None), SVC__C=100, SVC__kernel=linear \n",
      "[CV]  SMOTE__enn=EditedNearestNeighbours(kind_sel='mode', n_jobs=1, n_neighbors=5,\n",
      "            random_state=None, ratio='auto', return_indices=False,\n",
      "            size_ngh=None), SMOTE__smote=SMOTE(k=None, k_neighbors=5, kind='borderline2', m=None, m_neighbors=10,\n",
      "   n_jobs=1, out_step=0.5, random_state=None, ratio='auto',\n",
      "   svm_estimator=None), SVC__C=100, SVC__kernel=linear, score=0.8423184792770333, total=38.6min\n",
      "[CV] SMOTE__enn=EditedNearestNeighbours(kind_sel='mode', n_jobs=1, n_neighbors=7,\n",
      "            random_state=None, ratio='auto', return_indices=False,\n",
      "            size_ngh=None), SMOTE__smote=SMOTE(k=None, k_neighbors=5, kind='borderline2', m=None, m_neighbors=10,\n",
      "   n_jobs=1, out_step=0.5, random_state=None, ratio='auto',\n",
      "   svm_estimator=None), SVC__C=1, SVC__gamma=0.001, SVC__kernel=rbf \n",
      "[CV]  SMOTE__enn=EditedNearestNeighbours(kind_sel='mode', n_jobs=1, n_neighbors=7,\n",
      "            random_state=None, ratio='auto', return_indices=False,\n",
      "            size_ngh=None), SMOTE__smote=SMOTE(k=None, k_neighbors=5, kind='borderline2', m=None, m_neighbors=10,\n",
      "   n_jobs=1, out_step=0.5, random_state=None, ratio='auto',\n",
      "   svm_estimator=None), SVC__C=1, SVC__gamma=0.001, SVC__kernel=rbf, score=0.7777258566978194, total=11.4min\n",
      "[CV] SMOTE__enn=EditedNearestNeighbours(kind_sel='mode', n_jobs=1, n_neighbors=7,\n",
      "            random_state=None, ratio='auto', return_indices=False,\n",
      "            size_ngh=None), SMOTE__smote=SMOTE(k=None, k_neighbors=5, kind='borderline2', m=None, m_neighbors=10,\n",
      "   n_jobs=1, out_step=0.5, random_state=None, ratio='auto',\n",
      "   svm_estimator=None), SVC__C=1, SVC__gamma=0.001, SVC__kernel=rbf \n",
      "[CV]  SMOTE__enn=EditedNearestNeighbours(kind_sel='mode', n_jobs=1, n_neighbors=7,\n",
      "            random_state=None, ratio='auto', return_indices=False,\n",
      "            size_ngh=None), SMOTE__smote=SMOTE(k=None, k_neighbors=5, kind='borderline2', m=None, m_neighbors=10,\n",
      "   n_jobs=1, out_step=0.5, random_state=None, ratio='auto',\n",
      "   svm_estimator=None), SVC__C=1, SVC__gamma=0.001, SVC__kernel=rbf, score=0.8281931464174455, total=11.0min\n",
      "[CV] SMOTE__enn=EditedNearestNeighbours(kind_sel='mode', n_jobs=1, n_neighbors=7,\n",
      "            random_state=None, ratio='auto', return_indices=False,\n",
      "            size_ngh=None), SMOTE__smote=SMOTE(k=None, k_neighbors=5, kind='borderline2', m=None, m_neighbors=10,\n",
      "   n_jobs=1, out_step=0.5, random_state=None, ratio='auto',\n",
      "   svm_estimator=None), SVC__C=1, SVC__gamma=0.001, SVC__kernel=rbf \n",
      "[CV]  SMOTE__enn=EditedNearestNeighbours(kind_sel='mode', n_jobs=1, n_neighbors=7,\n",
      "            random_state=None, ratio='auto', return_indices=False,\n",
      "            size_ngh=None), SMOTE__smote=SMOTE(k=None, k_neighbors=5, kind='borderline2', m=None, m_neighbors=10,\n",
      "   n_jobs=1, out_step=0.5, random_state=None, ratio='auto',\n",
      "   svm_estimator=None), SVC__C=1, SVC__gamma=0.001, SVC__kernel=rbf, score=0.7773449672795263, total=11.4min\n",
      "[CV] SMOTE__enn=EditedNearestNeighbours(kind_sel='mode', n_jobs=1, n_neighbors=7,\n",
      "            random_state=None, ratio='auto', return_indices=False,\n",
      "            size_ngh=None), SMOTE__smote=SMOTE(k=None, k_neighbors=5, kind='borderline2', m=None, m_neighbors=10,\n",
      "   n_jobs=1, out_step=0.5, random_state=None, ratio='auto',\n",
      "   svm_estimator=None), SVC__C=1, SVC__gamma=0.01, SVC__kernel=rbf \n",
      "[CV]  SMOTE__enn=EditedNearestNeighbours(kind_sel='mode', n_jobs=1, n_neighbors=7,\n",
      "            random_state=None, ratio='auto', return_indices=False,\n",
      "            size_ngh=None), SMOTE__smote=SMOTE(k=None, k_neighbors=5, kind='borderline2', m=None, m_neighbors=10,\n",
      "   n_jobs=1, out_step=0.5, random_state=None, ratio='auto',\n",
      "   svm_estimator=None), SVC__C=1, SVC__gamma=0.01, SVC__kernel=rbf, score=0.8897196261682243, total= 8.4min\n",
      "[CV] SMOTE__enn=EditedNearestNeighbours(kind_sel='mode', n_jobs=1, n_neighbors=7,\n",
      "            random_state=None, ratio='auto', return_indices=False,\n",
      "            size_ngh=None), SMOTE__smote=SMOTE(k=None, k_neighbors=5, kind='borderline2', m=None, m_neighbors=10,\n",
      "   n_jobs=1, out_step=0.5, random_state=None, ratio='auto',\n",
      "   svm_estimator=None), SVC__C=1, SVC__gamma=0.01, SVC__kernel=rbf \n"
     ]
    },
    {
     "name": "stderr",
     "output_type": "stream",
     "text": [
      "[Parallel(n_jobs=2)]: Done  21 tasks      | elapsed: 236.4min\n"
     ]
    },
    {
     "name": "stdout",
     "output_type": "stream",
     "text": [
      "[CV]  SMOTE__enn=EditedNearestNeighbours(kind_sel='mode', n_jobs=1, n_neighbors=7,\n",
      "            random_state=None, ratio='auto', return_indices=False,\n",
      "            size_ngh=None), SMOTE__smote=SMOTE(k=None, k_neighbors=5, kind='borderline2', m=None, m_neighbors=10,\n",
      "   n_jobs=1, out_step=0.5, random_state=None, ratio='auto',\n",
      "   svm_estimator=None), SVC__C=1, SVC__gamma=0.01, SVC__kernel=rbf, score=0.8786604361370717, total= 9.3min\n",
      "[CV] SMOTE__enn=EditedNearestNeighbours(kind_sel='mode', n_jobs=1, n_neighbors=7,\n",
      "            random_state=None, ratio='auto', return_indices=False,\n",
      "            size_ngh=None), SMOTE__smote=SMOTE(k=None, k_neighbors=5, kind='borderline2', m=None, m_neighbors=10,\n",
      "   n_jobs=1, out_step=0.5, random_state=None, ratio='auto',\n",
      "   svm_estimator=None), SVC__C=1, SVC__gamma=0.01, SVC__kernel=rbf \n",
      "[CV]  SMOTE__enn=EditedNearestNeighbours(kind_sel='mode', n_jobs=1, n_neighbors=5,\n",
      "            random_state=None, ratio='auto', return_indices=False,\n",
      "            size_ngh=None), SMOTE__smote=SMOTE(k=None, k_neighbors=5, kind='borderline2', m=None, m_neighbors=10,\n",
      "   n_jobs=1, out_step=0.5, random_state=None, ratio='auto',\n",
      "   svm_estimator=None), SVC__C=100, SVC__kernel=linear, score=0.8588785046728972, total=111.0min\n",
      "[CV] SMOTE__enn=EditedNearestNeighbours(kind_sel='mode', n_jobs=1, n_neighbors=7,\n",
      "            random_state=None, ratio='auto', return_indices=False,\n",
      "            size_ngh=None), SMOTE__smote=SMOTE(k=None, k_neighbors=5, kind='borderline2', m=None, m_neighbors=10,\n",
      "   n_jobs=1, out_step=0.5, random_state=None, ratio='auto',\n",
      "   svm_estimator=None), SVC__C=1, SVC__gamma=0.1, SVC__kernel=rbf \n",
      "[CV]  SMOTE__enn=EditedNearestNeighbours(kind_sel='mode', n_jobs=1, n_neighbors=7,\n",
      "            random_state=None, ratio='auto', return_indices=False,\n",
      "            size_ngh=None), SMOTE__smote=SMOTE(k=None, k_neighbors=5, kind='borderline2', m=None, m_neighbors=10,\n",
      "   n_jobs=1, out_step=0.5, random_state=None, ratio='auto',\n",
      "   svm_estimator=None), SVC__C=1, SVC__gamma=0.01, SVC__kernel=rbf, score=0.8736366469305079, total= 9.3min\n",
      "[CV] SMOTE__enn=EditedNearestNeighbours(kind_sel='mode', n_jobs=1, n_neighbors=7,\n",
      "            random_state=None, ratio='auto', return_indices=False,\n",
      "            size_ngh=None), SMOTE__smote=SMOTE(k=None, k_neighbors=5, kind='borderline2', m=None, m_neighbors=10,\n",
      "   n_jobs=1, out_step=0.5, random_state=None, ratio='auto',\n",
      "   svm_estimator=None), SVC__C=1, SVC__gamma=0.1, SVC__kernel=rbf \n",
      "[CV]  SMOTE__enn=EditedNearestNeighbours(kind_sel='mode', n_jobs=1, n_neighbors=7,\n",
      "            random_state=None, ratio='auto', return_indices=False,\n",
      "            size_ngh=None), SMOTE__smote=SMOTE(k=None, k_neighbors=5, kind='borderline2', m=None, m_neighbors=10,\n",
      "   n_jobs=1, out_step=0.5, random_state=None, ratio='auto',\n",
      "   svm_estimator=None), SVC__C=1, SVC__gamma=0.1, SVC__kernel=rbf, score=0.8978193146417446, total=13.7min\n",
      "[CV] SMOTE__enn=EditedNearestNeighbours(kind_sel='mode', n_jobs=1, n_neighbors=7,\n",
      "            random_state=None, ratio='auto', return_indices=False,\n",
      "            size_ngh=None), SMOTE__smote=SMOTE(k=None, k_neighbors=5, kind='borderline2', m=None, m_neighbors=10,\n",
      "   n_jobs=1, out_step=0.5, random_state=None, ratio='auto',\n",
      "   svm_estimator=None), SVC__C=1, SVC__gamma=0.1, SVC__kernel=rbf \n",
      "[CV]  SMOTE__enn=EditedNearestNeighbours(kind_sel='mode', n_jobs=1, n_neighbors=7,\n",
      "            random_state=None, ratio='auto', return_indices=False,\n",
      "            size_ngh=None), SMOTE__smote=SMOTE(k=None, k_neighbors=5, kind='borderline2', m=None, m_neighbors=10,\n",
      "   n_jobs=1, out_step=0.5, random_state=None, ratio='auto',\n",
      "   svm_estimator=None), SVC__C=1, SVC__gamma=0.1, SVC__kernel=rbf, score=0.9116822429906543, total=13.6min\n",
      "[CV] SMOTE__enn=EditedNearestNeighbours(kind_sel='mode', n_jobs=1, n_neighbors=7,\n",
      "            random_state=None, ratio='auto', return_indices=False,\n",
      "            size_ngh=None), SMOTE__smote=SMOTE(k=None, k_neighbors=5, kind='borderline2', m=None, m_neighbors=10,\n",
      "   n_jobs=1, out_step=0.5, random_state=None, ratio='auto',\n",
      "   svm_estimator=None), SVC__C=10, SVC__gamma=0.001, SVC__kernel=rbf \n",
      "[CV]  SMOTE__enn=EditedNearestNeighbours(kind_sel='mode', n_jobs=1, n_neighbors=7,\n",
      "            random_state=None, ratio='auto', return_indices=False,\n",
      "            size_ngh=None), SMOTE__smote=SMOTE(k=None, k_neighbors=5, kind='borderline2', m=None, m_neighbors=10,\n",
      "   n_jobs=1, out_step=0.5, random_state=None, ratio='auto',\n",
      "   svm_estimator=None), SVC__C=1, SVC__gamma=0.1, SVC__kernel=rbf, score=0.9015269554378311, total=13.6min\n",
      "[CV] SMOTE__enn=EditedNearestNeighbours(kind_sel='mode', n_jobs=1, n_neighbors=7,\n",
      "            random_state=None, ratio='auto', return_indices=False,\n",
      "            size_ngh=None), SMOTE__smote=SMOTE(k=None, k_neighbors=5, kind='borderline2', m=None, m_neighbors=10,\n",
      "   n_jobs=1, out_step=0.5, random_state=None, ratio='auto',\n",
      "   svm_estimator=None), SVC__C=10, SVC__gamma=0.001, SVC__kernel=rbf \n",
      "[CV]  SMOTE__enn=EditedNearestNeighbours(kind_sel='mode', n_jobs=1, n_neighbors=7,\n",
      "            random_state=None, ratio='auto', return_indices=False,\n",
      "            size_ngh=None), SMOTE__smote=SMOTE(k=None, k_neighbors=5, kind='borderline2', m=None, m_neighbors=10,\n",
      "   n_jobs=1, out_step=0.5, random_state=None, ratio='auto',\n",
      "   svm_estimator=None), SVC__C=10, SVC__gamma=0.001, SVC__kernel=rbf, score=0.8362928348909657, total= 9.5min\n",
      "[CV] SMOTE__enn=EditedNearestNeighbours(kind_sel='mode', n_jobs=1, n_neighbors=7,\n",
      "            random_state=None, ratio='auto', return_indices=False,\n",
      "            size_ngh=None), SMOTE__smote=SMOTE(k=None, k_neighbors=5, kind='borderline2', m=None, m_neighbors=10,\n",
      "   n_jobs=1, out_step=0.5, random_state=None, ratio='auto',\n",
      "   svm_estimator=None), SVC__C=10, SVC__gamma=0.001, SVC__kernel=rbf \n"
     ]
    },
    {
     "name": "stderr",
     "output_type": "stream",
     "text": [
      "[Parallel(n_jobs=2)]: Done  28 tasks      | elapsed: 282.5min\n"
     ]
    },
    {
     "name": "stdout",
     "output_type": "stream",
     "text": [
      "[CV]  SMOTE__enn=EditedNearestNeighbours(kind_sel='mode', n_jobs=1, n_neighbors=7,\n",
      "            random_state=None, ratio='auto', return_indices=False,\n",
      "            size_ngh=None), SMOTE__smote=SMOTE(k=None, k_neighbors=5, kind='borderline2', m=None, m_neighbors=10,\n",
      "   n_jobs=1, out_step=0.5, random_state=None, ratio='auto',\n",
      "   svm_estimator=None), SVC__C=10, SVC__gamma=0.001, SVC__kernel=rbf, score=0.8714953271028038, total= 9.0min\n",
      "[CV] SMOTE__enn=EditedNearestNeighbours(kind_sel='mode', n_jobs=1, n_neighbors=7,\n",
      "            random_state=None, ratio='auto', return_indices=False,\n",
      "            size_ngh=None), SMOTE__smote=SMOTE(k=None, k_neighbors=5, kind='borderline2', m=None, m_neighbors=10,\n",
      "   n_jobs=1, out_step=0.5, random_state=None, ratio='auto',\n",
      "   svm_estimator=None), SVC__C=10, SVC__gamma=0.01, SVC__kernel=rbf \n",
      "[CV]  SMOTE__enn=EditedNearestNeighbours(kind_sel='mode', n_jobs=1, n_neighbors=7,\n",
      "            random_state=None, ratio='auto', return_indices=False,\n",
      "            size_ngh=None), SMOTE__smote=SMOTE(k=None, k_neighbors=5, kind='borderline2', m=None, m_neighbors=10,\n",
      "   n_jobs=1, out_step=0.5, random_state=None, ratio='auto',\n",
      "   svm_estimator=None), SVC__C=10, SVC__gamma=0.001, SVC__kernel=rbf, score=0.8452789030850733, total= 9.7min\n",
      "[CV] SMOTE__enn=EditedNearestNeighbours(kind_sel='mode', n_jobs=1, n_neighbors=7,\n",
      "            random_state=None, ratio='auto', return_indices=False,\n",
      "            size_ngh=None), SMOTE__smote=SMOTE(k=None, k_neighbors=5, kind='borderline2', m=None, m_neighbors=10,\n",
      "   n_jobs=1, out_step=0.5, random_state=None, ratio='auto',\n",
      "   svm_estimator=None), SVC__C=10, SVC__gamma=0.01, SVC__kernel=rbf \n",
      "[CV]  SMOTE__enn=EditedNearestNeighbours(kind_sel='mode', n_jobs=1, n_neighbors=7,\n",
      "            random_state=None, ratio='auto', return_indices=False,\n",
      "            size_ngh=None), SMOTE__smote=SMOTE(k=None, k_neighbors=5, kind='borderline2', m=None, m_neighbors=10,\n",
      "   n_jobs=1, out_step=0.5, random_state=None, ratio='auto',\n",
      "   svm_estimator=None), SVC__C=10, SVC__gamma=0.01, SVC__kernel=rbf, score=0.9112149532710281, total= 7.3min\n",
      "[CV] SMOTE__enn=EditedNearestNeighbours(kind_sel='mode', n_jobs=1, n_neighbors=7,\n",
      "            random_state=None, ratio='auto', return_indices=False,\n",
      "            size_ngh=None), SMOTE__smote=SMOTE(k=None, k_neighbors=5, kind='borderline2', m=None, m_neighbors=10,\n",
      "   n_jobs=1, out_step=0.5, random_state=None, ratio='auto',\n",
      "   svm_estimator=None), SVC__C=10, SVC__gamma=0.01, SVC__kernel=rbf \n",
      "[CV]  SMOTE__enn=EditedNearestNeighbours(kind_sel='mode', n_jobs=1, n_neighbors=7,\n",
      "            random_state=None, ratio='auto', return_indices=False,\n",
      "            size_ngh=None), SMOTE__smote=SMOTE(k=None, k_neighbors=5, kind='borderline2', m=None, m_neighbors=10,\n",
      "   n_jobs=1, out_step=0.5, random_state=None, ratio='auto',\n",
      "   svm_estimator=None), SVC__C=10, SVC__gamma=0.01, SVC__kernel=rbf, score=0.9085669781931465, total= 8.4min\n",
      "[CV] SMOTE__enn=EditedNearestNeighbours(kind_sel='mode', n_jobs=1, n_neighbors=7,\n",
      "            random_state=None, ratio='auto', return_indices=False,\n",
      "            size_ngh=None), SMOTE__smote=SMOTE(k=None, k_neighbors=5, kind='borderline2', m=None, m_neighbors=10,\n",
      "   n_jobs=1, out_step=0.5, random_state=None, ratio='auto',\n",
      "   svm_estimator=None), SVC__C=10, SVC__gamma=0.1, SVC__kernel=rbf \n",
      "[CV]  SMOTE__enn=EditedNearestNeighbours(kind_sel='mode', n_jobs=1, n_neighbors=7,\n",
      "            random_state=None, ratio='auto', return_indices=False,\n",
      "            size_ngh=None), SMOTE__smote=SMOTE(k=None, k_neighbors=5, kind='borderline2', m=None, m_neighbors=10,\n",
      "   n_jobs=1, out_step=0.5, random_state=None, ratio='auto',\n",
      "   svm_estimator=None), SVC__C=10, SVC__gamma=0.01, SVC__kernel=rbf, score=0.9132128388906201, total= 8.5min\n",
      "[CV] SMOTE__enn=EditedNearestNeighbours(kind_sel='mode', n_jobs=1, n_neighbors=7,\n",
      "            random_state=None, ratio='auto', return_indices=False,\n",
      "            size_ngh=None), SMOTE__smote=SMOTE(k=None, k_neighbors=5, kind='borderline2', m=None, m_neighbors=10,\n",
      "   n_jobs=1, out_step=0.5, random_state=None, ratio='auto',\n",
      "   svm_estimator=None), SVC__C=10, SVC__gamma=0.1, SVC__kernel=rbf \n",
      "[CV]  SMOTE__enn=EditedNearestNeighbours(kind_sel='mode', n_jobs=1, n_neighbors=7,\n",
      "            random_state=None, ratio='auto', return_indices=False,\n",
      "            size_ngh=None), SMOTE__smote=SMOTE(k=None, k_neighbors=5, kind='borderline2', m=None, m_neighbors=10,\n",
      "   n_jobs=1, out_step=0.5, random_state=None, ratio='auto',\n",
      "   svm_estimator=None), SVC__C=10, SVC__gamma=0.1, SVC__kernel=rbf, score=0.9003115264797508, total=13.8min\n",
      "[CV] SMOTE__enn=EditedNearestNeighbours(kind_sel='mode', n_jobs=1, n_neighbors=7,\n",
      "            random_state=None, ratio='auto', return_indices=False,\n",
      "            size_ngh=None), SMOTE__smote=SMOTE(k=None, k_neighbors=5, kind='borderline2', m=None, m_neighbors=10,\n",
      "   n_jobs=1, out_step=0.5, random_state=None, ratio='auto',\n",
      "   svm_estimator=None), SVC__C=10, SVC__gamma=0.1, SVC__kernel=rbf \n",
      "[CV]  SMOTE__enn=EditedNearestNeighbours(kind_sel='mode', n_jobs=1, n_neighbors=7,\n",
      "            random_state=None, ratio='auto', return_indices=False,\n",
      "            size_ngh=None), SMOTE__smote=SMOTE(k=None, k_neighbors=5, kind='borderline2', m=None, m_neighbors=10,\n",
      "   n_jobs=1, out_step=0.5, random_state=None, ratio='auto',\n",
      "   svm_estimator=None), SVC__C=10, SVC__gamma=0.1, SVC__kernel=rbf, score=0.9127725856697819, total=14.0min\n",
      "[CV] SMOTE__enn=EditedNearestNeighbours(kind_sel='mode', n_jobs=1, n_neighbors=7,\n",
      "            random_state=None, ratio='auto', return_indices=False,\n",
      "            size_ngh=None), SMOTE__smote=SMOTE(k=None, k_neighbors=5, kind='borderline2', m=None, m_neighbors=10,\n",
      "   n_jobs=1, out_step=0.5, random_state=None, ratio='auto',\n",
      "   svm_estimator=None), SVC__C=100, SVC__gamma=0.001, SVC__kernel=rbf \n",
      "[CV]  SMOTE__enn=EditedNearestNeighbours(kind_sel='mode', n_jobs=1, n_neighbors=7,\n",
      "            random_state=None, ratio='auto', return_indices=False,\n",
      "            size_ngh=None), SMOTE__smote=SMOTE(k=None, k_neighbors=5, kind='borderline2', m=None, m_neighbors=10,\n",
      "   n_jobs=1, out_step=0.5, random_state=None, ratio='auto',\n",
      "   svm_estimator=None), SVC__C=100, SVC__gamma=0.001, SVC__kernel=rbf, score=0.8789719626168224, total= 7.7min\n",
      "[CV] SMOTE__enn=EditedNearestNeighbours(kind_sel='mode', n_jobs=1, n_neighbors=7,\n",
      "            random_state=None, ratio='auto', return_indices=False,\n",
      "            size_ngh=None), SMOTE__smote=SMOTE(k=None, k_neighbors=5, kind='borderline2', m=None, m_neighbors=10,\n",
      "   n_jobs=1, out_step=0.5, random_state=None, ratio='auto',\n",
      "   svm_estimator=None), SVC__C=100, SVC__gamma=0.001, SVC__kernel=rbf \n",
      "[CV]  SMOTE__enn=EditedNearestNeighbours(kind_sel='mode', n_jobs=1, n_neighbors=7,\n",
      "            random_state=None, ratio='auto', return_indices=False,\n",
      "            size_ngh=None), SMOTE__smote=SMOTE(k=None, k_neighbors=5, kind='borderline2', m=None, m_neighbors=10,\n",
      "   n_jobs=1, out_step=0.5, random_state=None, ratio='auto',\n",
      "   svm_estimator=None), SVC__C=10, SVC__gamma=0.1, SVC__kernel=rbf, score=0.9023060143346837, total=13.7min\n",
      "[CV] SMOTE__enn=EditedNearestNeighbours(kind_sel='mode', n_jobs=1, n_neighbors=7,\n",
      "            random_state=None, ratio='auto', return_indices=False,\n",
      "            size_ngh=None), SMOTE__smote=SMOTE(k=None, k_neighbors=5, kind='borderline2', m=None, m_neighbors=10,\n",
      "   n_jobs=1, out_step=0.5, random_state=None, ratio='auto',\n",
      "   svm_estimator=None), SVC__C=100, SVC__gamma=0.001, SVC__kernel=rbf \n"
     ]
    },
    {
     "name": "stderr",
     "output_type": "stream",
     "text": [
      "[Parallel(n_jobs=2)]: Done  37 tasks      | elapsed: 332.7min\n"
     ]
    },
    {
     "name": "stdout",
     "output_type": "stream",
     "text": [
      "[CV]  SMOTE__enn=EditedNearestNeighbours(kind_sel='mode', n_jobs=1, n_neighbors=7,\n",
      "            random_state=None, ratio='auto', return_indices=False,\n",
      "            size_ngh=None), SMOTE__smote=SMOTE(k=None, k_neighbors=5, kind='borderline2', m=None, m_neighbors=10,\n",
      "   n_jobs=1, out_step=0.5, random_state=None, ratio='auto',\n",
      "   svm_estimator=None), SVC__C=100, SVC__gamma=0.001, SVC__kernel=rbf, score=0.8727414330218068, total= 8.7min\n",
      "[CV] SMOTE__enn=EditedNearestNeighbours(kind_sel='mode', n_jobs=1, n_neighbors=7,\n",
      "            random_state=None, ratio='auto', return_indices=False,\n",
      "            size_ngh=None), SMOTE__smote=SMOTE(k=None, k_neighbors=5, kind='borderline2', m=None, m_neighbors=10,\n",
      "   n_jobs=1, out_step=0.5, random_state=None, ratio='auto',\n",
      "   svm_estimator=None), SVC__C=100, SVC__gamma=0.01, SVC__kernel=rbf \n",
      "[CV]  SMOTE__enn=EditedNearestNeighbours(kind_sel='mode', n_jobs=1, n_neighbors=7,\n",
      "            random_state=None, ratio='auto', return_indices=False,\n",
      "            size_ngh=None), SMOTE__smote=SMOTE(k=None, k_neighbors=5, kind='borderline2', m=None, m_neighbors=10,\n",
      "   n_jobs=1, out_step=0.5, random_state=None, ratio='auto',\n",
      "   svm_estimator=None), SVC__C=100, SVC__gamma=0.001, SVC__kernel=rbf, score=0.8733250233717669, total= 8.6min\n",
      "[CV] SMOTE__enn=EditedNearestNeighbours(kind_sel='mode', n_jobs=1, n_neighbors=7,\n",
      "            random_state=None, ratio='auto', return_indices=False,\n",
      "            size_ngh=None), SMOTE__smote=SMOTE(k=None, k_neighbors=5, kind='borderline2', m=None, m_neighbors=10,\n",
      "   n_jobs=1, out_step=0.5, random_state=None, ratio='auto',\n",
      "   svm_estimator=None), SVC__C=100, SVC__gamma=0.01, SVC__kernel=rbf \n",
      "[CV]  SMOTE__enn=EditedNearestNeighbours(kind_sel='mode', n_jobs=1, n_neighbors=7,\n",
      "            random_state=None, ratio='auto', return_indices=False,\n",
      "            size_ngh=None), SMOTE__smote=SMOTE(k=None, k_neighbors=5, kind='borderline2', m=None, m_neighbors=10,\n",
      "   n_jobs=1, out_step=0.5, random_state=None, ratio='auto',\n",
      "   svm_estimator=None), SVC__C=100, SVC__gamma=0.01, SVC__kernel=rbf, score=0.9172897196261682, total= 7.7min\n",
      "[CV] SMOTE__enn=EditedNearestNeighbours(kind_sel='mode', n_jobs=1, n_neighbors=7,\n",
      "            random_state=None, ratio='auto', return_indices=False,\n",
      "            size_ngh=None), SMOTE__smote=SMOTE(k=None, k_neighbors=5, kind='borderline2', m=None, m_neighbors=10,\n",
      "   n_jobs=1, out_step=0.5, random_state=None, ratio='auto',\n",
      "   svm_estimator=None), SVC__C=100, SVC__gamma=0.01, SVC__kernel=rbf \n",
      "[CV]  SMOTE__enn=EditedNearestNeighbours(kind_sel='mode', n_jobs=1, n_neighbors=7,\n",
      "            random_state=None, ratio='auto', return_indices=False,\n",
      "            size_ngh=None), SMOTE__smote=SMOTE(k=None, k_neighbors=5, kind='borderline2', m=None, m_neighbors=10,\n",
      "   n_jobs=1, out_step=0.5, random_state=None, ratio='auto',\n",
      "   svm_estimator=None), SVC__C=100, SVC__gamma=0.01, SVC__kernel=rbf, score=0.9219626168224299, total= 8.0min\n",
      "[CV] SMOTE__enn=EditedNearestNeighbours(kind_sel='mode', n_jobs=1, n_neighbors=7,\n",
      "            random_state=None, ratio='auto', return_indices=False,\n",
      "            size_ngh=None), SMOTE__smote=SMOTE(k=None, k_neighbors=5, kind='borderline2', m=None, m_neighbors=10,\n",
      "   n_jobs=1, out_step=0.5, random_state=None, ratio='auto',\n",
      "   svm_estimator=None), SVC__C=100, SVC__gamma=0.1, SVC__kernel=rbf \n",
      "[CV]  SMOTE__enn=EditedNearestNeighbours(kind_sel='mode', n_jobs=1, n_neighbors=7,\n",
      "            random_state=None, ratio='auto', return_indices=False,\n",
      "            size_ngh=None), SMOTE__smote=SMOTE(k=None, k_neighbors=5, kind='borderline2', m=None, m_neighbors=10,\n",
      "   n_jobs=1, out_step=0.5, random_state=None, ratio='auto',\n",
      "   svm_estimator=None), SVC__C=100, SVC__gamma=0.01, SVC__kernel=rbf, score=0.9012153318790901, total= 8.3min\n",
      "[CV] SMOTE__enn=EditedNearestNeighbours(kind_sel='mode', n_jobs=1, n_neighbors=7,\n",
      "            random_state=None, ratio='auto', return_indices=False,\n",
      "            size_ngh=None), SMOTE__smote=SMOTE(k=None, k_neighbors=5, kind='borderline2', m=None, m_neighbors=10,\n",
      "   n_jobs=1, out_step=0.5, random_state=None, ratio='auto',\n",
      "   svm_estimator=None), SVC__C=100, SVC__gamma=0.1, SVC__kernel=rbf \n",
      "[CV]  SMOTE__enn=EditedNearestNeighbours(kind_sel='mode', n_jobs=1, n_neighbors=7,\n",
      "            random_state=None, ratio='auto', return_indices=False,\n",
      "            size_ngh=None), SMOTE__smote=SMOTE(k=None, k_neighbors=5, kind='borderline2', m=None, m_neighbors=10,\n",
      "   n_jobs=1, out_step=0.5, random_state=None, ratio='auto',\n",
      "   svm_estimator=None), SVC__C=100, SVC__gamma=0.1, SVC__kernel=rbf, score=0.9021806853582555, total=13.7min\n",
      "[CV] SMOTE__enn=EditedNearestNeighbours(kind_sel='mode', n_jobs=1, n_neighbors=7,\n",
      "            random_state=None, ratio='auto', return_indices=False,\n",
      "            size_ngh=None), SMOTE__smote=SMOTE(k=None, k_neighbors=5, kind='borderline2', m=None, m_neighbors=10,\n",
      "   n_jobs=1, out_step=0.5, random_state=None, ratio='auto',\n",
      "   svm_estimator=None), SVC__C=100, SVC__gamma=0.1, SVC__kernel=rbf \n",
      "[CV]  SMOTE__enn=EditedNearestNeighbours(kind_sel='mode', n_jobs=1, n_neighbors=7,\n",
      "            random_state=None, ratio='auto', return_indices=False,\n",
      "            size_ngh=None), SMOTE__smote=SMOTE(k=None, k_neighbors=5, kind='borderline2', m=None, m_neighbors=10,\n",
      "   n_jobs=1, out_step=0.5, random_state=None, ratio='auto',\n",
      "   svm_estimator=None), SVC__C=100, SVC__gamma=0.1, SVC__kernel=rbf, score=0.914018691588785, total=14.0min\n",
      "[CV] SMOTE__enn=EditedNearestNeighbours(kind_sel='mode', n_jobs=1, n_neighbors=5,\n",
      "            random_state=None, ratio='auto', return_indices=False,\n",
      "            size_ngh=None), SMOTE__smote=SMOTE(k=None, k_neighbors=5, kind='borderline2', m=None, m_neighbors=10,\n",
      "   n_jobs=1, out_step=0.5, random_state=None, ratio='auto',\n",
      "   svm_estimator=None), SVC__C=1, SVC__gamma=0.001, SVC__kernel=rbf \n",
      "[CV]  SMOTE__enn=EditedNearestNeighbours(kind_sel='mode', n_jobs=1, n_neighbors=7,\n",
      "            random_state=None, ratio='auto', return_indices=False,\n",
      "            size_ngh=None), SMOTE__smote=SMOTE(k=None, k_neighbors=5, kind='borderline2', m=None, m_neighbors=10,\n",
      "   n_jobs=1, out_step=0.5, random_state=None, ratio='auto',\n",
      "   svm_estimator=None), SVC__C=100, SVC__gamma=0.1, SVC__kernel=rbf, score=0.9227173574322218, total=16.8min\n",
      "[CV] SMOTE__enn=EditedNearestNeighbours(kind_sel='mode', n_jobs=1, n_neighbors=5,\n",
      "            random_state=None, ratio='auto', return_indices=False,\n",
      "            size_ngh=None), SMOTE__smote=SMOTE(k=None, k_neighbors=5, kind='borderline2', m=None, m_neighbors=10,\n",
      "   n_jobs=1, out_step=0.5, random_state=None, ratio='auto',\n",
      "   svm_estimator=None), SVC__C=1, SVC__gamma=0.001, SVC__kernel=rbf \n",
      "[CV]  SMOTE__enn=EditedNearestNeighbours(kind_sel='mode', n_jobs=1, n_neighbors=5,\n",
      "            random_state=None, ratio='auto', return_indices=False,\n",
      "            size_ngh=None), SMOTE__smote=SMOTE(k=None, k_neighbors=5, kind='borderline2', m=None, m_neighbors=10,\n",
      "   n_jobs=1, out_step=0.5, random_state=None, ratio='auto',\n",
      "   svm_estimator=None), SVC__C=1, SVC__gamma=0.001, SVC__kernel=rbf, score=0.7920560747663551, total=11.6min\n",
      "[CV] SMOTE__enn=EditedNearestNeighbours(kind_sel='mode', n_jobs=1, n_neighbors=5,\n",
      "            random_state=None, ratio='auto', return_indices=False,\n",
      "            size_ngh=None), SMOTE__smote=SMOTE(k=None, k_neighbors=5, kind='borderline2', m=None, m_neighbors=10,\n",
      "   n_jobs=1, out_step=0.5, random_state=None, ratio='auto',\n",
      "   svm_estimator=None), SVC__C=1, SVC__gamma=0.001, SVC__kernel=rbf \n"
     ]
    },
    {
     "name": "stderr",
     "output_type": "stream",
     "text": [
      "[Parallel(n_jobs=2)]: Done  46 tasks      | elapsed: 385.6min\n"
     ]
    },
    {
     "name": "stdout",
     "output_type": "stream",
     "text": [
      "[CV]  SMOTE__enn=EditedNearestNeighbours(kind_sel='mode', n_jobs=1, n_neighbors=5,\n",
      "            random_state=None, ratio='auto', return_indices=False,\n",
      "            size_ngh=None), SMOTE__smote=SMOTE(k=None, k_neighbors=5, kind='borderline2', m=None, m_neighbors=10,\n",
      "   n_jobs=1, out_step=0.5, random_state=None, ratio='auto',\n",
      "   svm_estimator=None), SVC__C=1, SVC__gamma=0.001, SVC__kernel=rbf, score=0.7587227414330218, total=11.7min\n",
      "[CV] SMOTE__enn=EditedNearestNeighbours(kind_sel='mode', n_jobs=1, n_neighbors=5,\n",
      "            random_state=None, ratio='auto', return_indices=False,\n",
      "            size_ngh=None), SMOTE__smote=SMOTE(k=None, k_neighbors=5, kind='borderline2', m=None, m_neighbors=10,\n",
      "   n_jobs=1, out_step=0.5, random_state=None, ratio='auto',\n",
      "   svm_estimator=None), SVC__C=1, SVC__gamma=0.01, SVC__kernel=rbf \n",
      "[CV]  SMOTE__enn=EditedNearestNeighbours(kind_sel='mode', n_jobs=1, n_neighbors=5,\n",
      "            random_state=None, ratio='auto', return_indices=False,\n",
      "            size_ngh=None), SMOTE__smote=SMOTE(k=None, k_neighbors=5, kind='borderline2', m=None, m_neighbors=10,\n",
      "   n_jobs=1, out_step=0.5, random_state=None, ratio='auto',\n",
      "   svm_estimator=None), SVC__C=1, SVC__gamma=0.001, SVC__kernel=rbf, score=0.7930819569959489, total=11.5min\n",
      "[CV] SMOTE__enn=EditedNearestNeighbours(kind_sel='mode', n_jobs=1, n_neighbors=5,\n",
      "            random_state=None, ratio='auto', return_indices=False,\n",
      "            size_ngh=None), SMOTE__smote=SMOTE(k=None, k_neighbors=5, kind='borderline2', m=None, m_neighbors=10,\n",
      "   n_jobs=1, out_step=0.5, random_state=None, ratio='auto',\n",
      "   svm_estimator=None), SVC__C=1, SVC__gamma=0.01, SVC__kernel=rbf \n",
      "[CV]  SMOTE__enn=EditedNearestNeighbours(kind_sel='mode', n_jobs=1, n_neighbors=5,\n",
      "            random_state=None, ratio='auto', return_indices=False,\n",
      "            size_ngh=None), SMOTE__smote=SMOTE(k=None, k_neighbors=5, kind='borderline2', m=None, m_neighbors=10,\n",
      "   n_jobs=1, out_step=0.5, random_state=None, ratio='auto',\n",
      "   svm_estimator=None), SVC__C=1, SVC__gamma=0.01, SVC__kernel=rbf, score=0.8869158878504673, total= 8.2min\n",
      "[CV] SMOTE__enn=EditedNearestNeighbours(kind_sel='mode', n_jobs=1, n_neighbors=5,\n",
      "            random_state=None, ratio='auto', return_indices=False,\n",
      "            size_ngh=None), SMOTE__smote=SMOTE(k=None, k_neighbors=5, kind='borderline2', m=None, m_neighbors=10,\n",
      "   n_jobs=1, out_step=0.5, random_state=None, ratio='auto',\n",
      "   svm_estimator=None), SVC__C=1, SVC__gamma=0.01, SVC__kernel=rbf \n",
      "[CV]  SMOTE__enn=EditedNearestNeighbours(kind_sel='mode', n_jobs=1, n_neighbors=5,\n",
      "            random_state=None, ratio='auto', return_indices=False,\n",
      "            size_ngh=None), SMOTE__smote=SMOTE(k=None, k_neighbors=5, kind='borderline2', m=None, m_neighbors=10,\n",
      "   n_jobs=1, out_step=0.5, random_state=None, ratio='auto',\n",
      "   svm_estimator=None), SVC__C=1, SVC__gamma=0.01, SVC__kernel=rbf, score=0.8813084112149533, total= 9.5min\n",
      "[CV] SMOTE__enn=EditedNearestNeighbours(kind_sel='mode', n_jobs=1, n_neighbors=5,\n",
      "            random_state=None, ratio='auto', return_indices=False,\n",
      "            size_ngh=None), SMOTE__smote=SMOTE(k=None, k_neighbors=5, kind='borderline2', m=None, m_neighbors=10,\n",
      "   n_jobs=1, out_step=0.5, random_state=None, ratio='auto',\n",
      "   svm_estimator=None), SVC__C=1, SVC__gamma=0.1, SVC__kernel=rbf \n",
      "[CV]  SMOTE__enn=EditedNearestNeighbours(kind_sel='mode', n_jobs=1, n_neighbors=5,\n",
      "            random_state=None, ratio='auto', return_indices=False,\n",
      "            size_ngh=None), SMOTE__smote=SMOTE(k=None, k_neighbors=5, kind='borderline2', m=None, m_neighbors=10,\n",
      "   n_jobs=1, out_step=0.5, random_state=None, ratio='auto',\n",
      "   svm_estimator=None), SVC__C=1, SVC__gamma=0.01, SVC__kernel=rbf, score=0.9023060143346837, total= 9.6min\n",
      "[CV] SMOTE__enn=EditedNearestNeighbours(kind_sel='mode', n_jobs=1, n_neighbors=5,\n",
      "            random_state=None, ratio='auto', return_indices=False,\n",
      "            size_ngh=None), SMOTE__smote=SMOTE(k=None, k_neighbors=5, kind='borderline2', m=None, m_neighbors=10,\n",
      "   n_jobs=1, out_step=0.5, random_state=None, ratio='auto',\n",
      "   svm_estimator=None), SVC__C=1, SVC__gamma=0.1, SVC__kernel=rbf \n",
      "[CV]  SMOTE__enn=EditedNearestNeighbours(kind_sel='mode', n_jobs=1, n_neighbors=5,\n",
      "            random_state=None, ratio='auto', return_indices=False,\n",
      "            size_ngh=None), SMOTE__smote=SMOTE(k=None, k_neighbors=5, kind='borderline2', m=None, m_neighbors=10,\n",
      "   n_jobs=1, out_step=0.5, random_state=None, ratio='auto',\n",
      "   svm_estimator=None), SVC__C=1, SVC__gamma=0.1, SVC__kernel=rbf, score=0.9032710280373831, total=26.2min\n",
      "[CV] SMOTE__enn=EditedNearestNeighbours(kind_sel='mode', n_jobs=1, n_neighbors=5,\n",
      "            random_state=None, ratio='auto', return_indices=False,\n",
      "            size_ngh=None), SMOTE__smote=SMOTE(k=None, k_neighbors=5, kind='borderline2', m=None, m_neighbors=10,\n",
      "   n_jobs=1, out_step=0.5, random_state=None, ratio='auto',\n",
      "   svm_estimator=None), SVC__C=1, SVC__gamma=0.1, SVC__kernel=rbf \n",
      "[CV]  SMOTE__enn=EditedNearestNeighbours(kind_sel='mode', n_jobs=1, n_neighbors=5,\n",
      "            random_state=None, ratio='auto', return_indices=False,\n",
      "            size_ngh=None), SMOTE__smote=SMOTE(k=None, k_neighbors=5, kind='borderline2', m=None, m_neighbors=10,\n",
      "   n_jobs=1, out_step=0.5, random_state=None, ratio='auto',\n",
      "   svm_estimator=None), SVC__C=1, SVC__gamma=0.1, SVC__kernel=rbf, score=0.9250778816199376, total=27.4min\n",
      "[CV] SMOTE__enn=EditedNearestNeighbours(kind_sel='mode', n_jobs=1, n_neighbors=5,\n",
      "            random_state=None, ratio='auto', return_indices=False,\n",
      "            size_ngh=None), SMOTE__smote=SMOTE(k=None, k_neighbors=5, kind='borderline2', m=None, m_neighbors=10,\n",
      "   n_jobs=1, out_step=0.5, random_state=None, ratio='auto',\n",
      "   svm_estimator=None), SVC__C=10, SVC__gamma=0.001, SVC__kernel=rbf \n",
      "[CV]  SMOTE__enn=EditedNearestNeighbours(kind_sel='mode', n_jobs=1, n_neighbors=5,\n",
      "            random_state=None, ratio='auto', return_indices=False,\n",
      "            size_ngh=None), SMOTE__smote=SMOTE(k=None, k_neighbors=5, kind='borderline2', m=None, m_neighbors=10,\n",
      "   n_jobs=1, out_step=0.5, random_state=None, ratio='auto',\n",
      "   svm_estimator=None), SVC__C=1, SVC__gamma=0.1, SVC__kernel=rbf, score=0.904799002804612, total=15.0min\n",
      "[CV] SMOTE__enn=EditedNearestNeighbours(kind_sel='mode', n_jobs=1, n_neighbors=5,\n",
      "            random_state=None, ratio='auto', return_indices=False,\n",
      "            size_ngh=None), SMOTE__smote=SMOTE(k=None, k_neighbors=5, kind='borderline2', m=None, m_neighbors=10,\n",
      "   n_jobs=1, out_step=0.5, random_state=None, ratio='auto',\n",
      "   svm_estimator=None), SVC__C=10, SVC__gamma=0.001, SVC__kernel=rbf \n",
      "[CV]  SMOTE__enn=EditedNearestNeighbours(kind_sel='mode', n_jobs=1, n_neighbors=5,\n",
      "            random_state=None, ratio='auto', return_indices=False,\n",
      "            size_ngh=None), SMOTE__smote=SMOTE(k=None, k_neighbors=5, kind='borderline2', m=None, m_neighbors=10,\n",
      "   n_jobs=1, out_step=0.5, random_state=None, ratio='auto',\n",
      "   svm_estimator=None), SVC__C=10, SVC__gamma=0.001, SVC__kernel=rbf, score=0.8403426791277259, total=10.5min\n",
      "[CV] SMOTE__enn=EditedNearestNeighbours(kind_sel='mode', n_jobs=1, n_neighbors=5,\n",
      "            random_state=None, ratio='auto', return_indices=False,\n",
      "            size_ngh=None), SMOTE__smote=SMOTE(k=None, k_neighbors=5, kind='borderline2', m=None, m_neighbors=10,\n",
      "   n_jobs=1, out_step=0.5, random_state=None, ratio='auto',\n",
      "   svm_estimator=None), SVC__C=10, SVC__gamma=0.001, SVC__kernel=rbf \n",
      "[CV]  SMOTE__enn=EditedNearestNeighbours(kind_sel='mode', n_jobs=1, n_neighbors=5,\n",
      "            random_state=None, ratio='auto', return_indices=False,\n",
      "            size_ngh=None), SMOTE__smote=SMOTE(k=None, k_neighbors=5, kind='borderline2', m=None, m_neighbors=10,\n",
      "   n_jobs=1, out_step=0.5, random_state=None, ratio='auto',\n",
      "   svm_estimator=None), SVC__C=10, SVC__gamma=0.001, SVC__kernel=rbf, score=0.8568535825545172, total=11.6min\n",
      "[CV] SMOTE__enn=EditedNearestNeighbours(kind_sel='mode', n_jobs=1, n_neighbors=5,\n",
      "            random_state=None, ratio='auto', return_indices=False,\n",
      "            size_ngh=None), SMOTE__smote=SMOTE(k=None, k_neighbors=5, kind='borderline2', m=None, m_neighbors=10,\n",
      "   n_jobs=1, out_step=0.5, random_state=None, ratio='auto',\n"
     ]
    },
    {
     "name": "stdout",
     "output_type": "stream",
     "text": [
      "   svm_estimator=None), SVC__C=10, SVC__gamma=0.01, SVC__kernel=rbf \n",
      "[CV]  SMOTE__enn=EditedNearestNeighbours(kind_sel='mode', n_jobs=1, n_neighbors=5,\n",
      "            random_state=None, ratio='auto', return_indices=False,\n",
      "            size_ngh=None), SMOTE__smote=SMOTE(k=None, k_neighbors=5, kind='borderline2', m=None, m_neighbors=10,\n",
      "   n_jobs=1, out_step=0.5, random_state=None, ratio='auto',\n",
      "   svm_estimator=None), SVC__C=10, SVC__gamma=0.001, SVC__kernel=rbf, score=0.8493300093487067, total=12.3min\n",
      "[CV] SMOTE__enn=EditedNearestNeighbours(kind_sel='mode', n_jobs=1, n_neighbors=5,\n",
      "            random_state=None, ratio='auto', return_indices=False,\n",
      "            size_ngh=None), SMOTE__smote=SMOTE(k=None, k_neighbors=5, kind='borderline2', m=None, m_neighbors=10,\n",
      "   n_jobs=1, out_step=0.5, random_state=None, ratio='auto',\n",
      "   svm_estimator=None), SVC__C=10, SVC__gamma=0.01, SVC__kernel=rbf \n"
     ]
    },
    {
     "name": "stderr",
     "output_type": "stream",
     "text": [
      "[Parallel(n_jobs=2)]: Done  57 tasks      | elapsed: 473.2min\n"
     ]
    },
    {
     "name": "stdout",
     "output_type": "stream",
     "text": [
      "[CV]  SMOTE__enn=EditedNearestNeighbours(kind_sel='mode', n_jobs=1, n_neighbors=5,\n",
      "            random_state=None, ratio='auto', return_indices=False,\n",
      "            size_ngh=None), SMOTE__smote=SMOTE(k=None, k_neighbors=5, kind='borderline2', m=None, m_neighbors=10,\n",
      "   n_jobs=1, out_step=0.5, random_state=None, ratio='auto',\n",
      "   svm_estimator=None), SVC__C=10, SVC__gamma=0.01, SVC__kernel=rbf, score=0.8996884735202493, total= 9.5min\n",
      "[CV] SMOTE__enn=EditedNearestNeighbours(kind_sel='mode', n_jobs=1, n_neighbors=5,\n",
      "            random_state=None, ratio='auto', return_indices=False,\n",
      "            size_ngh=None), SMOTE__smote=SMOTE(k=None, k_neighbors=5, kind='borderline2', m=None, m_neighbors=10,\n",
      "   n_jobs=1, out_step=0.5, random_state=None, ratio='auto',\n",
      "   svm_estimator=None), SVC__C=10, SVC__gamma=0.01, SVC__kernel=rbf \n",
      "[CV]  SMOTE__enn=EditedNearestNeighbours(kind_sel='mode', n_jobs=1, n_neighbors=5,\n",
      "            random_state=None, ratio='auto', return_indices=False,\n",
      "            size_ngh=None), SMOTE__smote=SMOTE(k=None, k_neighbors=5, kind='borderline2', m=None, m_neighbors=10,\n",
      "   n_jobs=1, out_step=0.5, random_state=None, ratio='auto',\n",
      "   svm_estimator=None), SVC__C=10, SVC__gamma=0.01, SVC__kernel=rbf, score=0.9105919003115265, total= 9.6min\n",
      "[CV] SMOTE__enn=EditedNearestNeighbours(kind_sel='mode', n_jobs=1, n_neighbors=5,\n",
      "            random_state=None, ratio='auto', return_indices=False,\n",
      "            size_ngh=None), SMOTE__smote=SMOTE(k=None, k_neighbors=5, kind='borderline2', m=None, m_neighbors=10,\n",
      "   n_jobs=1, out_step=0.5, random_state=None, ratio='auto',\n",
      "   svm_estimator=None), SVC__C=10, SVC__gamma=0.1, SVC__kernel=rbf \n",
      "[CV]  SMOTE__enn=EditedNearestNeighbours(kind_sel='mode', n_jobs=1, n_neighbors=5,\n",
      "            random_state=None, ratio='auto', return_indices=False,\n",
      "            size_ngh=None), SMOTE__smote=SMOTE(k=None, k_neighbors=5, kind='borderline2', m=None, m_neighbors=10,\n",
      "   n_jobs=1, out_step=0.5, random_state=None, ratio='auto',\n",
      "   svm_estimator=None), SVC__C=10, SVC__gamma=0.01, SVC__kernel=rbf, score=0.8977874727329386, total= 9.4min\n",
      "[CV] SMOTE__enn=EditedNearestNeighbours(kind_sel='mode', n_jobs=1, n_neighbors=5,\n",
      "            random_state=None, ratio='auto', return_indices=False,\n",
      "            size_ngh=None), SMOTE__smote=SMOTE(k=None, k_neighbors=5, kind='borderline2', m=None, m_neighbors=10,\n",
      "   n_jobs=1, out_step=0.5, random_state=None, ratio='auto',\n",
      "   svm_estimator=None), SVC__C=10, SVC__gamma=0.1, SVC__kernel=rbf \n",
      "[CV]  SMOTE__enn=EditedNearestNeighbours(kind_sel='mode', n_jobs=1, n_neighbors=5,\n",
      "            random_state=None, ratio='auto', return_indices=False,\n",
      "            size_ngh=None), SMOTE__smote=SMOTE(k=None, k_neighbors=5, kind='borderline2', m=None, m_neighbors=10,\n",
      "   n_jobs=1, out_step=0.5, random_state=None, ratio='auto',\n",
      "   svm_estimator=None), SVC__C=10, SVC__gamma=0.1, SVC__kernel=rbf, score=0.9165109034267913, total=17.2min\n",
      "[CV] SMOTE__enn=EditedNearestNeighbours(kind_sel='mode', n_jobs=1, n_neighbors=5,\n",
      "            random_state=None, ratio='auto', return_indices=False,\n",
      "            size_ngh=None), SMOTE__smote=SMOTE(k=None, k_neighbors=5, kind='borderline2', m=None, m_neighbors=10,\n",
      "   n_jobs=1, out_step=0.5, random_state=None, ratio='auto',\n",
      "   svm_estimator=None), SVC__C=10, SVC__gamma=0.1, SVC__kernel=rbf \n",
      "[CV]  SMOTE__enn=EditedNearestNeighbours(kind_sel='mode', n_jobs=1, n_neighbors=5,\n",
      "            random_state=None, ratio='auto', return_indices=False,\n",
      "            size_ngh=None), SMOTE__smote=SMOTE(k=None, k_neighbors=5, kind='borderline2', m=None, m_neighbors=10,\n",
      "   n_jobs=1, out_step=0.5, random_state=None, ratio='auto',\n",
      "   svm_estimator=None), SVC__C=10, SVC__gamma=0.1, SVC__kernel=rbf, score=0.9166666666666666, total=16.5min\n",
      "[CV] SMOTE__enn=EditedNearestNeighbours(kind_sel='mode', n_jobs=1, n_neighbors=5,\n",
      "            random_state=None, ratio='auto', return_indices=False,\n",
      "            size_ngh=None), SMOTE__smote=SMOTE(k=None, k_neighbors=5, kind='borderline2', m=None, m_neighbors=10,\n",
      "   n_jobs=1, out_step=0.5, random_state=None, ratio='auto',\n",
      "   svm_estimator=None), SVC__C=100, SVC__gamma=0.001, SVC__kernel=rbf \n",
      "[CV]  SMOTE__enn=EditedNearestNeighbours(kind_sel='mode', n_jobs=1, n_neighbors=5,\n",
      "            random_state=None, ratio='auto', return_indices=False,\n",
      "            size_ngh=None), SMOTE__smote=SMOTE(k=None, k_neighbors=5, kind='borderline2', m=None, m_neighbors=10,\n",
      "   n_jobs=1, out_step=0.5, random_state=None, ratio='auto',\n",
      "   svm_estimator=None), SVC__C=100, SVC__gamma=0.001, SVC__kernel=rbf, score=0.8792834890965732, total= 8.0min\n",
      "[CV] SMOTE__enn=EditedNearestNeighbours(kind_sel='mode', n_jobs=1, n_neighbors=5,\n",
      "            random_state=None, ratio='auto', return_indices=False,\n",
      "            size_ngh=None), SMOTE__smote=SMOTE(k=None, k_neighbors=5, kind='borderline2', m=None, m_neighbors=10,\n",
      "   n_jobs=1, out_step=0.5, random_state=None, ratio='auto',\n",
      "   svm_estimator=None), SVC__C=100, SVC__gamma=0.001, SVC__kernel=rbf \n",
      "[CV]  SMOTE__enn=EditedNearestNeighbours(kind_sel='mode', n_jobs=1, n_neighbors=5,\n",
      "            random_state=None, ratio='auto', return_indices=False,\n",
      "            size_ngh=None), SMOTE__smote=SMOTE(k=None, k_neighbors=5, kind='borderline2', m=None, m_neighbors=10,\n",
      "   n_jobs=1, out_step=0.5, random_state=None, ratio='auto',\n",
      "   svm_estimator=None), SVC__C=10, SVC__gamma=0.1, SVC__kernel=rbf, score=0.9066687441570582, total=15.2min\n",
      "[CV] SMOTE__enn=EditedNearestNeighbours(kind_sel='mode', n_jobs=1, n_neighbors=5,\n",
      "            random_state=None, ratio='auto', return_indices=False,\n",
      "            size_ngh=None), SMOTE__smote=SMOTE(k=None, k_neighbors=5, kind='borderline2', m=None, m_neighbors=10,\n",
      "   n_jobs=1, out_step=0.5, random_state=None, ratio='auto',\n",
      "   svm_estimator=None), SVC__C=100, SVC__gamma=0.001, SVC__kernel=rbf \n",
      "[CV]  SMOTE__enn=EditedNearestNeighbours(kind_sel='mode', n_jobs=1, n_neighbors=5,\n",
      "            random_state=None, ratio='auto', return_indices=False,\n",
      "            size_ngh=None), SMOTE__smote=SMOTE(k=None, k_neighbors=5, kind='borderline2', m=None, m_neighbors=10,\n",
      "   n_jobs=1, out_step=0.5, random_state=None, ratio='auto',\n",
      "   svm_estimator=None), SVC__C=100, SVC__gamma=0.001, SVC__kernel=rbf, score=0.8761682242990654, total= 8.8min\n",
      "[CV] SMOTE__enn=EditedNearestNeighbours(kind_sel='mode', n_jobs=1, n_neighbors=5,\n",
      "            random_state=None, ratio='auto', return_indices=False,\n",
      "            size_ngh=None), SMOTE__smote=SMOTE(k=None, k_neighbors=5, kind='borderline2', m=None, m_neighbors=10,\n",
      "   n_jobs=1, out_step=0.5, random_state=None, ratio='auto',\n",
      "   svm_estimator=None), SVC__C=100, SVC__gamma=0.01, SVC__kernel=rbf \n",
      "[CV]  SMOTE__enn=EditedNearestNeighbours(kind_sel='mode', n_jobs=1, n_neighbors=5,\n",
      "            random_state=None, ratio='auto', return_indices=False,\n",
      "            size_ngh=None), SMOTE__smote=SMOTE(k=None, k_neighbors=5, kind='borderline2', m=None, m_neighbors=10,\n",
      "   n_jobs=1, out_step=0.5, random_state=None, ratio='auto',\n",
      "   svm_estimator=None), SVC__C=100, SVC__gamma=0.001, SVC__kernel=rbf, score=0.8753505765035837, total= 8.7min\n",
      "[CV] SMOTE__enn=EditedNearestNeighbours(kind_sel='mode', n_jobs=1, n_neighbors=5,\n",
      "            random_state=None, ratio='auto', return_indices=False,\n",
      "            size_ngh=None), SMOTE__smote=SMOTE(k=None, k_neighbors=5, kind='borderline2', m=None, m_neighbors=10,\n",
      "   n_jobs=1, out_step=0.5, random_state=None, ratio='auto',\n",
      "   svm_estimator=None), SVC__C=100, SVC__gamma=0.01, SVC__kernel=rbf \n",
      "[CV]  SMOTE__enn=EditedNearestNeighbours(kind_sel='mode', n_jobs=1, n_neighbors=5,\n",
      "            random_state=None, ratio='auto', return_indices=False,\n",
      "            size_ngh=None), SMOTE__smote=SMOTE(k=None, k_neighbors=5, kind='borderline2', m=None, m_neighbors=10,\n",
      "   n_jobs=1, out_step=0.5, random_state=None, ratio='auto',\n",
      "   svm_estimator=None), SVC__C=100, SVC__gamma=0.01, SVC__kernel=rbf, score=0.9038940809968847, total= 8.3min\n",
      "[CV] SMOTE__enn=EditedNearestNeighbours(kind_sel='mode', n_jobs=1, n_neighbors=5,\n",
      "            random_state=None, ratio='auto', return_indices=False,\n",
      "            size_ngh=None), SMOTE__smote=SMOTE(k=None, k_neighbors=5, kind='borderline2', m=None, m_neighbors=10,\n",
      "   n_jobs=1, out_step=0.5, random_state=None, ratio='auto',\n"
     ]
    },
    {
     "name": "stdout",
     "output_type": "stream",
     "text": [
      "   svm_estimator=None), SVC__C=100, SVC__gamma=0.01, SVC__kernel=rbf \n",
      "[CV]  SMOTE__enn=EditedNearestNeighbours(kind_sel='mode', n_jobs=1, n_neighbors=5,\n",
      "            random_state=None, ratio='auto', return_indices=False,\n",
      "            size_ngh=None), SMOTE__smote=SMOTE(k=None, k_neighbors=5, kind='borderline2', m=None, m_neighbors=10,\n",
      "   n_jobs=1, out_step=0.5, random_state=None, ratio='auto',\n",
      "   svm_estimator=None), SVC__C=100, SVC__gamma=0.01, SVC__kernel=rbf, score=0.9213395638629284, total= 7.8min\n",
      "[CV] SMOTE__enn=EditedNearestNeighbours(kind_sel='mode', n_jobs=1, n_neighbors=5,\n",
      "            random_state=None, ratio='auto', return_indices=False,\n",
      "            size_ngh=None), SMOTE__smote=SMOTE(k=None, k_neighbors=5, kind='borderline2', m=None, m_neighbors=10,\n",
      "   n_jobs=1, out_step=0.5, random_state=None, ratio='auto',\n",
      "   svm_estimator=None), SVC__C=100, SVC__gamma=0.1, SVC__kernel=rbf \n"
     ]
    },
    {
     "name": "stderr",
     "output_type": "stream",
     "text": [
      "[Parallel(n_jobs=2)]: Done  68 tasks      | elapsed: 537.0min\n"
     ]
    },
    {
     "name": "stdout",
     "output_type": "stream",
     "text": [
      "[CV]  SMOTE__enn=EditedNearestNeighbours(kind_sel='mode', n_jobs=1, n_neighbors=5,\n",
      "            random_state=None, ratio='auto', return_indices=False,\n",
      "            size_ngh=None), SMOTE__smote=SMOTE(k=None, k_neighbors=5, kind='borderline2', m=None, m_neighbors=10,\n",
      "   n_jobs=1, out_step=0.5, random_state=None, ratio='auto',\n",
      "   svm_estimator=None), SVC__C=100, SVC__gamma=0.01, SVC__kernel=rbf, score=0.9035525085696479, total= 8.3min\n",
      "[CV] SMOTE__enn=EditedNearestNeighbours(kind_sel='mode', n_jobs=1, n_neighbors=5,\n",
      "            random_state=None, ratio='auto', return_indices=False,\n",
      "            size_ngh=None), SMOTE__smote=SMOTE(k=None, k_neighbors=5, kind='borderline2', m=None, m_neighbors=10,\n",
      "   n_jobs=1, out_step=0.5, random_state=None, ratio='auto',\n",
      "   svm_estimator=None), SVC__C=100, SVC__gamma=0.1, SVC__kernel=rbf \n",
      "[CV]  SMOTE__enn=EditedNearestNeighbours(kind_sel='mode', n_jobs=1, n_neighbors=5,\n",
      "            random_state=None, ratio='auto', return_indices=False,\n",
      "            size_ngh=None), SMOTE__smote=SMOTE(k=None, k_neighbors=5, kind='borderline2', m=None, m_neighbors=10,\n",
      "   n_jobs=1, out_step=0.5, random_state=None, ratio='auto',\n",
      "   svm_estimator=None), SVC__C=100, SVC__gamma=0.1, SVC__kernel=rbf, score=0.9165109034267913, total=15.3min\n",
      "[CV] SMOTE__enn=EditedNearestNeighbours(kind_sel='mode', n_jobs=1, n_neighbors=5,\n",
      "            random_state=None, ratio='auto', return_indices=False,\n",
      "            size_ngh=None), SMOTE__smote=SMOTE(k=None, k_neighbors=5, kind='borderline2', m=None, m_neighbors=10,\n",
      "   n_jobs=1, out_step=0.5, random_state=None, ratio='auto',\n",
      "   svm_estimator=None), SVC__C=100, SVC__gamma=0.1, SVC__kernel=rbf \n",
      "[CV]  SMOTE__enn=EditedNearestNeighbours(kind_sel='mode', n_jobs=1, n_neighbors=5,\n",
      "            random_state=None, ratio='auto', return_indices=False,\n",
      "            size_ngh=None), SMOTE__smote=SMOTE(k=None, k_neighbors=5, kind='borderline2', m=None, m_neighbors=10,\n",
      "   n_jobs=1, out_step=0.5, random_state=None, ratio='auto',\n",
      "   svm_estimator=None), SVC__C=100, SVC__gamma=0.1, SVC__kernel=rbf, score=0.9253894080996885, total=15.4min\n",
      "[CV]  SMOTE__enn=EditedNearestNeighbours(kind_sel='mode', n_jobs=1, n_neighbors=5,\n",
      "            random_state=None, ratio='auto', return_indices=False,\n",
      "            size_ngh=None), SMOTE__smote=SMOTE(k=None, k_neighbors=5, kind='borderline2', m=None, m_neighbors=10,\n",
      "   n_jobs=1, out_step=0.5, random_state=None, ratio='auto',\n",
      "   svm_estimator=None), SVC__C=100, SVC__gamma=0.1, SVC__kernel=rbf, score=0.9224057338734808, total=16.2min\n"
     ]
    },
    {
     "name": "stderr",
     "output_type": "stream",
     "text": [
      "[Parallel(n_jobs=2)]: Done  72 out of  72 | elapsed: 571.8min finished\n"
     ]
    },
    {
     "name": "stdout",
     "output_type": "stream",
     "text": [
      "Best Combined Parameters set found on data set:\n",
      "\n",
      "{'SMOTE__enn': EditedNearestNeighbours(kind_sel='mode', n_jobs=1, n_neighbors=5,\n",
      "            random_state=None, ratio='auto', return_indices=False,\n",
      "            size_ngh=None), 'SMOTE__smote': SMOTE(k=None, k_neighbors=5, kind='borderline2', m=None, m_neighbors=10,\n",
      "   n_jobs=1, out_step=0.5, random_state=None, ratio='auto',\n",
      "   svm_estimator=None), 'SVC__C': 100, 'SVC__gamma': 0.1, 'SVC__kernel': 'rbf'}\n",
      "\n",
      "Grid scores on data set:\n",
      "\n",
      "0.848 (+/-0.006) for {'SMOTE__enn': EditedNearestNeighbours(kind_sel='mode', n_jobs=1, n_neighbors=7,\n",
      "            random_state=None, ratio='auto', return_indices=False,\n",
      "            size_ngh=None), 'SMOTE__smote': SMOTE(k=None, k_neighbors=5, kind='borderline2', m=None, m_neighbors=10,\n",
      "   n_jobs=1, out_step=0.5, random_state=None, ratio='auto',\n",
      "   svm_estimator=None), 'SVC__C': 1, 'SVC__kernel': 'linear'}\n",
      "0.846 (+/-0.006) for {'SMOTE__enn': EditedNearestNeighbours(kind_sel='mode', n_jobs=1, n_neighbors=7,\n",
      "            random_state=None, ratio='auto', return_indices=False,\n",
      "            size_ngh=None), 'SMOTE__smote': SMOTE(k=None, k_neighbors=5, kind='borderline2', m=None, m_neighbors=10,\n",
      "   n_jobs=1, out_step=0.5, random_state=None, ratio='auto',\n",
      "   svm_estimator=None), 'SVC__C': 10, 'SVC__kernel': 'linear'}\n",
      "0.836 (+/-0.005) for {'SMOTE__enn': EditedNearestNeighbours(kind_sel='mode', n_jobs=1, n_neighbors=7,\n",
      "            random_state=None, ratio='auto', return_indices=False,\n",
      "            size_ngh=None), 'SMOTE__smote': SMOTE(k=None, k_neighbors=5, kind='borderline2', m=None, m_neighbors=10,\n",
      "   n_jobs=1, out_step=0.5, random_state=None, ratio='auto',\n",
      "   svm_estimator=None), 'SVC__C': 100, 'SVC__kernel': 'linear'}\n",
      "0.849 (+/-0.013) for {'SMOTE__enn': EditedNearestNeighbours(kind_sel='mode', n_jobs=1, n_neighbors=5,\n",
      "            random_state=None, ratio='auto', return_indices=False,\n",
      "            size_ngh=None), 'SMOTE__smote': SMOTE(k=None, k_neighbors=5, kind='borderline2', m=None, m_neighbors=10,\n",
      "   n_jobs=1, out_step=0.5, random_state=None, ratio='auto',\n",
      "   svm_estimator=None), 'SVC__C': 1, 'SVC__kernel': 'linear'}\n",
      "0.851 (+/-0.007) for {'SMOTE__enn': EditedNearestNeighbours(kind_sel='mode', n_jobs=1, n_neighbors=5,\n",
      "            random_state=None, ratio='auto', return_indices=False,\n",
      "            size_ngh=None), 'SMOTE__smote': SMOTE(k=None, k_neighbors=5, kind='borderline2', m=None, m_neighbors=10,\n",
      "   n_jobs=1, out_step=0.5, random_state=None, ratio='auto',\n",
      "   svm_estimator=None), 'SVC__C': 10, 'SVC__kernel': 'linear'}\n",
      "0.843 (+/-0.013) for {'SMOTE__enn': EditedNearestNeighbours(kind_sel='mode', n_jobs=1, n_neighbors=5,\n",
      "            random_state=None, ratio='auto', return_indices=False,\n",
      "            size_ngh=None), 'SMOTE__smote': SMOTE(k=None, k_neighbors=5, kind='borderline2', m=None, m_neighbors=10,\n",
      "   n_jobs=1, out_step=0.5, random_state=None, ratio='auto',\n",
      "   svm_estimator=None), 'SVC__C': 100, 'SVC__kernel': 'linear'}\n",
      "0.794 (+/-0.024) for {'SMOTE__enn': EditedNearestNeighbours(kind_sel='mode', n_jobs=1, n_neighbors=7,\n",
      "            random_state=None, ratio='auto', return_indices=False,\n",
      "            size_ngh=None), 'SMOTE__smote': SMOTE(k=None, k_neighbors=5, kind='borderline2', m=None, m_neighbors=10,\n",
      "   n_jobs=1, out_step=0.5, random_state=None, ratio='auto',\n",
      "   svm_estimator=None), 'SVC__C': 1, 'SVC__gamma': 0.001, 'SVC__kernel': 'rbf'}\n",
      "0.881 (+/-0.007) for {'SMOTE__enn': EditedNearestNeighbours(kind_sel='mode', n_jobs=1, n_neighbors=7,\n",
      "            random_state=None, ratio='auto', return_indices=False,\n",
      "            size_ngh=None), 'SMOTE__smote': SMOTE(k=None, k_neighbors=5, kind='borderline2', m=None, m_neighbors=10,\n",
      "   n_jobs=1, out_step=0.5, random_state=None, ratio='auto',\n",
      "   svm_estimator=None), 'SVC__C': 1, 'SVC__gamma': 0.01, 'SVC__kernel': 'rbf'}\n",
      "0.904 (+/-0.006) for {'SMOTE__enn': EditedNearestNeighbours(kind_sel='mode', n_jobs=1, n_neighbors=7,\n",
      "            random_state=None, ratio='auto', return_indices=False,\n",
      "            size_ngh=None), 'SMOTE__smote': SMOTE(k=None, k_neighbors=5, kind='borderline2', m=None, m_neighbors=10,\n",
      "   n_jobs=1, out_step=0.5, random_state=None, ratio='auto',\n",
      "   svm_estimator=None), 'SVC__C': 1, 'SVC__gamma': 0.1, 'SVC__kernel': 'rbf'}\n",
      "0.851 (+/-0.015) for {'SMOTE__enn': EditedNearestNeighbours(kind_sel='mode', n_jobs=1, n_neighbors=7,\n",
      "            random_state=None, ratio='auto', return_indices=False,\n",
      "            size_ngh=None), 'SMOTE__smote': SMOTE(k=None, k_neighbors=5, kind='borderline2', m=None, m_neighbors=10,\n",
      "   n_jobs=1, out_step=0.5, random_state=None, ratio='auto',\n",
      "   svm_estimator=None), 'SVC__C': 10, 'SVC__gamma': 0.001, 'SVC__kernel': 'rbf'}\n",
      "0.911 (+/-0.002) for {'SMOTE__enn': EditedNearestNeighbours(kind_sel='mode', n_jobs=1, n_neighbors=7,\n",
      "            random_state=None, ratio='auto', return_indices=False,\n",
      "            size_ngh=None), 'SMOTE__smote': SMOTE(k=None, k_neighbors=5, kind='borderline2', m=None, m_neighbors=10,\n",
      "   n_jobs=1, out_step=0.5, random_state=None, ratio='auto',\n",
      "   svm_estimator=None), 'SVC__C': 10, 'SVC__gamma': 0.01, 'SVC__kernel': 'rbf'}\n",
      "0.905 (+/-0.005) for {'SMOTE__enn': EditedNearestNeighbours(kind_sel='mode', n_jobs=1, n_neighbors=7,\n",
      "            random_state=None, ratio='auto', return_indices=False,\n",
      "            size_ngh=None), 'SMOTE__smote': SMOTE(k=None, k_neighbors=5, kind='borderline2', m=None, m_neighbors=10,\n",
      "   n_jobs=1, out_step=0.5, random_state=None, ratio='auto',\n",
      "   svm_estimator=None), 'SVC__C': 10, 'SVC__gamma': 0.1, 'SVC__kernel': 'rbf'}\n",
      "0.875 (+/-0.003) for {'SMOTE__enn': EditedNearestNeighbours(kind_sel='mode', n_jobs=1, n_neighbors=7,\n",
      "            random_state=None, ratio='auto', return_indices=False,\n",
      "            size_ngh=None), 'SMOTE__smote': SMOTE(k=None, k_neighbors=5, kind='borderline2', m=None, m_neighbors=10,\n",
      "   n_jobs=1, out_step=0.5, random_state=None, ratio='auto',\n",
      "   svm_estimator=None), 'SVC__C': 100, 'SVC__gamma': 0.001, 'SVC__kernel': 'rbf'}\n",
      "0.913 (+/-0.009) for {'SMOTE__enn': EditedNearestNeighbours(kind_sel='mode', n_jobs=1, n_neighbors=7,\n",
      "            random_state=None, ratio='auto', return_indices=False,\n",
      "            size_ngh=None), 'SMOTE__smote': SMOTE(k=None, k_neighbors=5, kind='borderline2', m=None, m_neighbors=10,\n",
      "   n_jobs=1, out_step=0.5, random_state=None, ratio='auto',\n",
      "   svm_estimator=None), 'SVC__C': 100, 'SVC__gamma': 0.01, 'SVC__kernel': 'rbf'}\n",
      "0.913 (+/-0.008) for {'SMOTE__enn': EditedNearestNeighbours(kind_sel='mode', n_jobs=1, n_neighbors=7,\n",
      "            random_state=None, ratio='auto', return_indices=False,\n",
      "            size_ngh=None), 'SMOTE__smote': SMOTE(k=None, k_neighbors=5, kind='borderline2', m=None, m_neighbors=10,\n",
      "   n_jobs=1, out_step=0.5, random_state=None, ratio='auto',\n",
      "   svm_estimator=None), 'SVC__C': 100, 'SVC__gamma': 0.1, 'SVC__kernel': 'rbf'}\n",
      "0.781 (+/-0.016) for {'SMOTE__enn': EditedNearestNeighbours(kind_sel='mode', n_jobs=1, n_neighbors=5,\n",
      "            random_state=None, ratio='auto', return_indices=False,\n",
      "            size_ngh=None), 'SMOTE__smote': SMOTE(k=None, k_neighbors=5, kind='borderline2', m=None, m_neighbors=10,\n",
      "   n_jobs=1, out_step=0.5, random_state=None, ratio='auto',\n",
      "   svm_estimator=None), 'SVC__C': 1, 'SVC__gamma': 0.001, 'SVC__kernel': 'rbf'}\n",
      "0.890 (+/-0.009) for {'SMOTE__enn': EditedNearestNeighbours(kind_sel='mode', n_jobs=1, n_neighbors=5,\n",
      "            random_state=None, ratio='auto', return_indices=False,\n",
      "            size_ngh=None), 'SMOTE__smote': SMOTE(k=None, k_neighbors=5, kind='borderline2', m=None, m_neighbors=10,\n",
      "   n_jobs=1, out_step=0.5, random_state=None, ratio='auto',\n",
      "   svm_estimator=None), 'SVC__C': 1, 'SVC__gamma': 0.01, 'SVC__kernel': 'rbf'}\n",
      "0.911 (+/-0.010) for {'SMOTE__enn': EditedNearestNeighbours(kind_sel='mode', n_jobs=1, n_neighbors=5,\n",
      "            random_state=None, ratio='auto', return_indices=False,\n",
      "            size_ngh=None), 'SMOTE__smote': SMOTE(k=None, k_neighbors=5, kind='borderline2', m=None, m_neighbors=10,\n",
      "   n_jobs=1, out_step=0.5, random_state=None, ratio='auto',\n",
      "   svm_estimator=None), 'SVC__C': 1, 'SVC__gamma': 0.1, 'SVC__kernel': 'rbf'}\n",
      "0.849 (+/-0.007) for {'SMOTE__enn': EditedNearestNeighbours(kind_sel='mode', n_jobs=1, n_neighbors=5,\n",
      "            random_state=None, ratio='auto', return_indices=False,\n",
      "            size_ngh=None), 'SMOTE__smote': SMOTE(k=None, k_neighbors=5, kind='borderline2', m=None, m_neighbors=10,\n",
      "   n_jobs=1, out_step=0.5, random_state=None, ratio='auto',\n",
      "   svm_estimator=None), 'SVC__C': 10, 'SVC__gamma': 0.001, 'SVC__kernel': 'rbf'}\n",
      "0.903 (+/-0.006) for {'SMOTE__enn': EditedNearestNeighbours(kind_sel='mode', n_jobs=1, n_neighbors=5,\n",
      "            random_state=None, ratio='auto', return_indices=False,\n",
      "            size_ngh=None), 'SMOTE__smote': SMOTE(k=None, k_neighbors=5, kind='borderline2', m=None, m_neighbors=10,\n",
      "   n_jobs=1, out_step=0.5, random_state=None, ratio='auto',\n",
      "   svm_estimator=None), 'SVC__C': 10, 'SVC__gamma': 0.01, 'SVC__kernel': 'rbf'}\n",
      "0.913 (+/-0.005) for {'SMOTE__enn': EditedNearestNeighbours(kind_sel='mode', n_jobs=1, n_neighbors=5,\n",
      "            random_state=None, ratio='auto', return_indices=False,\n",
      "            size_ngh=None), 'SMOTE__smote': SMOTE(k=None, k_neighbors=5, kind='borderline2', m=None, m_neighbors=10,\n",
      "   n_jobs=1, out_step=0.5, random_state=None, ratio='auto',\n",
      "   svm_estimator=None), 'SVC__C': 10, 'SVC__gamma': 0.1, 'SVC__kernel': 'rbf'}\n",
      "0.877 (+/-0.002) for {'SMOTE__enn': EditedNearestNeighbours(kind_sel='mode', n_jobs=1, n_neighbors=5,\n",
      "            random_state=None, ratio='auto', return_indices=False,\n",
      "            size_ngh=None), 'SMOTE__smote': SMOTE(k=None, k_neighbors=5, kind='borderline2', m=None, m_neighbors=10,\n",
      "   n_jobs=1, out_step=0.5, random_state=None, ratio='auto',\n",
      "   svm_estimator=None), 'SVC__C': 100, 'SVC__gamma': 0.001, 'SVC__kernel': 'rbf'}\n",
      "0.910 (+/-0.008) for {'SMOTE__enn': EditedNearestNeighbours(kind_sel='mode', n_jobs=1, n_neighbors=5,\n",
      "            random_state=None, ratio='auto', return_indices=False,\n",
      "            size_ngh=None), 'SMOTE__smote': SMOTE(k=None, k_neighbors=5, kind='borderline2', m=None, m_neighbors=10,\n",
      "   n_jobs=1, out_step=0.5, random_state=None, ratio='auto',\n",
      "   svm_estimator=None), 'SVC__C': 100, 'SVC__gamma': 0.01, 'SVC__kernel': 'rbf'}\n",
      "0.921 (+/-0.004) for {'SMOTE__enn': EditedNearestNeighbours(kind_sel='mode', n_jobs=1, n_neighbors=5,\n",
      "            random_state=None, ratio='auto', return_indices=False,\n",
      "            size_ngh=None), 'SMOTE__smote': SMOTE(k=None, k_neighbors=5, kind='borderline2', m=None, m_neighbors=10,\n",
      "   n_jobs=1, out_step=0.5, random_state=None, ratio='auto',\n",
      "   svm_estimator=None), 'SVC__C': 100, 'SVC__gamma': 0.1, 'SVC__kernel': 'rbf'}\n",
      "\n"
     ]
    }
   ],
   "source": [
    "# Hyper Parameter Tuning\n",
    "for score in scores:\n",
    "    \n",
    "    with warnings.catch_warnings():\n",
    "        warnings.simplefilter(\"ignore\")\n",
    "        print(\"## Tuning hyper-parameters for {}\".format(score))\n",
    "        print()\n",
    "\n",
    "        if score is \"accuracy\":\n",
    "            scoring = score\n",
    "        else:\n",
    "            scoring = '{}_weighted'.format(score)      \n",
    "        \n",
    "        #### TRAIN COMBINED LH & RH\n",
    "        clf_comb = GridSearchCV(pipeline, param_grid, cv=logo.split(X_comb_train, y_comb_train_bin,groups=groups_kfold), scoring=scoring, n_jobs=2, verbose=10)\n",
    "        clf_comb.fit(X_comb_train, y_comb_train_bin)\n",
    "\n",
    "        print(\"Best Combined Parameters set found on data set:\")\n",
    "        print()\n",
    "        print(clf_comb.best_params_)\n",
    "        print()\n",
    "        print(\"Grid scores on data set:\")\n",
    "        print()\n",
    "        means = clf_comb.cv_results_['mean_test_score']\n",
    "        stds  = clf_comb.cv_results_['std_test_score']\n",
    "        for mean, std, params in zip(means, stds, clf_comb.cv_results_['params']):\n",
    "            print(\"%0.3f (+/-%0.3f) for %r\" % (mean, std, params))\n",
    "        print()"
   ]
  },
  {
   "cell_type": "code",
   "execution_count": 34,
   "metadata": {},
   "outputs": [
    {
     "name": "stdout",
     "output_type": "stream",
     "text": [
      "Comb Validatation Score: 0.826981132075\n",
      "Comb Confustion Matrix:\n",
      " [[3888   29]\n",
      " [ 888  495]]\n",
      "             precision    recall  f1-score   support\n",
      "\n",
      "          0       0.81      0.99      0.89      3917\n",
      "          1       0.94      0.36      0.52      1383\n",
      "\n",
      "avg / total       0.85      0.83      0.80      5300\n",
      "\n",
      "\n"
     ]
    }
   ],
   "source": [
    "from sklearn.metrics import accuracy_score\n",
    "y_comb_true, y_comb_pred = y_comb_val_bin, clf_comb.predict(X_comb_val)\n",
    "\n",
    "print(\"Comb Validatation Score:\", accuracy_score(y_comb_true, y_comb_pred))\n",
    "print(\"Comb Confustion Matrix:\\n\", confusion_matrix(y_comb_true, y_comb_pred))\n",
    "print(classification_report(y_comb_true, y_comb_pred))\n",
    "print()\n"
   ]
  },
  {
   "cell_type": "markdown",
   "metadata": {},
   "source": [
    "### Single Classifier"
   ]
  },
  {
   "cell_type": "code",
   "execution_count": null,
   "metadata": {
    "collapsed": true
   },
   "outputs": [],
   "source": [
    "# steps = [('PCA', PCA(n_components=1500)), ('SMOTE', SMOTE(kind=\"borderline2\")), (\"SVC\", SVC(C=100, gamma=.0001, kernel='rbf', probability=False))]\n",
    "steps = [('SMOTE', SMOTE(kind=\"regular\")), (\"SVC\", SVC(C=100, gamma=.00005, kernel='rbf', probability=False))]\n",
    "pipeline = Pipeline(steps)\n",
    "pipeline.fit(X_comb_train, y_comb_train)"
   ]
  },
  {
   "cell_type": "code",
   "execution_count": null,
   "metadata": {
    "collapsed": true
   },
   "outputs": [],
   "source": [
    "y_comb_true, y_comb_pred = y_comb_val, pipeline.predict(X_comb_val)\n",
    "print(\"Comb Validatation Score:\", accuracy_score(y_comb_true, y_comb_pred))\n",
    "print(\"Comb Confustion Matrix:\\n\", confusion_matrix(y_comb_true, y_comb_pred))\n",
    "print(classification_report(y_comb_true, y_comb_pred))"
   ]
  },
  {
   "cell_type": "code",
   "execution_count": 47,
   "metadata": {
    "collapsed": true
   },
   "outputs": [],
   "source": [
    "window_size = 5\n",
    "y_comb_true_maj = []\n",
    "for i in range(0, y_comb_true.size, window_size):\n",
    "    u, counts = np.unique(y_comb_true[i:i+window_size], return_counts=True)\n",
    "    pred = u[np.argmax(counts)]\n",
    "    y_comb_true_maj.append(pred)\n",
    "    \n",
    "y_comb_true_maj = np.array(y_comb_true_maj)"
   ]
  },
  {
   "cell_type": "code",
   "execution_count": 48,
   "metadata": {
    "collapsed": true
   },
   "outputs": [],
   "source": [
    "y_comb_pred_maj = []\n",
    "for i in range(0, y_comb_pred.size, window_size):\n",
    "    u, counts = np.unique(y_comb_pred[i:i+window_size], return_counts=True)\n",
    "    pred = u[np.argmax(counts)]\n",
    "    y_comb_pred_maj.append(pred)\n",
    "    \n",
    "y_comb_pred_maj = np.array(y_comb_pred_maj)"
   ]
  },
  {
   "cell_type": "code",
   "execution_count": 49,
   "metadata": {},
   "outputs": [
    {
     "name": "stdout",
     "output_type": "stream",
     "text": [
      "rH Validatation Score: 0.831132075472\n",
      "rH Confustion Matrix:\n",
      " [[780   3]\n",
      " [176 101]]\n",
      "             precision    recall  f1-score   support\n",
      "\n",
      "          0       0.82      1.00      0.90       783\n",
      "          1       0.97      0.36      0.53       277\n",
      "\n",
      "avg / total       0.86      0.83      0.80      1060\n",
      "\n"
     ]
    }
   ],
   "source": [
    "print(\"rH Validatation Score:\", accuracy_score(y_comb_true_maj, y_comb_pred_maj))\n",
    "print(\"rH Confustion Matrix:\\n\", confusion_matrix(y_comb_true_maj, y_comb_pred_maj))\n",
    "print(classification_report(y_comb_true_maj, y_comb_pred_maj))"
   ]
  },
  {
   "cell_type": "markdown",
   "metadata": {
    "collapsed": true
   },
   "source": [
    "### Cross Validation"
   ]
  },
  {
   "cell_type": "code",
   "execution_count": null,
   "metadata": {
    "collapsed": true
   },
   "outputs": [],
   "source": [
    "from sklearn.model_selection import cross_val_score, cross_validate"
   ]
  },
  {
   "cell_type": "code",
   "execution_count": null,
   "metadata": {
    "collapsed": true
   },
   "outputs": [],
   "source": [
    "X_comb_all_cv = np.vstack((X_comb_train, X_comb_val))\n",
    "y_comb_all_cv = np.hstack((y_comb_train, y_comb_val))\n",
    "filenames_comb_all_cv = np.hstack((filenames_comb_train, filenames_comb_val))\n",
    "\n",
    "print(\"Combined:\", X_comb_all_cv.shape, y_comb_all_cv.shape)\n",
    "print(np.unique(y_comb_all_cv, return_counts=True))\n",
    "print(filenames_comb_all_cv.shape)"
   ]
  },
  {
   "cell_type": "code",
   "execution_count": null,
   "metadata": {
    "collapsed": true
   },
   "outputs": [],
   "source": [
    "groups_cv = np.zeros_like(filenames_comb_all_cv, dtype=int)\n",
    "\n",
    "for p in [\"p1\", \"p3\", \"p4\", \"p6\"]:\n",
    "    p_num = int(p[1])\n",
    "    groups_cv[np.where(np.char.find(filenames_comb_all_cv, p) != -1)] = p_num\n",
    "    \n",
    "print(groups_cv.shape)\n",
    "print(np.unique(groups_cv))\n",
    "print(groups_cv)"
   ]
  },
  {
   "cell_type": "code",
   "execution_count": null,
   "metadata": {
    "collapsed": true
   },
   "outputs": [],
   "source": [
    "steps = [('SMOTE', SMOTE(kind=\"borderline2\")), (\"SVC\", SVC(C=1, gamma=.001, kernel='rbf', probability=False))]\n",
    "pipeline = Pipeline(steps)\n",
    "scoring = (\"f1_macro\", \"accuracy\")\n",
    "logo = LeaveOneGroupOut()\n",
    "scores = cross_validate(pipeline, X_comb_all_cv, y_comb_all_cv, cv=logo.get_n_splits(groups=groups_cv), scoring=scoring, n_jobs=2, verbose=2)"
   ]
  },
  {
   "cell_type": "code",
   "execution_count": null,
   "metadata": {
    "collapsed": true
   },
   "outputs": [],
   "source": [
    "print(scores)"
   ]
  },
  {
   "cell_type": "code",
   "execution_count": null,
   "metadata": {
    "collapsed": true
   },
   "outputs": [],
   "source": [
    "for k, v in scores.items():\n",
    "    print(k, v)"
   ]
  },
  {
   "cell_type": "code",
   "execution_count": null,
   "metadata": {
    "collapsed": true
   },
   "outputs": [],
   "source": [
    "steps = [('SMOTE', SMOTE(kind=\"borderline2\")), (\"SVC\", SVC(C=1, gamma=.001, kernel='rbf', probability=False))]\n",
    "pipeline = Pipeline(steps)\n",
    "scoring = (\"f1_macro\", \"accuracy\")\n",
    "logo = LeaveOneGroupOut()\n",
    "scores = cross_validate(pipeline, X_comb_all_cv, y_comb_all_cv, cv=logo.split(X_comb_all_cv, y_comb_all_cv, groups=groups_cv), scoring=scoring, n_jobs=2, verbose=3)"
   ]
  },
  {
   "cell_type": "code",
   "execution_count": null,
   "metadata": {
    "collapsed": true
   },
   "outputs": [],
   "source": [
    "for k, v in scores.items():\n",
    "    print(k, v)"
   ]
  },
  {
   "cell_type": "code",
   "execution_count": null,
   "metadata": {
    "collapsed": true
   },
   "outputs": [],
   "source": [
    "logo.split(X_comb_all_cv, y_comb_all_cv, groups=groups_cv)"
   ]
  },
  {
   "cell_type": "code",
   "execution_count": null,
   "metadata": {
    "collapsed": true
   },
   "outputs": [],
   "source": []
  }
 ],
 "metadata": {
  "kernelspec": {
   "display_name": "Python 3",
   "language": "python",
   "name": "python3"
  },
  "language_info": {
   "codemirror_mode": {
    "name": "ipython",
    "version": 3
   },
   "file_extension": ".py",
   "mimetype": "text/x-python",
   "name": "python",
   "nbconvert_exporter": "python",
   "pygments_lexer": "ipython3",
   "version": "3.6.1"
  },
  "toc": {
   "nav_menu": {
    "height": "172px",
    "width": "169px"
   },
   "number_sections": true,
   "sideBar": true,
   "skip_h1_title": false,
   "toc_cell": false,
   "toc_position": {},
   "toc_section_display": "block",
   "toc_window_display": false
  }
 },
 "nbformat": 4,
 "nbformat_minor": 2
}
