{
 "cells": [
  {
   "cell_type": "markdown",
   "metadata": {},
   "source": [
    "# Virtual Piano Tutor"
   ]
  },
  {
   "cell_type": "markdown",
   "metadata": {
    "heading_collapsed": true
   },
   "source": [
    "## Project Description\n",
    "\n",
    "This is a notebook for tracking my progress on VPT...\n",
    "\n",
    "- Best Classifier as of 11/30\n",
    "    - SVM {'C': 100, 'gamma': 0.1, 'kernel': 'rbf'}"
   ]
  },
  {
   "cell_type": "markdown",
   "metadata": {
    "heading_collapsed": true
   },
   "source": [
    "## TODO List"
   ]
  },
  {
   "cell_type": "markdown",
   "metadata": {
    "hidden": true
   },
   "source": [
    "- TODAY\n",
    "    - Decide on RDF model to keep for rest of project\n",
    "    - Work on RDF data and annotations\n",
    "    - Add results to file\n",
    "    - Rewrite RDF for GridSearchCV\n",
    "        - Extend RDF\n",
    "    - Work on ideas for paper\n",
    "        - Visualizations\n",
    "    - Play with CAE\n",
    "    - How to automate this...\n",
    "    - Windowing/Summarizing\n",
    "    \n",
    "- DONE\n",
    "    - ~~Organize RDF data~~\n",
    "    - ~~Generate data from already extracted hands...~~\n",
    "    - ~~Get notebook running on Compute Canada~~\n",
    "    - ~~Get data on Compute Canada~~\n",
    "    - ~~Setup CAE to deal with hand images~~\n",
    "    - ~~setup data for training autoencoder on LH and RH~~\n",
    "    - ~~Train Autoencoder for LH and Rh~~\n",
    "    \n",
    "\n",
    "- Bad Segmentation\n",
    "    - p3c - left hand (not terrible)\n",
    "    - p1s - right hand (shouldn't use)\n",
    "    - p5a - Both could use some work but still caputures most of the left hand (RH not so good...)\n",
    "    - p5c - not good (left hand passable...)\n",
    "    \n",
    "- Add noise to CAE\n",
    "    - http://scikit-image.org/docs/dev/api/skimage.util.html#random-noise\n",
    "    \n",
    "- ~~Multiple Participants~~\n",
    "    - ~~have one holdout set participant~~\n",
    "        - ~~Test with p1&2 training p3 testing, then p1&3...~~\n",
    "    - ~~have one holdout set exercise~~\n",
    "\n",
    "- Test with RH too\n",
    "\n",
    "- Windowing data\n",
    "    - Summarize data for classification\n",
    "    - Majority Voting (or with probabilities)\n",
    "\n",
    "- Look for other features\n",
    "    - Others??\n",
    "    - ~~Autoencoder features~~\n",
    "    - ~~HONV~~\n",
    "    \n",
    "- Work on hand segmentation\n",
    "   - See p1e for bad examples\n",
    "   - How to validate segmentation?\n",
    "       - Statistical analysis on length and width ratios\n",
    "       \n",
    "- Visualize !!!\n",
    "    - Input \n",
    "    - Results !!!\n",
    "        - F Scores\n",
    "        - Accuracy\n",
    "        - Try weighted instead of macro\n",
    "\n",
    "\n",
    "\n",
    "\n",
    "- Finish Project Description\n",
    "\n",
    "- ~~Turn into functions~~\n",
    "    \n",
    "- ~~Verify Segmentation~~\n",
    "    - have only done basic verification\n",
    "    \n",
    "- ~~FIRST THING: Test by ignoring training data (p1s) and then using train_test_split on recordings~~\n",
    "    - ~~Data should be ready for spliting~~\n",
    "    \n",
    "- ~~Remove data from testing to find culprit~~\n",
    "    \n",
    "- ~~Track my progress better !!! (duh through notebooks!)~~"
   ]
  },
  {
   "cell_type": "markdown",
   "metadata": {},
   "source": [
    "# Setup"
   ]
  },
  {
   "cell_type": "markdown",
   "metadata": {},
   "source": [
    "## Libraries"
   ]
  },
  {
   "cell_type": "code",
   "execution_count": 1,
   "metadata": {
    "collapsed": true
   },
   "outputs": [],
   "source": [
    "import os\n",
    "\n",
    "%matplotlib inline\n",
    "import matplotlib.pyplot as plt\n",
    "import numpy as np\n",
    "import cv2\n",
    "\n",
    "from vpt.features.features import *\n",
    "import vpt.utils.image_processing as ip\n",
    "import vpt.settings as s\n",
    "import vpt.hand_detection.depth_context_features as dcf\n",
    "\n",
    "%load_ext autoreload\n",
    "%autoreload 2"
   ]
  },
  {
   "cell_type": "markdown",
   "metadata": {},
   "source": [
    "## Some helper functions"
   ]
  },
  {
   "cell_type": "markdown",
   "metadata": {},
   "source": [
    "### Load/Save Data Set"
   ]
  },
  {
   "cell_type": "code",
   "execution_count": 2,
   "metadata": {
    "collapsed": true
   },
   "outputs": [],
   "source": [
    "def load_data(testing_p, M, radius, feature_type, data_type):\n",
    "    base = \"data/posture/extracted/\"\n",
    "    data_path = os.path.join(base, \"{}_M{}_rad{:0.2f}_{}_\".format(testing_p, M, radius, feature_type))\n",
    "    data = np.load(data_path + data_type + \"_data_combined.npz\")    \n",
    "    return data"
   ]
  },
  {
   "cell_type": "markdown",
   "metadata": {},
   "source": [
    "## Project Setup"
   ]
  },
  {
   "cell_type": "markdown",
   "metadata": {},
   "source": [
    "### Generate or Load Data"
   ]
  },
  {
   "cell_type": "code",
   "execution_count": 3,
   "metadata": {},
   "outputs": [
    {
     "name": "stdout",
     "output_type": "stream",
     "text": [
      "X LH (15818, 1089) y LH (15818,) (15818, 180, 180)\n",
      "X RH (15818, 1089) y RH (15818,) (15818, 180, 180)\n",
      "Filenames (15818,)\n"
     ]
    }
   ],
   "source": [
    "#### Load data for a single paricipant\n",
    "M = 5\n",
    "radius = .15\n",
    "feature_type = \"hog\"\n",
    "\n",
    "data = load_data(\"all_participants\", M, radius, feature_type, \"train\")\n",
    "print(\"X LH\", data[\"X_lh\"].shape, \"y LH\", data[\"y_lh\"].shape, data[\"vis_lhs\"].shape)\n",
    "print(\"X RH\", data[\"X_rh\"].shape, \"y RH\", data[\"y_rh\"].shape, data[\"vis_rhs\"].shape)\n",
    "print(\"Filenames\", data[\"filenames\"].shape)"
   ]
  },
  {
   "cell_type": "code",
   "execution_count": 52,
   "metadata": {},
   "outputs": [
    {
     "name": "stdout",
     "output_type": "stream",
     "text": [
      "Cross Val Data:\n",
      "(12262, 1089) (12262,)\n",
      "(12262, 1089) (12262,)\n",
      "(12262,)\n",
      "\n",
      "Validation Data\n",
      "(3556, 1089) (3556,)\n",
      "(3556, 1089) (3556,)\n",
      "(3556,)\n"
     ]
    }
   ],
   "source": [
    "## using p6 for validation\n",
    "r = re.compile('p1')\n",
    "vmatch = np.vectorize(lambda x:bool(r.search(x)))\n",
    "val_p = vmatch(data['filenames'])\n",
    "\n",
    "X_lh = data['X_lh'][~val_p]\n",
    "y_lh = data['y_lh'][~val_p]\n",
    "X_rh = data['X_rh'][~val_p]\n",
    "y_rh = data['y_rh'][~val_p]\n",
    "filenames = data['filenames'][~val_p]\n",
    "\n",
    "\n",
    "X_lh_test = data['X_lh'][val_p]\n",
    "y_lh_test = data['y_lh'][val_p]\n",
    "X_rh_test = data['X_rh'][val_p]\n",
    "y_rh_test = data['y_rh'][val_p]\n",
    "filenames_test = data['filenames'][val_p]\n",
    "\n",
    "print(\"Cross Val Data:\")\n",
    "print(X_lh.shape, y_lh.shape)\n",
    "print(X_rh.shape, y_rh.shape)\n",
    "print(filenames.shape)\n",
    "print()\n",
    "print(\"Validation Data\")\n",
    "print(X_lh_test.shape, y_lh_test.shape)\n",
    "print(X_rh_test.shape, y_rh_test.shape)\n",
    "print(filenames_test.shape)"
   ]
  },
  {
   "cell_type": "code",
   "execution_count": 53,
   "metadata": {},
   "outputs": [
    {
     "name": "stdout",
     "output_type": "stream",
     "text": [
      "(12262,)\n",
      "[1 3 4]\n",
      "[1 1 1 ..., 4 4 4]\n"
     ]
    }
   ],
   "source": [
    "groups = np.zeros_like(filenames, dtype=int)\n",
    "\n",
    "for p in [\"p1\", \"p3\", \"p4\", \"p6\"]:\n",
    "    p_num = int(p[1])\n",
    "    groups[np.where(np.char.find(filenames, p) != -1)] = p_num\n",
    "    \n",
    "print(groups.shape)\n",
    "print(np.unique(groups))\n",
    "print(groups)"
   ]
  },
  {
   "cell_type": "markdown",
   "metadata": {},
   "source": [
    "# Classification"
   ]
  },
  {
   "cell_type": "markdown",
   "metadata": {},
   "source": [
    "### Libraries"
   ]
  },
  {
   "cell_type": "code",
   "execution_count": 10,
   "metadata": {
    "collapsed": true
   },
   "outputs": [],
   "source": [
    "from sklearn.svm import SVC\n",
    "from sklearn.ensemble import RandomForestClassifier\n",
    "from sklearn.metrics import confusion_matrix, classification_report, accuracy_score\n",
    "from sklearn.model_selection import cross_val_score, train_test_split, GridSearchCV, LeaveOneGroupOut\n",
    "from imblearn.pipeline import Pipeline\n",
    "\n",
    "from sklearn.decomposition import PCA\n",
    "\n",
    "from imblearn.over_sampling import SMOTE\n",
    "from imblearn.combine import SMOTEENN"
   ]
  },
  {
   "cell_type": "markdown",
   "metadata": {},
   "source": [
    "## Load Data for Classification"
   ]
  },
  {
   "cell_type": "code",
   "execution_count": 54,
   "metadata": {
    "code_folding": []
   },
   "outputs": [],
   "source": [
    "## find all \"static\" data so we can ignore for now\n",
    "r = re.compile('p[\\d]s')\n",
    "\n",
    "# remove p#s data\n",
    "vmatch = np.vectorize(lambda x:bool(r.search(x)))\n",
    "rem_static = vmatch(filenames)\n",
    "rem_static_test = vmatch(filenames_test)\n",
    "\n",
    "X_lh_train, y_lh_train, filenames_train, groups_train = X_lh[~rem_static], y_lh[~rem_static], filenames[~rem_static], groups[~rem_static]\n",
    "X_rh_train, y_rh_train, filenames_train, groups_train = X_rh[~rem_static], y_rh[~rem_static], filenames[~rem_static], groups[~rem_static]"
   ]
  },
  {
   "cell_type": "code",
   "execution_count": 55,
   "metadata": {
    "collapsed": true
   },
   "outputs": [],
   "source": [
    "X_lh_val, y_lh_val, filenames_val = X_lh_test[~rem_static_test], y_lh_test[~rem_static_test], filenames_test[~rem_static_test]\n",
    "X_rh_val, y_rh_val, filenames_val = X_rh_test[~rem_static_test], y_rh_test[~rem_static_test], filenames_test[~rem_static_test]"
   ]
  },
  {
   "cell_type": "code",
   "execution_count": 56,
   "metadata": {
    "collapsed": true
   },
   "outputs": [],
   "source": [
    "X_comb_train = np.vstack((X_lh_train, X_rh_train))\n",
    "y_comb_train = np.hstack((y_lh_train, y_rh_train))\n",
    "groups_comb_train = np.hstack((groups_train, groups_train))\n",
    "filenames_comb_train = np.hstack((filenames_train, filenames_train))\n",
    "\n",
    "X_comb_val = np.vstack((X_lh_val, X_rh_val))\n",
    "y_comb_val = np.hstack((y_lh_val, y_rh_val))\n",
    "filenames_comb_val = np.hstack((filenames_val, filenames_val))"
   ]
  },
  {
   "cell_type": "code",
   "execution_count": 57,
   "metadata": {},
   "outputs": [
    {
     "name": "stdout",
     "output_type": "stream",
     "text": [
      "Cross Validation Data\n",
      "LH: (9067, 1089) (9067,)\n",
      "(array([0, 1, 2]), array([5088, 2911, 1068]))\n",
      "RH: (9067, 1089) (9067,)\n",
      "(9067,)\n",
      "(9067,)\n",
      "(array([0, 1]), array([7104, 1963]))\n",
      "Combined: (18134, 1089) (18134,)\n",
      "(18134,)\n",
      "(18134,)\n",
      "(array([0, 1, 2]), array([12192,  4874,  1068]))\n",
      "\n",
      "\n",
      "Validation Data\n",
      "LH: (3212, 1089) (3212,)\n",
      "(array([0, 1]), array([3069,  143]))\n",
      "RH: (3212, 1089) (3212,)\n",
      "(array([0, 1, 2]), array([3042,  143,   27]))\n",
      "Combined: (6424, 1089) (6424,)\n",
      "(array([0, 1, 2]), array([6111,  286,   27]))\n",
      "(6424,)\n"
     ]
    }
   ],
   "source": [
    "print(\"Cross Validation Data\")\n",
    "print(\"LH:\", X_lh_train.shape, y_lh_train.shape)\n",
    "print(np.unique(y_lh_train, return_counts=True))\n",
    "print(\"RH:\", X_rh_train.shape, y_rh_train.shape)\n",
    "print(filenames_train.shape)\n",
    "print(groups_train.shape)\n",
    "print(np.unique(y_rh_train, return_counts=True))\n",
    "print(\"Combined:\", X_comb_train.shape, y_comb_train.shape)\n",
    "print(filenames_comb_train.shape)\n",
    "print(groups_comb_train.shape)\n",
    "print(np.unique(y_comb_train, return_counts=True))\n",
    "print()\n",
    "print()\n",
    "print(\"Validation Data\")\n",
    "print(\"LH:\", X_lh_val.shape, y_lh_val.shape)\n",
    "print(np.unique(y_lh_val, return_counts=True))\n",
    "print(\"RH:\", X_rh_val.shape, y_rh_val.shape)\n",
    "print(np.unique(y_rh_val, return_counts=True))\n",
    "print(\"Combined:\", X_comb_val.shape, y_comb_val.shape)\n",
    "print(np.unique(y_comb_val, return_counts=True))\n",
    "print(filenames_comb_val.shape)"
   ]
  },
  {
   "cell_type": "markdown",
   "metadata": {},
   "source": [
    "## Model Testing"
   ]
  },
  {
   "cell_type": "markdown",
   "metadata": {
    "heading_collapsed": true
   },
   "source": [
    "### SVM"
   ]
  },
  {
   "cell_type": "code",
   "execution_count": 17,
   "metadata": {
    "collapsed": true,
    "hidden": true
   },
   "outputs": [],
   "source": [
    "## Parameters for SVMs\n",
    "steps = [('SMOTE', SMOTE()), (\"SVC\", SVC())]\n",
    "param_grid = [\n",
    "#   {'SVC__C': [1, 10, 100], 'SVC__kernel': ['linear'], 'SMOTE__kind': ['regular', 'borderline1', 'borderline2', 'svm']},\n",
    "#   {'SVC__C': [1, 10, 100], 'SVC__gamma': [.0001, .001, .01, .1], 'SVC__kernel': ['rbf'], 'SMOTE__kind': ['regular', 'borderline1', 'borderline2', 'svm']},\n",
    "  {'SVC__C': [10, 100], 'SVC__gamma': [.000005, .00001, .00005,], 'SVC__kernel': ['rbf'], 'SMOTE__kind': ['regular', 'borderline1', 'borderline2']},\n",
    " ]\n",
    "\n",
    "# steps = [('SMOTE', SMOTEENN()), (\"SVC\", SVC())]\n",
    "# param_grid = [\n",
    "#   {'SVC__C': [1, 10, 100, 1000], 'SVC__kernel': ['linear'], 'SMOTE__smote': [SMOTE(kind='regular'), SMOTE(kind='borderline1'), SMOTE(kind='borderline2'), SMOTE(kind='svm')]},\n",
    "#   {'SVC__C': [1, 10, 100, 1000], 'SVC__gamma': [.0001, .001, .01, .1], 'SVC__kernel': ['rbf'], 'SMOTE__smote': [SMOTE(kind='regular'), SMOTE(kind='borderline1'), SMOTE(kind='borderline2'), SMOTE(kind='svm')]},\n",
    "#  ]\n",
    "\n",
    "\n",
    "pipeline = Pipeline(steps)\n",
    "\n",
    "scores = ['f1']\n",
    "logo = LeaveOneGroupOut()"
   ]
  },
  {
   "cell_type": "code",
   "execution_count": 18,
   "metadata": {
    "collapsed": true,
    "hidden": true
   },
   "outputs": [
    {
     "name": "stdout",
     "output_type": "stream",
     "text": [
      "## Tuning hyper-parameters for f1\n",
      "\n",
      "Fitting 3 folds for each of 18 candidates, totalling 54 fits\n",
      "[CV] SMOTE__kind=regular, SVC__C=10, SVC__gamma=5e-06, SVC__kernel=rbf \n",
      "[CV] SMOTE__kind=regular, SVC__C=10, SVC__gamma=5e-06, SVC__kernel=rbf \n",
      "[CV]  SMOTE__kind=regular, SVC__C=10, SVC__gamma=5e-06, SVC__kernel=rbf, total=14.1min\n",
      "[CV] SMOTE__kind=regular, SVC__C=10, SVC__gamma=5e-06, SVC__kernel=rbf \n",
      "[CV]  SMOTE__kind=regular, SVC__C=10, SVC__gamma=5e-06, SVC__kernel=rbf, total=26.7min\n",
      "[CV] SMOTE__kind=regular, SVC__C=10, SVC__gamma=1e-05, SVC__kernel=rbf \n",
      "[CV]  SMOTE__kind=regular, SVC__C=10, SVC__gamma=5e-06, SVC__kernel=rbf, total=12.2min\n",
      "[CV] SMOTE__kind=regular, SVC__C=10, SVC__gamma=1e-05, SVC__kernel=rbf \n",
      "[CV]  SMOTE__kind=regular, SVC__C=10, SVC__gamma=1e-05, SVC__kernel=rbf, total=11.8min\n",
      "[CV] SMOTE__kind=regular, SVC__C=10, SVC__gamma=1e-05, SVC__kernel=rbf \n",
      "[CV]  SMOTE__kind=regular, SVC__C=10, SVC__gamma=1e-05, SVC__kernel=rbf, total=10.6min\n",
      "[CV] SMOTE__kind=regular, SVC__C=10, SVC__gamma=5e-05, SVC__kernel=rbf \n",
      "[CV]  SMOTE__kind=regular, SVC__C=10, SVC__gamma=1e-05, SVC__kernel=rbf, total=24.3min\n",
      "[CV] SMOTE__kind=regular, SVC__C=10, SVC__gamma=5e-05, SVC__kernel=rbf \n",
      "[CV]  SMOTE__kind=regular, SVC__C=10, SVC__gamma=5e-05, SVC__kernel=rbf, total= 6.8min\n",
      "[CV] SMOTE__kind=regular, SVC__C=10, SVC__gamma=5e-05, SVC__kernel=rbf \n",
      "[CV]  SMOTE__kind=regular, SVC__C=10, SVC__gamma=5e-05, SVC__kernel=rbf, total= 6.4min\n",
      "[CV] SMOTE__kind=regular, SVC__C=100, SVC__gamma=5e-06, SVC__kernel=rbf \n",
      "[CV]  SMOTE__kind=regular, SVC__C=10, SVC__gamma=5e-05, SVC__kernel=rbf, total=14.1min\n",
      "[CV] SMOTE__kind=regular, SVC__C=100, SVC__gamma=5e-06, SVC__kernel=rbf \n",
      "[CV]  SMOTE__kind=regular, SVC__C=100, SVC__gamma=5e-06, SVC__kernel=rbf, total= 5.6min\n",
      "[CV] SMOTE__kind=regular, SVC__C=100, SVC__gamma=5e-06, SVC__kernel=rbf \n",
      "[CV]  SMOTE__kind=regular, SVC__C=100, SVC__gamma=5e-06, SVC__kernel=rbf, total= 6.2min\n",
      "[CV] SMOTE__kind=regular, SVC__C=100, SVC__gamma=1e-05, SVC__kernel=rbf \n",
      "[CV]  SMOTE__kind=regular, SVC__C=100, SVC__gamma=5e-06, SVC__kernel=rbf, total=13.1min\n",
      "[CV] SMOTE__kind=regular, SVC__C=100, SVC__gamma=1e-05, SVC__kernel=rbf \n",
      "[CV]  SMOTE__kind=regular, SVC__C=100, SVC__gamma=1e-05, SVC__kernel=rbf, total= 4.5min\n",
      "[CV] SMOTE__kind=regular, SVC__C=100, SVC__gamma=1e-05, SVC__kernel=rbf \n",
      "[CV]  SMOTE__kind=regular, SVC__C=100, SVC__gamma=1e-05, SVC__kernel=rbf, total= 5.6min\n",
      "[CV] SMOTE__kind=regular, SVC__C=100, SVC__gamma=5e-05, SVC__kernel=rbf \n",
      "[CV]  SMOTE__kind=regular, SVC__C=100, SVC__gamma=1e-05, SVC__kernel=rbf, total=10.6min\n",
      "[CV] SMOTE__kind=regular, SVC__C=100, SVC__gamma=5e-05, SVC__kernel=rbf \n",
      "[CV]  SMOTE__kind=regular, SVC__C=100, SVC__gamma=5e-05, SVC__kernel=rbf, total= 3.2min\n",
      "[CV] SMOTE__kind=regular, SVC__C=100, SVC__gamma=5e-05, SVC__kernel=rbf \n",
      "[CV]  SMOTE__kind=regular, SVC__C=100, SVC__gamma=5e-05, SVC__kernel=rbf, total= 4.1min\n",
      "[CV] SMOTE__kind=borderline1, SVC__C=10, SVC__gamma=5e-06, SVC__kernel=rbf \n",
      "[CV]  SMOTE__kind=regular, SVC__C=100, SVC__gamma=5e-05, SVC__kernel=rbf, total= 6.0min\n",
      "[CV] SMOTE__kind=borderline1, SVC__C=10, SVC__gamma=5e-06, SVC__kernel=rbf \n",
      "[CV]  SMOTE__kind=borderline1, SVC__C=10, SVC__gamma=5e-06, SVC__kernel=rbf, total=17.4min\n",
      "[CV] SMOTE__kind=borderline1, SVC__C=10, SVC__gamma=5e-06, SVC__kernel=rbf \n",
      "[CV]  SMOTE__kind=borderline1, SVC__C=10, SVC__gamma=5e-06, SVC__kernel=rbf, total=34.3min\n",
      "[CV] SMOTE__kind=borderline1, SVC__C=10, SVC__gamma=1e-05, SVC__kernel=rbf \n",
      "[CV]  SMOTE__kind=borderline1, SVC__C=10, SVC__gamma=5e-06, SVC__kernel=rbf, total=16.0min\n",
      "[CV] SMOTE__kind=borderline1, SVC__C=10, SVC__gamma=1e-05, SVC__kernel=rbf \n",
      "[CV]  SMOTE__kind=borderline1, SVC__C=10, SVC__gamma=1e-05, SVC__kernel=rbf, total=13.2min\n",
      "[CV] SMOTE__kind=borderline1, SVC__C=10, SVC__gamma=1e-05, SVC__kernel=rbf \n",
      "[CV]  SMOTE__kind=borderline1, SVC__C=10, SVC__gamma=1e-05, SVC__kernel=rbf, total=13.7min\n",
      "[CV] SMOTE__kind=borderline1, SVC__C=10, SVC__gamma=5e-05, SVC__kernel=rbf \n",
      "[CV]  SMOTE__kind=borderline1, SVC__C=10, SVC__gamma=1e-05, SVC__kernel=rbf, total=27.9min\n",
      "[CV] SMOTE__kind=borderline1, SVC__C=10, SVC__gamma=5e-05, SVC__kernel=rbf \n",
      "[CV]  SMOTE__kind=borderline1, SVC__C=10, SVC__gamma=5e-05, SVC__kernel=rbf, total= 8.0min\n",
      "[CV] SMOTE__kind=borderline1, SVC__C=10, SVC__gamma=5e-05, SVC__kernel=rbf \n",
      "[CV]  SMOTE__kind=borderline1, SVC__C=10, SVC__gamma=5e-05, SVC__kernel=rbf, total=16.1min\n",
      "[CV] SMOTE__kind=borderline1, SVC__C=100, SVC__gamma=5e-06, SVC__kernel=rbf \n",
      "[CV]  SMOTE__kind=borderline1, SVC__C=10, SVC__gamma=5e-05, SVC__kernel=rbf, total= 9.4min\n",
      "[CV] SMOTE__kind=borderline1, SVC__C=100, SVC__gamma=5e-06, SVC__kernel=rbf \n",
      "[CV]  SMOTE__kind=borderline1, SVC__C=100, SVC__gamma=5e-06, SVC__kernel=rbf, total= 7.7min\n",
      "[CV] SMOTE__kind=borderline1, SVC__C=100, SVC__gamma=5e-06, SVC__kernel=rbf \n",
      "[CV]  SMOTE__kind=borderline1, SVC__C=100, SVC__gamma=5e-06, SVC__kernel=rbf, total=16.1min\n",
      "[CV] SMOTE__kind=borderline1, SVC__C=100, SVC__gamma=1e-05, SVC__kernel=rbf \n",
      "[CV]  SMOTE__kind=borderline1, SVC__C=100, SVC__gamma=5e-06, SVC__kernel=rbf, total= 9.5min\n",
      "[CV] SMOTE__kind=borderline1, SVC__C=100, SVC__gamma=1e-05, SVC__kernel=rbf \n",
      "[CV]  SMOTE__kind=borderline1, SVC__C=100, SVC__gamma=1e-05, SVC__kernel=rbf, total= 7.0min\n",
      "[CV] SMOTE__kind=borderline1, SVC__C=100, SVC__gamma=1e-05, SVC__kernel=rbf \n",
      "[CV]  SMOTE__kind=borderline1, SVC__C=100, SVC__gamma=1e-05, SVC__kernel=rbf, total=13.5min\n",
      "[CV] SMOTE__kind=borderline1, SVC__C=100, SVC__gamma=5e-05, SVC__kernel=rbf \n",
      "[CV]  SMOTE__kind=borderline1, SVC__C=100, SVC__gamma=1e-05, SVC__kernel=rbf, total= 8.6min\n",
      "[CV] SMOTE__kind=borderline1, SVC__C=100, SVC__gamma=5e-05, SVC__kernel=rbf \n",
      "[CV]  SMOTE__kind=borderline1, SVC__C=100, SVC__gamma=5e-05, SVC__kernel=rbf, total= 5.1min\n",
      "[CV] SMOTE__kind=borderline1, SVC__C=100, SVC__gamma=5e-05, SVC__kernel=rbf \n",
      "[CV]  SMOTE__kind=borderline1, SVC__C=100, SVC__gamma=5e-05, SVC__kernel=rbf, total= 7.3min\n",
      "[CV] SMOTE__kind=borderline2, SVC__C=10, SVC__gamma=5e-06, SVC__kernel=rbf \n",
      "[CV]  SMOTE__kind=borderline1, SVC__C=100, SVC__gamma=5e-05, SVC__kernel=rbf, total= 6.2min\n",
      "[CV] SMOTE__kind=borderline2, SVC__C=10, SVC__gamma=5e-06, SVC__kernel=rbf \n",
      "[CV]  SMOTE__kind=borderline2, SVC__C=10, SVC__gamma=5e-06, SVC__kernel=rbf, total=15.9min\n",
      "[CV] SMOTE__kind=borderline2, SVC__C=10, SVC__gamma=5e-06, SVC__kernel=rbf \n"
     ]
    },
    {
     "name": "stderr",
     "output_type": "stream",
     "text": [
      "[Parallel(n_jobs=2)]: Done  37 tasks      | elapsed: 296.6min\n"
     ]
    },
    {
     "name": "stdout",
     "output_type": "stream",
     "text": [
      "[CV]  SMOTE__kind=borderline2, SVC__C=10, SVC__gamma=5e-06, SVC__kernel=rbf, total=15.0min\n",
      "[CV] SMOTE__kind=borderline2, SVC__C=10, SVC__gamma=1e-05, SVC__kernel=rbf \n",
      "[CV]  SMOTE__kind=borderline2, SVC__C=10, SVC__gamma=5e-06, SVC__kernel=rbf, total=30.7min\n",
      "[CV] SMOTE__kind=borderline2, SVC__C=10, SVC__gamma=1e-05, SVC__kernel=rbf \n",
      "[CV]  SMOTE__kind=borderline2, SVC__C=10, SVC__gamma=1e-05, SVC__kernel=rbf, total=13.5min\n",
      "[CV] SMOTE__kind=borderline2, SVC__C=10, SVC__gamma=1e-05, SVC__kernel=rbf \n",
      "[CV]  SMOTE__kind=borderline2, SVC__C=10, SVC__gamma=1e-05, SVC__kernel=rbf, total=13.4min\n",
      "[CV] SMOTE__kind=borderline2, SVC__C=10, SVC__gamma=5e-05, SVC__kernel=rbf \n",
      "[CV]  SMOTE__kind=borderline2, SVC__C=10, SVC__gamma=1e-05, SVC__kernel=rbf, total=26.7min\n",
      "[CV] SMOTE__kind=borderline2, SVC__C=10, SVC__gamma=5e-05, SVC__kernel=rbf \n",
      "[CV]  SMOTE__kind=borderline2, SVC__C=10, SVC__gamma=5e-05, SVC__kernel=rbf, total= 8.8min\n",
      "[CV] SMOTE__kind=borderline2, SVC__C=10, SVC__gamma=5e-05, SVC__kernel=rbf \n",
      "[CV]  SMOTE__kind=borderline2, SVC__C=10, SVC__gamma=5e-05, SVC__kernel=rbf, total=16.6min\n",
      "[CV] SMOTE__kind=borderline2, SVC__C=100, SVC__gamma=5e-06, SVC__kernel=rbf \n",
      "[CV]  SMOTE__kind=borderline2, SVC__C=10, SVC__gamma=5e-05, SVC__kernel=rbf, total=10.3min\n",
      "[CV] SMOTE__kind=borderline2, SVC__C=100, SVC__gamma=5e-06, SVC__kernel=rbf \n",
      "[CV]  SMOTE__kind=borderline2, SVC__C=100, SVC__gamma=5e-06, SVC__kernel=rbf, total= 8.9min\n",
      "[CV] SMOTE__kind=borderline2, SVC__C=100, SVC__gamma=5e-06, SVC__kernel=rbf \n",
      "[CV]  SMOTE__kind=borderline2, SVC__C=100, SVC__gamma=5e-06, SVC__kernel=rbf, total= 9.9min\n",
      "[CV] SMOTE__kind=borderline2, SVC__C=100, SVC__gamma=1e-05, SVC__kernel=rbf \n",
      "[CV]  SMOTE__kind=borderline2, SVC__C=100, SVC__gamma=5e-06, SVC__kernel=rbf, total=17.0min\n",
      "[CV] SMOTE__kind=borderline2, SVC__C=100, SVC__gamma=1e-05, SVC__kernel=rbf \n",
      "[CV]  SMOTE__kind=borderline2, SVC__C=100, SVC__gamma=1e-05, SVC__kernel=rbf, total= 7.6min\n",
      "[CV] SMOTE__kind=borderline2, SVC__C=100, SVC__gamma=1e-05, SVC__kernel=rbf \n",
      "[CV]  SMOTE__kind=borderline2, SVC__C=100, SVC__gamma=1e-05, SVC__kernel=rbf, total=13.5min\n",
      "[CV] SMOTE__kind=borderline2, SVC__C=100, SVC__gamma=5e-05, SVC__kernel=rbf \n",
      "[CV]  SMOTE__kind=borderline2, SVC__C=100, SVC__gamma=1e-05, SVC__kernel=rbf, total= 9.4min\n",
      "[CV] SMOTE__kind=borderline2, SVC__C=100, SVC__gamma=5e-05, SVC__kernel=rbf \n",
      "[CV]  SMOTE__kind=borderline2, SVC__C=100, SVC__gamma=5e-05, SVC__kernel=rbf, total= 5.7min\n",
      "[CV] SMOTE__kind=borderline2, SVC__C=100, SVC__gamma=5e-05, SVC__kernel=rbf \n",
      "[CV]  SMOTE__kind=borderline2, SVC__C=100, SVC__gamma=5e-05, SVC__kernel=rbf, total= 8.2min\n",
      "[CV]  SMOTE__kind=borderline2, SVC__C=100, SVC__gamma=5e-05, SVC__kernel=rbf, total= 7.1min\n"
     ]
    },
    {
     "name": "stderr",
     "output_type": "stream",
     "text": [
      "[Parallel(n_jobs=2)]: Done  54 out of  54 | elapsed: 433.1min finished\n"
     ]
    },
    {
     "name": "stdout",
     "output_type": "stream",
     "text": [
      "Best Combined Parameters set found on data set:\n",
      "\n",
      "{'SMOTE__kind': 'regular', 'SVC__C': 100, 'SVC__gamma': 5e-05, 'SVC__kernel': 'rbf'}\n",
      "\n",
      "Grid scores on data set:\n",
      "\n",
      "0.169 (+/-0.160) for {'SMOTE__kind': 'regular', 'SVC__C': 10, 'SVC__gamma': 5e-06, 'SVC__kernel': 'rbf'}\n",
      "0.198 (+/-0.158) for {'SMOTE__kind': 'regular', 'SVC__C': 10, 'SVC__gamma': 1e-05, 'SVC__kernel': 'rbf'}\n",
      "0.246 (+/-0.131) for {'SMOTE__kind': 'regular', 'SVC__C': 10, 'SVC__gamma': 5e-05, 'SVC__kernel': 'rbf'}\n",
      "0.248 (+/-0.133) for {'SMOTE__kind': 'regular', 'SVC__C': 100, 'SVC__gamma': 5e-06, 'SVC__kernel': 'rbf'}\n",
      "0.268 (+/-0.104) for {'SMOTE__kind': 'regular', 'SVC__C': 100, 'SVC__gamma': 1e-05, 'SVC__kernel': 'rbf'}\n",
      "0.291 (+/-0.061) for {'SMOTE__kind': 'regular', 'SVC__C': 100, 'SVC__gamma': 5e-05, 'SVC__kernel': 'rbf'}\n",
      "0.145 (+/-0.182) for {'SMOTE__kind': 'borderline1', 'SVC__C': 10, 'SVC__gamma': 5e-06, 'SVC__kernel': 'rbf'}\n",
      "0.178 (+/-0.163) for {'SMOTE__kind': 'borderline1', 'SVC__C': 10, 'SVC__gamma': 1e-05, 'SVC__kernel': 'rbf'}\n",
      "0.198 (+/-0.133) for {'SMOTE__kind': 'borderline1', 'SVC__C': 10, 'SVC__gamma': 5e-05, 'SVC__kernel': 'rbf'}\n",
      "0.200 (+/-0.133) for {'SMOTE__kind': 'borderline1', 'SVC__C': 100, 'SVC__gamma': 5e-06, 'SVC__kernel': 'rbf'}\n",
      "0.221 (+/-0.092) for {'SMOTE__kind': 'borderline1', 'SVC__C': 100, 'SVC__gamma': 1e-05, 'SVC__kernel': 'rbf'}\n",
      "0.254 (+/-0.053) for {'SMOTE__kind': 'borderline1', 'SVC__C': 100, 'SVC__gamma': 5e-05, 'SVC__kernel': 'rbf'}\n",
      "0.135 (+/-0.171) for {'SMOTE__kind': 'borderline2', 'SVC__C': 10, 'SVC__gamma': 5e-06, 'SVC__kernel': 'rbf'}\n",
      "0.164 (+/-0.167) for {'SMOTE__kind': 'borderline2', 'SVC__C': 10, 'SVC__gamma': 1e-05, 'SVC__kernel': 'rbf'}\n",
      "0.186 (+/-0.133) for {'SMOTE__kind': 'borderline2', 'SVC__C': 10, 'SVC__gamma': 5e-05, 'SVC__kernel': 'rbf'}\n",
      "0.187 (+/-0.133) for {'SMOTE__kind': 'borderline2', 'SVC__C': 100, 'SVC__gamma': 5e-06, 'SVC__kernel': 'rbf'}\n",
      "0.209 (+/-0.097) for {'SMOTE__kind': 'borderline2', 'SVC__C': 100, 'SVC__gamma': 1e-05, 'SVC__kernel': 'rbf'}\n",
      "0.245 (+/-0.061) for {'SMOTE__kind': 'borderline2', 'SVC__C': 100, 'SVC__gamma': 5e-05, 'SVC__kernel': 'rbf'}\n",
      "\n"
     ]
    }
   ],
   "source": [
    "# Hyper Parameter Tuning\n",
    "for score in scores:\n",
    "    \n",
    "    with warnings.catch_warnings():\n",
    "        warnings.simplefilter(\"ignore\")\n",
    "        print(\"## Tuning hyper-parameters for {}\".format(score))\n",
    "        print()\n",
    "\n",
    "        if score is \"accuracy\":\n",
    "            scoring = score\n",
    "        else:\n",
    "            scoring = '{}_macro'.format(score)      \n",
    "        \n",
    "        #### TRAIN COMBINED LH & RH\n",
    "        clf_comb = GridSearchCV(pipeline, param_grid, cv=logo.split(X_comb_train, y_comb_train,groups=groups_comb_train), scoring=scoring, n_jobs=2, verbose=10)\n",
    "        clf_comb.fit(X_comb_train, y_comb_train)\n",
    "\n",
    "        print(\"Best Combined Parameters set found on data set:\")\n",
    "        print()\n",
    "        print(clf_comb.best_params_)\n",
    "        print()\n",
    "        print(\"Grid scores on data set:\")\n",
    "        print()\n",
    "        means = clf_comb.cv_results_['mean_test_score']\n",
    "        stds  = clf_comb.cv_results_['std_test_score']\n",
    "        for mean, std, params in zip(means, stds, clf_comb.cv_results_['params']):\n",
    "            print(\"%0.3f (+/-%0.3f) for %r\" % (mean, std, params))\n",
    "        print()"
   ]
  },
  {
   "cell_type": "code",
   "execution_count": 19,
   "metadata": {
    "hidden": true
   },
   "outputs": [
    {
     "name": "stdout",
     "output_type": "stream",
     "text": [
      "Comb Validatation Score: 0.816981132075\n",
      "Comb Confustion Matrix:\n",
      " [[3450  464    3]\n",
      " [ 456  880    0]\n",
      " [  15   32    0]]\n",
      "             precision    recall  f1-score   support\n",
      "\n",
      "          0       0.88      0.88      0.88      3917\n",
      "          1       0.64      0.66      0.65      1336\n",
      "          2       0.00      0.00      0.00        47\n",
      "\n",
      "avg / total       0.81      0.82      0.81      5300\n",
      "\n",
      "\n"
     ]
    }
   ],
   "source": [
    "from sklearn.metrics import accuracy_score\n",
    "y_comb_true, y_comb_pred = y_comb_val, clf_comb.predict(X_comb_val)\n",
    "\n",
    "print(\"Comb Validatation Score:\", accuracy_score(y_comb_true, y_comb_pred))\n",
    "print(\"Comb Confustion Matrix:\\n\", confusion_matrix(y_comb_true, y_comb_pred))\n",
    "print(classification_report(y_comb_true, y_comb_pred))\n",
    "print()\n"
   ]
  },
  {
   "cell_type": "markdown",
   "metadata": {},
   "source": [
    "### Single Classifier"
   ]
  },
  {
   "cell_type": "code",
   "execution_count": 58,
   "metadata": {},
   "outputs": [
    {
     "data": {
      "text/plain": [
       "Pipeline(memory=None,\n",
       "     steps=[('SMOTE', SMOTE(k=None, k_neighbors=5, kind='regular', m=None, m_neighbors=10, n_jobs=1,\n",
       "   out_step=0.5, random_state=None, ratio='auto', svm_estimator=None)), ('SVC', SVC(C=100, cache_size=200, class_weight=None, coef0=0.0,\n",
       "  decision_function_shape='ovr', degree=3, gamma=5e-05, kernel='rbf',\n",
       "  max_iter=-1, probability=False, random_state=None, shrinking=True,\n",
       "  tol=0.001, verbose=False))])"
      ]
     },
     "execution_count": 58,
     "metadata": {},
     "output_type": "execute_result"
    }
   ],
   "source": [
    "# steps = [('PCA', PCA(n_components=1500)), ('SMOTE', SMOTE(kind=\"borderline2\")), (\"SVC\", SVC(C=100, gamma=.0001, kernel='rbf', probability=False))]\n",
    "steps = [('SMOTE', SMOTE(kind=\"regular\")), (\"SVC\", SVC(C=100, gamma=.00005, kernel='rbf', probability=False))]\n",
    "pipeline = Pipeline(steps)\n",
    "pipeline.fit(X_comb_train, y_comb_train)"
   ]
  },
  {
   "cell_type": "code",
   "execution_count": 59,
   "metadata": {},
   "outputs": [
    {
     "name": "stdout",
     "output_type": "stream",
     "text": [
      "Comb Validatation Score: 0.416407222914\n",
      "Comb Confustion Matrix:\n",
      " [[2424 3684    3]\n",
      " [  21  251   14]\n",
      " [  10   17    0]]\n",
      "             precision    recall  f1-score   support\n",
      "\n",
      "          0       0.99      0.40      0.57      6111\n",
      "          1       0.06      0.88      0.12       286\n",
      "          2       0.00      0.00      0.00        27\n",
      "\n",
      "avg / total       0.94      0.42      0.54      6424\n",
      "\n"
     ]
    }
   ],
   "source": [
    "y_comb_true, y_comb_pred = y_comb_val, pipeline.predict(X_comb_val)\n",
    "print(\"Comb Validatation Score:\", accuracy_score(y_comb_true, y_comb_pred))\n",
    "print(\"Comb Confustion Matrix:\\n\", confusion_matrix(y_comb_true, y_comb_pred))\n",
    "print(classification_report(y_comb_true, y_comb_pred))"
   ]
  },
  {
   "cell_type": "code",
   "execution_count": 60,
   "metadata": {
    "collapsed": true
   },
   "outputs": [],
   "source": [
    "window_size = 10\n",
    "y_comb_true_maj = []\n",
    "for i in range(0, y_comb_true.size, window_size):\n",
    "    u, counts = np.unique(y_comb_true[i:i+window_size], return_counts=True)\n",
    "    pred = u[np.argmax(counts)]\n",
    "    y_comb_true_maj.append(pred)\n",
    "    \n",
    "y_comb_true_maj = np.array(y_comb_true_maj)"
   ]
  },
  {
   "cell_type": "code",
   "execution_count": 61,
   "metadata": {
    "collapsed": true
   },
   "outputs": [],
   "source": [
    "y_comb_pred_maj = []\n",
    "for i in range(0, y_comb_pred.size, window_size):\n",
    "    u, counts = np.unique(y_comb_pred[i:i+window_size], return_counts=True)\n",
    "    pred = u[np.argmax(counts)]\n",
    "    y_comb_pred_maj.append(pred)\n",
    "    \n",
    "y_comb_pred_maj = np.array(y_comb_pred_maj)"
   ]
  },
  {
   "cell_type": "code",
   "execution_count": 62,
   "metadata": {},
   "outputs": [
    {
     "name": "stdout",
     "output_type": "stream",
     "text": [
      "rH Validatation Score: 0.429237947123\n",
      "rH Confustion Matrix:\n",
      " [[250 362   0]\n",
      " [  1  26   1]\n",
      " [  1   2   0]]\n",
      "             precision    recall  f1-score   support\n",
      "\n",
      "          0       0.99      0.41      0.58       612\n",
      "          1       0.07      0.93      0.12        28\n",
      "          2       0.00      0.00      0.00         3\n",
      "\n",
      "avg / total       0.95      0.43      0.56       643\n",
      "\n"
     ]
    }
   ],
   "source": [
    "print(\"rH Validatation Score:\", accuracy_score(y_comb_true_maj, y_comb_pred_maj))\n",
    "print(\"rH Confustion Matrix:\\n\", confusion_matrix(y_comb_true_maj, y_comb_pred_maj))\n",
    "print(classification_report(y_comb_true_maj, y_comb_pred_maj))"
   ]
  },
  {
   "cell_type": "markdown",
   "metadata": {
    "collapsed": true
   },
   "source": [
    "### Cross Validation"
   ]
  },
  {
   "cell_type": "code",
   "execution_count": 36,
   "metadata": {
    "collapsed": true
   },
   "outputs": [],
   "source": [
    "from sklearn.model_selection import cross_val_score, cross_validate"
   ]
  },
  {
   "cell_type": "code",
   "execution_count": 37,
   "metadata": {},
   "outputs": [
    {
     "name": "stdout",
     "output_type": "stream",
     "text": [
      "Combined: (24558, 1089) (24558,)\n",
      "(array([0, 1, 2]), array([18303,  5160,  1095]))\n",
      "(24558,)\n"
     ]
    }
   ],
   "source": [
    "X_comb_all_cv = np.vstack((X_comb_train, X_comb_val))\n",
    "y_comb_all_cv = np.hstack((y_comb_train, y_comb_val))\n",
    "filenames_comb_all_cv = np.hstack((filenames_comb_train, filenames_comb_val))\n",
    "\n",
    "print(\"Combined:\", X_comb_all_cv.shape, y_comb_all_cv.shape)\n",
    "print(np.unique(y_comb_all_cv, return_counts=True))\n",
    "print(filenames_comb_all_cv.shape)"
   ]
  },
  {
   "cell_type": "code",
   "execution_count": null,
   "metadata": {},
   "outputs": [],
   "source": [
    "groups_cv = np.zeros_like(filenames_comb_all_cv, dtype=int)\n",
    "\n",
    "for p in [\"p1\", \"p3\", \"p4\", \"p6\"]:\n",
    "    p_num = int(p[1])\n",
    "    groups_cv[np.where(np.char.find(filenames_comb_all_cv, p) != -1)] = p_num\n",
    "    \n",
    "print(groups_cv.shape)\n",
    "print(np.unique(groups_cv))\n",
    "print(groups_cv)"
   ]
  },
  {
   "cell_type": "code",
   "execution_count": null,
   "metadata": {},
   "outputs": [],
   "source": [
    "steps = [('SMOTE', SMOTE(kind=\"borderline2\")), (\"SVC\", SVC(C=1, gamma=.001, kernel='rbf', probability=False))]\n",
    "pipeline = Pipeline(steps)\n",
    "scoring = (\"f1_macro\", \"accuracy\")\n",
    "logo = LeaveOneGroupOut()\n",
    "scores = cross_validate(pipeline, X_comb_all_cv, y_comb_all_cv, cv=logo.get_n_splits(groups=groups_cv), scoring=scoring, n_jobs=2, verbose=2)"
   ]
  },
  {
   "cell_type": "code",
   "execution_count": null,
   "metadata": {},
   "outputs": [],
   "source": [
    "print(scores)"
   ]
  },
  {
   "cell_type": "code",
   "execution_count": null,
   "metadata": {},
   "outputs": [],
   "source": [
    "for k, v in scores.items():\n",
    "    print(k, v)"
   ]
  },
  {
   "cell_type": "code",
   "execution_count": null,
   "metadata": {},
   "outputs": [],
   "source": [
    "steps = [('SMOTE', SMOTE(kind=\"borderline2\")), (\"SVC\", SVC(C=1, gamma=.001, kernel='rbf', probability=False))]\n",
    "pipeline = Pipeline(steps)\n",
    "scoring = (\"f1_macro\", \"accuracy\")\n",
    "logo = LeaveOneGroupOut()\n",
    "scores = cross_validate(pipeline, X_comb_all_cv, y_comb_all_cv, cv=logo.split(X_comb_all_cv, y_comb_all_cv, groups=groups_cv), scoring=scoring, n_jobs=2, verbose=3)"
   ]
  },
  {
   "cell_type": "code",
   "execution_count": null,
   "metadata": {},
   "outputs": [],
   "source": [
    "for k, v in scores.items():\n",
    "    print(k, v)"
   ]
  },
  {
   "cell_type": "code",
   "execution_count": null,
   "metadata": {},
   "outputs": [],
   "source": [
    "logo.split(X_comb_all_cv, y_comb_all_cv, groups=groups_cv)"
   ]
  },
  {
   "cell_type": "code",
   "execution_count": null,
   "metadata": {
    "collapsed": true
   },
   "outputs": [],
   "source": []
  }
 ],
 "metadata": {
  "kernelspec": {
   "display_name": "Python 3",
   "language": "python",
   "name": "python3"
  },
  "language_info": {
   "codemirror_mode": {
    "name": "ipython",
    "version": 3
   },
   "file_extension": ".py",
   "mimetype": "text/x-python",
   "name": "python",
   "nbconvert_exporter": "python",
   "pygments_lexer": "ipython3",
   "version": "3.6.1"
  },
  "toc": {
   "nav_menu": {
    "height": "172px",
    "width": "169px"
   },
   "number_sections": true,
   "sideBar": true,
   "skip_h1_title": false,
   "toc_cell": false,
   "toc_position": {},
   "toc_section_display": "block",
   "toc_window_display": false
  }
 },
 "nbformat": 4,
 "nbformat_minor": 2
}
