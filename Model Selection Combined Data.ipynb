{
 "cells": [
  {
   "cell_type": "markdown",
   "metadata": {},
   "source": [
    "# Virtual Piano Tutor"
   ]
  },
  {
   "cell_type": "markdown",
   "metadata": {
    "heading_collapsed": true
   },
   "source": [
    "## Project Description\n",
    "\n",
    "This is a notebook for tracking my progress on VPT...\n",
    "\n",
    "- Best Classifier as of 11/30\n",
    "    - SVM {'C': 100, 'gamma': 0.1, 'kernel': 'rbf'}"
   ]
  },
  {
   "cell_type": "markdown",
   "metadata": {
    "heading_collapsed": true
   },
   "source": [
    "## TODO List"
   ]
  },
  {
   "cell_type": "markdown",
   "metadata": {
    "hidden": true
   },
   "source": [
    "- TODAY\n",
    "    - Decide on RDF model to keep for rest of project\n",
    "    - Work on RDF data and annotations\n",
    "    - Add results to file\n",
    "    - Rewrite RDF for GridSearchCV\n",
    "        - Extend RDF\n",
    "    - Work on ideas for paper\n",
    "        - Visualizations\n",
    "    - Play with CAE\n",
    "    - How to automate this...\n",
    "    - Windowing/Summarizing\n",
    "    \n",
    "- DONE\n",
    "    - ~~Organize RDF data~~\n",
    "    - ~~Generate data from already extracted hands...~~\n",
    "    - ~~Get notebook running on Compute Canada~~\n",
    "    - ~~Get data on Compute Canada~~\n",
    "    - ~~Setup CAE to deal with hand images~~\n",
    "    - ~~setup data for training autoencoder on LH and RH~~\n",
    "    - ~~Train Autoencoder for LH and Rh~~\n",
    "    \n",
    "\n",
    "- Bad Segmentation\n",
    "    - p3c - left hand (not terrible)\n",
    "    - p1s - right hand (shouldn't use)\n",
    "    - p5a - Both could use some work but still caputures most of the left hand (RH not so good...)\n",
    "    - p5c - not good (left hand passable...)\n",
    "    \n",
    "- Add noise to CAE\n",
    "    - http://scikit-image.org/docs/dev/api/skimage.util.html#random-noise\n",
    "    \n",
    "- ~~Multiple Participants~~\n",
    "    - ~~have one holdout set participant~~\n",
    "        - ~~Test with p1&2 training p3 testing, then p1&3...~~\n",
    "    - ~~have one holdout set exercise~~\n",
    "\n",
    "- Test with RH too\n",
    "\n",
    "- Windowing data\n",
    "    - Summarize data for classification\n",
    "    - Majority Voting (or with probabilities)\n",
    "\n",
    "- Look for other features\n",
    "    - Others??\n",
    "    - ~~Autoencoder features~~\n",
    "    - ~~HONV~~\n",
    "    \n",
    "- Work on hand segmentation\n",
    "   - See p1e for bad examples\n",
    "   - How to validate segmentation?\n",
    "       - Statistical analysis on length and width ratios\n",
    "       \n",
    "- Visualize !!!\n",
    "    - Input \n",
    "    - Results !!!\n",
    "        - F Scores\n",
    "        - Accuracy\n",
    "        - Try weighted instead of macro\n",
    "\n",
    "\n",
    "\n",
    "\n",
    "- Finish Project Description\n",
    "\n",
    "- ~~Turn into functions~~\n",
    "    \n",
    "- ~~Verify Segmentation~~\n",
    "    - have only done basic verification\n",
    "    \n",
    "- ~~FIRST THING: Test by ignoring training data (p1s) and then using train_test_split on recordings~~\n",
    "    - ~~Data should be ready for spliting~~\n",
    "    \n",
    "- ~~Remove data from testing to find culprit~~\n",
    "    \n",
    "- ~~Track my progress better !!! (duh through notebooks!)~~"
   ]
  },
  {
   "cell_type": "markdown",
   "metadata": {},
   "source": [
    "# Setup"
   ]
  },
  {
   "cell_type": "markdown",
   "metadata": {},
   "source": [
    "## Libraries"
   ]
  },
  {
   "cell_type": "code",
   "execution_count": 1,
   "metadata": {
    "collapsed": true
   },
   "outputs": [],
   "source": [
    "import os\n",
    "\n",
    "%matplotlib inline\n",
    "import matplotlib.pyplot as plt\n",
    "import numpy as np\n",
    "import cv2\n",
    "\n",
    "from vpt.features.features import *\n",
    "import vpt.utils.image_processing as ip\n",
    "import vpt.settings as s\n",
    "import vpt.hand_detection.depth_context_features as dcf\n",
    "\n",
    "%load_ext autoreload\n",
    "%autoreload 2"
   ]
  },
  {
   "cell_type": "markdown",
   "metadata": {},
   "source": [
    "## Some helper functions"
   ]
  },
  {
   "cell_type": "markdown",
   "metadata": {},
   "source": [
    "### Load/Save Data Set"
   ]
  },
  {
   "cell_type": "code",
   "execution_count": 2,
   "metadata": {
    "collapsed": true
   },
   "outputs": [],
   "source": [
    "def load_data(testing_p, M, radius, feature_type, data_type):\n",
    "    base = \"data/posture/extracted/\"\n",
    "    data_path = os.path.join(base, \"{}_M{}_rad{:0.2f}_{}_\".format(testing_p, M, radius, feature_type))\n",
    "    data = np.load(data_path + data_type + \"_data_combined.npz\")    \n",
    "    return data"
   ]
  },
  {
   "cell_type": "markdown",
   "metadata": {},
   "source": [
    "## Project Setup"
   ]
  },
  {
   "cell_type": "markdown",
   "metadata": {},
   "source": [
    "### Generate or Load Data"
   ]
  },
  {
   "cell_type": "code",
   "execution_count": 24,
   "metadata": {},
   "outputs": [
    {
     "name": "stdout",
     "output_type": "stream",
     "text": [
      "X LH (15818, 3600) y LH (15818,) (15818, 180, 180)\n",
      "X RH (15818, 3600) y RH (15818,) (15818, 180, 180)\n",
      "Filenames (15818,)\n"
     ]
    }
   ],
   "source": [
    "#### Load data for a single paricipant\n",
    "M = 5\n",
    "radius = .15\n",
    "feature_type = \"hog2\"\n",
    "\n",
    "data = load_data(\"all_participants\", M, radius, feature_type, \"train\")\n",
    "print(\"X LH\", data[\"X_lh\"].shape, \"y LH\", data[\"y_lh\"].shape, data[\"vis_lhs\"].shape)\n",
    "print(\"X RH\", data[\"X_rh\"].shape, \"y RH\", data[\"y_rh\"].shape, data[\"vis_rhs\"].shape)\n",
    "print(\"Filenames\", data[\"filenames\"].shape)"
   ]
  },
  {
   "cell_type": "code",
   "execution_count": 25,
   "metadata": {},
   "outputs": [
    {
     "name": "stdout",
     "output_type": "stream",
     "text": [
      "Cross Val Data:\n",
      "(11246, 3600) (11246,)\n",
      "(11246, 3600) (11246,)\n",
      "(11246,)\n",
      "\n",
      "Validation Data\n",
      "(4572, 3600) (4572,)\n",
      "(4572, 3600) (4572,)\n",
      "(4572,)\n"
     ]
    }
   ],
   "source": [
    "## using p6 for validation\n",
    "r = re.compile('p3')\n",
    "vmatch = np.vectorize(lambda x:bool(r.search(x)))\n",
    "val_p = vmatch(data['filenames'])\n",
    "\n",
    "X_lh = data['X_lh'][~val_p]\n",
    "y_lh = data['y_lh'][~val_p]\n",
    "X_rh = data['X_rh'][~val_p]\n",
    "y_rh = data['y_rh'][~val_p]\n",
    "filenames = data['filenames'][~val_p]\n",
    "\n",
    "\n",
    "X_lh_test = data['X_lh'][val_p]\n",
    "y_lh_test = data['y_lh'][val_p]\n",
    "X_rh_test = data['X_rh'][val_p]\n",
    "y_rh_test = data['y_rh'][val_p]\n",
    "filenames_test = data['filenames'][val_p]\n",
    "\n",
    "print(\"Cross Val Data:\")\n",
    "print(X_lh.shape, y_lh.shape)\n",
    "print(X_rh.shape, y_rh.shape)\n",
    "print(filenames.shape)\n",
    "print()\n",
    "print(\"Validation Data\")\n",
    "print(X_lh_test.shape, y_lh_test.shape)\n",
    "print(X_rh_test.shape, y_rh_test.shape)\n",
    "print(filenames_test.shape)"
   ]
  },
  {
   "cell_type": "code",
   "execution_count": 26,
   "metadata": {},
   "outputs": [
    {
     "name": "stdout",
     "output_type": "stream",
     "text": [
      "(11246,)\n",
      "[1 4 6]\n",
      "[1 1 1 ..., 6 6 6]\n"
     ]
    }
   ],
   "source": [
    "groups = np.zeros_like(filenames, dtype=int)\n",
    "\n",
    "for p in [\"p1\", \"p3\", \"p4\", \"p6\"]:\n",
    "    p_num = int(p[1])\n",
    "    groups[np.where(np.char.find(filenames, p) != -1)] = p_num\n",
    "    \n",
    "print(groups.shape)\n",
    "print(np.unique(groups))\n",
    "print(groups)"
   ]
  },
  {
   "cell_type": "markdown",
   "metadata": {},
   "source": [
    "# Classification"
   ]
  },
  {
   "cell_type": "markdown",
   "metadata": {},
   "source": [
    "### Libraries"
   ]
  },
  {
   "cell_type": "code",
   "execution_count": 27,
   "metadata": {
    "collapsed": true
   },
   "outputs": [],
   "source": [
    "from sklearn.svm import SVC\n",
    "from sklearn.ensemble import RandomForestClassifier\n",
    "from sklearn.metrics import confusion_matrix, classification_report, accuracy_score\n",
    "from sklearn.model_selection import cross_val_score, train_test_split, GridSearchCV, LeaveOneGroupOut\n",
    "from imblearn.pipeline import Pipeline\n",
    "\n",
    "from sklearn.decomposition import PCA\n",
    "\n",
    "from imblearn.over_sampling import SMOTE\n",
    "from imblearn.combine import SMOTEENN"
   ]
  },
  {
   "cell_type": "markdown",
   "metadata": {},
   "source": [
    "## Load Data for Classification"
   ]
  },
  {
   "cell_type": "code",
   "execution_count": 28,
   "metadata": {
    "code_folding": [],
    "collapsed": true
   },
   "outputs": [],
   "source": [
    "## find all \"static\" data so we can ignore for now\n",
    "r = re.compile('p[\\d]s')\n",
    "\n",
    "# remove p#s data\n",
    "vmatch = np.vectorize(lambda x:bool(r.search(x)))\n",
    "rem_static = vmatch(filenames)\n",
    "rem_static_test = vmatch(filenames_test)\n",
    "\n",
    "X_lh_train, y_lh_train, filenames_train, groups_train = X_lh[~rem_static], y_lh[~rem_static], filenames[~rem_static], groups[~rem_static]\n",
    "X_rh_train, y_rh_train, filenames_train, groups_train = X_rh[~rem_static], y_rh[~rem_static], filenames[~rem_static], groups[~rem_static]"
   ]
  },
  {
   "cell_type": "code",
   "execution_count": 29,
   "metadata": {
    "collapsed": true
   },
   "outputs": [],
   "source": [
    "X_lh_val, y_lh_val, filenames_val = X_lh_test[~rem_static_test], y_lh_test[~rem_static_test], filenames_test[~rem_static_test]\n",
    "X_rh_val, y_rh_val, filenames_val = X_rh_test[~rem_static_test], y_rh_test[~rem_static_test], filenames_test[~rem_static_test]"
   ]
  },
  {
   "cell_type": "code",
   "execution_count": 30,
   "metadata": {
    "collapsed": true
   },
   "outputs": [],
   "source": [
    "X_comb_train = np.vstack((X_lh_train, X_rh_train))\n",
    "y_comb_train = np.hstack((y_lh_train, y_rh_train))\n",
    "groups_comb_train = np.hstack((groups_train, groups_train))\n",
    "filenames_comb_train = np.hstack((filenames_train, filenames_train))\n",
    "\n",
    "X_comb_val = np.vstack((X_lh_val, X_rh_val))\n",
    "y_comb_val = np.hstack((y_lh_val, y_rh_val))\n",
    "filenames_comb_val = np.hstack((filenames_val, filenames_val))"
   ]
  },
  {
   "cell_type": "code",
   "execution_count": 31,
   "metadata": {},
   "outputs": [
    {
     "name": "stdout",
     "output_type": "stream",
     "text": [
      "Cross Validation Data\n",
      "LH: (9629, 3600) (9629,)\n",
      "(array([0, 1, 2]), array([6890, 1718, 1021]))\n",
      "RH: (9629, 3600) (9629,)\n",
      "(9629,)\n",
      "(9629,)\n",
      "(array([0, 1, 2]), array([7496, 2106,   27]))\n",
      "Combined: (19258, 3600) (19258,)\n",
      "(19258,)\n",
      "(19258,)\n",
      "(array([0, 1, 2]), array([14386,  3824,  1048]))\n",
      "\n",
      "\n",
      "Validation Data\n",
      "LH: (2650, 3600) (2650,)\n",
      "(array([0, 1, 2]), array([1267, 1336,   47]))\n",
      "RH: (2650, 3600) (2650,)\n",
      "(array([0]), array([2650]))\n",
      "Combined: (5300, 3600) (5300,)\n",
      "(array([0, 1, 2]), array([3917, 1336,   47]))\n",
      "(5300,)\n"
     ]
    }
   ],
   "source": [
    "print(\"Cross Validation Data\")\n",
    "print(\"LH:\", X_lh_train.shape, y_lh_train.shape)\n",
    "print(np.unique(y_lh_train, return_counts=True))\n",
    "print(\"RH:\", X_rh_train.shape, y_rh_train.shape)\n",
    "print(filenames_train.shape)\n",
    "print(groups_train.shape)\n",
    "print(np.unique(y_rh_train, return_counts=True))\n",
    "print(\"Combined:\", X_comb_train.shape, y_comb_train.shape)\n",
    "print(filenames_comb_train.shape)\n",
    "print(groups_comb_train.shape)\n",
    "print(np.unique(y_comb_train, return_counts=True))\n",
    "print()\n",
    "print()\n",
    "print(\"Validation Data\")\n",
    "print(\"LH:\", X_lh_val.shape, y_lh_val.shape)\n",
    "print(np.unique(y_lh_val, return_counts=True))\n",
    "print(\"RH:\", X_rh_val.shape, y_rh_val.shape)\n",
    "print(np.unique(y_rh_val, return_counts=True))\n",
    "print(\"Combined:\", X_comb_val.shape, y_comb_val.shape)\n",
    "print(np.unique(y_comb_val, return_counts=True))\n",
    "print(filenames_comb_val.shape)"
   ]
  },
  {
   "cell_type": "markdown",
   "metadata": {},
   "source": [
    "## Model Testing"
   ]
  },
  {
   "cell_type": "markdown",
   "metadata": {},
   "source": [
    "### SVM"
   ]
  },
  {
   "cell_type": "code",
   "execution_count": 11,
   "metadata": {
    "collapsed": true
   },
   "outputs": [],
   "source": [
    "## Parameters for SVMs\n",
    "steps = [('SMOTE', SMOTE()), (\"SVC\", SVC())]\n",
    "param_grid = [\n",
    "  {'SVC__C': [1, 10, 100], 'SVC__kernel': ['linear'], 'SMOTE__kind': ['regular', 'borderline1', 'borderline2', 'svm']},\n",
    "  {'SVC__C': [1, 10, 100], 'SVC__gamma': [.0001, .001, .01, .1], 'SVC__kernel': ['rbf'], 'SMOTE__kind': ['regular', 'borderline1', 'borderline2', 'svm']},\n",
    " ]\n",
    "\n",
    "# steps = [('SMOTE', SMOTEENN()), (\"SVC\", SVC())]\n",
    "# param_grid = [\n",
    "#   {'SVC__C': [1, 10, 100, 1000], 'SVC__kernel': ['linear'], 'SMOTE__smote': [SMOTE(kind='regular'), SMOTE(kind='borderline1'), SMOTE(kind='borderline2'), SMOTE(kind='svm')]},\n",
    "#   {'SVC__C': [1, 10, 100, 1000], 'SVC__gamma': [.0001, .001, .01, .1], 'SVC__kernel': ['rbf'], 'SMOTE__smote': [SMOTE(kind='regular'), SMOTE(kind='borderline1'), SMOTE(kind='borderline2'), SMOTE(kind='svm')]},\n",
    "#  ]\n",
    "\n",
    "\n",
    "pipeline = Pipeline(steps)\n",
    "\n",
    "scores = ['f1']\n",
    "logo = LeaveOneGroupOut()"
   ]
  },
  {
   "cell_type": "code",
   "execution_count": 16,
   "metadata": {
    "scrolled": false
   },
   "outputs": [
    {
     "name": "stdout",
     "output_type": "stream",
     "text": [
      "## Tuning hyper-parameters for f1\n",
      "\n",
      "Fitting 3 folds for each of 60 candidates, totalling 180 fits\n",
      "[CV] SMOTE__kind=regular, SVC__C=1, SVC__kernel=linear ...............\n",
      "[CV] SMOTE__kind=regular, SVC__C=1, SVC__kernel=linear ...............\n",
      "[CV]  SMOTE__kind=regular, SVC__C=1, SVC__kernel=linear, total= 1.8min\n",
      "[CV] SMOTE__kind=regular, SVC__C=1, SVC__kernel=linear ...............\n",
      "[CV]  SMOTE__kind=regular, SVC__C=1, SVC__kernel=linear, total= 3.0min\n",
      "[CV] SMOTE__kind=regular, SVC__C=10, SVC__kernel=linear ..............\n",
      "[CV]  SMOTE__kind=regular, SVC__C=1, SVC__kernel=linear, total= 2.2min\n",
      "[CV] SMOTE__kind=regular, SVC__C=10, SVC__kernel=linear ..............\n",
      "[CV]  SMOTE__kind=regular, SVC__C=10, SVC__kernel=linear, total= 2.4min\n",
      "[CV] SMOTE__kind=regular, SVC__C=10, SVC__kernel=linear ..............\n",
      "[CV]  SMOTE__kind=regular, SVC__C=10, SVC__kernel=linear, total= 2.3min\n",
      "[CV] SMOTE__kind=regular, SVC__C=100, SVC__kernel=linear .............\n",
      "[CV]  SMOTE__kind=regular, SVC__C=10, SVC__kernel=linear, total= 4.7min\n",
      "[CV] SMOTE__kind=regular, SVC__C=100, SVC__kernel=linear .............\n",
      "[CV]  SMOTE__kind=regular, SVC__C=100, SVC__kernel=linear, total= 4.6min\n",
      "[CV] SMOTE__kind=regular, SVC__C=100, SVC__kernel=linear .............\n",
      "[CV]  SMOTE__kind=regular, SVC__C=100, SVC__kernel=linear, total= 2.0min\n",
      "[CV] SMOTE__kind=borderline1, SVC__C=1, SVC__kernel=linear ...........\n",
      "[CV]  SMOTE__kind=regular, SVC__C=100, SVC__kernel=linear, total= 8.5min\n",
      "[CV] SMOTE__kind=borderline1, SVC__C=1, SVC__kernel=linear ...........\n",
      "[CV]  SMOTE__kind=borderline1, SVC__C=1, SVC__kernel=linear, total= 3.3min\n",
      "[CV] SMOTE__kind=borderline1, SVC__C=1, SVC__kernel=linear ...........\n",
      "[CV]  SMOTE__kind=borderline1, SVC__C=1, SVC__kernel=linear, total= 3.5min\n",
      "[CV] SMOTE__kind=borderline1, SVC__C=10, SVC__kernel=linear ..........\n",
      "[CV]  SMOTE__kind=borderline1, SVC__C=1, SVC__kernel=linear, total= 4.8min\n",
      "[CV] SMOTE__kind=borderline1, SVC__C=10, SVC__kernel=linear ..........\n",
      "[CV]  SMOTE__kind=borderline1, SVC__C=10, SVC__kernel=linear, total= 4.5min\n",
      "[CV] SMOTE__kind=borderline1, SVC__C=10, SVC__kernel=linear ..........\n",
      "[CV]  SMOTE__kind=borderline1, SVC__C=10, SVC__kernel=linear, total= 7.2min\n",
      "[CV] SMOTE__kind=borderline1, SVC__C=100, SVC__kernel=linear .........\n",
      "[CV]  SMOTE__kind=borderline1, SVC__C=10, SVC__kernel=linear, total= 3.6min\n",
      "[CV] SMOTE__kind=borderline1, SVC__C=100, SVC__kernel=linear .........\n",
      "[CV]  SMOTE__kind=borderline1, SVC__C=100, SVC__kernel=linear, total= 7.6min\n",
      "[CV] SMOTE__kind=borderline1, SVC__C=100, SVC__kernel=linear .........\n",
      "[CV]  SMOTE__kind=borderline1, SVC__C=100, SVC__kernel=linear, total= 3.5min\n",
      "[CV] SMOTE__kind=borderline2, SVC__C=1, SVC__kernel=linear ...........\n",
      "[CV]  SMOTE__kind=borderline2, SVC__C=1, SVC__kernel=linear, total= 3.3min\n",
      "[CV] SMOTE__kind=borderline2, SVC__C=1, SVC__kernel=linear ...........\n",
      "[CV]  SMOTE__kind=borderline1, SVC__C=100, SVC__kernel=linear, total=16.7min\n",
      "[CV] SMOTE__kind=borderline2, SVC__C=1, SVC__kernel=linear ...........\n",
      "[CV]  SMOTE__kind=borderline2, SVC__C=1, SVC__kernel=linear, total= 4.9min\n",
      "[CV] SMOTE__kind=borderline2, SVC__C=10, SVC__kernel=linear ..........\n",
      "[CV]  SMOTE__kind=borderline2, SVC__C=1, SVC__kernel=linear, total= 3.2min\n",
      "[CV] SMOTE__kind=borderline2, SVC__C=10, SVC__kernel=linear ..........\n",
      "[CV]  SMOTE__kind=borderline2, SVC__C=10, SVC__kernel=linear, total= 4.9min\n",
      "[CV] SMOTE__kind=borderline2, SVC__C=10, SVC__kernel=linear ..........\n",
      "[CV]  SMOTE__kind=borderline2, SVC__C=10, SVC__kernel=linear, total= 3.4min\n",
      "[CV] SMOTE__kind=borderline2, SVC__C=100, SVC__kernel=linear .........\n",
      "[CV]  SMOTE__kind=borderline2, SVC__C=10, SVC__kernel=linear, total=10.0min\n",
      "[CV] SMOTE__kind=borderline2, SVC__C=100, SVC__kernel=linear .........\n",
      "[CV]  SMOTE__kind=borderline2, SVC__C=100, SVC__kernel=linear, total=14.0min\n",
      "[CV] SMOTE__kind=borderline2, SVC__C=100, SVC__kernel=linear .........\n",
      "[CV]  SMOTE__kind=borderline2, SVC__C=100, SVC__kernel=linear, total= 5.1min\n",
      "[CV] SMOTE__kind=svm, SVC__C=1, SVC__kernel=linear ...................\n",
      "[CV] .... SMOTE__kind=svm, SVC__C=1, SVC__kernel=linear, total= 6.3min\n",
      "[CV] SMOTE__kind=svm, SVC__C=1, SVC__kernel=linear ...................\n",
      "[CV] .... SMOTE__kind=svm, SVC__C=1, SVC__kernel=linear, total= 8.3min\n",
      "[CV] SMOTE__kind=svm, SVC__C=1, SVC__kernel=linear ...................\n",
      "[CV] .... SMOTE__kind=svm, SVC__C=1, SVC__kernel=linear, total= 6.4min\n",
      "[CV] SMOTE__kind=svm, SVC__C=10, SVC__kernel=linear ..................\n",
      "[CV]  SMOTE__kind=borderline2, SVC__C=100, SVC__kernel=linear, total=46.9min\n",
      "[CV] SMOTE__kind=svm, SVC__C=10, SVC__kernel=linear ..................\n",
      "[CV] ... SMOTE__kind=svm, SVC__C=10, SVC__kernel=linear, total= 7.3min\n",
      "[CV] SMOTE__kind=svm, SVC__C=10, SVC__kernel=linear ..................\n",
      "[CV] ... SMOTE__kind=svm, SVC__C=10, SVC__kernel=linear, total= 6.3min\n",
      "[CV] SMOTE__kind=svm, SVC__C=100, SVC__kernel=linear .................\n",
      "[CV] ... SMOTE__kind=svm, SVC__C=10, SVC__kernel=linear, total=10.6min\n",
      "[CV] SMOTE__kind=svm, SVC__C=100, SVC__kernel=linear .................\n",
      "[CV] .. SMOTE__kind=svm, SVC__C=100, SVC__kernel=linear, total=12.8min\n",
      "[CV] SMOTE__kind=svm, SVC__C=100, SVC__kernel=linear .................\n",
      "[CV] .. SMOTE__kind=svm, SVC__C=100, SVC__kernel=linear, total= 6.6min\n",
      "[CV] SMOTE__kind=regular, SVC__C=1, SVC__gamma=0.0001, SVC__kernel=rbf \n",
      "[CV] .. SMOTE__kind=svm, SVC__C=100, SVC__kernel=linear, total=27.6min\n",
      "[CV] SMOTE__kind=regular, SVC__C=1, SVC__gamma=0.0001, SVC__kernel=rbf \n",
      "[CV]  SMOTE__kind=regular, SVC__C=1, SVC__gamma=0.0001, SVC__kernel=rbf, total=10.1min\n",
      "[CV] SMOTE__kind=regular, SVC__C=1, SVC__gamma=0.0001, SVC__kernel=rbf \n"
     ]
    },
    {
     "name": "stderr",
     "output_type": "stream",
     "text": [
      "[Parallel(n_jobs=2)]: Done  37 tasks      | elapsed: 158.5min\n"
     ]
    },
    {
     "name": "stdout",
     "output_type": "stream",
     "text": [
      "[CV]  SMOTE__kind=regular, SVC__C=1, SVC__gamma=0.0001, SVC__kernel=rbf, total=12.2min\n",
      "[CV] SMOTE__kind=regular, SVC__C=1, SVC__gamma=0.001, SVC__kernel=rbf \n",
      "[CV]  SMOTE__kind=regular, SVC__C=1, SVC__gamma=0.0001, SVC__kernel=rbf, total=11.2min\n",
      "[CV] SMOTE__kind=regular, SVC__C=1, SVC__gamma=0.001, SVC__kernel=rbf \n",
      "[CV]  SMOTE__kind=regular, SVC__C=1, SVC__gamma=0.001, SVC__kernel=rbf, total= 5.2min\n",
      "[CV] SMOTE__kind=regular, SVC__C=1, SVC__gamma=0.001, SVC__kernel=rbf \n",
      "[CV]  SMOTE__kind=regular, SVC__C=1, SVC__gamma=0.001, SVC__kernel=rbf, total= 7.3min\n",
      "[CV] SMOTE__kind=regular, SVC__C=1, SVC__gamma=0.01, SVC__kernel=rbf .\n",
      "[CV]  SMOTE__kind=regular, SVC__C=1, SVC__gamma=0.001, SVC__kernel=rbf, total= 5.9min\n",
      "[CV] SMOTE__kind=regular, SVC__C=1, SVC__gamma=0.01, SVC__kernel=rbf .\n",
      "[CV]  SMOTE__kind=regular, SVC__C=1, SVC__gamma=0.01, SVC__kernel=rbf, total= 2.7min\n",
      "[CV] SMOTE__kind=regular, SVC__C=1, SVC__gamma=0.01, SVC__kernel=rbf .\n",
      "[CV]  SMOTE__kind=regular, SVC__C=1, SVC__gamma=0.01, SVC__kernel=rbf, total= 3.0min\n",
      "[CV] SMOTE__kind=regular, SVC__C=1, SVC__gamma=0.1, SVC__kernel=rbf ..\n",
      "[CV]  SMOTE__kind=regular, SVC__C=1, SVC__gamma=0.01, SVC__kernel=rbf, total= 3.9min\n",
      "[CV] SMOTE__kind=regular, SVC__C=1, SVC__gamma=0.1, SVC__kernel=rbf ..\n",
      "[CV]  SMOTE__kind=regular, SVC__C=1, SVC__gamma=0.1, SVC__kernel=rbf, total= 6.6min\n",
      "[CV] SMOTE__kind=regular, SVC__C=1, SVC__gamma=0.1, SVC__kernel=rbf ..\n",
      "[CV]  SMOTE__kind=regular, SVC__C=1, SVC__gamma=0.1, SVC__kernel=rbf, total= 8.1min\n",
      "[CV] SMOTE__kind=regular, SVC__C=10, SVC__gamma=0.0001, SVC__kernel=rbf \n",
      "[CV]  SMOTE__kind=regular, SVC__C=1, SVC__gamma=0.1, SVC__kernel=rbf, total= 6.6min\n",
      "[CV] SMOTE__kind=regular, SVC__C=10, SVC__gamma=0.0001, SVC__kernel=rbf \n",
      "[CV]  SMOTE__kind=regular, SVC__C=10, SVC__gamma=0.0001, SVC__kernel=rbf, total= 5.1min\n",
      "[CV] SMOTE__kind=regular, SVC__C=10, SVC__gamma=0.0001, SVC__kernel=rbf \n",
      "[CV]  SMOTE__kind=regular, SVC__C=10, SVC__gamma=0.0001, SVC__kernel=rbf, total= 5.9min\n",
      "[CV] SMOTE__kind=regular, SVC__C=10, SVC__gamma=0.001, SVC__kernel=rbf \n",
      "[CV]  SMOTE__kind=regular, SVC__C=10, SVC__gamma=0.0001, SVC__kernel=rbf, total= 7.2min\n",
      "[CV] SMOTE__kind=regular, SVC__C=10, SVC__gamma=0.001, SVC__kernel=rbf \n",
      "[CV]  SMOTE__kind=regular, SVC__C=10, SVC__gamma=0.001, SVC__kernel=rbf, total= 2.7min\n",
      "[CV] SMOTE__kind=regular, SVC__C=10, SVC__gamma=0.001, SVC__kernel=rbf \n",
      "[CV]  SMOTE__kind=regular, SVC__C=10, SVC__gamma=0.001, SVC__kernel=rbf, total= 4.2min\n",
      "[CV] SMOTE__kind=regular, SVC__C=10, SVC__gamma=0.01, SVC__kernel=rbf \n",
      "[CV]  SMOTE__kind=regular, SVC__C=10, SVC__gamma=0.001, SVC__kernel=rbf, total= 3.1min\n",
      "[CV] SMOTE__kind=regular, SVC__C=10, SVC__gamma=0.01, SVC__kernel=rbf \n",
      "[CV]  SMOTE__kind=regular, SVC__C=10, SVC__gamma=0.01, SVC__kernel=rbf, total= 1.7min\n",
      "[CV] SMOTE__kind=regular, SVC__C=10, SVC__gamma=0.01, SVC__kernel=rbf \n",
      "[CV]  SMOTE__kind=regular, SVC__C=10, SVC__gamma=0.01, SVC__kernel=rbf, total= 1.8min\n",
      "[CV] SMOTE__kind=regular, SVC__C=10, SVC__gamma=0.1, SVC__kernel=rbf .\n",
      "[CV]  SMOTE__kind=regular, SVC__C=10, SVC__gamma=0.01, SVC__kernel=rbf, total= 2.3min\n",
      "[CV] SMOTE__kind=regular, SVC__C=10, SVC__gamma=0.1, SVC__kernel=rbf .\n",
      "[CV]  SMOTE__kind=regular, SVC__C=10, SVC__gamma=0.1, SVC__kernel=rbf, total= 7.1min\n",
      "[CV] SMOTE__kind=regular, SVC__C=10, SVC__gamma=0.1, SVC__kernel=rbf .\n",
      "[CV]  SMOTE__kind=regular, SVC__C=10, SVC__gamma=0.1, SVC__kernel=rbf, total= 8.9min\n",
      "[CV] SMOTE__kind=regular, SVC__C=100, SVC__gamma=0.0001, SVC__kernel=rbf \n",
      "[CV]  SMOTE__kind=regular, SVC__C=100, SVC__gamma=0.0001, SVC__kernel=rbf, total= 2.8min\n",
      "[CV] SMOTE__kind=regular, SVC__C=100, SVC__gamma=0.0001, SVC__kernel=rbf \n",
      "[CV]  SMOTE__kind=regular, SVC__C=10, SVC__gamma=0.1, SVC__kernel=rbf, total= 7.3min\n",
      "[CV] SMOTE__kind=regular, SVC__C=100, SVC__gamma=0.0001, SVC__kernel=rbf \n",
      "[CV]  SMOTE__kind=regular, SVC__C=100, SVC__gamma=0.0001, SVC__kernel=rbf, total= 4.3min\n",
      "[CV] SMOTE__kind=regular, SVC__C=100, SVC__gamma=0.001, SVC__kernel=rbf \n",
      "[CV]  SMOTE__kind=regular, SVC__C=100, SVC__gamma=0.0001, SVC__kernel=rbf, total= 3.1min\n",
      "[CV] SMOTE__kind=regular, SVC__C=100, SVC__gamma=0.001, SVC__kernel=rbf \n",
      "[CV]  SMOTE__kind=regular, SVC__C=100, SVC__gamma=0.001, SVC__kernel=rbf, total= 1.8min\n",
      "[CV] SMOTE__kind=regular, SVC__C=100, SVC__gamma=0.001, SVC__kernel=rbf \n",
      "[CV]  SMOTE__kind=regular, SVC__C=100, SVC__gamma=0.001, SVC__kernel=rbf, total= 2.5min\n",
      "[CV] SMOTE__kind=regular, SVC__C=100, SVC__gamma=0.01, SVC__kernel=rbf \n",
      "[CV]  SMOTE__kind=regular, SVC__C=100, SVC__gamma=0.001, SVC__kernel=rbf, total= 1.9min\n",
      "[CV] SMOTE__kind=regular, SVC__C=100, SVC__gamma=0.01, SVC__kernel=rbf \n",
      "[CV]  SMOTE__kind=regular, SVC__C=100, SVC__gamma=0.01, SVC__kernel=rbf, total= 1.6min\n",
      "[CV] SMOTE__kind=regular, SVC__C=100, SVC__gamma=0.01, SVC__kernel=rbf \n",
      "[CV]  SMOTE__kind=regular, SVC__C=100, SVC__gamma=0.01, SVC__kernel=rbf, total= 2.1min\n",
      "[CV] SMOTE__kind=regular, SVC__C=100, SVC__gamma=0.1, SVC__kernel=rbf \n",
      "[CV]  SMOTE__kind=regular, SVC__C=100, SVC__gamma=0.01, SVC__kernel=rbf, total= 1.7min\n",
      "[CV] SMOTE__kind=regular, SVC__C=100, SVC__gamma=0.1, SVC__kernel=rbf \n",
      "[CV]  SMOTE__kind=regular, SVC__C=100, SVC__gamma=0.1, SVC__kernel=rbf, total= 7.0min\n",
      "[CV] SMOTE__kind=regular, SVC__C=100, SVC__gamma=0.1, SVC__kernel=rbf \n",
      "[CV]  SMOTE__kind=regular, SVC__C=100, SVC__gamma=0.1, SVC__kernel=rbf, total= 8.9min\n",
      "[CV] SMOTE__kind=borderline1, SVC__C=1, SVC__gamma=0.0001, SVC__kernel=rbf \n",
      "[CV]  SMOTE__kind=regular, SVC__C=100, SVC__gamma=0.1, SVC__kernel=rbf, total= 7.2min\n",
      "[CV] SMOTE__kind=borderline1, SVC__C=1, SVC__gamma=0.0001, SVC__kernel=rbf \n",
      "[CV]  SMOTE__kind=borderline1, SVC__C=1, SVC__gamma=0.0001, SVC__kernel=rbf, total=15.1min\n",
      "[CV] SMOTE__kind=borderline1, SVC__C=1, SVC__gamma=0.0001, SVC__kernel=rbf \n",
      "[CV]  SMOTE__kind=borderline1, SVC__C=1, SVC__gamma=0.0001, SVC__kernel=rbf, total=16.9min\n",
      "[CV] SMOTE__kind=borderline1, SVC__C=1, SVC__gamma=0.001, SVC__kernel=rbf \n",
      "[CV]  SMOTE__kind=borderline1, SVC__C=1, SVC__gamma=0.001, SVC__kernel=rbf, total= 7.8min\n",
      "[CV] SMOTE__kind=borderline1, SVC__C=1, SVC__gamma=0.001, SVC__kernel=rbf \n",
      "[CV]  SMOTE__kind=borderline1, SVC__C=1, SVC__gamma=0.0001, SVC__kernel=rbf, total=15.5min\n",
      "[CV] SMOTE__kind=borderline1, SVC__C=1, SVC__gamma=0.001, SVC__kernel=rbf \n",
      "[CV]  SMOTE__kind=borderline1, SVC__C=1, SVC__gamma=0.001, SVC__kernel=rbf, total= 8.7min\n",
      "[CV] SMOTE__kind=borderline1, SVC__C=1, SVC__gamma=0.01, SVC__kernel=rbf \n",
      "[CV]  SMOTE__kind=borderline1, SVC__C=1, SVC__gamma=0.001, SVC__kernel=rbf, total=10.5min\n",
      "[CV] SMOTE__kind=borderline1, SVC__C=1, SVC__gamma=0.01, SVC__kernel=rbf \n",
      "[CV]  SMOTE__kind=borderline1, SVC__C=1, SVC__gamma=0.01, SVC__kernel=rbf, total= 4.2min\n",
      "[CV] SMOTE__kind=borderline1, SVC__C=1, SVC__gamma=0.01, SVC__kernel=rbf \n",
      "[CV]  SMOTE__kind=borderline1, SVC__C=1, SVC__gamma=0.01, SVC__kernel=rbf, total= 5.3min\n",
      "[CV] SMOTE__kind=borderline1, SVC__C=1, SVC__gamma=0.1, SVC__kernel=rbf \n",
      "[CV]  SMOTE__kind=borderline1, SVC__C=1, SVC__gamma=0.01, SVC__kernel=rbf, total= 4.2min\n",
      "[CV] SMOTE__kind=borderline1, SVC__C=1, SVC__gamma=0.1, SVC__kernel=rbf \n",
      "[CV]  SMOTE__kind=borderline1, SVC__C=1, SVC__gamma=0.1, SVC__kernel=rbf, total= 8.4min\n",
      "[CV] SMOTE__kind=borderline1, SVC__C=1, SVC__gamma=0.1, SVC__kernel=rbf \n",
      "[CV]  SMOTE__kind=borderline1, SVC__C=1, SVC__gamma=0.1, SVC__kernel=rbf, total= 9.5min\n",
      "[CV] SMOTE__kind=borderline1, SVC__C=10, SVC__gamma=0.0001, SVC__kernel=rbf \n",
      "[CV]  SMOTE__kind=borderline1, SVC__C=1, SVC__gamma=0.1, SVC__kernel=rbf, total= 8.0min\n",
      "[CV] SMOTE__kind=borderline1, SVC__C=10, SVC__gamma=0.0001, SVC__kernel=rbf \n",
      "[CV]  SMOTE__kind=borderline1, SVC__C=10, SVC__gamma=0.0001, SVC__kernel=rbf, total= 7.7min\n",
      "[CV] SMOTE__kind=borderline1, SVC__C=10, SVC__gamma=0.0001, SVC__kernel=rbf \n",
      "[CV]  SMOTE__kind=borderline1, SVC__C=10, SVC__gamma=0.0001, SVC__kernel=rbf, total=10.6min\n",
      "[CV] SMOTE__kind=borderline1, SVC__C=10, SVC__gamma=0.001, SVC__kernel=rbf \n",
      "[CV]  SMOTE__kind=borderline1, SVC__C=10, SVC__gamma=0.0001, SVC__kernel=rbf, total= 8.7min\n",
      "[CV] SMOTE__kind=borderline1, SVC__C=10, SVC__gamma=0.001, SVC__kernel=rbf \n",
      "[CV]  SMOTE__kind=borderline1, SVC__C=10, SVC__gamma=0.001, SVC__kernel=rbf, total= 4.5min\n",
      "[CV] SMOTE__kind=borderline1, SVC__C=10, SVC__gamma=0.001, SVC__kernel=rbf \n",
      "[CV]  SMOTE__kind=borderline1, SVC__C=10, SVC__gamma=0.001, SVC__kernel=rbf, total= 5.9min\n"
     ]
    },
    {
     "name": "stdout",
     "output_type": "stream",
     "text": [
      "[CV] SMOTE__kind=borderline1, SVC__C=10, SVC__gamma=0.01, SVC__kernel=rbf \n",
      "[CV]  SMOTE__kind=borderline1, SVC__C=10, SVC__gamma=0.001, SVC__kernel=rbf, total= 4.5min\n",
      "[CV] SMOTE__kind=borderline1, SVC__C=10, SVC__gamma=0.01, SVC__kernel=rbf \n",
      "[CV]  SMOTE__kind=borderline1, SVC__C=10, SVC__gamma=0.01, SVC__kernel=rbf, total= 2.9min\n",
      "[CV] SMOTE__kind=borderline1, SVC__C=10, SVC__gamma=0.01, SVC__kernel=rbf \n",
      "[CV]  SMOTE__kind=borderline1, SVC__C=10, SVC__gamma=0.01, SVC__kernel=rbf, total= 3.4min\n",
      "[CV] SMOTE__kind=borderline1, SVC__C=10, SVC__gamma=0.1, SVC__kernel=rbf \n",
      "[CV]  SMOTE__kind=borderline1, SVC__C=10, SVC__gamma=0.01, SVC__kernel=rbf, total= 2.8min\n",
      "[CV] SMOTE__kind=borderline1, SVC__C=10, SVC__gamma=0.1, SVC__kernel=rbf \n",
      "[CV]  SMOTE__kind=borderline1, SVC__C=10, SVC__gamma=0.1, SVC__kernel=rbf, total= 8.8min\n",
      "[CV] SMOTE__kind=borderline1, SVC__C=10, SVC__gamma=0.1, SVC__kernel=rbf \n",
      "[CV]  SMOTE__kind=borderline1, SVC__C=10, SVC__gamma=0.1, SVC__kernel=rbf, total=10.4min\n",
      "[CV] SMOTE__kind=borderline1, SVC__C=100, SVC__gamma=0.0001, SVC__kernel=rbf \n",
      "[CV]  SMOTE__kind=borderline1, SVC__C=100, SVC__gamma=0.0001, SVC__kernel=rbf, total= 4.6min\n",
      "[CV] SMOTE__kind=borderline1, SVC__C=100, SVC__gamma=0.0001, SVC__kernel=rbf \n",
      "[CV]  SMOTE__kind=borderline1, SVC__C=10, SVC__gamma=0.1, SVC__kernel=rbf, total= 8.6min\n",
      "[CV] SMOTE__kind=borderline1, SVC__C=100, SVC__gamma=0.0001, SVC__kernel=rbf \n",
      "[CV]  SMOTE__kind=borderline1, SVC__C=100, SVC__gamma=0.0001, SVC__kernel=rbf, total= 4.7min\n",
      "[CV] SMOTE__kind=borderline1, SVC__C=100, SVC__gamma=0.001, SVC__kernel=rbf \n",
      "[CV]  SMOTE__kind=borderline1, SVC__C=100, SVC__gamma=0.0001, SVC__kernel=rbf, total= 6.2min\n",
      "[CV] SMOTE__kind=borderline1, SVC__C=100, SVC__gamma=0.001, SVC__kernel=rbf \n",
      "[CV]  SMOTE__kind=borderline1, SVC__C=100, SVC__gamma=0.001, SVC__kernel=rbf, total= 3.0min\n",
      "[CV] SMOTE__kind=borderline1, SVC__C=100, SVC__gamma=0.001, SVC__kernel=rbf \n",
      "[CV]  SMOTE__kind=borderline1, SVC__C=100, SVC__gamma=0.001, SVC__kernel=rbf, total= 3.8min\n",
      "[CV] SMOTE__kind=borderline1, SVC__C=100, SVC__gamma=0.01, SVC__kernel=rbf \n",
      "[CV]  SMOTE__kind=borderline1, SVC__C=100, SVC__gamma=0.001, SVC__kernel=rbf, total= 3.0min\n",
      "[CV] SMOTE__kind=borderline1, SVC__C=100, SVC__gamma=0.01, SVC__kernel=rbf \n",
      "[CV]  SMOTE__kind=borderline1, SVC__C=100, SVC__gamma=0.01, SVC__kernel=rbf, total= 2.8min\n",
      "[CV] SMOTE__kind=borderline1, SVC__C=100, SVC__gamma=0.01, SVC__kernel=rbf \n",
      "[CV]  SMOTE__kind=borderline1, SVC__C=100, SVC__gamma=0.01, SVC__kernel=rbf, total= 3.3min\n",
      "[CV] SMOTE__kind=borderline1, SVC__C=100, SVC__gamma=0.1, SVC__kernel=rbf \n",
      "[CV]  SMOTE__kind=borderline1, SVC__C=100, SVC__gamma=0.01, SVC__kernel=rbf, total= 2.8min\n",
      "[CV] SMOTE__kind=borderline1, SVC__C=100, SVC__gamma=0.1, SVC__kernel=rbf \n",
      "[CV]  SMOTE__kind=borderline1, SVC__C=100, SVC__gamma=0.1, SVC__kernel=rbf, total= 8.8min\n",
      "[CV] SMOTE__kind=borderline1, SVC__C=100, SVC__gamma=0.1, SVC__kernel=rbf \n",
      "[CV]  SMOTE__kind=borderline1, SVC__C=100, SVC__gamma=0.1, SVC__kernel=rbf, total=10.4min\n",
      "[CV] SMOTE__kind=borderline2, SVC__C=1, SVC__gamma=0.0001, SVC__kernel=rbf \n",
      "[CV]  SMOTE__kind=borderline1, SVC__C=100, SVC__gamma=0.1, SVC__kernel=rbf, total= 8.6min\n",
      "[CV] SMOTE__kind=borderline2, SVC__C=1, SVC__gamma=0.0001, SVC__kernel=rbf \n",
      "[CV]  SMOTE__kind=borderline2, SVC__C=1, SVC__gamma=0.0001, SVC__kernel=rbf, total=16.2min\n",
      "[CV] SMOTE__kind=borderline2, SVC__C=1, SVC__gamma=0.0001, SVC__kernel=rbf \n",
      "[CV]  SMOTE__kind=borderline2, SVC__C=1, SVC__gamma=0.0001, SVC__kernel=rbf, total=17.1min\n",
      "[CV] SMOTE__kind=borderline2, SVC__C=1, SVC__gamma=0.001, SVC__kernel=rbf \n",
      "[CV]  SMOTE__kind=borderline2, SVC__C=1, SVC__gamma=0.001, SVC__kernel=rbf, total= 8.3min\n",
      "[CV] SMOTE__kind=borderline2, SVC__C=1, SVC__gamma=0.001, SVC__kernel=rbf \n",
      "[CV]  SMOTE__kind=borderline2, SVC__C=1, SVC__gamma=0.0001, SVC__kernel=rbf, total=16.3min\n",
      "[CV] SMOTE__kind=borderline2, SVC__C=1, SVC__gamma=0.001, SVC__kernel=rbf \n",
      "[CV]  SMOTE__kind=borderline2, SVC__C=1, SVC__gamma=0.001, SVC__kernel=rbf, total=11.6min\n",
      "[CV] SMOTE__kind=borderline2, SVC__C=1, SVC__gamma=0.01, SVC__kernel=rbf \n",
      "[CV]  SMOTE__kind=borderline2, SVC__C=1, SVC__gamma=0.001, SVC__kernel=rbf, total= 9.8min\n",
      "[CV] SMOTE__kind=borderline2, SVC__C=1, SVC__gamma=0.01, SVC__kernel=rbf \n",
      "[CV]  SMOTE__kind=borderline2, SVC__C=1, SVC__gamma=0.01, SVC__kernel=rbf, total= 4.4min\n",
      "[CV] SMOTE__kind=borderline2, SVC__C=1, SVC__gamma=0.01, SVC__kernel=rbf \n",
      "[CV]  SMOTE__kind=borderline2, SVC__C=1, SVC__gamma=0.01, SVC__kernel=rbf, total= 5.5min\n",
      "[CV] SMOTE__kind=borderline2, SVC__C=1, SVC__gamma=0.1, SVC__kernel=rbf \n",
      "[CV]  SMOTE__kind=borderline2, SVC__C=1, SVC__gamma=0.01, SVC__kernel=rbf, total= 4.5min\n",
      "[CV] SMOTE__kind=borderline2, SVC__C=1, SVC__gamma=0.1, SVC__kernel=rbf \n",
      "[CV]  SMOTE__kind=borderline2, SVC__C=1, SVC__gamma=0.1, SVC__kernel=rbf, total= 9.0min\n",
      "[CV] SMOTE__kind=borderline2, SVC__C=1, SVC__gamma=0.1, SVC__kernel=rbf \n",
      "[CV]  SMOTE__kind=borderline2, SVC__C=1, SVC__gamma=0.1, SVC__kernel=rbf, total=10.5min\n",
      "[CV] SMOTE__kind=borderline2, SVC__C=10, SVC__gamma=0.0001, SVC__kernel=rbf \n",
      "[CV]  SMOTE__kind=borderline2, SVC__C=1, SVC__gamma=0.1, SVC__kernel=rbf, total= 9.2min\n",
      "[CV] SMOTE__kind=borderline2, SVC__C=10, SVC__gamma=0.0001, SVC__kernel=rbf \n",
      "[CV]  SMOTE__kind=borderline2, SVC__C=10, SVC__gamma=0.0001, SVC__kernel=rbf, total= 8.4min\n",
      "[CV] SMOTE__kind=borderline2, SVC__C=10, SVC__gamma=0.0001, SVC__kernel=rbf \n",
      "[CV]  SMOTE__kind=borderline2, SVC__C=10, SVC__gamma=0.0001, SVC__kernel=rbf, total=11.4min\n",
      "[CV] SMOTE__kind=borderline2, SVC__C=10, SVC__gamma=0.001, SVC__kernel=rbf \n",
      "[CV]  SMOTE__kind=borderline2, SVC__C=10, SVC__gamma=0.0001, SVC__kernel=rbf, total= 9.7min\n",
      "[CV] SMOTE__kind=borderline2, SVC__C=10, SVC__gamma=0.001, SVC__kernel=rbf \n",
      "[CV]  SMOTE__kind=borderline2, SVC__C=10, SVC__gamma=0.001, SVC__kernel=rbf, total= 4.9min\n",
      "[CV] SMOTE__kind=borderline2, SVC__C=10, SVC__gamma=0.001, SVC__kernel=rbf \n",
      "[CV]  SMOTE__kind=borderline2, SVC__C=10, SVC__gamma=0.001, SVC__kernel=rbf, total= 6.4min\n",
      "[CV] SMOTE__kind=borderline2, SVC__C=10, SVC__gamma=0.01, SVC__kernel=rbf \n",
      "[CV]  SMOTE__kind=borderline2, SVC__C=10, SVC__gamma=0.001, SVC__kernel=rbf, total= 5.1min\n",
      "[CV] SMOTE__kind=borderline2, SVC__C=10, SVC__gamma=0.01, SVC__kernel=rbf \n",
      "[CV]  SMOTE__kind=borderline2, SVC__C=10, SVC__gamma=0.01, SVC__kernel=rbf, total= 2.9min\n",
      "[CV] SMOTE__kind=borderline2, SVC__C=10, SVC__gamma=0.01, SVC__kernel=rbf \n",
      "[CV]  SMOTE__kind=borderline2, SVC__C=10, SVC__gamma=0.01, SVC__kernel=rbf, total= 3.4min\n",
      "[CV] SMOTE__kind=borderline2, SVC__C=10, SVC__gamma=0.1, SVC__kernel=rbf \n",
      "[CV]  SMOTE__kind=borderline2, SVC__C=10, SVC__gamma=0.01, SVC__kernel=rbf, total= 2.9min\n",
      "[CV] SMOTE__kind=borderline2, SVC__C=10, SVC__gamma=0.1, SVC__kernel=rbf \n",
      "[CV]  SMOTE__kind=borderline2, SVC__C=10, SVC__gamma=0.1, SVC__kernel=rbf, total= 9.4min\n",
      "[CV] SMOTE__kind=borderline2, SVC__C=10, SVC__gamma=0.1, SVC__kernel=rbf \n",
      "[CV]  SMOTE__kind=borderline2, SVC__C=10, SVC__gamma=0.1, SVC__kernel=rbf, total=10.9min\n",
      "[CV] SMOTE__kind=borderline2, SVC__C=100, SVC__gamma=0.0001, SVC__kernel=rbf \n",
      "[CV]  SMOTE__kind=borderline2, SVC__C=100, SVC__gamma=0.0001, SVC__kernel=rbf, total= 4.8min\n",
      "[CV] SMOTE__kind=borderline2, SVC__C=100, SVC__gamma=0.0001, SVC__kernel=rbf \n",
      "[CV]  SMOTE__kind=borderline2, SVC__C=10, SVC__gamma=0.1, SVC__kernel=rbf, total= 9.5min\n",
      "[CV] SMOTE__kind=borderline2, SVC__C=100, SVC__gamma=0.0001, SVC__kernel=rbf \n",
      "[CV]  SMOTE__kind=borderline2, SVC__C=100, SVC__gamma=0.0001, SVC__kernel=rbf, total= 5.3min\n",
      "[CV] SMOTE__kind=borderline2, SVC__C=100, SVC__gamma=0.001, SVC__kernel=rbf \n",
      "[CV]  SMOTE__kind=borderline2, SVC__C=100, SVC__gamma=0.0001, SVC__kernel=rbf, total= 6.8min\n",
      "[CV] SMOTE__kind=borderline2, SVC__C=100, SVC__gamma=0.001, SVC__kernel=rbf \n",
      "[CV]  SMOTE__kind=borderline2, SVC__C=100, SVC__gamma=0.001, SVC__kernel=rbf, total= 3.1min\n",
      "[CV] SMOTE__kind=borderline2, SVC__C=100, SVC__gamma=0.001, SVC__kernel=rbf \n",
      "[CV]  SMOTE__kind=borderline2, SVC__C=100, SVC__gamma=0.001, SVC__kernel=rbf, total= 4.0min\n",
      "[CV] SMOTE__kind=borderline2, SVC__C=100, SVC__gamma=0.01, SVC__kernel=rbf \n",
      "[CV]  SMOTE__kind=borderline2, SVC__C=100, SVC__gamma=0.001, SVC__kernel=rbf, total= 3.1min\n",
      "[CV] SMOTE__kind=borderline2, SVC__C=100, SVC__gamma=0.01, SVC__kernel=rbf \n"
     ]
    },
    {
     "name": "stdout",
     "output_type": "stream",
     "text": [
      "[CV]  SMOTE__kind=borderline2, SVC__C=100, SVC__gamma=0.01, SVC__kernel=rbf, total= 2.7min\n",
      "[CV] SMOTE__kind=borderline2, SVC__C=100, SVC__gamma=0.01, SVC__kernel=rbf \n",
      "[CV]  SMOTE__kind=borderline2, SVC__C=100, SVC__gamma=0.01, SVC__kernel=rbf, total= 3.2min\n",
      "[CV] SMOTE__kind=borderline2, SVC__C=100, SVC__gamma=0.1, SVC__kernel=rbf \n",
      "[CV]  SMOTE__kind=borderline2, SVC__C=100, SVC__gamma=0.01, SVC__kernel=rbf, total= 2.8min\n",
      "[CV] SMOTE__kind=borderline2, SVC__C=100, SVC__gamma=0.1, SVC__kernel=rbf \n",
      "[CV]  SMOTE__kind=borderline2, SVC__C=100, SVC__gamma=0.1, SVC__kernel=rbf, total= 9.5min\n",
      "[CV] SMOTE__kind=borderline2, SVC__C=100, SVC__gamma=0.1, SVC__kernel=rbf \n",
      "[CV]  SMOTE__kind=borderline2, SVC__C=100, SVC__gamma=0.1, SVC__kernel=rbf, total=11.0min\n",
      "[CV] SMOTE__kind=svm, SVC__C=1, SVC__gamma=0.0001, SVC__kernel=rbf ...\n",
      "[CV]  SMOTE__kind=borderline2, SVC__C=100, SVC__gamma=0.1, SVC__kernel=rbf, total= 9.6min\n",
      "[CV] SMOTE__kind=svm, SVC__C=1, SVC__gamma=0.0001, SVC__kernel=rbf ...\n",
      "[CV]  SMOTE__kind=svm, SVC__C=1, SVC__gamma=0.0001, SVC__kernel=rbf, total=18.2min\n",
      "[CV] SMOTE__kind=svm, SVC__C=1, SVC__gamma=0.0001, SVC__kernel=rbf ...\n",
      "[CV]  SMOTE__kind=svm, SVC__C=1, SVC__gamma=0.0001, SVC__kernel=rbf, total=19.1min\n",
      "[CV] SMOTE__kind=svm, SVC__C=1, SVC__gamma=0.001, SVC__kernel=rbf ....\n",
      "[CV]  SMOTE__kind=svm, SVC__C=1, SVC__gamma=0.0001, SVC__kernel=rbf, total=17.4min\n",
      "[CV] SMOTE__kind=svm, SVC__C=1, SVC__gamma=0.001, SVC__kernel=rbf ....\n",
      "[CV]  SMOTE__kind=svm, SVC__C=1, SVC__gamma=0.001, SVC__kernel=rbf, total=10.6min\n",
      "[CV] SMOTE__kind=svm, SVC__C=1, SVC__gamma=0.001, SVC__kernel=rbf ....\n",
      "[CV]  SMOTE__kind=svm, SVC__C=1, SVC__gamma=0.001, SVC__kernel=rbf, total=11.5min\n",
      "[CV] SMOTE__kind=svm, SVC__C=1, SVC__gamma=0.01, SVC__kernel=rbf .....\n",
      "[CV]  SMOTE__kind=svm, SVC__C=1, SVC__gamma=0.001, SVC__kernel=rbf, total=13.7min\n",
      "[CV] SMOTE__kind=svm, SVC__C=1, SVC__gamma=0.01, SVC__kernel=rbf .....\n",
      "[CV]  SMOTE__kind=svm, SVC__C=1, SVC__gamma=0.01, SVC__kernel=rbf, total= 7.4min\n",
      "[CV] SMOTE__kind=svm, SVC__C=1, SVC__gamma=0.01, SVC__kernel=rbf .....\n",
      "[CV]  SMOTE__kind=svm, SVC__C=1, SVC__gamma=0.01, SVC__kernel=rbf, total= 9.6min\n",
      "[CV] SMOTE__kind=svm, SVC__C=1, SVC__gamma=0.1, SVC__kernel=rbf ......\n",
      "[CV]  SMOTE__kind=svm, SVC__C=1, SVC__gamma=0.01, SVC__kernel=rbf, total= 7.7min\n",
      "[CV] SMOTE__kind=svm, SVC__C=1, SVC__gamma=0.1, SVC__kernel=rbf ......\n",
      "[CV]  SMOTE__kind=svm, SVC__C=1, SVC__gamma=0.1, SVC__kernel=rbf, total=13.9min\n",
      "[CV] SMOTE__kind=svm, SVC__C=1, SVC__gamma=0.1, SVC__kernel=rbf ......\n",
      "[CV]  SMOTE__kind=svm, SVC__C=1, SVC__gamma=0.1, SVC__kernel=rbf, total=21.0min\n",
      "[CV] SMOTE__kind=svm, SVC__C=10, SVC__gamma=0.0001, SVC__kernel=rbf ..\n",
      "[CV]  SMOTE__kind=svm, SVC__C=1, SVC__gamma=0.1, SVC__kernel=rbf, total=20.6min\n",
      "[CV] SMOTE__kind=svm, SVC__C=10, SVC__gamma=0.0001, SVC__kernel=rbf ..\n",
      "[CV]  SMOTE__kind=svm, SVC__C=10, SVC__gamma=0.0001, SVC__kernel=rbf, total=10.5min\n",
      "[CV] SMOTE__kind=svm, SVC__C=10, SVC__gamma=0.0001, SVC__kernel=rbf ..\n",
      "[CV]  SMOTE__kind=svm, SVC__C=10, SVC__gamma=0.0001, SVC__kernel=rbf, total=11.6min\n",
      "[CV] SMOTE__kind=svm, SVC__C=10, SVC__gamma=0.001, SVC__kernel=rbf ...\n"
     ]
    },
    {
     "name": "stderr",
     "output_type": "stream",
     "text": [
      "[Parallel(n_jobs=2)]: Done 158 tasks      | elapsed: 725.6min\n"
     ]
    },
    {
     "name": "stdout",
     "output_type": "stream",
     "text": [
      "[CV]  SMOTE__kind=svm, SVC__C=10, SVC__gamma=0.0001, SVC__kernel=rbf, total=13.7min\n",
      "[CV] SMOTE__kind=svm, SVC__C=10, SVC__gamma=0.001, SVC__kernel=rbf ...\n",
      "[CV]  SMOTE__kind=svm, SVC__C=10, SVC__gamma=0.001, SVC__kernel=rbf, total= 7.3min\n",
      "[CV] SMOTE__kind=svm, SVC__C=10, SVC__gamma=0.001, SVC__kernel=rbf ...\n",
      "[CV]  SMOTE__kind=svm, SVC__C=10, SVC__gamma=0.001, SVC__kernel=rbf, total= 9.6min\n",
      "[CV] SMOTE__kind=svm, SVC__C=10, SVC__gamma=0.01, SVC__kernel=rbf ....\n",
      "[CV]  SMOTE__kind=svm, SVC__C=10, SVC__gamma=0.001, SVC__kernel=rbf, total= 7.7min\n",
      "[CV] SMOTE__kind=svm, SVC__C=10, SVC__gamma=0.01, SVC__kernel=rbf ....\n",
      "[CV]  SMOTE__kind=svm, SVC__C=10, SVC__gamma=0.01, SVC__kernel=rbf, total= 6.0min\n",
      "[CV] SMOTE__kind=svm, SVC__C=10, SVC__gamma=0.01, SVC__kernel=rbf ....\n",
      "[CV]  SMOTE__kind=svm, SVC__C=10, SVC__gamma=0.01, SVC__kernel=rbf, total= 6.2min\n",
      "[CV] SMOTE__kind=svm, SVC__C=10, SVC__gamma=0.1, SVC__kernel=rbf .....\n",
      "[CV]  SMOTE__kind=svm, SVC__C=10, SVC__gamma=0.01, SVC__kernel=rbf, total= 7.6min\n",
      "[CV] SMOTE__kind=svm, SVC__C=10, SVC__gamma=0.1, SVC__kernel=rbf .....\n",
      "[CV]  SMOTE__kind=svm, SVC__C=10, SVC__gamma=0.1, SVC__kernel=rbf, total=18.0min\n",
      "[CV] SMOTE__kind=svm, SVC__C=10, SVC__gamma=0.1, SVC__kernel=rbf .....\n",
      "[CV]  SMOTE__kind=svm, SVC__C=10, SVC__gamma=0.1, SVC__kernel=rbf, total=19.8min\n",
      "[CV] SMOTE__kind=svm, SVC__C=100, SVC__gamma=0.0001, SVC__kernel=rbf .\n",
      "[CV]  SMOTE__kind=svm, SVC__C=100, SVC__gamma=0.0001, SVC__kernel=rbf, total= 7.4min\n",
      "[CV] SMOTE__kind=svm, SVC__C=100, SVC__gamma=0.0001, SVC__kernel=rbf .\n",
      "[CV]  SMOTE__kind=svm, SVC__C=100, SVC__gamma=0.0001, SVC__kernel=rbf, total= 9.6min\n",
      "[CV] SMOTE__kind=svm, SVC__C=100, SVC__gamma=0.0001, SVC__kernel=rbf .\n",
      "[CV]  SMOTE__kind=svm, SVC__C=10, SVC__gamma=0.1, SVC__kernel=rbf, total=21.1min\n",
      "[CV] SMOTE__kind=svm, SVC__C=100, SVC__gamma=0.001, SVC__kernel=rbf ..\n",
      "[CV]  SMOTE__kind=svm, SVC__C=100, SVC__gamma=0.001, SVC__kernel=rbf, total= 6.2min\n",
      "[CV] SMOTE__kind=svm, SVC__C=100, SVC__gamma=0.001, SVC__kernel=rbf ..\n",
      "[CV]  SMOTE__kind=svm, SVC__C=100, SVC__gamma=0.0001, SVC__kernel=rbf, total= 7.9min\n",
      "[CV] SMOTE__kind=svm, SVC__C=100, SVC__gamma=0.001, SVC__kernel=rbf ..\n",
      "[CV]  SMOTE__kind=svm, SVC__C=100, SVC__gamma=0.001, SVC__kernel=rbf, total= 7.9min\n",
      "[CV] SMOTE__kind=svm, SVC__C=100, SVC__gamma=0.01, SVC__kernel=rbf ...\n",
      "[CV]  SMOTE__kind=svm, SVC__C=100, SVC__gamma=0.001, SVC__kernel=rbf, total= 6.1min\n",
      "[CV] SMOTE__kind=svm, SVC__C=100, SVC__gamma=0.01, SVC__kernel=rbf ...\n",
      "[CV]  SMOTE__kind=svm, SVC__C=100, SVC__gamma=0.01, SVC__kernel=rbf, total= 5.9min\n",
      "[CV] SMOTE__kind=svm, SVC__C=100, SVC__gamma=0.01, SVC__kernel=rbf ...\n",
      "[CV]  SMOTE__kind=svm, SVC__C=100, SVC__gamma=0.01, SVC__kernel=rbf, total= 8.8min\n",
      "[CV] SMOTE__kind=svm, SVC__C=100, SVC__gamma=0.1, SVC__kernel=rbf ....\n",
      "[CV]  SMOTE__kind=svm, SVC__C=100, SVC__gamma=0.01, SVC__kernel=rbf, total= 6.1min\n",
      "[CV] SMOTE__kind=svm, SVC__C=100, SVC__gamma=0.1, SVC__kernel=rbf ....\n",
      "[CV]  SMOTE__kind=svm, SVC__C=100, SVC__gamma=0.1, SVC__kernel=rbf, total=17.1min\n",
      "[CV] SMOTE__kind=svm, SVC__C=100, SVC__gamma=0.1, SVC__kernel=rbf ....\n",
      "[CV]  SMOTE__kind=svm, SVC__C=100, SVC__gamma=0.1, SVC__kernel=rbf, total=22.5min\n",
      "[CV]  SMOTE__kind=svm, SVC__C=100, SVC__gamma=0.1, SVC__kernel=rbf, total=21.2min\n"
     ]
    },
    {
     "name": "stderr",
     "output_type": "stream",
     "text": [
      "[Parallel(n_jobs=2)]: Done 180 out of 180 | elapsed: 862.8min finished\n"
     ]
    },
    {
     "name": "stdout",
     "output_type": "stream",
     "text": [
      "Best Combined Parameters set found on data set:\n",
      "\n",
      "{'SMOTE__kind': 'borderline2', 'SVC__C': 1, 'SVC__gamma': 0.001, 'SVC__kernel': 'rbf'}\n",
      "\n",
      "Grid scores on data set:\n",
      "\n",
      "0.591 (+/-0.061) for {'SMOTE__kind': 'regular', 'SVC__C': 1, 'SVC__kernel': 'linear'}\n",
      "0.578 (+/-0.055) for {'SMOTE__kind': 'regular', 'SVC__C': 10, 'SVC__kernel': 'linear'}\n",
      "0.575 (+/-0.055) for {'SMOTE__kind': 'regular', 'SVC__C': 100, 'SVC__kernel': 'linear'}\n",
      "0.585 (+/-0.061) for {'SMOTE__kind': 'borderline1', 'SVC__C': 1, 'SVC__kernel': 'linear'}\n",
      "0.576 (+/-0.055) for {'SMOTE__kind': 'borderline1', 'SVC__C': 10, 'SVC__kernel': 'linear'}\n",
      "0.574 (+/-0.054) for {'SMOTE__kind': 'borderline1', 'SVC__C': 100, 'SVC__kernel': 'linear'}\n",
      "0.599 (+/-0.080) for {'SMOTE__kind': 'borderline2', 'SVC__C': 1, 'SVC__kernel': 'linear'}\n",
      "0.589 (+/-0.077) for {'SMOTE__kind': 'borderline2', 'SVC__C': 10, 'SVC__kernel': 'linear'}\n",
      "0.585 (+/-0.080) for {'SMOTE__kind': 'borderline2', 'SVC__C': 100, 'SVC__kernel': 'linear'}\n",
      "0.596 (+/-0.066) for {'SMOTE__kind': 'svm', 'SVC__C': 1, 'SVC__kernel': 'linear'}\n",
      "0.583 (+/-0.052) for {'SMOTE__kind': 'svm', 'SVC__C': 10, 'SVC__kernel': 'linear'}\n",
      "0.579 (+/-0.059) for {'SMOTE__kind': 'svm', 'SVC__C': 100, 'SVC__kernel': 'linear'}\n",
      "0.656 (+/-0.081) for {'SMOTE__kind': 'regular', 'SVC__C': 1, 'SVC__gamma': 0.0001, 'SVC__kernel': 'rbf'}\n",
      "0.658 (+/-0.129) for {'SMOTE__kind': 'regular', 'SVC__C': 1, 'SVC__gamma': 0.001, 'SVC__kernel': 'rbf'}\n",
      "0.649 (+/-0.099) for {'SMOTE__kind': 'regular', 'SVC__C': 1, 'SVC__gamma': 0.01, 'SVC__kernel': 'rbf'}\n",
      "0.613 (+/-0.046) for {'SMOTE__kind': 'regular', 'SVC__C': 1, 'SVC__gamma': 0.1, 'SVC__kernel': 'rbf'}\n",
      "0.657 (+/-0.130) for {'SMOTE__kind': 'regular', 'SVC__C': 10, 'SVC__gamma': 0.0001, 'SVC__kernel': 'rbf'}\n",
      "0.642 (+/-0.099) for {'SMOTE__kind': 'regular', 'SVC__C': 10, 'SVC__gamma': 0.001, 'SVC__kernel': 'rbf'}\n",
      "0.607 (+/-0.070) for {'SMOTE__kind': 'regular', 'SVC__C': 10, 'SVC__gamma': 0.01, 'SVC__kernel': 'rbf'}\n",
      "0.612 (+/-0.045) for {'SMOTE__kind': 'regular', 'SVC__C': 10, 'SVC__gamma': 0.1, 'SVC__kernel': 'rbf'}\n",
      "0.637 (+/-0.100) for {'SMOTE__kind': 'regular', 'SVC__C': 100, 'SVC__gamma': 0.0001, 'SVC__kernel': 'rbf'}\n",
      "0.607 (+/-0.067) for {'SMOTE__kind': 'regular', 'SVC__C': 100, 'SVC__gamma': 0.001, 'SVC__kernel': 'rbf'}\n",
      "0.598 (+/-0.070) for {'SMOTE__kind': 'regular', 'SVC__C': 100, 'SVC__gamma': 0.01, 'SVC__kernel': 'rbf'}\n",
      "0.612 (+/-0.045) for {'SMOTE__kind': 'regular', 'SVC__C': 100, 'SVC__gamma': 0.1, 'SVC__kernel': 'rbf'}\n",
      "0.653 (+/-0.055) for {'SMOTE__kind': 'borderline1', 'SVC__C': 1, 'SVC__gamma': 0.0001, 'SVC__kernel': 'rbf'}\n",
      "0.660 (+/-0.092) for {'SMOTE__kind': 'borderline1', 'SVC__C': 1, 'SVC__gamma': 0.001, 'SVC__kernel': 'rbf'}\n",
      "0.647 (+/-0.090) for {'SMOTE__kind': 'borderline1', 'SVC__C': 1, 'SVC__gamma': 0.01, 'SVC__kernel': 'rbf'}\n",
      "0.614 (+/-0.046) for {'SMOTE__kind': 'borderline1', 'SVC__C': 1, 'SVC__gamma': 0.1, 'SVC__kernel': 'rbf'}\n",
      "0.658 (+/-0.092) for {'SMOTE__kind': 'borderline1', 'SVC__C': 10, 'SVC__gamma': 0.0001, 'SVC__kernel': 'rbf'}\n",
      "0.632 (+/-0.088) for {'SMOTE__kind': 'borderline1', 'SVC__C': 10, 'SVC__gamma': 0.001, 'SVC__kernel': 'rbf'}\n",
      "0.606 (+/-0.071) for {'SMOTE__kind': 'borderline1', 'SVC__C': 10, 'SVC__gamma': 0.01, 'SVC__kernel': 'rbf'}\n",
      "0.609 (+/-0.043) for {'SMOTE__kind': 'borderline1', 'SVC__C': 10, 'SVC__gamma': 0.1, 'SVC__kernel': 'rbf'}\n",
      "0.630 (+/-0.089) for {'SMOTE__kind': 'borderline1', 'SVC__C': 100, 'SVC__gamma': 0.0001, 'SVC__kernel': 'rbf'}\n",
      "0.606 (+/-0.067) for {'SMOTE__kind': 'borderline1', 'SVC__C': 100, 'SVC__gamma': 0.001, 'SVC__kernel': 'rbf'}\n",
      "0.598 (+/-0.070) for {'SMOTE__kind': 'borderline1', 'SVC__C': 100, 'SVC__gamma': 0.01, 'SVC__kernel': 'rbf'}\n",
      "0.609 (+/-0.043) for {'SMOTE__kind': 'borderline1', 'SVC__C': 100, 'SVC__gamma': 0.1, 'SVC__kernel': 'rbf'}\n",
      "0.651 (+/-0.059) for {'SMOTE__kind': 'borderline2', 'SVC__C': 1, 'SVC__gamma': 0.0001, 'SVC__kernel': 'rbf'}\n",
      "0.664 (+/-0.097) for {'SMOTE__kind': 'borderline2', 'SVC__C': 1, 'SVC__gamma': 0.001, 'SVC__kernel': 'rbf'}\n",
      "0.641 (+/-0.085) for {'SMOTE__kind': 'borderline2', 'SVC__C': 1, 'SVC__gamma': 0.01, 'SVC__kernel': 'rbf'}\n",
      "0.592 (+/-0.040) for {'SMOTE__kind': 'borderline2', 'SVC__C': 1, 'SVC__gamma': 0.1, 'SVC__kernel': 'rbf'}\n",
      "0.660 (+/-0.095) for {'SMOTE__kind': 'borderline2', 'SVC__C': 10, 'SVC__gamma': 0.0001, 'SVC__kernel': 'rbf'}\n",
      "0.633 (+/-0.090) for {'SMOTE__kind': 'borderline2', 'SVC__C': 10, 'SVC__gamma': 0.001, 'SVC__kernel': 'rbf'}\n",
      "0.600 (+/-0.076) for {'SMOTE__kind': 'borderline2', 'SVC__C': 10, 'SVC__gamma': 0.01, 'SVC__kernel': 'rbf'}\n",
      "0.588 (+/-0.037) for {'SMOTE__kind': 'borderline2', 'SVC__C': 10, 'SVC__gamma': 0.1, 'SVC__kernel': 'rbf'}\n",
      "0.636 (+/-0.093) for {'SMOTE__kind': 'borderline2', 'SVC__C': 100, 'SVC__gamma': 0.0001, 'SVC__kernel': 'rbf'}\n",
      "0.606 (+/-0.080) for {'SMOTE__kind': 'borderline2', 'SVC__C': 100, 'SVC__gamma': 0.001, 'SVC__kernel': 'rbf'}\n",
      "0.594 (+/-0.075) for {'SMOTE__kind': 'borderline2', 'SVC__C': 100, 'SVC__gamma': 0.01, 'SVC__kernel': 'rbf'}\n",
      "0.587 (+/-0.038) for {'SMOTE__kind': 'borderline2', 'SVC__C': 100, 'SVC__gamma': 0.1, 'SVC__kernel': 'rbf'}\n",
      "0.616 (+/-0.080) for {'SMOTE__kind': 'svm', 'SVC__C': 1, 'SVC__gamma': 0.0001, 'SVC__kernel': 'rbf'}\n",
      "0.637 (+/-0.117) for {'SMOTE__kind': 'svm', 'SVC__C': 1, 'SVC__gamma': 0.001, 'SVC__kernel': 'rbf'}\n",
      "0.647 (+/-0.111) for {'SMOTE__kind': 'svm', 'SVC__C': 1, 'SVC__gamma': 0.01, 'SVC__kernel': 'rbf'}\n",
      "0.639 (+/-0.067) for {'SMOTE__kind': 'svm', 'SVC__C': 1, 'SVC__gamma': 0.1, 'SVC__kernel': 'rbf'}\n",
      "0.633 (+/-0.121) for {'SMOTE__kind': 'svm', 'SVC__C': 10, 'SVC__gamma': 0.0001, 'SVC__kernel': 'rbf'}\n",
      "0.630 (+/-0.110) for {'SMOTE__kind': 'svm', 'SVC__C': 10, 'SVC__gamma': 0.001, 'SVC__kernel': 'rbf'}\n",
      "0.614 (+/-0.073) for {'SMOTE__kind': 'svm', 'SVC__C': 10, 'SVC__gamma': 0.01, 'SVC__kernel': 'rbf'}\n",
      "0.636 (+/-0.064) for {'SMOTE__kind': 'svm', 'SVC__C': 10, 'SVC__gamma': 0.1, 'SVC__kernel': 'rbf'}\n",
      "0.627 (+/-0.111) for {'SMOTE__kind': 'svm', 'SVC__C': 100, 'SVC__gamma': 0.0001, 'SVC__kernel': 'rbf'}\n",
      "0.603 (+/-0.073) for {'SMOTE__kind': 'svm', 'SVC__C': 100, 'SVC__gamma': 0.001, 'SVC__kernel': 'rbf'}\n",
      "0.601 (+/-0.071) for {'SMOTE__kind': 'svm', 'SVC__C': 100, 'SVC__gamma': 0.01, 'SVC__kernel': 'rbf'}\n",
      "0.641 (+/-0.067) for {'SMOTE__kind': 'svm', 'SVC__C': 100, 'SVC__gamma': 0.1, 'SVC__kernel': 'rbf'}\n",
      "\n"
     ]
    }
   ],
   "source": [
    "# Hyper Parameter Tuning\n",
    "for score in scores:\n",
    "    \n",
    "    with warnings.catch_warnings():\n",
    "        warnings.simplefilter(\"ignore\")\n",
    "        print(\"## Tuning hyper-parameters for {}\".format(score))\n",
    "        print()\n",
    "\n",
    "        if score is \"accuracy\":\n",
    "            scoring = score\n",
    "        else:\n",
    "            scoring = '{}_macro'.format(score)      \n",
    "        \n",
    "        #### TRAIN COMBINED LH & RH\n",
    "        clf_comb = GridSearchCV(pipeline, param_grid, cv=logo.get_n_splits(groups=groups_comb_train), scoring=scoring, n_jobs=2, verbose=2)\n",
    "        clf_comb.fit(X_comb_train, y_comb_train)\n",
    "\n",
    "        print(\"Best Combined Parameters set found on data set:\")\n",
    "        print()\n",
    "        print(clf_comb.best_params_)\n",
    "        print()\n",
    "        print(\"Grid scores on data set:\")\n",
    "        print()\n",
    "        means = clf_comb.cv_results_['mean_test_score']\n",
    "        stds  = clf_comb.cv_results_['std_test_score']\n",
    "        for mean, std, params in zip(means, stds, clf_comb.cv_results_['params']):\n",
    "            print(\"%0.3f (+/-%0.3f) for %r\" % (mean, std, params))\n",
    "        print()"
   ]
  },
  {
   "cell_type": "code",
   "execution_count": 17,
   "metadata": {},
   "outputs": [
    {
     "name": "stdout",
     "output_type": "stream",
     "text": [
      "Comb Validatation Score: 0.658113207547\n",
      "Comb Confustion Matrix:\n",
      " [[2504 1362   51]\n",
      " [ 352  984    0]\n",
      " [  13   34    0]]\n",
      "             precision    recall  f1-score   support\n",
      "\n",
      "          0       0.87      0.64      0.74      3917\n",
      "          1       0.41      0.74      0.53      1336\n",
      "          2       0.00      0.00      0.00        47\n",
      "\n",
      "avg / total       0.75      0.66      0.68      5300\n",
      "\n",
      "\n"
     ]
    }
   ],
   "source": [
    "from sklearn.metrics import accuracy_score\n",
    "y_comb_true, y_comb_pred = y_comb_val, clf_comb.predict(X_comb_val)\n",
    "\n",
    "print(\"Comb Validatation Score:\", accuracy_score(y_comb_true, y_comb_pred))\n",
    "print(\"Comb Confustion Matrix:\\n\", confusion_matrix(y_comb_true, y_comb_pred))\n",
    "print(classification_report(y_comb_true, y_comb_pred))\n",
    "print()\n"
   ]
  },
  {
   "cell_type": "markdown",
   "metadata": {},
   "source": [
    "### Single Classifier"
   ]
  },
  {
   "cell_type": "code",
   "execution_count": null,
   "metadata": {},
   "outputs": [],
   "source": [
    "steps = [('PCA', PCA(n_components=1500)), ('SMOTE', SMOTE(kind=\"borderline2\")), (\"SVC\", SVC(C=100, gamma=.0001, kernel='rbf', probability=False))]\n",
    "# steps = [('SMOTE', SMOTE(kind=\"borderline2\")), (\"SVC\", SVC(C=1, gamma=.001, kernel='rbf', probability=False))]\n",
    "pipeline = Pipeline(steps)\n",
    "pipeline.fit(X_comb_train, y_comb_train)"
   ]
  },
  {
   "cell_type": "code",
   "execution_count": null,
   "metadata": {},
   "outputs": [],
   "source": [
    "y_comb_true, y_comb_pred = y_comb_val, pipeline.predict(X_comb_val)\n",
    "print(\"Comb Validatation Score:\", accuracy_score(y_comb_true, y_comb_pred))\n",
    "print(\"Comb Confustion Matrix:\\n\", confusion_matrix(y_comb_true, y_comb_pred))\n",
    "print(classification_report(y_comb_true, y_comb_pred))"
   ]
  },
  {
   "cell_type": "code",
   "execution_count": 41,
   "metadata": {
    "collapsed": true
   },
   "outputs": [],
   "source": [
    "window_size = 30\n",
    "y_comb_true_maj = []\n",
    "for i in range(0, y_comb_true.size, window_size):\n",
    "    u, counts = np.unique(y_comb_true[i:i+window_size], return_counts=True)\n",
    "    pred = u[np.argmax(counts)]\n",
    "    y_comb_true_maj.append(pred)\n",
    "    \n",
    "y_comb_true_maj = np.array(y_comb_true_maj)"
   ]
  },
  {
   "cell_type": "code",
   "execution_count": 42,
   "metadata": {
    "collapsed": true
   },
   "outputs": [],
   "source": [
    "y_comb_pred_maj = []\n",
    "for i in range(0, y_comb_pred.size, window_size):\n",
    "    u, counts = np.unique(y_comb_pred[i:i+window_size], return_counts=True)\n",
    "    pred = u[np.argmax(counts)]\n",
    "    y_comb_pred_maj.append(pred)\n",
    "    \n",
    "y_comb_pred_maj = np.array(y_comb_pred_maj)"
   ]
  },
  {
   "cell_type": "code",
   "execution_count": 43,
   "metadata": {},
   "outputs": [
    {
     "name": "stdout",
     "output_type": "stream",
     "text": [
      "rH Validatation Score: 0.71186440678\n",
      "rH Confustion Matrix:\n",
      " [[97 34  0]\n",
      " [16 29  0]\n",
      " [ 1  0  0]]\n"
     ]
    }
   ],
   "source": [
    "print(\"rH Validatation Score:\", accuracy_score(y_comb_true_maj, y_comb_pred_maj))\n",
    "print(\"rH Confustion Matrix:\\n\", confusion_matrix(y_comb_true_maj, y_comb_pred_maj))"
   ]
  },
  {
   "cell_type": "code",
   "execution_count": null,
   "metadata": {
    "collapsed": true
   },
   "outputs": [],
   "source": []
  }
 ],
 "metadata": {
  "kernelspec": {
   "display_name": "Python 3",
   "language": "python",
   "name": "python3"
  },
  "language_info": {
   "codemirror_mode": {
    "name": "ipython",
    "version": 3
   },
   "file_extension": ".py",
   "mimetype": "text/x-python",
   "name": "python",
   "nbconvert_exporter": "python",
   "pygments_lexer": "ipython3",
   "version": "3.6.1"
  },
  "toc": {
   "nav_menu": {
    "height": "172px",
    "width": "169px"
   },
   "number_sections": true,
   "sideBar": true,
   "skip_h1_title": false,
   "toc_cell": false,
   "toc_position": {},
   "toc_section_display": "block",
   "toc_window_display": false
  }
 },
 "nbformat": 4,
 "nbformat_minor": 2
}
