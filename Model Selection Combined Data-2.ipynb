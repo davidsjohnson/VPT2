{
 "cells": [
  {
   "cell_type": "markdown",
   "metadata": {},
   "source": [
    "# Virtual Piano Tutor"
   ]
  },
  {
   "cell_type": "markdown",
   "metadata": {
    "heading_collapsed": true
   },
   "source": [
    "## Project Description\n",
    "\n",
    "This is a notebook for tracking my progress on VPT...\n",
    "\n",
    "- Best Classifier as of 11/30\n",
    "    - SVM {'C': 100, 'gamma': 0.1, 'kernel': 'rbf'}"
   ]
  },
  {
   "cell_type": "markdown",
   "metadata": {
    "heading_collapsed": true
   },
   "source": [
    "## TODO List"
   ]
  },
  {
   "cell_type": "markdown",
   "metadata": {
    "hidden": true
   },
   "source": [
    "- TODAY\n",
    "    - Decide on RDF model to keep for rest of project\n",
    "    - Work on RDF data and annotations\n",
    "    - Add results to file\n",
    "    - Rewrite RDF for GridSearchCV\n",
    "        - Extend RDF\n",
    "    - Work on ideas for paper\n",
    "        - Visualizations\n",
    "    - Play with CAE\n",
    "    - How to automate this...\n",
    "    - Windowing/Summarizing\n",
    "    \n",
    "- DONE\n",
    "    - ~~Organize RDF data~~\n",
    "    - ~~Generate data from already extracted hands...~~\n",
    "    - ~~Get notebook running on Compute Canada~~\n",
    "    - ~~Get data on Compute Canada~~\n",
    "    - ~~Setup CAE to deal with hand images~~\n",
    "    - ~~setup data for training autoencoder on LH and RH~~\n",
    "    - ~~Train Autoencoder for LH and Rh~~\n",
    "    \n",
    "\n",
    "- Bad Segmentation\n",
    "    - p3c - left hand (not terrible)\n",
    "    - p1s - right hand (shouldn't use)\n",
    "    - p5a - Both could use some work but still caputures most of the left hand (RH not so good...)\n",
    "    - p5c - not good (left hand passable...)\n",
    "    \n",
    "- Add noise to CAE\n",
    "    - http://scikit-image.org/docs/dev/api/skimage.util.html#random-noise\n",
    "    \n",
    "- ~~Multiple Participants~~\n",
    "    - ~~have one holdout set participant~~\n",
    "        - ~~Test with p1&2 training p3 testing, then p1&3...~~\n",
    "    - ~~have one holdout set exercise~~\n",
    "\n",
    "- Test with RH too\n",
    "\n",
    "- Windowing data\n",
    "    - Summarize data for classification\n",
    "    - Majority Voting (or with probabilities)\n",
    "\n",
    "- Look for other features\n",
    "    - Others??\n",
    "    - ~~Autoencoder features~~\n",
    "    - ~~HONV~~\n",
    "    \n",
    "- Work on hand segmentation\n",
    "   - See p1e for bad examples\n",
    "   - How to validate segmentation?\n",
    "       - Statistical analysis on length and width ratios\n",
    "       \n",
    "- Visualize !!!\n",
    "    - Input \n",
    "    - Results !!!\n",
    "        - F Scores\n",
    "        - Accuracy\n",
    "        - Try weighted instead of macro\n",
    "\n",
    "\n",
    "\n",
    "\n",
    "- Finish Project Description\n",
    "\n",
    "- ~~Turn into functions~~\n",
    "    \n",
    "- ~~Verify Segmentation~~\n",
    "    - have only done basic verification\n",
    "    \n",
    "- ~~FIRST THING: Test by ignoring training data (p1s) and then using train_test_split on recordings~~\n",
    "    - ~~Data should be ready for spliting~~\n",
    "    \n",
    "- ~~Remove data from testing to find culprit~~\n",
    "    \n",
    "- ~~Track my progress better !!! (duh through notebooks!)~~"
   ]
  },
  {
   "cell_type": "markdown",
   "metadata": {},
   "source": [
    "# Setup"
   ]
  },
  {
   "cell_type": "markdown",
   "metadata": {},
   "source": [
    "## Libraries"
   ]
  },
  {
   "cell_type": "code",
   "execution_count": 1,
   "metadata": {
    "collapsed": true
   },
   "outputs": [],
   "source": [
    "import os\n",
    "\n",
    "%matplotlib inline\n",
    "import matplotlib.pyplot as plt\n",
    "import numpy as np\n",
    "import cv2\n",
    "\n",
    "from vpt.features.features import *\n",
    "import vpt.utils.image_processing as ip\n",
    "import vpt.settings as s\n",
    "import vpt.hand_detection.depth_context_features as dcf\n",
    "\n",
    "%load_ext autoreload\n",
    "%autoreload 2"
   ]
  },
  {
   "cell_type": "markdown",
   "metadata": {},
   "source": [
    "## Some helper functions"
   ]
  },
  {
   "cell_type": "markdown",
   "metadata": {},
   "source": [
    "### Load/Save Data Set"
   ]
  },
  {
   "cell_type": "code",
   "execution_count": 2,
   "metadata": {
    "collapsed": true
   },
   "outputs": [],
   "source": [
    "def load_data(testing_p, M, radius, feature_type, data_type):\n",
    "    base = \"data/posture/extracted/\"\n",
    "    data_path = os.path.join(base, \"{}_M{}_rad{:0.2f}_{}_\".format(testing_p, M, radius, feature_type))\n",
    "    data = np.load(data_path + data_type + \"_data_combined.npz\")    \n",
    "    return data"
   ]
  },
  {
   "cell_type": "markdown",
   "metadata": {},
   "source": [
    "## Project Setup"
   ]
  },
  {
   "cell_type": "markdown",
   "metadata": {},
   "source": [
    "### Generate or Load Data"
   ]
  },
  {
   "cell_type": "code",
   "execution_count": 17,
   "metadata": {},
   "outputs": [
    {
     "name": "stdout",
     "output_type": "stream",
     "text": [
      "X LH (15818, 1089) y LH (15818,) (15818, 180, 180)\n",
      "X RH (15818, 1089) y RH (15818,) (15818, 180, 180)\n",
      "Filenames (15818,)\n"
     ]
    }
   ],
   "source": [
    "#### Load data for a single paricipant\n",
    "data = load_data(\"all_participants\", M, radius, feature_type, \"train\")\n",
    "print(\"X LH\", data[\"X_lh\"].shape, \"y LH\", data[\"y_lh\"].shape, data[\"vis_lhs\"].shape)\n",
    "print(\"X RH\", data[\"X_rh\"].shape, \"y RH\", data[\"y_rh\"].shape, data[\"vis_rhs\"].shape)\n",
    "print(\"Filenames\", data[\"filenames\"].shape)"
   ]
  },
  {
   "cell_type": "code",
   "execution_count": 118,
   "metadata": {
    "collapsed": true
   },
   "outputs": [],
   "source": [
    "M = 5\n",
    "radius = .15\n",
    "feature_type = \"hog\"\n",
    "testing_p = \"p3\""
   ]
  },
  {
   "cell_type": "code",
   "execution_count": 119,
   "metadata": {},
   "outputs": [
    {
     "name": "stdout",
     "output_type": "stream",
     "text": [
      "Cross Val Data:\n",
      "(11246, 1089) (11246,)\n",
      "(11246, 1089) (11246,)\n",
      "(11246,)\n",
      "\n",
      "Validation Data\n",
      "(4572, 1089) (4572,)\n",
      "(4572, 1089) (4572,)\n",
      "(4572,)\n"
     ]
    }
   ],
   "source": [
    "## using p6 for validation\n",
    "r = re.compile(testing_p)\n",
    "vmatch = np.vectorize(lambda x:bool(r.search(x)))\n",
    "val_p = vmatch(data['filenames'])\n",
    "\n",
    "X_lh = data['X_lh'][~val_p]\n",
    "y_lh = data['y_lh'][~val_p]\n",
    "X_rh = data['X_rh'][~val_p]\n",
    "y_rh = data['y_rh'][~val_p]\n",
    "filenames = data['filenames'][~val_p]\n",
    "\n",
    "\n",
    "X_lh_test = data['X_lh'][val_p]\n",
    "y_lh_test = data['y_lh'][val_p]\n",
    "X_rh_test = data['X_rh'][val_p]\n",
    "y_rh_test = data['y_rh'][val_p]\n",
    "filenames_test = data['filenames'][val_p]\n",
    "\n",
    "print(\"Cross Val Data:\")\n",
    "print(X_lh.shape, y_lh.shape)\n",
    "print(X_rh.shape, y_rh.shape)\n",
    "print(filenames.shape)\n",
    "print()\n",
    "print(\"Validation Data\")\n",
    "print(X_lh_test.shape, y_lh_test.shape)\n",
    "print(X_rh_test.shape, y_rh_test.shape)\n",
    "print(filenames_test.shape)"
   ]
  },
  {
   "cell_type": "code",
   "execution_count": 120,
   "metadata": {},
   "outputs": [
    {
     "name": "stdout",
     "output_type": "stream",
     "text": [
      "(11246,)\n",
      "[1 4 6]\n",
      "[1 1 1 ..., 6 6 6]\n"
     ]
    }
   ],
   "source": [
    "groups = np.zeros_like(filenames, dtype=int)\n",
    "\n",
    "for p in [\"p1\", \"p3\", \"p4\", \"p6\"]:\n",
    "    p_num = int(p[1])\n",
    "    groups[np.where(np.char.find(filenames, p) != -1)] = p_num\n",
    "    \n",
    "print(groups.shape)\n",
    "print(np.unique(groups))\n",
    "print(groups)"
   ]
  },
  {
   "cell_type": "markdown",
   "metadata": {},
   "source": [
    "# Classification"
   ]
  },
  {
   "cell_type": "markdown",
   "metadata": {},
   "source": [
    "### Libraries"
   ]
  },
  {
   "cell_type": "code",
   "execution_count": 121,
   "metadata": {
    "collapsed": true
   },
   "outputs": [],
   "source": [
    "from sklearn.svm import SVC\n",
    "from sklearn.ensemble import RandomForestClassifier\n",
    "from sklearn.metrics import confusion_matrix, classification_report, accuracy_score\n",
    "from sklearn.model_selection import cross_val_score, train_test_split, GridSearchCV, LeaveOneGroupOut\n",
    "from imblearn.pipeline import Pipeline\n",
    "\n",
    "from sklearn.decomposition import PCA\n",
    "\n",
    "from imblearn.over_sampling import SMOTE\n",
    "from imblearn.combine import SMOTEENN"
   ]
  },
  {
   "cell_type": "markdown",
   "metadata": {},
   "source": [
    "## Load Data for Classification"
   ]
  },
  {
   "cell_type": "code",
   "execution_count": 122,
   "metadata": {
    "code_folding": [],
    "collapsed": true
   },
   "outputs": [],
   "source": [
    "## find all \"static\" data so we can ignore for now\n",
    "# r = re.compile('{}s'.format(testing_p))\n",
    "r = re.compile('p[\\d]ssfg')\n",
    "\n",
    "# remove p#s data\n",
    "vmatch = np.vectorize(lambda x:bool(r.search(x)))\n",
    "rem_static = vmatch(filenames)\n",
    "rem_static_test = vmatch(filenames_test)\n",
    "\n",
    "X_lh_train, y_lh_train, filenames_train, groups_train = X_lh[~rem_static], y_lh[~rem_static], filenames[~rem_static], groups[~rem_static]\n",
    "X_rh_train, y_rh_train, filenames_train, groups_train = X_rh[~rem_static], y_rh[~rem_static], filenames[~rem_static], groups[~rem_static]"
   ]
  },
  {
   "cell_type": "code",
   "execution_count": 123,
   "metadata": {
    "collapsed": true
   },
   "outputs": [],
   "source": [
    "X_lh_val, y_lh_val, filenames_val = X_lh_test[~rem_static_test], y_lh_test[~rem_static_test], filenames_test[~rem_static_test]\n",
    "X_rh_val, y_rh_val, filenames_val = X_rh_test[~rem_static_test], y_rh_test[~rem_static_test], filenames_test[~rem_static_test]"
   ]
  },
  {
   "cell_type": "code",
   "execution_count": 124,
   "metadata": {
    "collapsed": true
   },
   "outputs": [],
   "source": [
    "X_comb_train = np.vstack((X_lh_train, X_rh_train))\n",
    "y_comb_train = np.hstack((y_lh_train, y_rh_train))\n",
    "groups_comb_train = np.hstack((groups_train, groups_train))\n",
    "filenames_comb_train = np.hstack((filenames_train, filenames_train))\n",
    "\n",
    "X_comb_val = np.vstack((X_lh_val, X_rh_val))\n",
    "y_comb_val = np.hstack((y_lh_val, y_rh_val))\n",
    "filenames_comb_val = np.hstack((filenames_val, filenames_val))"
   ]
  },
  {
   "cell_type": "code",
   "execution_count": 125,
   "metadata": {},
   "outputs": [
    {
     "name": "stdout",
     "output_type": "stream",
     "text": [
      "Cross Validation Data\n",
      "LH: (11246, 1089) (11246,)\n",
      "(array([0, 1, 2]), array([7579, 2219, 1448]))\n",
      "RH: (11246, 1089) (11246,)\n",
      "(11246,)\n",
      "(11246,)\n",
      "(array([0, 1, 2]), array([8185, 2607,  454]))\n",
      "Combined: (22492, 1089) (22492,)\n",
      "(22492,)\n",
      "(22492,)\n",
      "(array([0, 1, 2]), array([15764,  4826,  1902]))\n",
      "\n",
      "\n",
      "Validation Data\n",
      "LH: (4572, 1089) (4572,)\n",
      "(array([0, 1, 2]), array([1882, 1982,  708]))\n",
      "RH: (4572, 1089) (4572,)\n",
      "(array([0, 1, 2]), array([3305,  632,  635]))\n",
      "Combined: (9144, 1089) (9144,)\n",
      "(array([0, 1, 2]), array([5187, 2614, 1343]))\n",
      "(9144,)\n"
     ]
    }
   ],
   "source": [
    "print(\"Cross Validation Data\")\n",
    "print(\"LH:\", X_lh_train.shape, y_lh_train.shape)\n",
    "print(np.unique(y_lh_train, return_counts=True))\n",
    "print(\"RH:\", X_rh_train.shape, y_rh_train.shape)\n",
    "print(filenames_train.shape)\n",
    "print(groups_train.shape)\n",
    "print(np.unique(y_rh_train, return_counts=True))\n",
    "print(\"Combined:\", X_comb_train.shape, y_comb_train.shape)\n",
    "print(filenames_comb_train.shape)\n",
    "print(groups_comb_train.shape)\n",
    "print(np.unique(y_comb_train, return_counts=True))\n",
    "print()\n",
    "print()\n",
    "print(\"Validation Data\")\n",
    "print(\"LH:\", X_lh_val.shape, y_lh_val.shape)\n",
    "print(np.unique(y_lh_val, return_counts=True))\n",
    "print(\"RH:\", X_rh_val.shape, y_rh_val.shape)\n",
    "print(np.unique(y_rh_val, return_counts=True))\n",
    "print(\"Combined:\", X_comb_val.shape, y_comb_val.shape)\n",
    "print(np.unique(y_comb_val, return_counts=True))\n",
    "print(filenames_comb_val.shape)"
   ]
  },
  {
   "cell_type": "markdown",
   "metadata": {},
   "source": [
    "## Model Testing"
   ]
  },
  {
   "cell_type": "markdown",
   "metadata": {},
   "source": [
    "### SVM"
   ]
  },
  {
   "cell_type": "markdown",
   "metadata": {},
   "source": [
    "### Single Classifier"
   ]
  },
  {
   "cell_type": "code",
   "execution_count": 126,
   "metadata": {
    "collapsed": true
   },
   "outputs": [],
   "source": [
    "## find all \"static\" data so we can ignore for now\n",
    "r = re.compile('{}e'.format(testing_p))\n",
    "\n",
    "# remove p#s data\n",
    "vmatch = np.vectorize(lambda x:bool(r.search(x)))\n",
    "split = vmatch(filenames_comb_val)\n",
    "\n",
    "X_comb_val = np.vstack((X_lh_val, X_rh_val))\n",
    "y_comb_val = np.hstack((y_lh_val, y_rh_val))\n",
    "filenames_comb_val = np.hstack((filenames_val, filenames_val))\n",
    "\n",
    "X_comb_train, y_comb_train, filenames_comb_train = X_comb_val[~split], y_comb_val[~split], filenames_comb_val[~split]\n",
    "X_comb_test, y_comb_test, filenames_comb_test = X_comb_val[split], y_comb_val[split], filenames_comb_val[split]"
   ]
  },
  {
   "cell_type": "code",
   "execution_count": null,
   "metadata": {},
   "outputs": [
    {
     "name": "stdout",
     "output_type": "stream",
     "text": [
      "Train Data\n",
      "(8114, 1089) (8114,)\n",
      "(array([0, 1, 2]), array([4643, 2143, 1328]))\n",
      "(8114,)\n",
      "\n",
      "Test Data\n",
      "(1030, 1089) (1030,)\n",
      "(array([0, 1, 2]), array([544, 471,  15]))\n",
      "(1030,)\n"
     ]
    }
   ],
   "source": [
    "print(\"Train Data\")\n",
    "print(X_comb_train.shape, y_comb_train.shape)\n",
    "print(np.unique(y_comb_train, return_counts=True))\n",
    "print(filenames_comb_train.shape)\n",
    "print()\n",
    "print(\"Test Data\")\n",
    "print(X_comb_test.shape, y_comb_test.shape)\n",
    "print(np.unique(y_comb_test, return_counts=True))\n",
    "print(filenames_comb_test.shape)"
   ]
  },
  {
   "cell_type": "code",
   "execution_count": 130,
   "metadata": {},
   "outputs": [
    {
     "data": {
      "text/plain": [
       "Pipeline(memory=None,\n",
       "     steps=[('SMOTE', SMOTE(k=None, k_neighbors=5, kind='borderline2', m=None, m_neighbors=10,\n",
       "   n_jobs=1, out_step=0.5, random_state=None, ratio='auto',\n",
       "   svm_estimator=None)), ('SVC', SVC(C=1, cache_size=200, class_weight=None, coef0=0.0,\n",
       "  decision_function_shape='ovo', degree=3, gamma=0.001, kernel='rbf',\n",
       "  max_iter=-1, probability=False, random_state=None, shrinking=True,\n",
       "  tol=0.001, verbose=False))])"
      ]
     },
     "execution_count": 130,
     "metadata": {},
     "output_type": "execute_result"
    }
   ],
   "source": [
    "# steps = [('PCA', PCA(n_components=1500)), ('SMOTE', SMOTE(kind=\"borderline2\")), (\"SVC\", SVC(C=10, gamma=.00001, kernel='rbf', probability=False))]\n",
    "steps = [('SMOTE', SMOTE(kind=\"borderline2\")), (\"SVC\", SVC(C=1, gamma=.001, kernel='rbf', decision_function_shape='ovo', probability=False))]\n",
    "pipeline = Pipeline(steps)\n",
    "pipeline.fit(X_comb_train, y_comb_train)"
   ]
  },
  {
   "cell_type": "code",
   "execution_count": 131,
   "metadata": {},
   "outputs": [
    {
     "name": "stdout",
     "output_type": "stream",
     "text": [
      "Comb Validatation Score: 0.778640776699\n",
      "Comb Confustion Matrix:\n",
      " [[510  27   7]\n",
      " [ 38 284 149]\n",
      " [  0   7   8]]\n",
      "             precision    recall  f1-score   support\n",
      "\n",
      "          0       0.93      0.94      0.93       544\n",
      "          1       0.89      0.60      0.72       471\n",
      "          2       0.05      0.53      0.09        15\n",
      "\n",
      "avg / total       0.90      0.78      0.82      1030\n",
      "\n"
     ]
    }
   ],
   "source": [
    "y_comb_true, y_comb_pred = y_comb_test, pipeline.predict(X_comb_test)\n",
    "print(\"Comb Validatation Score:\", accuracy_score(y_comb_true, y_comb_pred))\n",
    "print(\"Comb Confustion Matrix:\\n\", confusion_matrix(y_comb_true, y_comb_pred))\n",
    "print(classification_report(y_comb_true, y_comb_pred))"
   ]
  },
  {
   "cell_type": "code",
   "execution_count": 115,
   "metadata": {
    "collapsed": true
   },
   "outputs": [],
   "source": [
    "window_size = 15\n",
    "y_comb_true_maj = []\n",
    "for i in range(0, y_comb_true.size, window_size):\n",
    "    u, counts = np.unique(y_comb_true[i:i+window_size], return_counts=True)\n",
    "    pred = u[np.argmax(counts)]\n",
    "    y_comb_true_maj.append(pred)\n",
    "    \n",
    "y_comb_true_maj = np.array(y_comb_true_maj)"
   ]
  },
  {
   "cell_type": "code",
   "execution_count": 116,
   "metadata": {
    "collapsed": true
   },
   "outputs": [],
   "source": [
    "y_comb_pred_maj = []\n",
    "for i in range(0, y_comb_pred.size, window_size):\n",
    "    u, counts = np.unique(y_comb_pred[i:i+window_size], return_counts=True)\n",
    "    pred = u[np.argmax(counts)]\n",
    "    y_comb_pred_maj.append(pred)\n",
    "    \n",
    "y_comb_pred_maj = np.array(y_comb_pred_maj)"
   ]
  },
  {
   "cell_type": "code",
   "execution_count": 117,
   "metadata": {},
   "outputs": [
    {
     "name": "stdout",
     "output_type": "stream",
     "text": [
      "rH Validatation Score: 0.826086956522\n",
      "rH Confustion Matrix:\n",
      " [[35  2  0]\n",
      " [ 9 22  0]\n",
      " [ 0  1  0]]\n",
      "             precision    recall  f1-score   support\n",
      "\n",
      "          0       0.80      0.95      0.86        37\n",
      "          1       0.88      0.71      0.79        31\n",
      "          2       0.00      0.00      0.00         1\n",
      "\n",
      "avg / total       0.82      0.83      0.82        69\n",
      "\n"
     ]
    },
    {
     "name": "stderr",
     "output_type": "stream",
     "text": [
      "/Users/fortjay81/anaconda/deeppath/deeperpath/deeperpath2/deeperpath3/deeper/deeper/deeper/miniconda3/envs/seng474/lib/python3.6/site-packages/sklearn/metrics/classification.py:1135: UndefinedMetricWarning: Precision and F-score are ill-defined and being set to 0.0 in labels with no predicted samples.\n",
      "  'precision', 'predicted', average, warn_for)\n"
     ]
    }
   ],
   "source": [
    "print(\"rH Validatation Score:\", accuracy_score(y_comb_true_maj, y_comb_pred_maj))\n",
    "print(\"rH Confustion Matrix:\\n\", confusion_matrix(y_comb_true_maj, y_comb_pred_maj))\n",
    "print(classification_report(y_comb_true_maj, y_comb_pred_maj))"
   ]
  },
  {
   "cell_type": "markdown",
   "metadata": {
    "collapsed": true
   },
   "source": [
    "### Cross Validation"
   ]
  },
  {
   "cell_type": "code",
   "execution_count": null,
   "metadata": {
    "collapsed": true
   },
   "outputs": [],
   "source": [
    "from sklearn.model_selection import cross_val_score, cross_validate"
   ]
  },
  {
   "cell_type": "code",
   "execution_count": null,
   "metadata": {
    "collapsed": true
   },
   "outputs": [],
   "source": [
    "X_comb_all_cv = np.vstack((X_comb_train, X_comb_val))\n",
    "y_comb_all_cv = np.hstack((y_comb_train, y_comb_val))\n",
    "filenames_comb_all_cv = np.hstack((filenames_comb_train, filenames_comb_val))\n",
    "\n",
    "print(\"Combined:\", X_comb_all_cv.shape, y_comb_all_cv.shape)\n",
    "print(np.unique(y_comb_all_cv, return_counts=True))\n",
    "print(filenames_comb_all_cv.shape)"
   ]
  },
  {
   "cell_type": "code",
   "execution_count": null,
   "metadata": {
    "collapsed": true
   },
   "outputs": [],
   "source": [
    "groups_cv = np.zeros_like(filenames_comb_all_cv, dtype=int)\n",
    "\n",
    "for p in [\"p1\", \"p3\", \"p4\", \"p6\"]:\n",
    "    p_num = int(p[1])\n",
    "    groups_cv[np.where(np.char.find(filenames_comb_all_cv, p) != -1)] = p_num\n",
    "    \n",
    "print(groups_cv.shape)\n",
    "print(np.unique(groups_cv))\n",
    "print(groups_cv)"
   ]
  },
  {
   "cell_type": "code",
   "execution_count": null,
   "metadata": {
    "collapsed": true
   },
   "outputs": [],
   "source": [
    "steps = [('SMOTE', SMOTE(kind=\"borderline2\")), (\"SVC\", SVC(C=1, gamma=.001, kernel='rbf', probability=False))]\n",
    "pipeline = Pipeline(steps)\n",
    "scoring = (\"f1_macro\", \"accuracy\")\n",
    "logo = LeaveOneGroupOut()\n",
    "scores = cross_validate(pipeline, X_comb_all_cv, y_comb_all_cv, cv=logo.get_n_splits(groups=groups_cv), scoring=scoring, n_jobs=2, verbose=2)"
   ]
  },
  {
   "cell_type": "code",
   "execution_count": null,
   "metadata": {
    "collapsed": true
   },
   "outputs": [],
   "source": [
    "print(scores)"
   ]
  },
  {
   "cell_type": "code",
   "execution_count": null,
   "metadata": {
    "collapsed": true
   },
   "outputs": [],
   "source": [
    "for k, v in scores.items():\n",
    "    print(k, v)"
   ]
  },
  {
   "cell_type": "code",
   "execution_count": null,
   "metadata": {
    "collapsed": true
   },
   "outputs": [],
   "source": [
    "steps = [('SMOTE', SMOTE(kind=\"borderline2\")), (\"SVC\", SVC(C=1, gamma=.001, kernel='rbf', probability=False))]\n",
    "pipeline = Pipeline(steps)\n",
    "scoring = (\"f1_macro\", \"accuracy\")\n",
    "logo = LeaveOneGroupOut()\n",
    "scores = cross_validate(pipeline, X_comb_all_cv, y_comb_all_cv, cv=logo.split(X_comb_all_cv, y_comb_all_cv, groups=groups_cv), scoring=scoring, n_jobs=2, verbose=3)"
   ]
  },
  {
   "cell_type": "code",
   "execution_count": null,
   "metadata": {
    "collapsed": true
   },
   "outputs": [],
   "source": [
    "for k, v in scores.items():\n",
    "    print(k, v)"
   ]
  },
  {
   "cell_type": "code",
   "execution_count": null,
   "metadata": {
    "collapsed": true
   },
   "outputs": [],
   "source": [
    "logo.split(X_comb_all_cv, y_comb_all_cv, groups=groups_cv)"
   ]
  },
  {
   "cell_type": "markdown",
   "metadata": {
    "collapsed": true
   },
   "source": [
    "## Other Classifiers"
   ]
  },
  {
   "cell_type": "code",
   "execution_count": null,
   "metadata": {
    "collapsed": true
   },
   "outputs": [],
   "source": [
    "from sklearn.ensemble import AdaBoostClassifier\n",
    "from sklearn.ensemble import RandomForestClassifier"
   ]
  },
  {
   "cell_type": "code",
   "execution_count": null,
   "metadata": {
    "collapsed": true
   },
   "outputs": [],
   "source": [
    "# steps = [('PCA', PCA(n_components=1500)), ('SMOTE', SMOTE(kind=\"borderline2\")), (\"SVC\", SVC(C=10, gamma=.00001, kernel='rbf', probability=False))]\n",
    "steps2 = [('SMOTE', SMOTE(kind=\"borderline2\")), (\"CLF\", AdaBoostClassifier(base_estimator=SVC(C=1, gamma=.001, kernel='rbf', probability=True, max_iter=), n_estimators=25))]\n",
    "# steps2 = [('SMOTE', SMOTE(kind=\"borderline2\")), (\"CLF\", AdaBoostClassifier(base_estimator=RandomForestClassifier(n_estimators=10, max_depth=20), n_estimators=50))]\n",
    "pipeline2 = Pipeline(steps2)\n",
    "pipeline2.fit(X_comb_train, y_comb_train)"
   ]
  },
  {
   "cell_type": "code",
   "execution_count": null,
   "metadata": {
    "collapsed": true
   },
   "outputs": [],
   "source": [
    "y_comb_true, y_comb_pred = y_comb_val, pipeline2.predict(X_comb_val)\n",
    "print(\"Comb Validatation Score:\", accuracy_score(y_comb_true, y_comb_pred))\n",
    "print(\"Comb Confustion Matrix:\\n\", confusion_matrix(y_comb_true, y_comb_pred))\n",
    "print(classification_report(y_comb_true, y_comb_pred))"
   ]
  },
  {
   "cell_type": "code",
   "execution_count": null,
   "metadata": {
    "collapsed": true
   },
   "outputs": [],
   "source": []
  }
 ],
 "metadata": {
  "kernelspec": {
   "display_name": "Python 3",
   "language": "python",
   "name": "python3"
  },
  "language_info": {
   "codemirror_mode": {
    "name": "ipython",
    "version": 3
   },
   "file_extension": ".py",
   "mimetype": "text/x-python",
   "name": "python",
   "nbconvert_exporter": "python",
   "pygments_lexer": "ipython3",
   "version": "3.6.1"
  },
  "toc": {
   "nav_menu": {
    "height": "172px",
    "width": "169px"
   },
   "number_sections": true,
   "sideBar": true,
   "skip_h1_title": false,
   "toc_cell": false,
   "toc_position": {},
   "toc_section_display": "block",
   "toc_window_display": false
  }
 },
 "nbformat": 4,
 "nbformat_minor": 2
}
