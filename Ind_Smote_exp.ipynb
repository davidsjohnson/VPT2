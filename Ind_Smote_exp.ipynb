{
 "cells": [
  {
   "cell_type": "code",
   "execution_count": 1,
   "metadata": {},
   "outputs": [],
   "source": [
    "%load_ext autoreload\n",
    "%autoreload 2"
   ]
  },
  {
   "cell_type": "code",
   "execution_count": 2,
   "metadata": {},
   "outputs": [],
   "source": [
    "import pickle\n",
    "import re\n",
    "import matplotlib.pyplot as plt\n",
    "import numpy as np\n",
    "%matplotlib inline"
   ]
  },
  {
   "cell_type": "code",
   "execution_count": 3,
   "metadata": {},
   "outputs": [],
   "source": [
    "# parse hands based on participant\n",
    "def parse_participant_hands(X, y, filenames, participant, exercise=\"\"):\n",
    "    # extracts a participants hands from a given set of X, y data and a list of filenames\n",
    "    # optionally extract a specfic exercise from the data\n",
    "    \n",
    "    r = re.compile(participant + exercise)\n",
    "\n",
    "    # remove p data\n",
    "    vmatch = np.vectorize(lambda x:bool(r.search(x)))\n",
    "    p_files = vmatch(filenames)\n",
    "\n",
    "    return X[p_files], y[p_files], filenames[p_files]"
   ]
  },
  {
   "cell_type": "code",
   "execution_count": 4,
   "metadata": {},
   "outputs": [],
   "source": [
    "def split_static(X, y, f):\n",
    "    # remove p#s data\n",
    "    r = re.compile('p[\\d]s')\n",
    "    vmatch = np.vectorize(lambda x: bool(r.search(x)))\n",
    "    rem_static = vmatch(f)\n",
    "\n",
    "    X_nos, y_nos, f_nos = X[~rem_static], y[~rem_static], f[~rem_static]\n",
    "    X_s, y_s, f_s = X[rem_static], y[rem_static], f[rem_static]\n",
    "\n",
    "    return X_nos, y_nos, f_nos, X_s, y_s, f_s"
   ]
  },
  {
   "cell_type": "code",
   "execution_count": 13,
   "metadata": {},
   "outputs": [],
   "source": [
    "def average_participant_results(results, k_folds=3):\n",
    "    \n",
    "    acc = 0\n",
    "    f_score = 0\n",
    "    conf_mat = np.zeros((3,3), dtype=\"int\")\n",
    "    \n",
    "    for i in range(k_folds):\n",
    "        acc += results[\"cv{}_accuracy\".format(i)]\n",
    "        f_score += results[\"cv{}_f_score\".format(i)]\n",
    "       \n",
    "        # dealing with different size confusion matrices / shouldn't be larger than 3,3\n",
    "        cm = np.array(results[\"cv{}_conf_mat\".format(i)], dtype=\"int\")\n",
    "        idx_y = conf_mat.shape[0] - cm.shape[0]\n",
    "        idx_x = conf_mat.shape[1] - cm.shape[1]\n",
    "        conf_mat[:-idx_y or None, :-idx_x or None] += cm\n",
    "        \n",
    "    return acc / k_folds, f_score / k_folds, conf_mat"
   ]
  },
  {
   "cell_type": "code",
   "execution_count": 14,
   "metadata": {},
   "outputs": [],
   "source": [
    "def average_experiment_results(results, participants, k_folds=3):\n",
    "    \n",
    "    exp_acc = 0\n",
    "    exp_f = 0\n",
    "    exp_cm = np.zeros((3,3), dtype=\"int\")\n",
    "    \n",
    "    for p in participants:\n",
    "        acc, f_score, cm = average_participant_results(results[p], k_folds)\n",
    "        exp_acc += acc\n",
    "        exp_f += f_score\n",
    "        \n",
    "        diff_x = (exp_cm.shape[1] - cm.shape[1]) * -1\n",
    "        diff_y = (exp_cm.shape[0] - cm.shape[0]) * -1\n",
    "        exp_cm[:diff_y or None,:diff_x or None] += cm\n",
    "        \n",
    "    return exp_acc / len(participants), exp_f / len(participants), exp_cm"
   ]
  },
  {
   "cell_type": "code",
   "execution_count": 5,
   "metadata": {},
   "outputs": [],
   "source": [
    "hands = np.load(\"data/hands/hands-M5-rad0.15-pall.npz\")"
   ]
  },
  {
   "cell_type": "code",
   "execution_count": 6,
   "metadata": {},
   "outputs": [],
   "source": [
    "participants = [\"p1\", \"p3\", \"p4\", \"p6\"]"
   ]
  },
  {
   "cell_type": "code",
   "execution_count": 7,
   "metadata": {},
   "outputs": [],
   "source": [
    "# Get hands and labels from the compressed numpy file\n",
    "lhs = hands[\"lh_dmaps\"]\n",
    "y_lh = hands[\"y_lh\"]\n",
    "\n",
    "rhs = hands[\"rh_dmaps\"]\n",
    "y_rh = hands[\"y_rh\"]\n",
    "\n",
    "filenames = hands[\"filenames\"]\n",
    "\n",
    "assert lhs.shape == y_lh.shape == rhs.shape == y_rh.shape == filenames.shape"
   ]
  },
  {
   "cell_type": "code",
   "execution_count": 8,
   "metadata": {},
   "outputs": [
    {
     "name": "stdout",
     "output_type": "stream",
     "text": [
      "Left Hand Info\t (15817,) object\n",
      "   Labels Info\t (15817,) int64\n",
      "Rght Hand Info\t (15817,) object\n",
      "   Labels Info\t (15817,) int64\n",
      "Filename Info\t (15817,) <U30\n"
     ]
    }
   ],
   "source": [
    "print(\"Left Hand Info\\t\", lhs.shape, lhs.dtype)\n",
    "print(\"   Labels Info\\t\", y_lh.shape, y_lh.dtype)\n",
    "print(\"Rght Hand Info\\t\", rhs.shape, rhs.dtype)\n",
    "print(\"   Labels Info\\t\", y_rh.shape, y_rh.dtype)\n",
    "print(\"Filename Info\\t\", filenames.shape, filenames.dtype)"
   ]
  },
  {
   "cell_type": "code",
   "execution_count": 9,
   "metadata": {},
   "outputs": [],
   "source": [
    "# combine rh and lh for training a single model\n",
    "hands_comb = np.hstack((lhs, rhs))\n",
    "y = np.hstack((y_lh, y_rh))\n",
    "files_comb = np.hstack((filenames, filenames))\n",
    "\n",
    "# rem static\n",
    "hands_comb, y, files_comb, _, _, _ = split_static(hands_comb, y, files_comb)\n",
    "\n",
    "assert hands_comb.shape == y.shape == files_comb.shape, \"Error combining hands.  Array shapes are different sizes\""
   ]
  },
  {
   "cell_type": "code",
   "execution_count": 10,
   "metadata": {},
   "outputs": [
    {
     "name": "stdout",
     "output_type": "stream",
     "text": [
      "Particpant p1\n",
      "\tLabel 0: (6011,)\n",
      "\tLabel 1: (162,)\n",
      "\tLabel 2: (1021,)\n",
      "\n",
      "Particpant p3\n",
      "\tLabel 0: (3917,)\n",
      "\tLabel 1: (1336,)\n",
      "\tLabel 2: (47,)\n",
      "\n",
      "Particpant p4\n",
      "\tLabel 0: (2262,)\n",
      "\tLabel 1: (3376,)\n",
      "\tLabel 2: (0,)\n",
      "\n",
      "Particpant p6\n",
      "\tLabel 0: (6111,)\n",
      "\tLabel 1: (286,)\n",
      "\tLabel 2: (27,)\n",
      "\n"
     ]
    }
   ],
   "source": [
    "for p in participants:\n",
    "    \n",
    "    print(\"Particpant {}\".format(p))\n",
    "    p_hands, p_y, p_files = parse_participant_hands(hands_comb, y, files_comb, p)\n",
    "    print(\"\\tLabel 0:\", p_y[p_y==0].shape)\n",
    "    print(\"\\tLabel 1:\", p_y[p_y==1].shape)\n",
    "    print(\"\\tLabel 2:\", p_y[p_y==2].shape)\n",
    "    print()"
   ]
  },
  {
   "cell_type": "code",
   "execution_count": 49,
   "metadata": {},
   "outputs": [],
   "source": [
    "smotes = [\"regular\", \"borderline1\", \"borderline2\", \"svm\", \"adasyn\", \"none\"]\n",
    "\n",
    "results = {}\n",
    "for i, s in enumerate(smotes):\n",
    "    results[s] = np.load(\"results/honv_smote_results/cmj_exp-smote_results_{}.pkl\".format(i+1))"
   ]
  },
  {
   "cell_type": "code",
   "execution_count": null,
   "metadata": {},
   "outputs": [],
   "source": []
  },
  {
   "cell_type": "code",
   "execution_count": 50,
   "metadata": {},
   "outputs": [],
   "source": [
    "accs, fs, cms = [], [], []\n",
    "\n",
    "for s in smotes:\n",
    "\n",
    "    r = results[s]\n",
    "\n",
    "    exp_accs, exp_fs, exp_cms = [], [], []\n",
    "\n",
    "    for p in participants:\n",
    "        acc, f_score, cm = average_participant_results(r[p])\n",
    "\n",
    "        exp_accs.append(acc)\n",
    "        exp_fs.append(f_score)\n",
    "        exp_cms.append(cm)\n",
    "\n",
    "    accs.append(exp_accs)\n",
    "    fs.append(exp_fs)\n",
    "    cms.append(exp_cms)\n",
    "\n",
    "accs = np.array(accs)\n",
    "fs = np.array(fs)\n",
    "cms = np.array(cms)\n",
    "\n",
    "l = len(accs)"
   ]
  },
  {
   "cell_type": "code",
   "execution_count": 51,
   "metadata": {},
   "outputs": [
    {
     "data": {
      "text/plain": [
       "<matplotlib.legend.Legend at 0x1082da160>"
      ]
     },
     "execution_count": 51,
     "metadata": {},
     "output_type": "execute_result"
    },
    {
     "data": {
      "image/png": "[encoded data removed]",
      "text/plain": [
       "<matplotlib.figure.Figure at 0x1096a7828>"
      ]
     },
     "metadata": {},
     "output_type": "display_data"
    }
   ],
   "source": [
    "idx = np.arange(l) + 1\n",
    "width = .2\n",
    "\n",
    "plt.figure(figsize=(8,6))\n",
    "plt.ylim([.85, 1.0])\n",
    "plt.yticks(np.linspace(.8, 1.0, 5))\n",
    "# plt.xticks(idx,[\"128x128\", \"90x160\", \"130x190\", \"96x96\"])\n",
    "\n",
    "plt.title(\"SMOTE\")\n",
    "plt.bar(idx-(width*1+width/2), fs[:,0], width, hatch=\"/\", edgecolor='black')\n",
    "plt.bar(idx-(width*0+width/2), fs[:,1], width, hatch=\"o\", edgecolor='black')\n",
    "plt.bar(idx+(width*1-width/2), fs[:,2], width, hatch=\"\\\\\", edgecolor='black')\n",
    "plt.bar(idx+(width*2-width/2), fs[:,3], width, hatch=\".\", edgecolor='black')\n",
    "plt.legend([\"p1\", \"p2\", \"p3\", \"p4\"], loc='center left', bbox_to_anchor=(.96, 0.75), fancybox=False, shadow=True)"
   ]
  },
  {
   "cell_type": "code",
   "execution_count": 54,
   "metadata": {},
   "outputs": [
    {
     "name": "stdout",
     "output_type": "stream",
     "text": [
      "[[5680   28  303]\n",
      " [  69   89    4]\n",
      " [ 190    0  831]]\n",
      "[[5688   22  301]\n",
      " [  66   92    4]\n",
      " [ 186    0  835]]\n",
      "[[5684   23  304]\n",
      " [  71   87    4]\n",
      " [ 190    0  831]]\n",
      "[[5685   25  301]\n",
      " [  67   90    5]\n",
      " [ 203    0  818]]\n",
      "[[5797   11  203]\n",
      " [  68   91    3]\n",
      " [ 266    0  755]]\n",
      "[[5812   14  185]\n",
      " [  64   94    4]\n",
      " [ 254    0  767]]\n"
     ]
    },
    {
     "data": {
      "text/plain": [
       "<matplotlib.figure.Figure at 0x10844d080>"
      ]
     },
     "metadata": {},
     "output_type": "display_data"
    }
   ],
   "source": [
    "plt.figure(figsize=(12, 10))\n",
    "for i, cm in enumerate(cms):\n",
    "    print(cm[0])\n",
    "#     cm_total = np.sum(cm, axis=0)\n",
    "#     cm_total = cm_total.astype('float') / cm_total.sum(axis=1)[:, np.newaxis]\n",
    "#     plt.subplot(1, 5, i+1)\n",
    "#     plt.imshow(cm_total, cmap=\"Blues\")"
   ]
  },
  {
   "cell_type": "code",
   "execution_count": 46,
   "metadata": {},
   "outputs": [],
   "source": [
    "smote_avgs = np.average(accs, axis=1)"
   ]
  },
  {
   "cell_type": "code",
   "execution_count": 47,
   "metadata": {},
   "outputs": [
    {
     "name": "stdout",
     "output_type": "stream",
     "text": [
      "[ 0.94312472  0.94361864  0.94326513  0.94379531  0.94764399]\n"
     ]
    }
   ],
   "source": [
    "print(smote_avgs)"
   ]
  },
  {
   "cell_type": "code",
   "execution_count": null,
   "metadata": {},
   "outputs": [],
   "source": []
  }
 ],
 "metadata": {
  "kernelspec": {
   "display_name": "Python 3",
   "language": "python",
   "name": "python3"
  },
  "language_info": {
   "codemirror_mode": {
    "name": "ipython",
    "version": 3
   },
   "file_extension": ".py",
   "mimetype": "text/x-python",
   "name": "python",
   "nbconvert_exporter": "python",
   "pygments_lexer": "ipython3",
   "version": "3.6.1"
  }
 },
 "nbformat": 4,
 "nbformat_minor": 2
}
