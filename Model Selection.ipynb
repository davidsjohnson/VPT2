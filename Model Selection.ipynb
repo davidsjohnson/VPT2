{
 "cells": [
  {
   "cell_type": "markdown",
   "metadata": {},
   "source": [
    "# Virtual Piano Tutor"
   ]
  },
  {
   "cell_type": "markdown",
   "metadata": {
    "heading_collapsed": true
   },
   "source": [
    "## Project Description\n",
    "\n",
    "This is a notebook for tracking my progress on VPT...\n",
    "\n",
    "- Best Classifier as of 11/30\n",
    "    - SVM {'C': 100, 'gamma': 0.1, 'kernel': 'rbf'}"
   ]
  },
  {
   "cell_type": "markdown",
   "metadata": {
    "heading_collapsed": true
   },
   "source": [
    "## TODO List"
   ]
  },
  {
   "cell_type": "markdown",
   "metadata": {
    "hidden": true
   },
   "source": [
    "- TODAY\n",
    "    - Decide on RDF model to keep for rest of project\n",
    "    - Work on RDF data and annotations\n",
    "    - Add results to file\n",
    "    - Rewrite RDF for GridSearchCV\n",
    "        - Extend RDF\n",
    "    - Work on ideas for paper\n",
    "        - Visualizations\n",
    "    - Play with CAE\n",
    "    - How to automate this...\n",
    "    - Windowing/Summarizing\n",
    "    \n",
    "- DONE\n",
    "    - ~~Organize RDF data~~\n",
    "    - ~~Generate data from already extracted hands...~~\n",
    "    - ~~Get notebook running on Compute Canada~~\n",
    "    - ~~Get data on Compute Canada~~\n",
    "    - ~~Setup CAE to deal with hand images~~\n",
    "    - ~~setup data for training autoencoder on LH and RH~~\n",
    "    - ~~Train Autoencoder for LH and Rh~~\n",
    "    \n",
    "\n",
    "- Bad Segmentation\n",
    "    - p3c - left hand (not terrible)\n",
    "    - p1s - right hand (shouldn't use)\n",
    "    - p5a - Both could use some work but still caputures most of the left hand (RH not so good...)\n",
    "    - p5c - not good (left hand passable...)\n",
    "    \n",
    "- Add noise to CAE\n",
    "    - http://scikit-image.org/docs/dev/api/skimage.util.html#random-noise\n",
    "    \n",
    "- ~~Multiple Participants~~\n",
    "    - ~~have one holdout set participant~~\n",
    "        - ~~Test with p1&2 training p3 testing, then p1&3...~~\n",
    "    - ~~have one holdout set exercise~~\n",
    "\n",
    "- Test with RH too\n",
    "\n",
    "- Windowing data\n",
    "    - Summarize data for classification\n",
    "    - Majority Voting (or with probabilities)\n",
    "\n",
    "- Look for other features\n",
    "    - Others??\n",
    "    - ~~Autoencoder features~~\n",
    "    - ~~HONV~~\n",
    "    \n",
    "- Work on hand segmentation\n",
    "   - See p1e for bad examples\n",
    "   - How to validate segmentation?\n",
    "       - Statistical analysis on length and width ratios\n",
    "       \n",
    "- Visualize !!!\n",
    "    - Input \n",
    "    - Results !!!\n",
    "        - F Scores\n",
    "        - Accuracy\n",
    "        - Try weighted instead of macro\n",
    "\n",
    "\n",
    "\n",
    "\n",
    "- Finish Project Description\n",
    "\n",
    "- ~~Turn into functions~~\n",
    "    \n",
    "- ~~Verify Segmentation~~\n",
    "    - have only done basic verification\n",
    "    \n",
    "- ~~FIRST THING: Test by ignoring training data (p1s) and then using train_test_split on recordings~~\n",
    "    - ~~Data should be ready for spliting~~\n",
    "    \n",
    "- ~~Remove data from testing to find culprit~~\n",
    "    \n",
    "- ~~Track my progress better !!! (duh through notebooks!)~~"
   ]
  },
  {
   "cell_type": "markdown",
   "metadata": {},
   "source": [
    "# Setup"
   ]
  },
  {
   "cell_type": "markdown",
   "metadata": {},
   "source": [
    "## Libraries"
   ]
  },
  {
   "cell_type": "code",
   "execution_count": 1,
   "metadata": {
    "collapsed": true
   },
   "outputs": [],
   "source": [
    "import os\n",
    "\n",
    "%matplotlib inline\n",
    "import matplotlib.pyplot as plt\n",
    "import numpy as np\n",
    "import cv2\n",
    "\n",
    "from vpt.features.features import *\n",
    "import vpt.utils.image_processing as ip\n",
    "import vpt.settings as s\n",
    "import vpt.hand_detection.depth_context_features as dcf\n",
    "\n",
    "%load_ext autoreload\n",
    "%autoreload 2"
   ]
  },
  {
   "cell_type": "markdown",
   "metadata": {},
   "source": [
    "## Some helper functions"
   ]
  },
  {
   "cell_type": "markdown",
   "metadata": {},
   "source": [
    "### Generate Dataset"
   ]
  },
  {
   "cell_type": "code",
   "execution_count": null,
   "metadata": {
    "code_folding": [],
    "collapsed": true
   },
   "outputs": [],
   "source": [
    "def generate_data(hs, feature_type=\"hog\"):\n",
    "\n",
    "    X_lh = []\n",
    "    y_lh = []\n",
    "\n",
    "    X_rh = []\n",
    "    y_rh = []\n",
    "\n",
    "    filenames = []\n",
    "    \n",
    "    percent = .01\n",
    "\n",
    "    hgen = hg.hand_generator(debug=True)\n",
    "    hg_size = hg.size()\n",
    "    for i, (lh, rh) in enumerate(hgen):\n",
    "        \n",
    "        if lh.label() != None and rh.label() != None:\n",
    "\n",
    "            filenames.append(lh.get_fpath())\n",
    "            y_lh.append(lh.label())\n",
    "            x_lh = extract_features(lh.get_hand_img(), feature_type, visualise=False)\n",
    "            X_lh.append(x_lh)\n",
    "            \n",
    "            y_rh.append(rh.label())\n",
    "            x_rh = extract_features(rh.get_hand_img(), feature_type, visualise=False)\n",
    "            X_rh.append(x_rh)\n",
    "            \n",
    "        else:\n",
    "            raise RuntimeWarning(\"Warning: No label found for hands\")\n",
    "        \n",
    "        if i / hg_size > percent:\n",
    "            print(\"#\", end=\"\")\n",
    "            percent += .01\n",
    "                \n",
    "\n",
    "    X_lh = np.array(X_lh)\n",
    "    y_lh = np.array(y_lh)\n",
    "    X_rh = np.array(X_rh)\n",
    "    y_rh = np.array(y_rh)\n",
    "    filenames = np.array(filenames)\n",
    "    \n",
    "    return X_lh, y_lh, X_rh, y_rh, filenames"
   ]
  },
  {
   "cell_type": "markdown",
   "metadata": {},
   "source": [
    "### Load/Save Data Set"
   ]
  },
  {
   "cell_type": "code",
   "execution_count": null,
   "metadata": {
    "code_folding": [
     0.0
    ],
    "collapsed": true
   },
   "outputs": [],
   "source": [
    "def save_data(X_lh, y_lh, X_rh, y_rh, filenames, testing_p, M, radius, feature_type, data_type):\n",
    "    base = \"data/posture/extracted/\"\n",
    "    \n",
    "    data_path = os.path.join(base, \"{}_M{}_rad{:0.2f}_{}_\".format(testing_p, M, radius, feature_type))\n",
    "    np.savez_compressed(data_path + data_type + \"_data.npz\" , X_lh=X_lh, y_lh=y_lh, X_rh=X_rh, y_rh=y_rh, filenames=filenames)"
   ]
  },
  {
   "cell_type": "code",
   "execution_count": 35,
   "metadata": {
    "collapsed": true
   },
   "outputs": [],
   "source": [
    "def load_data(testing_p, M, radius, feature_type, data_type):\n",
    "    base = \"data/posture/extracted/\"\n",
    "    data_path = os.path.join(base, \"{}_M{}_rad{:0.2f}_{}_\".format(testing_p, M, radius, feature_type))\n",
    "    data = np.load(data_path + data_type + \"_data.npz\")    \n",
    "    return data"
   ]
  },
  {
   "cell_type": "markdown",
   "metadata": {},
   "source": [
    "## Project Setup"
   ]
  },
  {
   "cell_type": "code",
   "execution_count": 36,
   "metadata": {
    "collapsed": true
   },
   "outputs": [],
   "source": [
    "## Some General Parameters\n",
    "s.participant = \"all\"\n",
    "s.sensor = \"realsense\"\n",
    "\n",
    "participants = [\"p1\", \"p3\", \"p4\", \"p6\"]\n",
    "posture_folders = {p : os.path.join(\"data/posture\", p) for p in participants}\n",
    "\n",
    "ftype = \".bin\"\n",
    "folders = \"data/posture/\""
   ]
  },
  {
   "cell_type": "code",
   "execution_count": 37,
   "metadata": {
    "collapsed": true
   },
   "outputs": [],
   "source": [
    "## Model Parameters\n",
    "refreshHD = False\n",
    "refreshCLF = True\n",
    "\n",
    "## RDF Parameters\n",
    "M = 5\n",
    "radius = .15\n",
    "\n",
    "## Posture Detection Parameters\n",
    "feature_type = \"shog2\"\n",
    "annotation_file = \"data/posture/annotations.txt\"\n",
    "\n",
    "offset_gen = dcf.generate_feature_offsets\n",
    "feature_gen = dcf.calc_features"
   ]
  },
  {
   "cell_type": "markdown",
   "metadata": {},
   "source": [
    "### Generate or Load Data"
   ]
  },
  {
   "cell_type": "code",
   "execution_count": null,
   "metadata": {
    "collapsed": true,
    "scrolled": false
   },
   "outputs": [],
   "source": [
    "#### Generate and Save data for all testing participants\n",
    "folders = [folder for p, folder in posture_folders.items()]\n",
    "print(folders)\n",
    "\n",
    "hg = init_hand_generator(folders, \"all\", annotation_file, offset_gen, feature_gen, \n",
    "                   M, radius, n_samples=750, ftype=\".bin\")\n",
    "\n",
    "print(\"\\n### Generating Data Set ###\")\n",
    "X_lh, y_lh, X_rh, y_rh, filenames = generate_data(hg, feature_type=feature_type)\n",
    "save_data(X_lh, y_lh, X_rh, y_rh, filenames, \"all_participants-blarg\", M, radius, feature_type, data_type=\"train\")"
   ]
  },
  {
   "cell_type": "code",
   "execution_count": 38,
   "metadata": {},
   "outputs": [
    {
     "name": "stdout",
     "output_type": "stream",
     "text": [
      "X LH (15818, 342) y LH (15818,) (15818, 120, 90)\n",
      "X RH (15818, 342) y RH (15818,) (15818, 120, 90)\n",
      "Filenames (15818,)\n"
     ]
    }
   ],
   "source": [
    "#### Load data for a single paricipant\n",
    "data = load_data(\"all_participants\", M, radius, feature_type, \"train\")\n",
    "print(\"X LH\", data[\"X_lh\"].shape, \"y LH\", data[\"y_lh\"].shape, data[\"vis_lhs\"].shape)\n",
    "print(\"X RH\", data[\"X_rh\"].shape, \"y RH\", data[\"y_rh\"].shape, data[\"vis_rhs\"].shape)\n",
    "print(\"Filenames\", data[\"filenames\"].shape)"
   ]
  },
  {
   "cell_type": "code",
   "execution_count": 7,
   "metadata": {},
   "outputs": [
    {
     "name": "stdout",
     "output_type": "stream",
     "text": [
      "Cross Val Data:\n",
      "(11246, 180) (11246,)\n",
      "(11246, 180) (11246,)\n",
      "(11246,)\n",
      "\n",
      "Validation Data\n",
      "(4572, 180) (4572,)\n",
      "(4572, 180) (4572,)\n",
      "(4572,)\n"
     ]
    }
   ],
   "source": [
    "## using p6 for validation\n",
    "r = re.compile('p3')\n",
    "vmatch = np.vectorize(lambda x:bool(r.search(x)))\n",
    "val_p = vmatch(data['filenames'])\n",
    "\n",
    "X_lh = data['X_lh'][~val_p]\n",
    "y_lh = data['y_lh'][~val_p]\n",
    "X_rh = data['X_rh'][~val_p]\n",
    "y_rh = data['y_rh'][~val_p]\n",
    "filenames = data['filenames'][~val_p]\n",
    "\n",
    "\n",
    "X_lh_test = data['X_lh'][val_p]\n",
    "y_lh_test = data['y_lh'][val_p]\n",
    "X_rh_test = data['X_rh'][val_p]\n",
    "y_rh_test = data['y_rh'][val_p]\n",
    "filenames_test = data['filenames'][val_p]\n",
    "\n",
    "print(\"Cross Val Data:\")\n",
    "print(X_lh.shape, y_lh.shape)\n",
    "print(X_rh.shape, y_rh.shape)\n",
    "print(filenames.shape)\n",
    "print()\n",
    "print(\"Validation Data\")\n",
    "print(X_lh_test.shape, y_lh_test.shape)\n",
    "print(X_rh_test.shape, y_rh_test.shape)\n",
    "print(filenames_test.shape)"
   ]
  },
  {
   "cell_type": "code",
   "execution_count": 8,
   "metadata": {},
   "outputs": [
    {
     "name": "stdout",
     "output_type": "stream",
     "text": [
      "(11246,)\n",
      "[1 4 6]\n",
      "[1 1 1 ..., 6 6 6]\n"
     ]
    }
   ],
   "source": [
    "groups = np.zeros_like(filenames, dtype=int)\n",
    "\n",
    "for p in [\"p1\", \"p3\", \"p4\", \"p6\"]:\n",
    "    p_num = int(p[1])\n",
    "    groups[np.where(np.char.find(filenames, p) != -1)] = p_num\n",
    "    \n",
    "print(groups.shape)\n",
    "print(np.unique(groups))\n",
    "print(groups)"
   ]
  },
  {
   "cell_type": "markdown",
   "metadata": {},
   "source": [
    "# Classification"
   ]
  },
  {
   "cell_type": "markdown",
   "metadata": {},
   "source": [
    "### Libraries"
   ]
  },
  {
   "cell_type": "code",
   "execution_count": 18,
   "metadata": {
    "collapsed": true
   },
   "outputs": [],
   "source": [
    "from sklearn.svm import SVC\n",
    "from sklearn.ensemble import RandomForestClassifier\n",
    "from sklearn.metrics import confusion_matrix, classification_report, accuracy_score\n",
    "from sklearn.model_selection import cross_val_score, train_test_split, GridSearchCV, LeaveOneGroupOut\n",
    "from imblearn.pipeline import Pipeline\n",
    "\n",
    "from sklearn.decomposition import PCA\n",
    "\n",
    "from imblearn.over_sampling import SMOTE\n",
    "from imblearn.combine import SMOTEENN"
   ]
  },
  {
   "cell_type": "markdown",
   "metadata": {},
   "source": [
    "## Load Data for Classification"
   ]
  },
  {
   "cell_type": "code",
   "execution_count": 10,
   "metadata": {
    "code_folding": [],
    "collapsed": true
   },
   "outputs": [],
   "source": [
    "## find all \"static\" data so we can ignore for now\n",
    "r = re.compile('p[\\d]s')\n",
    "\n",
    "# remove p#s data\n",
    "vmatch = np.vectorize(lambda x:bool(r.search(x)))\n",
    "rem_static = vmatch(filenames)\n",
    "rem_static_test = vmatch(filenames_test)\n",
    "\n",
    "X_lh_train, y_lh_train, filenames_train, groups_train = X_lh[~rem_static], y_lh[~rem_static], filenames[~rem_static], groups[~rem_static]\n",
    "X_rh_train, y_rh_train, filenames_train, groups_train = X_rh[~rem_static], y_rh[~rem_static], filenames[~rem_static], groups[~rem_static]"
   ]
  },
  {
   "cell_type": "code",
   "execution_count": 11,
   "metadata": {
    "collapsed": true
   },
   "outputs": [],
   "source": [
    "X_lh_val, y_lh_val, filenames_val = X_lh_test[~rem_static_test], y_lh_test[~rem_static_test], filenames_test[~rem_static_test]\n",
    "X_rh_val, y_rh_val, filenames_val = X_rh_test[~rem_static_test], y_rh_test[~rem_static_test], filenames_test[~rem_static_test]"
   ]
  },
  {
   "cell_type": "code",
   "execution_count": 12,
   "metadata": {
    "collapsed": true
   },
   "outputs": [],
   "source": [
    "X_comb_train = np.vstack((X_lh_train, X_rh_train))\n",
    "y_comb_train = np.hstack((y_lh_train, y_rh_train))\n",
    "groups_comb_train = np.hstack((groups_train, groups_train))\n",
    "filenames_comb_train = np.hstack((filenames_train, filenames_train))\n",
    "\n",
    "X_comb_val = np.vstack((X_lh_val, X_rh_val))\n",
    "y_comb_val = np.hstack((y_lh_val, y_rh_val))\n",
    "filenames_comb_val = np.hstack((filenames_val, filenames_val))"
   ]
  },
  {
   "cell_type": "code",
   "execution_count": 13,
   "metadata": {},
   "outputs": [
    {
     "name": "stdout",
     "output_type": "stream",
     "text": [
      "Cross Validation Data\n",
      "LH: (9629, 180) (9629,)\n",
      "(array([0, 1, 2]), array([6890, 1718, 1021]))\n",
      "RH: (9629, 180) (9629,)\n",
      "(9629,)\n",
      "(9629,)\n",
      "(array([0, 1, 2]), array([7496, 2106,   27]))\n",
      "Combined: (19258, 180) (19258,)\n",
      "(19258,)\n",
      "(19258,)\n",
      "(array([0, 1, 2]), array([14386,  3824,  1048]))\n",
      "\n",
      "\n",
      "Validation Data\n",
      "LH: (2650, 180) (2650,)\n",
      "(array([0, 1, 2]), array([1267, 1336,   47]))\n",
      "RH: (2650, 180) (2650,)\n",
      "(array([0]), array([2650]))\n",
      "Combined: (5300, 180) (5300,)\n",
      "(array([0, 1, 2]), array([3917, 1336,   47]))\n",
      "(5300,)\n"
     ]
    }
   ],
   "source": [
    "print(\"Cross Validation Data\")\n",
    "print(\"LH:\", X_lh_train.shape, y_lh_train.shape)\n",
    "print(np.unique(y_lh_train, return_counts=True))\n",
    "print(\"RH:\", X_rh_train.shape, y_rh_train.shape)\n",
    "print(filenames_train.shape)\n",
    "print(groups_train.shape)\n",
    "print(np.unique(y_rh_train, return_counts=True))\n",
    "print(\"Combined:\", X_comb_train.shape, y_comb_train.shape)\n",
    "print(filenames_comb_train.shape)\n",
    "print(groups_comb_train.shape)\n",
    "print(np.unique(y_comb_train, return_counts=True))\n",
    "print()\n",
    "print()\n",
    "print(\"Validation Data\")\n",
    "print(\"LH:\", X_lh_val.shape, y_lh_val.shape)\n",
    "print(np.unique(y_lh_val, return_counts=True))\n",
    "print(\"RH:\", X_rh_val.shape, y_rh_val.shape)\n",
    "print(np.unique(y_rh_val, return_counts=True))\n",
    "print(\"Combined:\", X_comb_val.shape, y_comb_val.shape)\n",
    "print(np.unique(y_comb_val, return_counts=True))\n",
    "print(filenames_comb_val.shape)"
   ]
  },
  {
   "cell_type": "markdown",
   "metadata": {},
   "source": [
    "## Model Testing"
   ]
  },
  {
   "cell_type": "markdown",
   "metadata": {},
   "source": [
    "### SVM"
   ]
  },
  {
   "cell_type": "code",
   "execution_count": null,
   "metadata": {
    "collapsed": true
   },
   "outputs": [],
   "source": [
    "## Parameters for SVMs\n",
    "steps = [('SMOTE', SMOTE()), (\"SVC\", SVC())]\n",
    "param_grid = [\n",
    "  {'SVC__C': [1, 10, 100, 1000], 'SVC__kernel': ['linear'], 'SMOTE__kind': ['regular', 'borderline1', 'borderline2', 'svm']},\n",
    "  {'SVC__C': [1, 10, 100, 1000], 'SVC__gamma': [.0001, .001, .01, .1], 'SVC__kernel': ['rbf'], 'SMOTE__kind': ['regular', 'borderline1', 'borderline2', 'svm']},\n",
    " ]\n",
    "\n",
    "# steps = [('SMOTE', SMOTEENN()), (\"SVC\", SVC())]\n",
    "# param_grid = [\n",
    "#   {'SVC__C': [1, 10, 100, 1000], 'SVC__kernel': ['linear'], 'SMOTE__smote': [SMOTE(kind='regular'), SMOTE(kind='borderline1'), SMOTE(kind='borderline2'), SMOTE(kind='svm')]},\n",
    "#   {'SVC__C': [1, 10, 100, 1000], 'SVC__gamma': [.0001, .001, .01, .1], 'SVC__kernel': ['rbf'], 'SMOTE__smote': [SMOTE(kind='regular'), SMOTE(kind='borderline1'), SMOTE(kind='borderline2'), SMOTE(kind='svm')]},\n",
    "#  ]\n",
    "\n",
    "\n",
    "pipeline = Pipeline(steps)\n",
    "\n",
    "scores = ['accuracy']\n",
    "# logo = LeaveOneGroupOut()"
   ]
  },
  {
   "cell_type": "code",
   "execution_count": null,
   "metadata": {
    "collapsed": true,
    "scrolled": false
   },
   "outputs": [],
   "source": [
    "# Hyper Parameter Tuning\n",
    "for score in scores:\n",
    "    \n",
    "    with warnings.catch_warnings():\n",
    "        warnings.simplefilter(\"ignore\")\n",
    "        print(\"## Tuning hyper-parameters for {}\".format(score))\n",
    "        print()\n",
    "\n",
    "        if score is \"accuracy\":\n",
    "            scoring = score\n",
    "        else:\n",
    "            scoring = '{}_macro'.format(score)\n",
    "    \n",
    "        #### TRAIN LH\n",
    "        clf_lh = GridSearchCV(pipeline, param_grid, cv=3, scoring=scoring, n_jobs=2, verbose=2)\n",
    "        clf_lh.fit(X_lh_train, y_lh_train)\n",
    "\n",
    "        print(\"Best LH Parameters set found on data set:\")\n",
    "        print()\n",
    "        print(clf_lh.best_params_)\n",
    "        print()\n",
    "        print(\"Grid scores on data set:\")\n",
    "        print()\n",
    "        means = clf_lh.cv_results_['mean_test_score']\n",
    "        stds  = clf_lh.cv_results_['std_test_score']\n",
    "        for mean, std, params in zip(means, stds, clf_lh.cv_results_['params']):\n",
    "            print(\"%0.3f (+/-%0.3f) for %r\" % (mean, std, params))\n",
    "        print()\n",
    "        print()\n",
    "        \n",
    "        \n",
    "#         #### TRAIN RH\n",
    "#         clf_rh = GridSearchCV(pipeline, param_grid, cv=3, scoring=scoring, n_jobs=2)\n",
    "#         clf_rh.fit(X_rh_train, y_rh_train)\n",
    "\n",
    "#         print(\"Best RH Parameters set found on data set:\")\n",
    "#         print()\n",
    "#         print(clf_rh.best_params_)\n",
    "#         print()\n",
    "#         print(\"Grid scores on data set:\")\n",
    "#         print()\n",
    "#         means = clf_rh.cv_results_['mean_test_score']\n",
    "#         stds  = clf_rh.cv_results_['std_test_score']\n",
    "#         for mean, std, params in zip(means, stds, clf_rh.cv_results_['params']):\n",
    "#             print(\"%0.3f (+/-%0.3f) for %r\" % (mean, std, params))\n",
    "#         print()\n",
    "        \n",
    "        \n",
    "#         #### TRAIN COMBINED LH & RH\n",
    "#         clf_comb = GridSearchCV(pipeline, param_grid, cv=3, scoring=scoring, n_jobs=2)\n",
    "#         clf_comb.fit(X_comb_train, y_comb_train)\n",
    "\n",
    "#         print(\"Best Combined Parameters set found on data set:\")\n",
    "#         print()\n",
    "#         print(clf_comb.best_params_)\n",
    "#         print()\n",
    "#         print(\"Grid scores on data set:\")\n",
    "#         print()\n",
    "#         means = clf_comb.cv_results_['mean_test_score']\n",
    "#         stds  = clf_comb.cv_results_['std_test_score']\n",
    "#         for mean, std, params in zip(means, stds, clf_comb.cv_results_['params']):\n",
    "#             print(\"%0.3f (+/-%0.3f) for %r\" % (mean, std, params))\n",
    "#         print()"
   ]
  },
  {
   "cell_type": "code",
   "execution_count": null,
   "metadata": {
    "collapsed": true
   },
   "outputs": [],
   "source": [
    "from sklearn.metrics import accuracy_score\n",
    "y_lh_true, y_lh_pred = y_lh_val, clf_lh.predict(X_lh_val)\n",
    "# y_rh_true, y_rh_pred = y_rh_val, clf_rh.predict(X_rh_val)\n",
    "# y_comb_true, y_comb_pred = y_comb_val, clf_comb.predict(X_comb_val)\n",
    "print(\"LH Validatation Score:\", accuracy_score(y_lh_true, y_lh_pred))\n",
    "print(\"LH Confustion Matrix:\\n\", confusion_matrix(y_lh_true, y_lh_pred))\n",
    "print()\n",
    "# print(\"RH Validatation Score:\", accuracy_score(y_rh_true, y_rh_pred))\n",
    "# print(\"RH Confustion Matrix:\\n\", confusion_matrix(y_rh_true, y_rh_pred))\n",
    "# print()\n",
    "# print(\"Comb Validatation Score:\", accuracy_score(y_comb_true, y_comb_pred))\n",
    "# print(\"Comb Confustion Matrix:\\n\", confusion_matrix(y_comb_true, y_comb_pred))\n"
   ]
  },
  {
   "cell_type": "markdown",
   "metadata": {},
   "source": [
    "### Single Classifier"
   ]
  },
  {
   "cell_type": "code",
   "execution_count": 32,
   "metadata": {},
   "outputs": [
    {
     "data": {
      "text/plain": [
       "Pipeline(memory=None,\n",
       "     steps=[('SMOTE', SMOTE(k=None, k_neighbors=5, kind='borderline2', m=None, m_neighbors=10,\n",
       "   n_jobs=1, out_step=0.5, random_state=None, ratio='auto',\n",
       "   svm_estimator=None)), ('SVC', SVC(C=1, cache_size=200, class_weight=None, coef0=0.0,\n",
       "  decision_function_shape='ovr', degree=3, gamma=0.0001, kernel='linear',\n",
       "  max_iter=-1, probability=False, random_state=None, shrinking=True,\n",
       "  tol=0.001, verbose=False))])"
      ]
     },
     "execution_count": 32,
     "metadata": {},
     "output_type": "execute_result"
    }
   ],
   "source": [
    "steps_proba = [('SMOTE', SMOTE(kind=\"borderline2\")), (\"SVC\", SVC(C=1, gamma=.0001, kernel='linear', probability=False))]\n",
    "pipeline_proba = Pipeline(steps_proba)\n",
    "pipeline_proba.fit(X_rh_train, y_rh_train)"
   ]
  },
  {
   "cell_type": "code",
   "execution_count": 33,
   "metadata": {
    "collapsed": true
   },
   "outputs": [],
   "source": [
    "y_rh_pred = pipeline_proba.predict(X_rh_val)"
   ]
  },
  {
   "cell_type": "code",
   "execution_count": 34,
   "metadata": {},
   "outputs": [
    {
     "name": "stdout",
     "output_type": "stream",
     "text": [
      "rH Validatation Score: 0.51358490566\n",
      "rH Confustion Matrix:\n",
      " [[1361 1277   12]\n",
      " [   0    0    0]\n",
      " [   0    0    0]]\n"
     ]
    }
   ],
   "source": [
    "y_rh_true, y_rh_pred = y_rh_val, y_rh_pred\n",
    "print(\"rH Validatation Score:\", accuracy_score(y_rh_true, y_rh_pred))\n",
    "print(\"rH Confustion Matrix:\\n\", confusion_matrix(y_rh_true, y_rh_pred))"
   ]
  },
  {
   "cell_type": "code",
   "execution_count": 29,
   "metadata": {
    "collapsed": true
   },
   "outputs": [],
   "source": [
    "y_rh_true_maj = []\n",
    "for i in range(0, y_rh_true.size, 10):\n",
    "    u, counts = np.unique(y_rh_true[i:i+10], return_counts=True)\n",
    "    pred = u[np.argmax(counts)]\n",
    "    y_rh_true_maj.append(pred)\n",
    "    \n",
    "y_rh_true_maj = np.array(y_rh_true_maj)"
   ]
  },
  {
   "cell_type": "code",
   "execution_count": 30,
   "metadata": {
    "collapsed": true
   },
   "outputs": [],
   "source": [
    "y_rh_pred_maj = []\n",
    "for i in range(0, y_rh_pred.size, 10):\n",
    "    u, counts = np.unique(y_rh_pred[i:i+10], return_counts=True)\n",
    "    pred = u[np.argmax(counts)]\n",
    "    y_rh_pred_maj.append(pred)\n",
    "    \n",
    "y_rh_pred_maj = np.array(y_rh_pred_maj)"
   ]
  },
  {
   "cell_type": "code",
   "execution_count": 31,
   "metadata": {},
   "outputs": [
    {
     "name": "stdout",
     "output_type": "stream",
     "text": [
      "rH Validatation Score: 0.0\n",
      "rH Confustion Matrix:\n",
      " [[  0 253  12]\n",
      " [  0   0   0]\n",
      " [  0   0   0]]\n"
     ]
    }
   ],
   "source": [
    "print(\"rH Validatation Score:\", accuracy_score(y_rh_true_maj, y_rh_pred_maj))\n",
    "print(\"rH Confustion Matrix:\\n\", confusion_matrix(y_rh_true_maj, y_rh_pred_maj))"
   ]
  },
  {
   "cell_type": "code",
   "execution_count": 39,
   "metadata": {
    "collapsed": true
   },
   "outputs": [],
   "source": [
    "radii = np.linspace(50000, 1000000, 9)"
   ]
  },
  {
   "cell_type": "code",
   "execution_count": 40,
   "metadata": {},
   "outputs": [
    {
     "data": {
      "text/plain": [
       "array([   50000.,   168750.,   287500.,   406250.,   525000.,   643750.,\n",
       "         762500.,   881250.,  1000000.])"
      ]
     },
     "execution_count": 40,
     "metadata": {},
     "output_type": "execute_result"
    }
   ],
   "source": [
    "radii"
   ]
  },
  {
   "cell_type": "code",
   "execution_count": null,
   "metadata": {
    "collapsed": true
   },
   "outputs": [],
   "source": []
  }
 ],
 "metadata": {
  "kernelspec": {
   "display_name": "Python 3",
   "language": "python",
   "name": "python3"
  },
  "language_info": {
   "codemirror_mode": {
    "name": "ipython",
    "version": 3
   },
   "file_extension": ".py",
   "mimetype": "text/x-python",
   "name": "python",
   "nbconvert_exporter": "python",
   "pygments_lexer": "ipython3",
   "version": "3.6.1"
  },
  "toc": {
   "nav_menu": {
    "height": "172px",
    "width": "169px"
   },
   "number_sections": true,
   "sideBar": true,
   "skip_h1_title": false,
   "toc_cell": false,
   "toc_position": {},
   "toc_section_display": "block",
   "toc_window_display": false
  }
 },
 "nbformat": 4,
 "nbformat_minor": 2
}
