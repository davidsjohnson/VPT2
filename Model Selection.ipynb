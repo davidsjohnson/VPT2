{
 "cells": [
  {
   "cell_type": "markdown",
   "metadata": {},
   "source": [
    "# Virtual Piano Tutor"
   ]
  },
  {
   "cell_type": "markdown",
   "metadata": {
    "heading_collapsed": true
   },
   "source": [
    "## Project Description\n",
    "\n",
    "This is a notebook for tracking my progress on VPT...\n",
    "\n",
    "- Best Classifier as of 11/30\n",
    "    - SVM {'C': 100, 'gamma': 0.1, 'kernel': 'rbf'}"
   ]
  },
  {
   "cell_type": "markdown",
   "metadata": {
    "heading_collapsed": true
   },
   "source": [
    "## TODO List"
   ]
  },
  {
   "cell_type": "markdown",
   "metadata": {
    "hidden": true
   },
   "source": [
    "- TODAY\n",
    "    - Decide on RDF model to keep for rest of project\n",
    "    - Work on RDF data and annotations\n",
    "    - Add results to file\n",
    "    - Rewrite RDF for GridSearchCV\n",
    "        - Extend RDF\n",
    "    - Work on ideas for paper\n",
    "        - Visualizations\n",
    "    - Play with CAE\n",
    "    - How to automate this...\n",
    "    - Windowing/Summarizing\n",
    "    \n",
    "- DONE\n",
    "    - ~~Organize RDF data~~\n",
    "    - ~~Generate data from already extracted hands...~~\n",
    "    - ~~Get notebook running on Compute Canada~~\n",
    "    - ~~Get data on Compute Canada~~\n",
    "    - ~~Setup CAE to deal with hand images~~\n",
    "    - ~~setup data for training autoencoder on LH and RH~~\n",
    "    - ~~Train Autoencoder for LH and Rh~~\n",
    "    \n",
    "\n",
    "- Bad Segmentation\n",
    "    - p3c - left hand (not terrible)\n",
    "    - p1s - right hand (shouldn't use)\n",
    "    - p5a - Both could use some work but still caputures most of the left hand (RH not so good...)\n",
    "    - p5c - not good (left hand passable...)\n",
    "    \n",
    "- Add noise to CAE\n",
    "    - http://scikit-image.org/docs/dev/api/skimage.util.html#random-noise\n",
    "    \n",
    "- ~~Multiple Participants~~\n",
    "    - ~~have one holdout set participant~~\n",
    "        - ~~Test with p1&2 training p3 testing, then p1&3...~~\n",
    "    - ~~have one holdout set exercise~~\n",
    "\n",
    "- Test with RH too\n",
    "\n",
    "- Windowing data\n",
    "    - Summarize data for classification\n",
    "    - Majority Voting (or with probabilities)\n",
    "\n",
    "- Look for other features\n",
    "    - Others??\n",
    "    - ~~Autoencoder features~~\n",
    "    - ~~HONV~~\n",
    "    \n",
    "- Work on hand segmentation\n",
    "   - See p1e for bad examples\n",
    "   - How to validate segmentation?\n",
    "       - Statistical analysis on length and width ratios\n",
    "       \n",
    "- Visualize !!!\n",
    "    - Input \n",
    "    - Results !!!\n",
    "        - F Scores\n",
    "        - Accuracy\n",
    "        - Try weighted instead of macro\n",
    "\n",
    "\n",
    "\n",
    "\n",
    "- Finish Project Description\n",
    "\n",
    "- ~~Turn into functions~~\n",
    "    \n",
    "- ~~Verify Segmentation~~\n",
    "    - have only done basic verification\n",
    "    \n",
    "- ~~FIRST THING: Test by ignoring training data (p1s) and then using train_test_split on recordings~~\n",
    "    - ~~Data should be ready for spliting~~\n",
    "    \n",
    "- ~~Remove data from testing to find culprit~~\n",
    "    \n",
    "- ~~Track my progress better !!! (duh through notebooks!)~~"
   ]
  },
  {
   "cell_type": "markdown",
   "metadata": {},
   "source": [
    "# Setup"
   ]
  },
  {
   "cell_type": "markdown",
   "metadata": {},
   "source": [
    "## Libraries"
   ]
  },
  {
   "cell_type": "code",
   "execution_count": 1,
   "metadata": {},
   "outputs": [],
   "source": [
    "import os\n",
    "\n",
    "%matplotlib inline\n",
    "import matplotlib.pyplot as plt\n",
    "import numpy as np\n",
    "import cv2\n",
    "\n",
    "from vpt.features.features import *\n",
    "import vpt.utils.image_processing as ip\n",
    "import vpt.settings as s\n",
    "import vpt.hand_detection.depth_context_features as dcf\n",
    "\n",
    "%load_ext autoreload\n",
    "%autoreload 2"
   ]
  },
  {
   "cell_type": "markdown",
   "metadata": {},
   "source": [
    "## Some helper functions"
   ]
  },
  {
   "cell_type": "markdown",
   "metadata": {
    "heading_collapsed": true
   },
   "source": [
    "### Visualize Hands"
   ]
  },
  {
   "cell_type": "code",
   "execution_count": null,
   "metadata": {
    "collapsed": true,
    "hidden": true
   },
   "outputs": [],
   "source": [
    "def show_hand(hand):\n",
    "    dmap = hand.get_original()\n",
    "    mask = hand.get_mask()\n",
    "        \n",
    "    img = (ip.normalize(dmap)*255).astype('uint8')\n",
    "    img_hand = cv2.bitwise_and(img, img, mask=mask)\n",
    "\n",
    "    cv2.imshow(\"OG\", img)\n",
    "    cv2.imshow(\"Mask\", mask)\n",
    "    cv2.imshow(\"Hand Only\", img_hand)\n",
    "    \n",
    "    return cv2.waitKey(20)"
   ]
  },
  {
   "cell_type": "markdown",
   "metadata": {},
   "source": [
    "### Generate Dataset"
   ]
  },
  {
   "cell_type": "code",
   "execution_count": 2,
   "metadata": {
    "collapsed": true
   },
   "outputs": [],
   "source": [
    "def init_hand_generator(folders, testing_p, annotation_file, offset_gen, feature_gen, \n",
    "                       M, radius, n_samples=750, ftype=\".bin\"):\n",
    "    \n",
    "    annotations = load_annotations(annotation_file)\n",
    "    fs = FileStream(folders, ftype, annotations=annotations, ignore=True)\n",
    "\n",
    "    # generate or load model\n",
    "    base_model_folder = \"data/rdf/trainedmodels/\"\n",
    "    seg_model_path = os.path.join(base_model_folder, \"{:s}_M{:d}_rad{:0.2f}\".format(\"mixed_no_{}\".format(testing_p), M, radius))\n",
    "    rdf_hs = load_hs_model(\"RDF Model\", offset_gen, feature_gen, M, radius, n_samples, refresh=False, segmentation_model_path=seg_model_path)\n",
    "\n",
    "    hd = HandDetector(rdf_hs)\n",
    "    hg = HandGenerator(fs, hd, annotations)\n",
    "    \n",
    "    return hg"
   ]
  },
  {
   "cell_type": "code",
   "execution_count": 3,
   "metadata": {
    "collapsed": true
   },
   "outputs": [],
   "source": [
    "def generate_data(hg, feature_type=\"hog\"):\n",
    "\n",
    "    X_lh = []\n",
    "    y_lh = []\n",
    "\n",
    "    X_rh = []\n",
    "    y_rh = []\n",
    "\n",
    "    filenames = []\n",
    "    \n",
    "    percent = .01\n",
    "\n",
    "    hgen = hg.hand_generator(debug=True)\n",
    "    hg_size = hg.size()\n",
    "    for i, (lh, rh) in enumerate(hgen):\n",
    "        if lh.label() != None and rh.label() != None:\n",
    "\n",
    "            filenames.append(lh.get_fpath())\n",
    "            y_lh.append(lh.label())\n",
    "            X_lh.append(extract_features(lh.get_hand_img(), feature_type))\n",
    "            \n",
    "            y_rh.append(rh.label())\n",
    "            X_rh.append(extract_features(rh.get_hand_img(), feature_type))\n",
    "            \n",
    "        else:\n",
    "            raise RuntimeWarning(\"Warning: No label found for hands\")\n",
    "        \n",
    "        if i / hg_size > percent:\n",
    "            print(\"#\", end=\"\")\n",
    "            percent += .01\n",
    "                \n",
    "\n",
    "    X_lh = np.array(X_lh)\n",
    "    y_lh = np.array(y_lh)\n",
    "    X_rh = np.array(X_rh)\n",
    "    y_rh = np.array(y_rh)\n",
    "    filenames = np.array(filenames)\n",
    "    \n",
    "    return X_lh, y_lh, X_rh, y_rh, filenames"
   ]
  },
  {
   "cell_type": "markdown",
   "metadata": {},
   "source": [
    "### Load/Save Data Set"
   ]
  },
  {
   "cell_type": "code",
   "execution_count": 4,
   "metadata": {},
   "outputs": [],
   "source": [
    "def save_data(X_lh, y_lh, X_rh, y_rh, filenames, testing_p, M, radius, feature_type, data_type):\n",
    "    base = \"data/posture/extracted/\"\n",
    "    \n",
    "    data_path = os.path.join(base, \"without_{}_M{}_rad{:0.2f}_{}_\".format(testing_p, M, radius, feature_type))\n",
    "    np.savez_compressed(data_path + data_type + \"_data.npz\" , X_lh=X_lh, y_lh=y_lh, X_rh=X_rh, y_rh=y_rh, filenames=filenames)"
   ]
  },
  {
   "cell_type": "code",
   "execution_count": 5,
   "metadata": {},
   "outputs": [],
   "source": [
    "def load_data(testing_p, M, radius, feature_type, data_type):\n",
    "    base = \"data/posture/extracted/\"\n",
    "    data_path = os.path.join(base, \"without_{}_M{}_rad{:0.2f}_{}_\".format(testing_p, M, radius, feature_type))\n",
    "    data = np.load(data_path + data_type + \"_data.npz\")    \n",
    "    return data"
   ]
  },
  {
   "cell_type": "markdown",
   "metadata": {},
   "source": [
    "## Project Setup"
   ]
  },
  {
   "cell_type": "code",
   "execution_count": 6,
   "metadata": {},
   "outputs": [],
   "source": [
    "## Some General Parameters\n",
    "s.participant = \"all\"\n",
    "s.sensor = \"realsense\"\n",
    "\n",
    "participants = [\"p1\", \"p2\", \"p3\", \"p4\", \"p6\"]\n",
    "posture_folders = {p : os.path.join(\"data/posture\", p) for p in participants}\n",
    "\n",
    "ftype = \".bin\"\n",
    "folders = \"data/posture/\""
   ]
  },
  {
   "cell_type": "code",
   "execution_count": 7,
   "metadata": {},
   "outputs": [],
   "source": [
    "## Model Parameters\n",
    "refreshHD = False\n",
    "refreshCLF = True\n",
    "\n",
    "## RDF Parameters\n",
    "M = 5\n",
    "radius = .15\n",
    "\n",
    "## Posture Detection Parameters\n",
    "feature_type = \"shog\"\n",
    "annotation_file = \"data/posture/annotations.txt\"\n",
    "\n",
    "offset_gen = dcf.generate_feature_offsets\n",
    "feature_gen = dcf.calc_features"
   ]
  },
  {
   "cell_type": "markdown",
   "metadata": {},
   "source": [
    "### Generate or Load Data"
   ]
  },
  {
   "cell_type": "code",
   "execution_count": null,
   "metadata": {
    "collapsed": true
   },
   "outputs": [],
   "source": [
    "#### Generate and Save data for all testing participants\n",
    "for testing_p in participants:\n",
    "    \n",
    "    training_folders = [folder for p, folder in posture_folders.items() if p != testing_p]\n",
    "    testing_folder = posture_folders[testing_p]\n",
    "    \n",
    "    print(training_folders)\n",
    "    hg_train = init_hand_generator(training_folders, testing_p, annotation_file, offset_gen, feature_gen, \n",
    "                       M, radius, n_samples=750, ftype=\".bin\")\n",
    "    hg_test = init_hand_generator(testing_folder, testing_p, annotation_file, offset_gen, feature_gen, \n",
    "                       M, radius, n_samples=750, ftype=\".bin\")\n",
    "    \n",
    "    print(\"\\n###Generating Training Data | Testing P: {}\".format(testing_p))\n",
    "    X_lh, y_lh, X_rh, y_rh, filenames = generate_data(hg_train, feature_type=feature_type)\n",
    "    save_data(X_lh, y_lh, X_rh, y_rh, filenames, testing_p, M, radius, feature_type, data_type=\"train\")\n",
    "    \n",
    "    print(\"\\n###Generating Testing Data | Testing P: {}\".format(testing_p))\n",
    "    X_lh_test, y_lh_test, X_rh_test, y_rh_test, filenames_test = generate_data(hg_test, feature_type=feature_type)\n",
    "    save_data(X_lh_test, y_lh_test, X_rh_test, y_rh_test, filenames_test, testing_p, M, radius, feature_type, data_type=\"test\")"
   ]
  },
  {
   "cell_type": "code",
   "execution_count": 8,
   "metadata": {},
   "outputs": [
    {
     "name": "stdout",
     "output_type": "stream",
     "text": [
      "X LH Train (15195, 160) y LH (15195,)\n",
      "X RH Train (15195, 160) y RH (15195,)\n",
      "Filenames Train (15195,)\n",
      "\n",
      "X LH Test (4578, 160) y LH (4578,)\n",
      "X RH Test (4578, 160) y RH (4578,)\n",
      "Filenames Test (4578,)\n"
     ]
    }
   ],
   "source": [
    "#### Load data for a single paricipant\n",
    "train_data = load_data(\"p3\", M, radius, feature_type, \"train\")\n",
    "test_data = load_data(\"p3\", M, radius, feature_type, \"test\")\n",
    "print(\"X LH Train\", train_data[\"X_lh\"].shape, \"y LH\", train_data[\"y_lh\"].shape)\n",
    "print(\"X RH Train\", train_data[\"X_rh\"].shape, \"y RH\", train_data[\"y_rh\"].shape)\n",
    "print(\"Filenames Train\", train_data[\"filenames\"].shape)\n",
    "print()\n",
    "print(\"X LH Test\", test_data[\"X_lh\"].shape, \"y LH\", test_data[\"y_lh\"].shape)\n",
    "print(\"X RH Test\", test_data[\"X_rh\"].shape, \"y RH\", test_data[\"y_rh\"].shape)\n",
    "print(\"Filenames Test\", test_data[\"filenames\"].shape)"
   ]
  },
  {
   "cell_type": "code",
   "execution_count": null,
   "metadata": {},
   "outputs": [],
   "source": [
    "# X_lh = np.concatenate((train_data[\"X_lh\"], test_data[\"X_lh\"]))\n",
    "# y_lh = np.concatenate((train_data[\"y_lh\"], test_data[\"y_lh\"]))\n",
    "# X_rh = np.concatenate((train_data[\"X_rh\"], test_data[\"X_rh\"]))\n",
    "# y_rh = np.concatenate((train_data[\"y_rh\"], test_data[\"y_rh\"]))\n",
    "# filenames = np.concatenate((train_data[\"filenames\"], test_data[\"filenames\"]))\n",
    "\n",
    "# print(X_lh.shape, y_lh.shape)\n",
    "# print(X_rh.shape, y_rh.shape)\n",
    "# print(filenames.shape)"
   ]
  },
  {
   "cell_type": "code",
   "execution_count": 9,
   "metadata": {},
   "outputs": [
    {
     "name": "stdout",
     "output_type": "stream",
     "text": [
      "Cross Val Data:\n",
      "(15195, 160) (15195,)\n",
      "(15195, 160) (15195,)\n",
      "(15195,)\n",
      "Validation Data\n",
      "(4578, 160) (4578,)\n",
      "(4578, 160) (4578,)\n",
      "(4578,)\n"
     ]
    }
   ],
   "source": [
    "X_lh = train_data[\"X_lh\"]\n",
    "y_lh = train_data[\"y_lh\"]\n",
    "X_rh = train_data[\"X_rh\"]\n",
    "y_rh = train_data[\"y_rh\"]\n",
    "filenames = train_data[\"filenames\"]\n",
    "\n",
    "print(\"Cross Val Data:\")\n",
    "print(X_lh.shape, y_lh.shape)\n",
    "print(X_rh.shape, y_rh.shape)\n",
    "print(filenames.shape)\n",
    "\n",
    "X_lh_test = test_data[\"X_lh\"]\n",
    "y_lh_test = test_data[\"y_lh\"]\n",
    "X_rh_test = test_data[\"X_rh\"]\n",
    "y_rh_test = test_data[\"y_rh\"]\n",
    "filenames_test = test_data[\"filenames\"]\n",
    "\n",
    "print(\"Validation Data\")\n",
    "print(X_lh_test.shape, y_lh_test.shape)\n",
    "print(X_rh_test.shape, y_rh_test.shape)\n",
    "print(filenames_test.shape)"
   ]
  },
  {
   "cell_type": "code",
   "execution_count": 10,
   "metadata": {},
   "outputs": [
    {
     "name": "stdout",
     "output_type": "stream",
     "text": [
      "(15195,)\n",
      "[1 2 4 6]\n",
      "[1 1 1 ..., 6 6 6]\n"
     ]
    }
   ],
   "source": [
    "groups = np.zeros_like(filenames, dtype=int)\n",
    "\n",
    "for p in [\"p1\", \"p2\", \"p4\", \"p6\"]:\n",
    "    p_num = int(p[1])\n",
    "    groups[np.where(np.char.find(filenames, p) != -1)] = p_num\n",
    "    \n",
    "print(groups.shape)\n",
    "print(np.unique(groups))\n",
    "print(groups)"
   ]
  },
  {
   "cell_type": "markdown",
   "metadata": {},
   "source": [
    "# Classification"
   ]
  },
  {
   "cell_type": "markdown",
   "metadata": {},
   "source": [
    "### Libraries"
   ]
  },
  {
   "cell_type": "code",
   "execution_count": 11,
   "metadata": {
    "collapsed": true
   },
   "outputs": [],
   "source": [
    "from sklearn.svm import SVC\n",
    "from sklearn.ensemble import RandomForestClassifier\n",
    "from sklearn.metrics import confusion_matrix, classification_report\n",
    "from sklearn.model_selection import cross_val_score, train_test_split, GridSearchCV, LeaveOneGroupOut\n",
    "from imblearn.pipeline import Pipeline\n",
    "\n",
    "from sklearn.decomposition import PCA\n",
    "\n",
    "from imblearn.over_sampling import SMOTE"
   ]
  },
  {
   "cell_type": "markdown",
   "metadata": {},
   "source": [
    "## Load Data for Classification"
   ]
  },
  {
   "cell_type": "code",
   "execution_count": 12,
   "metadata": {
    "code_folding": []
   },
   "outputs": [],
   "source": [
    "## find all \"static\" data so we can ignore for now\n",
    "r = re.compile('p[\\d]s')\n",
    "\n",
    "# remove p#s data\n",
    "vmatch = np.vectorize(lambda x:bool(r.search(x)))\n",
    "rem_static = vmatch(filenames)\n",
    "rem_static_test = vmatch(filenames_test)\n",
    "\n",
    "X_lh_train, y_lh_train, filenames_train, groups_train = X_lh[~rem_static], y_lh[~rem_static], filenames[~rem_static], groups[~rem_static]\n",
    "X_rh_train, y_rh_train, filenames_train, groups_train = X_rh[~rem_static], y_rh[~rem_static], filenames[~rem_static], groups[~rem_static]"
   ]
  },
  {
   "cell_type": "code",
   "execution_count": 13,
   "metadata": {},
   "outputs": [],
   "source": [
    "X_lh_val, y_lh_val, filenames_val = X_lh_test[~rem_static_test], y_lh_test[~rem_static_test], filenames_test[~rem_static_test]\n",
    "X_rh_val, y_rh_val, filenames_val = X_rh_test[~rem_static_test], y_rh_test[~rem_static_test], filenames_test[~rem_static_test]"
   ]
  },
  {
   "cell_type": "code",
   "execution_count": 14,
   "metadata": {},
   "outputs": [
    {
     "name": "stdout",
     "output_type": "stream",
     "text": [
      "Cross Validation Data\n",
      "(13577, 160) (13577,)\n",
      "(13577, 160) (13577,)\n",
      "(13577,)\n",
      "(13577,)\n",
      "Validation Data\n",
      "(2650, 160) (2650,)\n",
      "(2650, 160) (2650,)\n",
      "(2650,)\n"
     ]
    }
   ],
   "source": [
    "print(\"Cross Validation Data\")\n",
    "print(X_lh_train.shape, y_lh_train.shape)\n",
    "print(X_rh_train.shape, y_rh_train.shape)\n",
    "print(filenames_train.shape)\n",
    "print(groups_train.shape)\n",
    "\n",
    "print(\"Validation Data\")\n",
    "print(X_lh_val.shape, y_lh_val.shape)\n",
    "print(X_rh_val.shape, y_rh_val.shape)\n",
    "print(filenames_val.shape)"
   ]
  },
  {
   "cell_type": "markdown",
   "metadata": {},
   "source": [
    "## Model Testing"
   ]
  },
  {
   "cell_type": "markdown",
   "metadata": {},
   "source": [
    "### SVM"
   ]
  },
  {
   "cell_type": "code",
   "execution_count": 15,
   "metadata": {},
   "outputs": [],
   "source": [
    "steps = [('SMOTE', SMOTE()), (\"SVC\", SVC())]\n",
    "pipeline = Pipeline(steps)\n",
    "\n",
    "## Parameters for SVMs\n",
    "param_grid = [\n",
    "  {'SVC__C': [.1, 1, 10, 100], 'SVC__gamma': [.001, .01, .1, 1], 'SVC__kernel': ['rbf', 'linear'], 'SMOTE__kind': ['borderline1', 'borderline2', 'svm']},\n",
    " ]\n",
    "\n",
    "scores = ['accuracy']\n",
    "\n",
    "logo = LeaveOneGroupOut()"
   ]
  },
  {
   "cell_type": "code",
   "execution_count": null,
   "metadata": {
    "scrolled": false
   },
   "outputs": [
    {
     "name": "stdout",
     "output_type": "stream",
     "text": [
      "## Tuning hyper-parameters for accuracy\n",
      "\n"
     ]
    }
   ],
   "source": [
    "# Hyper Parameter Tuning\n",
    "for score in scores:\n",
    "    \n",
    "    with warnings.catch_warnings():\n",
    "        warnings.simplefilter(\"ignore\")\n",
    "        print(\"## Tuning hyper-parameters for {}\".format(score))\n",
    "        print()\n",
    "\n",
    "        if score is \"accuracy\":\n",
    "            scoring = score\n",
    "        else:\n",
    "            scoring = '{}_macro'.format(score)\n",
    "    \n",
    "        #### TRAIN LH\n",
    "        clf_lh = GridSearchCV(pipeline, param_grid, cv=logo.split(X_lh_train, y_lh_train, groups=groups_train), scoring=scoring, n_jobs=2)\n",
    "        clf_lh.fit(X_lh_train, y_lh_train)\n",
    "\n",
    "        print(\"Best LH Parameters set found on data set:\")\n",
    "        print()\n",
    "        print(clf_lh.best_params_)\n",
    "        print()\n",
    "        print(\"Grid scores on data set:\")\n",
    "        print()\n",
    "        means = clf_lh.cv_results_['mean_test_score']\n",
    "        stds  = clf_lh.cv_results_['std_test_score']\n",
    "        for mean, std, params in zip(means, stds, clf_lh.cv_results_['params']):\n",
    "            print(\"%0.3f (+/-%0.3f) for %r\" % (mean, std, params))\n",
    "        print()\n",
    "        print()\n",
    "        \n",
    "        \n",
    "        #### TRAIN RH\n",
    "        clf_rh = GridSearchCV(pipeline, param_grid, cv=logo.split(X_rh_train, y_rh_train, groups=groups_train), scoring=scoring, n_jobs=2)\n",
    "        clf_rh.fit(X_rh_train, y_rh_train)\n",
    "\n",
    "        print(\"Best RH Parameters set found on data set:\")\n",
    "        print()\n",
    "        print(clf_rh.best_params_)\n",
    "        print()\n",
    "        print(\"Grid scores on data set:\")\n",
    "        print()\n",
    "        means = clf_rh.cv_results_['mean_test_score']\n",
    "        stds  = clf_rh.cv_results_['std_test_score']\n",
    "        for mean, std, params in zip(means, stds, clf_rh.cv_results_['params']):\n",
    "            print(\"%0.3f (+/-%0.3f) for %r\" % (mean, std, params))\n",
    "        print()"
   ]
  },
  {
   "cell_type": "code",
   "execution_count": null,
   "metadata": {},
   "outputs": [],
   "source": [
    "from sklearn.metrics import accuracy_score\n",
    "y_true, y_pred = y_lh_val, clf_lh.predict(X_lh_val)\n",
    "print(\"Validatation Score:\", accuracy_score(y_true, y_pred))\n",
    "print(\"Confustion Matrix:\\n\", confusion_matrix(y_true, y_pred))"
   ]
  }
 ],
 "metadata": {
  "kernelspec": {
   "display_name": "Python 3",
   "language": "python",
   "name": "python3"
  },
  "language_info": {
   "codemirror_mode": {
    "name": "ipython",
    "version": 3
   },
   "file_extension": ".py",
   "mimetype": "text/x-python",
   "name": "python",
   "nbconvert_exporter": "python",
   "pygments_lexer": "ipython3",
   "version": "3.6.1"
  },
  "toc": {
   "nav_menu": {
    "height": "172px",
    "width": "169px"
   },
   "number_sections": true,
   "sideBar": true,
   "skip_h1_title": false,
   "toc_cell": false,
   "toc_position": {},
   "toc_section_display": "block",
   "toc_window_display": false
  }
 },
 "nbformat": 4,
 "nbformat_minor": 2
}
