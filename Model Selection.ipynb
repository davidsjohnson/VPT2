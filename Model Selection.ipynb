{
 "cells": [
  {
   "cell_type": "markdown",
   "metadata": {},
   "source": [
    "# Virtual Piano Tutor"
   ]
  },
  {
   "cell_type": "markdown",
   "metadata": {
    "heading_collapsed": true
   },
   "source": [
    "## Project Description\n",
    "\n",
    "This is a notebook for tracking my progress on VPT...\n",
    "\n",
    "- Best Classifier as of 11/30\n",
    "    - SVM {'C': 100, 'gamma': 0.1, 'kernel': 'rbf'}"
   ]
  },
  {
   "cell_type": "markdown",
   "metadata": {},
   "source": [
    "## TODO List"
   ]
  },
  {
   "cell_type": "markdown",
   "metadata": {},
   "source": [
    "- TODAY\n",
    "    - Generate data from already extracted hands...\n",
    "    - Rewrite RDF for GridSearchCV\n",
    "        - Extend RDF\n",
    "    - Organize RDF data\n",
    "    - Add results to file\n",
    "    \n",
    "- DONE\n",
    "    - ~~Get notebook running on Compute Canada~~\n",
    "    - ~~Get data on Compute Canada~~\n",
    "    - ~~Setup CAE to deal with hand images~~\n",
    "    - ~~setup data for training autoencoder on LH and RH~~\n",
    "    - ~~Train Autoencoder for LH and Rh~~\n",
    "    \n",
    "\n",
    "- Bad Segmentation\n",
    "    - p3c - left hand (not terrible)\n",
    "    - p1s - right hand (shouldn't use)\n",
    "    - p5a - Both could use some work but still caputures most of the left hand (RH not so good...)\n",
    "    - p5c - not good (left hand passable...)\n",
    "    \n",
    "- Add noise to CAE\n",
    "    - http://scikit-image.org/docs/dev/api/skimage.util.html#random-noise\n",
    "    \n",
    "- ~~Multiple Participants~~\n",
    "    - ~~have one holdout set participant~~\n",
    "        - ~~Test with p1&2 training p3 testing, then p1&3...~~\n",
    "    - ~~have one holdout set exercise~~\n",
    "\n",
    "- Test with RH too\n",
    "\n",
    "- Windowing data\n",
    "    - Summarize data for classification\n",
    "    - Majority Voting (or with probabilities)\n",
    "\n",
    "- Look for other features\n",
    "    - Autoencoder features\n",
    "    - ~~HONV~~\n",
    "    \n",
    "- Work on hand segmentation\n",
    "   - See p1e for bad examples\n",
    "   - How to validate segmentation?\n",
    "       - Statistical analysis on length and width ratios\n",
    "       \n",
    "- Visualize !!!\n",
    "    - Input \n",
    "    - Results !!!\n",
    "        - F Scores\n",
    "        - Accuracy\n",
    "        - Try weighted instead of macro\n",
    "\n",
    "\n",
    "\n",
    "\n",
    "- Finish Project Description\n",
    "\n",
    "- ~~Turn into functions~~\n",
    "    \n",
    "- ~~Verify Segmentation~~\n",
    "    - have only done basic verification\n",
    "    \n",
    "- ~~FIRST THING: Test by ignoring training data (p1s) and then using train_test_split on recordings~~\n",
    "    - ~~Data should be ready for spliting~~\n",
    "    \n",
    "- ~~Remove data from testing to find culprit~~\n",
    "    \n",
    "- ~~Track my progress better !!! (duh through notebooks!)~~"
   ]
  },
  {
   "cell_type": "markdown",
   "metadata": {},
   "source": [
    "# Setup"
   ]
  },
  {
   "cell_type": "markdown",
   "metadata": {},
   "source": [
    "## Libraries"
   ]
  },
  {
   "cell_type": "code",
   "execution_count": 1,
   "metadata": {},
   "outputs": [],
   "source": [
    "import os\n",
    "\n",
    "%matplotlib inline\n",
    "import matplotlib.pyplot as plt\n",
    "import numpy as np\n",
    "import cv2\n",
    "\n",
    "from vpt.features.features import *\n",
    "import vpt.utils.image_processing as ip\n",
    "import vpt.settings as s\n",
    "\n",
    "%load_ext autoreload\n",
    "%autoreload 2"
   ]
  },
  {
   "cell_type": "markdown",
   "metadata": {},
   "source": [
    "## Some helper functions"
   ]
  },
  {
   "cell_type": "markdown",
   "metadata": {},
   "source": [
    "### Visualize Hands"
   ]
  },
  {
   "cell_type": "code",
   "execution_count": null,
   "metadata": {},
   "outputs": [],
   "source": [
    "def show_hand(hand):\n",
    "    dmap = hand.get_original()\n",
    "    mask = hand.get_mask()\n",
    "        \n",
    "    img = (ip.normalize(dmap)*255).astype('uint8')\n",
    "    img_hand = cv2.bitwise_and(img, img, mask=mask)\n",
    "\n",
    "    cv2.imshow(\"OG\", img)\n",
    "    cv2.imshow(\"Mask\", mask)\n",
    "    cv2.imshow(\"Hand Only\", img_hand)\n",
    "    \n",
    "    return cv2.waitKey(20)"
   ]
  },
  {
   "cell_type": "markdown",
   "metadata": {},
   "source": [
    "### Generate Dataset"
   ]
  },
  {
   "cell_type": "code",
   "execution_count": null,
   "metadata": {},
   "outputs": [],
   "source": [
    "def init_hand_detector(M, radius, n_samples, folder, ftype, annotation_file):\n",
    "    annotations = load_annotations(annotation_file)\n",
    "\n",
    "    # generate or load model\n",
    "    segmentation_model_path = \"data/rdf/trainedmodels/p4_M%i_rad%0.1f\" % (M, radius)\n",
    "    rdf_hs = load_hs_model('p4', M, radius, n_samples, refreshHD, segmentation_model_path, masks=\"seq_masks\")\n",
    "\n",
    "    fs = FileStream(folder, ftype, annotations=annotations, ignore=True)\n",
    "    hd = HandDetector(rdf_hs)\n",
    "    \n",
    "    return hd"
   ]
  },
  {
   "cell_type": "code",
   "execution_count": null,
   "metadata": {},
   "outputs": [],
   "source": [
    "def generate_data(fs, hd, annotations):\n",
    "\n",
    "    X_lh = []\n",
    "    y_lh = []\n",
    "    training_idxs_lh = []\n",
    "\n",
    "    X_rh = []\n",
    "    y_rh = []\n",
    "    training_idxs_rh = []\n",
    "\n",
    "    filenames = []\n",
    "\n",
    "    hg = HandGenerator(fs, hd, annotations)\n",
    "\n",
    "    hgen = hg.hand_generator(debug=True)\n",
    "    for lh, rh in hgen:\n",
    "        if lh.label() != None and rh.label() != None:\n",
    "\n",
    "            if (s.participant != \"p0\" and s.participant != \"p9\") and \"{}s\".format(s.participant) in lh.get_fpath():\n",
    "                training_idxs_lh.append(i)\n",
    "            elif (s.participant == \"p0\" and \"p0a\" in lh.get_fpath() or \"p0b\" in lh.get_fpath()) or (s.participant == \"p9\" and \"p9a\" in lh.get_fpath() or \"p9b\" in lh.get_fpath()):\n",
    "                training_idxs_lh.append(i)\n",
    "\n",
    "            filenames.append(lh.get_fpath())\n",
    "            y_lh.append(lh.label())\n",
    "            X_lh.append(extract_features(lh.get_hand_img(), feature_type, n_slices=n_slices))\n",
    "            \n",
    "            i+=1\n",
    "            \n",
    "        else:\n",
    "            raise RuntimeWarning(\"Warning: No label found for hands\")\n",
    "\n",
    "    X_lh = np.array(X_lh)\n",
    "    y_lh = np.array(y_lh)\n",
    "    filenames = np.array(filenames)\n",
    "\n",
    "    training_mask_lh = np.zeros((len(y_lh),), dtype=bool)\n",
    "    training_mask_lh[training_idxs_lh] = True\n",
    "    \n",
    "    return X_lh, y_lh, training_mask_lh, filenames"
   ]
  },
  {
   "cell_type": "markdown",
   "metadata": {},
   "source": [
    "### Load/Save Data Set"
   ]
  },
  {
   "cell_type": "code",
   "execution_count": null,
   "metadata": {},
   "outputs": [],
   "source": [
    "def save_data(X_lh, y_lh, training_mask, filenames, participant, M, radius, feature_type):\n",
    "\n",
    "    data_path = os.path.join(\"data/posture\", participant, \"models/M{}_rad{:0.1f}_{}\".format(M, radius, feature_type))\n",
    "    np.save(data_path + \".full_data_lh.npy\", np.hstack((X_lh, np.expand_dims(y_lh, 1))))\n",
    "    np.save(os.path.join(\"data/posture\", participant, \"models/training_mask_lh.npy\"), training_mask_lh)\n",
    "    np.save(os.path.join(\"data/posture\", participant, \"models/filenames.npy\"), filenames)"
   ]
  },
  {
   "cell_type": "code",
   "execution_count": null,
   "metadata": {},
   "outputs": [],
   "source": [
    "def load_data(participant, M, radius, feature_type):\n",
    "    data_path = os.path.join(\"data/posture\", participant, \"models/M{}_rad{:0.1f}_{}\".format(M, radius, feature_type))\n",
    "    data_lh = np.load(data_path + \".full_data_lh.npy\")\n",
    "    training_mask_lh = np.load(os.path.join(\"data/posture\", participant, \"models/training_mask_lh.npy\"))\n",
    "    filenames = np.load(os.path.join(\"data/posture\", participant, \"models/filenames.npy\"))\n",
    "\n",
    "    X_lh = data_lh[:, :-1].squeeze()\n",
    "    y_lh = data_lh[:,j -1].squeeze()\n",
    "    \n",
    "    return X_lh, y_lh, training_mask_lh, filenames"
   ]
  },
  {
   "cell_type": "markdown",
   "metadata": {},
   "source": [
    "## Project Setup"
   ]
  },
  {
   "cell_type": "code",
   "execution_count": null,
   "metadata": {},
   "outputs": [],
   "source": [
    "## Some General Parameters\n",
    "s.participant = \"all\"\n",
    "s.sensor = \"realsense\"\n",
    "s.note = \"all_data_11_30\"\n",
    "\n",
    "ftype = \"bin\"\n",
    "folder = \"data/posture/all/\""
   ]
  },
  {
   "cell_type": "code",
   "execution_count": null,
   "metadata": {},
   "outputs": [],
   "source": [
    "## Model Parameters\n",
    "\n",
    "refreshHD = False\n",
    "refreshCLF = True\n",
    "\n",
    "## RDF Parameters\n",
    "M = 3\n",
    "radius = .3\n",
    "n_samples = 500\n",
    "\n",
    "## Posture Detection Parameters\n",
    "feature_type = \"hog\"\n",
    "n_slices = 20"
   ]
  },
  {
   "cell_type": "markdown",
   "metadata": {},
   "source": [
    "### Get Data"
   ]
  },
  {
   "cell_type": "code",
   "execution_count": null,
   "metadata": {},
   "outputs": [],
   "source": [
    "### Load Existing Data\n",
    "X_lh, y_lh, training_mask_lh, filenames = load_data(s.participant, M, radius, feature_type)\n",
    "print(\"X LH:\", X_lh.shape)\n",
    "print(\"y LH:\", y_lh.shape)\n",
    "print(\"Training LH:\", training_mask_lh.shape)\n",
    "print(\"File names:\", filenames.shape)"
   ]
  },
  {
   "cell_type": "markdown",
   "metadata": {},
   "source": [
    "# Classification"
   ]
  },
  {
   "cell_type": "markdown",
   "metadata": {},
   "source": [
    "### Libraries"
   ]
  },
  {
   "cell_type": "code",
   "execution_count": 2,
   "metadata": {},
   "outputs": [],
   "source": [
    "from sklearn.svm import SVC\n",
    "from sklearn.ensemble import RandomForestClassifier\n",
    "from sklearn.metrics import confusion_matrix, classification_report\n",
    "from sklearn.model_selection import cross_val_score, train_test_split, GridSearchCV \n",
    "\n",
    "from sklearn.decomposition import PCA\n",
    "\n",
    "from imblearn.over_sampling import SMOTE"
   ]
  },
  {
   "cell_type": "markdown",
   "metadata": {},
   "source": [
    "## Load Data for Classification"
   ]
  },
  {
   "cell_type": "code",
   "execution_count": 3,
   "metadata": {},
   "outputs": [
    {
     "name": "stdout",
     "output_type": "stream",
     "text": [
      "(17622, 9000) (17622,)\n",
      "(17622, 9000) (17622,)\n",
      "(17622,)\n"
     ]
    }
   ],
   "source": [
    "X_lh_og = np.load(\"data/posture/all/encoded/encoded_imgs_lh.npy\")\n",
    "y_lh = np.load(\"data/posture/all/encoded/y_lh.npy\")\n",
    "X_rh_og = np.load(\"data/posture/all/encoded/encoded_imgs_lh.npy\")\n",
    "y_rh = np.load(\"data/posture/all/encoded/y_rh.npy\")\n",
    "filenames = np.load(\"data/posture/all/encoded/filenames.npy\")\n",
    "\n",
    "print(X_lh_og.shape, y_lh.shape)\n",
    "print(X_rh_og.shape, y_rh.shape)\n",
    "print(filenames.shape)"
   ]
  },
  {
   "cell_type": "code",
   "execution_count": 4,
   "metadata": {},
   "outputs": [
    {
     "name": "stdout",
     "output_type": "stream",
     "text": [
      "750\n",
      "750\n"
     ]
    }
   ],
   "source": [
    "pca_lh = PCA(n_components=750, svd_solver='auto')\n",
    "X_lh = pca_lh.fit_transform(X_lh_og)\n",
    "print(pca_lh.n_components_)\n",
    "\n",
    "pca_rh = PCA(n_components=750, svd_solver='auto')\n",
    "X_rh = pca_rh.fit_transform(X_rh_og)\n",
    "print(pca_rh.n_components_)"
   ]
  },
  {
   "cell_type": "code",
   "execution_count": 5,
   "metadata": {},
   "outputs": [],
   "source": [
    "## find all \"static\" data so we can ignore for now\n",
    "r = re.compile('p[\\d]s')\n",
    "\n",
    "# remove p#s data\n",
    "vmatch = np.vectorize(lambda x:bool(r.search(x)))\n",
    "rem_static = vmatch(filenames)\n",
    "\n",
    "X_lh, y_lh, filenames = X_lh[~rem_static], y_lh[~rem_static], filenames[~rem_static]\n",
    "\n",
    "# seperate p3 from data\n",
    "r_p3 = re.compile('/p3/')\n",
    "vmatch = np.vectorize(lambda x:bool(r_p3.search(x)))\n",
    "sel = vmatch(filenames)\n",
    "\n",
    "X_lh2, y_lh2 = X_lh[~sel], y_lh[~sel]\n",
    "\n",
    "#augment data with SMOTE (but first split it so we have some good testing data)\n",
    "# X_train_lh, X_test_lh, y_train_lh, y_test_lh = train_test_split(X_lh2, y_lh2, test_size=.20)\n",
    "X_train_lh, X_test_lh, y_train_lh, y_test_lh = X_lh2, X_lh[sel], y_lh2, y_lh[sel]\n",
    "X_smote_lh, y_smote_lh = SMOTE(kind='svm').fit_sample(X_train_lh, y_train_lh)"
   ]
  },
  {
   "cell_type": "code",
   "execution_count": 6,
   "metadata": {},
   "outputs": [
    {
     "name": "stdout",
     "output_type": "stream",
     "text": [
      "SMOTE: (24227, 750) (24227,)\n",
      "TEST: (2650, 750) (2650,)\n"
     ]
    },
    {
     "data": {
      "text/plain": [
       "<matplotlib.text.Text at 0x2abf3d63ec50>"
      ]
     },
     "execution_count": 6,
     "metadata": {},
     "output_type": "execute_result"
    },
    {
     "data": {
      "image/png": "[encoded data removed]",
      "text/plain": [
       "<matplotlib.figure.Figure at 0x2abef19b1048>"
      ]
     },
     "metadata": {},
     "output_type": "display_data"
    }
   ],
   "source": [
    "# Plot Data sets\n",
    "print(\"SMOTE:\", X_smote_lh.shape, y_smote_lh.shape)\n",
    "\n",
    "print(\"TEST:\", X_test_lh.shape, y_test_lh.shape)\n",
    "\n",
    "plt.figure(figsize=(12,4))\n",
    "\n",
    "plt.subplot(121)\n",
    "plt.hist(y_smote_lh, bins=3, rwidth=.5)\n",
    "plt.title(\"SMOTE Training Labels\")\n",
    "\n",
    "plt.subplot(122)\n",
    "plt.hist(y_test_lh, bins=3, rwidth=.5)\n",
    "plt.title(\"Test data Labels\")"
   ]
  },
  {
   "cell_type": "markdown",
   "metadata": {},
   "source": [
    "## Model Testing"
   ]
  },
  {
   "cell_type": "markdown",
   "metadata": {},
   "source": [
    "### SVM"
   ]
  },
  {
   "cell_type": "code",
   "execution_count": 7,
   "metadata": {
    "scrolled": false
   },
   "outputs": [
    {
     "name": "stdout",
     "output_type": "stream",
     "text": [
      "## Tuning hyper-parameters for f1\n",
      "\n",
      "Best Parameters set found on data set:\n",
      "\n",
      "{'gamma': 0.1, 'kernel': 'rbf', 'C': 100}\n",
      "\n",
      "Grid scores on data set:\n",
      "\n",
      "0.276 (+/-0.002) for {'gamma': 0.1, 'kernel': 'rbf', 'C': 0.01}\n",
      "0.275 (+/-0.000) for {'gamma': 0.01, 'kernel': 'rbf', 'C': 0.01}\n",
      "0.275 (+/-0.000) for {'gamma': 0.001, 'kernel': 'rbf', 'C': 0.01}\n",
      "0.636 (+/-0.082) for {'gamma': 0.1, 'kernel': 'rbf', 'C': 0.1}\n",
      "0.310 (+/-0.052) for {'gamma': 0.01, 'kernel': 'rbf', 'C': 0.1}\n",
      "0.275 (+/-0.000) for {'gamma': 0.001, 'kernel': 'rbf', 'C': 0.1}\n",
      "0.733 (+/-0.168) for {'gamma': 0.1, 'kernel': 'rbf', 'C': 1}\n",
      "0.630 (+/-0.098) for {'gamma': 0.01, 'kernel': 'rbf', 'C': 1}\n",
      "0.317 (+/-0.053) for {'gamma': 0.001, 'kernel': 'rbf', 'C': 1}\n",
      "0.764 (+/-0.158) for {'gamma': 0.1, 'kernel': 'rbf', 'C': 10}\n",
      "0.725 (+/-0.161) for {'gamma': 0.01, 'kernel': 'rbf', 'C': 10}\n",
      "0.621 (+/-0.101) for {'gamma': 0.001, 'kernel': 'rbf', 'C': 10}\n",
      "0.771 (+/-0.160) for {'gamma': 0.1, 'kernel': 'rbf', 'C': 100}\n",
      "0.751 (+/-0.148) for {'gamma': 0.01, 'kernel': 'rbf', 'C': 100}\n",
      "0.714 (+/-0.152) for {'gamma': 0.001, 'kernel': 'rbf', 'C': 100}\n",
      "\n",
      "Detailed classification report:\n",
      "\n",
      "The model is trained on full SMOTE data set.\n",
      "The scores on computed on the full TEST data set.\n",
      "\n",
      "             precision    recall  f1-score   support\n",
      "\n",
      "        0.0       0.60      0.96      0.74      1267\n",
      "        1.0       0.92      0.41      0.57      1336\n",
      "        2.0       0.33      0.06      0.11        47\n",
      "\n",
      "avg / total       0.75      0.67      0.64      2650\n",
      "\n",
      "\n"
     ]
    }
   ],
   "source": [
    "## Parameters for SVMs\n",
    "param_grid = [\n",
    "  {'C': [.01, .1, 1, 10, 100], 'gamma': [0.1, 0.01, 0.001], 'kernel': ['rbf']},\n",
    " ]\n",
    "\n",
    "scores = ['f1']\n",
    "\n",
    "# Hyper Parameter Tuning\n",
    "for score in scores:\n",
    "    \n",
    "    with warnings.catch_warnings():\n",
    "        warnings.simplefilter(\"ignore\")\n",
    "        print(\"## Tuning hyper-parameters for {}\".format(score))\n",
    "        print()\n",
    "\n",
    "        if score is \"accuracy\":\n",
    "            scoring = score\n",
    "        else:\n",
    "            scoring = '{}_macro'.format(score)\n",
    "\n",
    "        clf = GridSearchCV(SVC(), param_grid, cv=5, scoring=scoring, n_jobs=3)\n",
    "        clf.fit(X_train_lh, y_train_lh)\n",
    "\n",
    "        print(\"Best Parameters set found on data set:\")\n",
    "        print()\n",
    "        print(clf.best_params_)\n",
    "        print()\n",
    "        print(\"Grid scores on data set:\")\n",
    "        print()\n",
    "        means = clf.cv_results_['mean_test_score']\n",
    "        stds  = clf.cv_results_['std_test_score']\n",
    "        for mean, std, params in zip(means, stds, clf.cv_results_['params']):\n",
    "            print(\"%0.3f (+/-%0.3f) for %r\" % (mean, std, params))\n",
    "        print()\n",
    "\n",
    "        print(\"Detailed classification report:\")\n",
    "        print()\n",
    "        print(\"The model is trained on full SMOTE data set.\")\n",
    "        print(\"The scores on computed on the full TEST data set.\")\n",
    "        print()\n",
    "\n",
    "        y_true, y_pred = y_test_lh, clf.predict(X_test_lh)\n",
    "        print(classification_report(y_true, y_pred))\n",
    "        print()"
   ]
  },
  {
   "cell_type": "code",
   "execution_count": null,
   "metadata": {},
   "outputs": [],
   "source": [
    "from sklearn.metrics import accuracy_score\n",
    "y_true, y_pred = y_test_lh, clf.predict(X_test_lh)\n",
    "print(\"Validatation Score:\", accuracy_score(y_true, y_pred))\n",
    "print(\"Confustion Matrix:\\n\", confusion_matrix(y_true, y_pred))"
   ]
  },
  {
   "cell_type": "markdown",
   "metadata": {},
   "source": [
    "### NN"
   ]
  },
  {
   "cell_type": "code",
   "execution_count": null,
   "metadata": {
    "scrolled": false
   },
   "outputs": [],
   "source": [
    "from sklearn.neural_network import MLPClassifier\n",
    "\n",
    "## Parameters for SVMs\n",
    "param_grid = [\n",
    "  {'hidden_layer_sizes': [(256,), (256, 256), (512, 256)] , 'solver': ['adam'],\n",
    "   'activation': ['logistic', 'relu'], 'alpha' : np.linspace(.00005, .005, 4),\n",
    "  }\n",
    " ]\n",
    "\n",
    "scores = ['precision', 'recall', 'accuracy']\n",
    "\n",
    "for score in scores:\n",
    "    \n",
    "    with warnings.catch_warnings():\n",
    "        warnings.simplefilter(\"ignore\")\n",
    "        print(\"## Tuning hyper-parameters for {}\".format(score))\n",
    "        print()\n",
    "\n",
    "        if score is \"accuracy\":\n",
    "            scoring = score\n",
    "        else:\n",
    "            scoring = '{}_macro'.format(score)\n",
    "\n",
    "        clf = GridSearchCV(MLPClassifier(), param_grid, cv=5, scoring=scoring)\n",
    "        clf.fit(X_train_lh2, y_train_lh2)\n",
    "\n",
    "        print(\"Best Parameters set found on data set:\")\n",
    "        print()\n",
    "        print(clf.best_params_)\n",
    "        print()\n",
    "        print(\"Grid scores on data set:\")\n",
    "        print()\n",
    "        means = clf.cv_results_['mean_test_score']\n",
    "        stds  = clf.cv_results_['std_test_score']\n",
    "        for mean, std, params in zip(means, stds, clf.cv_results_['params']):\n",
    "            print(\"%0.3f (+/-%0.3f) for %r\" % (mean, std, params))\n",
    "        print()\n",
    "\n",
    "        print(\"Detailed classification report:\")\n",
    "        print()\n",
    "        print(\"The model is trained on full SMOTE data set.\")\n",
    "        print(\"The scores on computed on the full TEST data set.\")\n",
    "        print()\n",
    "\n",
    "        y_true, y_pred = y_test_lh2, clf.predict(X_test_lh2)\n",
    "        print(classification_report(y_true, y_pred))\n",
    "        print()"
   ]
  },
  {
   "cell_type": "code",
   "execution_count": null,
   "metadata": {},
   "outputs": [],
   "source": [
    "from sklearn.metrics import accuracy_score\n",
    "X_test_temp = np.concatenate((X_test_lh2, X_valid_lh2))\n",
    "y_test_temp = np.concatenate((y_test_lh2, y_valid_lh2))\n",
    "y_true, y_pred = y_test_temp, clf.predict(X_test_temp)\n",
    "print(\"Validatation Score:\", accuracy_score(y_true, y_pred))\n",
    "print(\"Confustion Matrix:\\n\", confusion_matrix(y_true, y_pred))"
   ]
  },
  {
   "cell_type": "code",
   "execution_count": null,
   "metadata": {},
   "outputs": [],
   "source": []
  }
 ],
 "metadata": {
  "kernelspec": {
   "display_name": "Python 3",
   "language": "python",
   "name": "python3"
  },
  "language_info": {
   "codemirror_mode": {
    "name": "ipython",
    "version": 3
   },
   "file_extension": ".py",
   "mimetype": "text/x-python",
   "name": "python",
   "nbconvert_exporter": "python",
   "pygments_lexer": "ipython3",
   "version": "3.5.2"
  },
  "toc": {
   "nav_menu": {
    "height": "172px",
    "width": "169px"
   },
   "number_sections": true,
   "sideBar": true,
   "skip_h1_title": false,
   "toc_cell": false,
   "toc_position": {},
   "toc_section_display": "block",
   "toc_window_display": false
  }
 },
 "nbformat": 4,
 "nbformat_minor": 2
}
