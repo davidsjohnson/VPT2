{
 "cells": [
  {
   "cell_type": "code",
   "execution_count": 1,
   "metadata": {},
   "outputs": [],
   "source": [
    "%load_ext autoreload\n",
    "%autoreload 2"
   ]
  },
  {
   "cell_type": "code",
   "execution_count": 2,
   "metadata": {},
   "outputs": [],
   "source": [
    "import pickle\n",
    "import matplotlib.pyplot as plt\n",
    "import numpy as np\n",
    "%matplotlib inline"
   ]
  },
  {
   "cell_type": "code",
   "execution_count": 3,
   "metadata": {},
   "outputs": [],
   "source": [
    "def average_participant_results(results, k_folds=3):\n",
    "    \n",
    "    acc = 0\n",
    "    f_score = 0\n",
    "    conf_mat = np.zeros((3,3), dtype=\"int\")\n",
    "    \n",
    "    for i in range(k_folds):\n",
    "        acc += results[\"cv{}_accuracy\".format(i)]\n",
    "        f_score += results[\"cv{}_f_score\".format(i)]\n",
    "       \n",
    "        # dealing with different size confusion matrices / shouldn't be larger than 3,3\n",
    "        cm = np.array(results[\"cv{}_conf_mat\".format(i)], dtype=\"int\")\n",
    "        idx_y = conf_mat.shape[0] - cm.shape[0]\n",
    "        idx_x = conf_mat.shape[1] - cm.shape[1]\n",
    "        conf_mat[:-idx_y or None, :-idx_x or None] += cm\n",
    "        \n",
    "    return acc / k_folds, f_score / k_folds, conf_mat"
   ]
  },
  {
   "cell_type": "code",
   "execution_count": 4,
   "metadata": {},
   "outputs": [],
   "source": [
    "def average_experiment_results(results, participants, k_folds=3):\n",
    "    \n",
    "    exp_acc = 0\n",
    "    exp_f = 0\n",
    "    exp_cm = np.zeros((3,3), dtype=\"int\")\n",
    "    \n",
    "    for p in participants:\n",
    "        acc, f_score, cm = average_participant_results(results[p], k_folds)\n",
    "        exp_acc += acc\n",
    "        exp_f += f_score\n",
    "        \n",
    "        diff_x = (exp_cm.shape[1] - cm.shape[1]) * -1\n",
    "        diff_y = (exp_cm.shape[0] - cm.shape[0]) * -1\n",
    "        exp_cm[:diff_y or None,:diff_x or None] += cm\n",
    "        \n",
    "    return exp_acc / len(participants), exp_f / len(participants), exp_cm"
   ]
  },
  {
   "cell_type": "code",
   "execution_count": 92,
   "metadata": {},
   "outputs": [],
   "source": [
    "participants = [\"p1\", \"p3\", \"p4\", \"p6\"]\n",
    "features = [\"hog\"]\n",
    "cell_sizes = [(4,4), (6,6), (8,8), (12,12), (16,16)]\n",
    "block_sizes = [(1,1), (2,2), (3,3), (4,4)]\n",
    "\n",
    "i = 0\n",
    "results_hog ={}\n",
    "for f in features:\n",
    "    for c in cell_sizes:\n",
    "        for b in block_sizes:\n",
    "            i+=1\n",
    "            feature_type = \"f_{}-c_{}-b_{}\".format(f, c[0], b[0])\n",
    "            results_hog[feature_type] = np.load(\"results/hog_size_results/cmj_exp2_results_{}.pkl\".format(i))"
   ]
  },
  {
   "cell_type": "code",
   "execution_count": 61,
   "metadata": {},
   "outputs": [],
   "source": [
    "acc, f, cm = average_experiment_results(results_hog['f_hog-c_16-b_3'], participants)"
   ]
  },
  {
   "cell_type": "code",
   "execution_count": 62,
   "metadata": {},
   "outputs": [
    {
     "name": "stdout",
     "output_type": "stream",
     "text": [
      "0.920938889894\n",
      "0.918793889734\n",
      "[[17484   547   270]\n",
      " [  733  4411    16]\n",
      " [  335    30   730]]\n"
     ]
    }
   ],
   "source": [
    "print(acc)\n",
    "print(f)\n",
    "print(cm)"
   ]
  },
  {
   "cell_type": "code",
   "execution_count": 87,
   "metadata": {},
   "outputs": [],
   "source": [
    "participants = [\"p1\", \"p3\", \"p4\", \"p6\"]\n",
    "features = [\"honv\"]\n",
    "cell_sizes = [(6,6), (8,8), (12,12), (16,16)]\n",
    "block_sizes = [(1,1), (2,2), (3,3), (4,4)]\n",
    "\n",
    "i = 4\n",
    "results_honv ={}\n",
    "for f in features:\n",
    "    for c in cell_sizes:\n",
    "        for b in block_sizes:\n",
    "            i+=1\n",
    "            feature_type = \"f_{}-c_{}-b_{}\".format(f, c[0], b[0])\n",
    "            results_honv[feature_type] = np.load(\"results/honv_size_results/cmj_exp3_results_{}.pkl\".format(i))"
   ]
  },
  {
   "cell_type": "code",
   "execution_count": 99,
   "metadata": {},
   "outputs": [],
   "source": [
    "participants = [\"p1\", \"p3\", \"p4\", \"p6\"]\n",
    "features = [\"honv\"]\n",
    "cell_sizes = [(6,6), (8,8), (12,12), (16,16)]\n",
    "\n",
    "i = 0\n",
    "results_honv_nb ={}\n",
    "for f in features:\n",
    "    for c in cell_sizes:\n",
    "            i+=1\n",
    "            feature_type = \"f_{}-c_{}-b_{}\".format(f, c[0], \"none\")\n",
    "            results_honv[feature_type] = np.load(\"results/honv_noblock_results/cmj_exp4_results_{}.pkl\".format(i))"
   ]
  },
  {
   "cell_type": "code",
   "execution_count": 66,
   "metadata": {},
   "outputs": [],
   "source": [
    "exp1 = np.load(\"results/honv_size_results/cmj_exp3_results_1.pkl\")\n",
    "exp3 = np.load(\"results/honv_size_results/cmj_exp3_results_3.pkl\")"
   ]
  },
  {
   "cell_type": "code",
   "execution_count": 67,
   "metadata": {},
   "outputs": [],
   "source": [
    "acc, f, cm = average_experiment_results(exp1, participants)"
   ]
  },
  {
   "cell_type": "code",
   "execution_count": 68,
   "metadata": {},
   "outputs": [
    {
     "name": "stdout",
     "output_type": "stream",
     "text": [
      "0.947956918407\n",
      "0.945210827378\n",
      "[[17829   297   175]\n",
      " [  470  4676    14]\n",
      " [  319    15   761]]\n"
     ]
    }
   ],
   "source": [
    "print(acc)\n",
    "print(f)\n",
    "print(cm)"
   ]
  },
  {
   "cell_type": "code",
   "execution_count": 70,
   "metadata": {},
   "outputs": [],
   "source": [
    "acc, f, cm = average_experiment_results(exp3, participants)"
   ]
  },
  {
   "cell_type": "code",
   "execution_count": 71,
   "metadata": {},
   "outputs": [
    {
     "name": "stdout",
     "output_type": "stream",
     "text": [
      "0.947103229802\n",
      "0.944300164375\n",
      "[[17821   305   175]\n",
      " [  485  4661    14]\n",
      " [  315    15   765]]\n"
     ]
    }
   ],
   "source": [
    "print(acc)\n",
    "print(f)\n",
    "print(cm)"
   ]
  },
  {
   "cell_type": "code",
   "execution_count": 82,
   "metadata": {},
   "outputs": [],
   "source": [
    "acc, f, cm = average_experiment_results(results_honv[\"f_honv-c_8-b_3\"], participants)"
   ]
  },
  {
   "cell_type": "code",
   "execution_count": 83,
   "metadata": {},
   "outputs": [
    {
     "name": "stdout",
     "output_type": "stream",
     "text": [
      "0.947646903738\n",
      "0.945319539234\n",
      "[[17804   309   188]\n",
      " [  462  4693     5]\n",
      " [  316    15   764]]\n"
     ]
    }
   ],
   "source": [
    "print(acc)\n",
    "print(f)\n",
    "print(cm)"
   ]
  },
  {
   "cell_type": "code",
   "execution_count": 106,
   "metadata": {},
   "outputs": [],
   "source": [
    "accs, fs, cms = [], [], []\n",
    "\n",
    "features = [\"honv\"]\n",
    "block_sizes = [None, (1,1), (2,2), (3,3), (4,4)]\n",
    "\n",
    "for f in features:\n",
    "    for c in cell_sizes:\n",
    "        for b in block_sizes:\n",
    "            if b is not None:\n",
    "                feature_type = \"f_{}-c_{}-b_{}\".format(f, c[0], b[0])\n",
    "            else:\n",
    "                feature_type = \"f_{}-c_{}-b_{}\".format(f, c[0], \"none\")\n",
    "                \n",
    "            if f is \"hog\":\n",
    "                r = results_hog[feature_type]\n",
    "            else:\n",
    "                r = results_honv[feature_type]\n",
    "                    \n",
    "            exp_accs, exp_fs, exp_cms = [], [], []\n",
    "\n",
    "            for p in participants:\n",
    "                acc, f_score, cm = average_participant_results(r[p])\n",
    "\n",
    "                exp_accs.append(acc)\n",
    "                exp_fs.append(f_score)\n",
    "                exp_cms.append(cm)\n",
    "\n",
    "            accs.append(exp_accs)\n",
    "            fs.append(exp_fs)\n",
    "            cms.append(exp_cms)\n",
    "\n",
    "accs = np.array(accs)\n",
    "fs = np.array(fs)\n",
    "cms = np.array(cms)\n",
    "\n",
    "l = len(accs)"
   ]
  },
  {
   "cell_type": "code",
   "execution_count": 64,
   "metadata": {},
   "outputs": [
    {
     "data": {
      "text/plain": [
       "<matplotlib.legend.Legend at 0x1121225c0>"
      ]
     },
     "execution_count": 64,
     "metadata": {},
     "output_type": "execute_result"
    },
    {
     "data": {
      "image/png": "[encoded data removed]",
      "text/plain": [
       "<matplotlib.figure.Figure at 0x111e4d0f0>"
      ]
     },
     "metadata": {},
     "output_type": "display_data"
    }
   ],
   "source": [
    "idx = np.arange(l) + 1\n",
    "width = .2\n",
    "\n",
    "plt.figure(figsize=(8,6))\n",
    "plt.ylim([.85, 1.0])\n",
    "plt.yticks(np.linspace(.8, 1.0, 5))\n",
    "# plt.xticks(idx,[\"128x128\", \"90x160\", \"130x190\", \"96x96\"])\n",
    "\n",
    "plt.title(\"HOG - Effect of Cell Size\")\n",
    "plt.bar(idx-(width*1+width/2), accs[:,0], width, hatch=\"/\", edgecolor='black')\n",
    "plt.bar(idx-(width*0+width/2), accs[:,1], width, hatch=\"o\", edgecolor='black')\n",
    "plt.bar(idx+(width*1-width/2), accs[:,2], width, hatch=\"\\\\\", edgecolor='black')\n",
    "plt.bar(idx+(width*2-width/2), accs[:,3], width, hatch=\".\", edgecolor='black')\n",
    "plt.legend([\"p1\", \"p2\", \"p3\", \"p4\"], loc='center left', bbox_to_anchor=(.96, 0.75), fancybox=False, shadow=True)"
   ]
  },
  {
   "cell_type": "code",
   "execution_count": 107,
   "metadata": {},
   "outputs": [
    {
     "data": {
      "text/plain": [
       "<matplotlib.legend.Legend at 0x1126e2cc0>"
      ]
     },
     "execution_count": 107,
     "metadata": {},
     "output_type": "execute_result"
    },
    {
     "data": {
      "image/png": "[encoded data removed]",
      "text/plain": [
       "<matplotlib.figure.Figure at 0x112069f60>"
      ]
     },
     "metadata": {},
     "output_type": "display_data"
    }
   ],
   "source": [
    "idx = np.arange(l) + 1\n",
    "width = .2\n",
    "\n",
    "plt.figure(figsize=(8,6))\n",
    "plt.ylim([.85, 1.0])\n",
    "plt.yticks(np.linspace(.8, 1.0, 5))\n",
    "# plt.xticks(idx,[\"128x128\", \"90x160\", \"130x190\", \"96x96\"])\n",
    "\n",
    "plt.title(\"HONV - Effect of Cell Size\")\n",
    "plt.bar(idx-(width*1+width/2), accs[:,0], width, hatch=\"/\", edgecolor='black')\n",
    "plt.bar(idx-(width*0+width/2), accs[:,1], width, hatch=\"o\", edgecolor='black')\n",
    "plt.bar(idx+(width*1-width/2), accs[:,2], width, hatch=\"\\\\\", edgecolor='black')\n",
    "plt.bar(idx+(width*2-width/2), accs[:,3], width, hatch=\".\", edgecolor='black')\n",
    "plt.legend([\"p1\", \"p2\", \"p3\", \"p4\"], loc='center left', bbox_to_anchor=(.96, 0.75), fancybox=False, shadow=True)"
   ]
  },
  {
   "cell_type": "code",
   "execution_count": 94,
   "metadata": {},
   "outputs": [],
   "source": [
    "hog_p_avgs = np.average(accs, axis=0)"
   ]
  },
  {
   "cell_type": "code",
   "execution_count": 108,
   "metadata": {},
   "outputs": [
    {
     "data": {
      "image/png": "[encoded data removed]",
      "text/plain": [
       "<matplotlib.figure.Figure at 0x11203cd30>"
      ]
     },
     "metadata": {},
     "output_type": "display_data"
    }
   ],
   "source": [
    "idx = np.arange(len(block_sizes))\n",
    "\n",
    "plt.figure(figsize=(8,6))\n",
    "plt.title(\"HONV - Effects of Cell and Block Size\")\n",
    "plt.xticks(idx,[\"None\", \"1x1\", \"2x2\", \"3x3\", \"4x4\"])\n",
    "plt.xlabel(\"Block Size\")\n",
    "\n",
    "plt.ylim([.9, 1.0])\n",
    "plt.ylabel(\"Accuracy\")\n",
    "\n",
    "legend=[\"6x6\", \"8x8\", \"12x12\", \"16x16\"]\n",
    "markers = [\"x\", \"o\", \"^\", \"+\"]\n",
    "\n",
    "for i, (title, marker) in enumerate(zip(legend, markers)):\n",
    "    plt.plot(np.average(accs[i*len(block_sizes):i*len(block_sizes) + len(block_sizes), :], axis=1), marker=marker, label=title, alpha=1)\n",
    "\n",
    "plt.legend(title=\"Cell Size\")\n",
    "plt.savefig(\"/Users/fortjay81/Dropbox/Uvic/dissertation/publications/1_WIP/CMJ_VPT_2017/figures/raw/cmj-honv-blocksize.jpg\")"
   ]
  },
  {
   "cell_type": "code",
   "execution_count": 109,
   "metadata": {},
   "outputs": [
    {
     "data": {
      "text/plain": [
       "array([ 0.94510637,  0.94848446,  0.94856964,  0.94795733,  0.94873076,\n",
       "        0.94579987,  0.94764399,  0.947496  ,  0.9476469 ,  0.94822034,\n",
       "        0.93957969,  0.94631665,  0.94729952,  0.94646799,  0.94756565,\n",
       "        0.94553046,  0.94266671,  0.94175029,  0.93938329,  0.94081312])"
      ]
     },
     "execution_count": 109,
     "metadata": {},
     "output_type": "execute_result"
    }
   ],
   "source": [
    "np.average(accs, axis=1)"
   ]
  },
  {
   "cell_type": "code",
   "execution_count": null,
   "metadata": {},
   "outputs": [],
   "source": [
    "accs"
   ]
  },
  {
   "cell_type": "code",
   "execution_count": 95,
   "metadata": {},
   "outputs": [
    {
     "name": "stdout",
     "output_type": "stream",
     "text": [
      "[ 0.91159964  0.96413045  0.86213249  0.98104629]\n",
      "[ 0.92493458  0.97209589  0.90022399  0.9869987 ]\n"
     ]
    }
   ],
   "source": [
    "print(hog_p_avgs)\n",
    "print(honv_p_avgs)"
   ]
  },
  {
   "cell_type": "code",
   "execution_count": null,
   "metadata": {},
   "outputs": [],
   "source": []
  }
 ],
 "metadata": {
  "kernelspec": {
   "display_name": "Python 3",
   "language": "python",
   "name": "python3"
  },
  "language_info": {
   "codemirror_mode": {
    "name": "ipython",
    "version": 3
   },
   "file_extension": ".py",
   "mimetype": "text/x-python",
   "name": "python",
   "nbconvert_exporter": "python",
   "pygments_lexer": "ipython3",
   "version": "3.6.1"
  }
 },
 "nbformat": 4,
 "nbformat_minor": 2
}
