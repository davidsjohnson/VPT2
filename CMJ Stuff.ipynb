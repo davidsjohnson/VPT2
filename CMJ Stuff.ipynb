{
 "cells": [
  {
   "cell_type": "code",
   "execution_count": 3,
   "metadata": {},
   "outputs": [
    {
     "name": "stdout",
     "output_type": "stream",
     "text": [
      "The autoreload extension is already loaded. To reload it, use:\n",
      "  %reload_ext autoreload\n"
     ]
    }
   ],
   "source": [
    "%load_ext autoreload\n",
    "%autoreload 2"
   ]
  },
  {
   "cell_type": "code",
   "execution_count": 4,
   "metadata": {
    "collapsed": true
   },
   "outputs": [],
   "source": [
    "from vpt.common import *\n",
    "import vpt.settings as s\n",
    "import vpt.utils.image_processing as ip\n",
    "import vpt.hand_detection.depth_context_features as dcf\n",
    "import vpt.hand_detection.depth_image_features as dif\n",
    "s.sensor = \"realsense\"\n",
    "%matplotlib inline"
   ]
  },
  {
   "cell_type": "code",
   "execution_count": null,
   "metadata": {
    "collapsed": true
   },
   "outputs": [],
   "source": [
    "dmap = load_depthmap(\"data/posture/p4/p4a/000175.bin\")\n",
    "dmap = background_sub(dmap)\n",
    "dmap[dmap<600] = 0\n",
    "dmap_disp = (ip.normalize2(dmap)*255).astype('uint8')\n",
    "\n",
    "pixel = (135, 235)"
   ]
  },
  {
   "cell_type": "code",
   "execution_count": null,
   "metadata": {
    "collapsed": true
   },
   "outputs": [],
   "source": [
    "offsets_dcf1 = dcf.generate_feature_offsets(M=4, radius=.15)\n",
    "offsets_dcf2 = dcf.generate_feature_offsets(M=5, radius=.2)\n",
    "offsets_dcf3 = dcf.generate_feature_offsets(M=5, radius=.15)"
   ]
  },
  {
   "cell_type": "code",
   "execution_count": null,
   "metadata": {
    "collapsed": true
   },
   "outputs": [],
   "source": [
    "_, dcf_pixels1 = dcf.calc_features(dmap, offsets_dcf1)\n",
    "\n",
    "dcf_pixels1 = dcf_pixels1.reshape(192, 480, len(offsets_dcf1), 2)\n",
    "pixel_offsets1 = dcf_pixels1[pixel]\n",
    "idxs = np.all(pixel_offsets1 != -1, axis=1)\n",
    "offset_x1 = pixel_offsets1[:, 0]\n",
    "offset_y1 = pixel_offsets1[:, 1]\n",
    "offset_x1 = offset_x1[idxs]\n",
    "offset_y1 = offset_y1[idxs]\n",
    "\n",
    "_, dcf_pixels2 = dcf.calc_features(dmap, offsets_dcf2)\n",
    "\n",
    "dcf_pixels2 = dcf_pixels2.reshape(192, 480, len(offsets_dcf2), 2)\n",
    "pixel_offsets2 = dcf_pixels2[pixel]\n",
    "idxs = np.all(pixel_offsets2 != -1, axis=1)\n",
    "offset_x2 = pixel_offsets2[:, 0]\n",
    "offset_y2 = pixel_offsets2[:, 1]\n",
    "offset_x2 = offset_x2[idxs]\n",
    "offset_y2 = offset_y2[idxs]\n",
    "\n",
    "_, dcf_pixels3 = dcf.calc_features(dmap, offsets_dcf3)\n",
    "\n",
    "dcf_pixels3 = dcf_pixels3.reshape(192, 480, len(offsets_dcf3), 2)\n",
    "pixel_offsets3 = dcf_pixels3[pixel]\n",
    "idxs = np.all(pixel_offsets3 != -1, axis=1)\n",
    "offset_x3 = pixel_offsets3[:, 0]\n",
    "offset_y3 = pixel_offsets3[:, 1]\n",
    "offset_x3 = offset_x3[idxs]\n",
    "offset_y3 = offset_y3[idxs]"
   ]
  },
  {
   "cell_type": "code",
   "execution_count": null,
   "metadata": {},
   "outputs": [],
   "source": [
    "# plt.figure(figsize=(24,12))\n",
    "\n",
    "# plt.subplot(221)\n",
    "# plt.tick_params(axis=\"both\", which=\"both\", bottom=\"off\", top=\"off\", labelbottom=\"off\", labelleft=\"off\", left=\"off\")\n",
    "# plt.imshow(dmap_disp, cmap=\"gray\", alpha=1)\n",
    "# # plt.tight_layout()\n",
    "\n",
    "# plt.subplot(222)\n",
    "# axes = plt.gca()\n",
    "# axes.axes.set_ylim([192,0])\n",
    "# plt.imshow(dmap_disp, cmap=\"gray\", alpha=1)\n",
    "# plt.scatter(offset_x1, offset_y1, c='white', s=15)\n",
    "# plt.scatter(pixel[1], pixel[0], c='black', s=15, marker='x')\n",
    "# plt.tick_params(axis=\"both\", which=\"both\", bottom=\"off\", top=\"off\", labelbottom=\"off\", labelleft=\"off\", left=\"off\")\n",
    "# # plt.tight_layout()\n",
    "# plt.savefig(\"/Users/fortjay81/Dropbox/Uvic/dissertation/publications/1_WIP/CMJ_VPT_2017/figures/dcf-features-4_15.jpg\")\n",
    "\n",
    "# plt.subplot(223)\n",
    "axes = plt.gca()\n",
    "axes.set_ylim([192,0])\n",
    "plt.imshow(dmap_disp, cmap=\"gray\", alpha=1)\n",
    "plt.scatter(offset_x3, offset_y3, c='white', s=15)\n",
    "plt.scatter(pixel[1], pixel[0], c='black', s=15, marker='*')\n",
    "plt.tick_params(axis=\"both\", which=\"both\", bottom=\"off\", top=\"off\", labelbottom=\"off\", labelleft=\"off\", left=\"off\")\n",
    "# plt.tight_layout()\n",
    "plt.savefig(\"/Users/fortjay81/Dropbox/Uvic/dissertation/publications/1_WIP/CMJ_VPT_2017/figures/dcf-features-5_15.jpg\")\n",
    "\n",
    "# plt.subplot(224)\n",
    "# axes = plt.gca()\n",
    "# axes.set_ylim([192,0])\n",
    "# plt.imshow(dmap_disp, cmap=\"gray\", alpha=1)\n",
    "# plt.scatter(offset_x2, offset_y2, c='white', s=15)\n",
    "# plt.scatter(pixel[1], pixel[0], c='black', s=15, marker='x')\n",
    "# plt.tick_params(axis=\"both\", which=\"both\", bottom=\"off\", top=\"off\", labelbottom=\"off\", labelleft=\"off\", left=\"off\")\n",
    "# plt.tight_layout()\n",
    "# plt.savefig(\"/Users/fortjay81/Dropbox/Uvic/dissertation/publications/1_WIP/CMJ_VPT_2017/figures/dcf-features-5_20.jpg\")\n",
    "# plt.savefig(\"feature_offsets.pdf\")"
   ]
  },
  {
   "cell_type": "code",
   "execution_count": null,
   "metadata": {
    "collapsed": true
   },
   "outputs": [],
   "source": [
    "offsets_dif = dif.generate_feature_offsets(n_offsets=100, radius=25000)"
   ]
  },
  {
   "cell_type": "code",
   "execution_count": null,
   "metadata": {
    "collapsed": true
   },
   "outputs": [],
   "source": [
    "_, pixels_u, pixels_v = dif.calc_features(dmap, offsets_dif)\n",
    "pixels_u = pixels_u.reshape(192, 480, len(offsets_dif[1]), 2)\n",
    "pixels_v = pixels_v.reshape(192, 480, len(offsets_dif[1]), 2)"
   ]
  },
  {
   "cell_type": "code",
   "execution_count": null,
   "metadata": {},
   "outputs": [],
   "source": [
    "idxs_u = np.all(pixels_u[pixel] != -1, axis=1)\n",
    "idxs_v = np.all(pixels_v[pixel] != -1, axis=1)\n",
    "print(idxs_u.shape)\n",
    "print(idxs_v.shape)"
   ]
  },
  {
   "cell_type": "code",
   "execution_count": null,
   "metadata": {
    "scrolled": false
   },
   "outputs": [],
   "source": [
    "pixel2 = (pixel[0]-30, pixel[1]+50)\n",
    "n_disp = 20\n",
    "\n",
    "markers = ['v', 's', 'o', '^'] * 5\n",
    "\n",
    "# plt.figure(figsize=(24, 12))\n",
    "# plt.subplot(121)\n",
    "# axes = plt.gca()\n",
    "# axes.axes.set_ylim([192,0])\n",
    "plt.imshow(dmap_disp, cmap=\"gray\", alpha=1)\n",
    "plt.tick_params(axis=\"both\", which=\"both\", bottom=\"off\", top=\"off\", labelbottom=\"off\", labelleft=\"off\", left=\"off\")\n",
    "\n",
    "for i, m in enumerate(markers):\n",
    "    plt.scatter(pixels_u[pixel][idxs_u][i, 1], pixels_u[pixel][idxs_u][i, 0], c=\"white\", s=40, marker=m)\n",
    "    plt.scatter(pixels_v[pixel][idxs_v][i, 1], pixels_v[pixel][idxs_v][i, 0], c=\"white\", s=40, marker=m)\n",
    "    plt.scatter(pixel[1], pixel[0], c=\"black\", s=20, marker=\"x\")\n",
    "\n",
    "plt.tight_layout()\n",
    "plt.savefig(\"/Users/fortjay81/Dropbox/Uvic/dissertation/publications/1_WIP/CMJ_VPT_2017/figures/dif-features.jpg\")\n",
    "\n",
    "# plt.subplot(122)\n",
    "# axes = plt.gca()\n",
    "# axes.axes.set_ylim([192,0])\n",
    "# plt.imshow(dmap_disp, cmap=\"gray\", alpha=.8)\n",
    "# plt.scatter(pixels_u[pixel2][idxs_u][:n_disp, 1], pixels_u[pixel2][idxs_u][:n_disp, 0], c=cs, s=50, marker=\"o\")\n",
    "# plt.scatter(pixels_v[pixel2][idxs_v][:n_disp, 1], pixels_v[pixel2][idxs_v][:n_disp, 0], c=cs, s=50, marker='o')\n",
    "# plt.scatter(pixel2[1], pixel2[0], c='red', s=30, marker=\"s\")\n",
    "# plt.tick_params(axis=\"both\", which=\"both\", bottom=\"off\", top=\"off\", labelbottom=\"off\", labelleft=\"off\", left=\"off\")\n",
    "# plt.tight_layout()\n",
    "# plt.savefig(\"kinect_offsets.pdf\")"
   ]
  },
  {
   "cell_type": "code",
   "execution_count": null,
   "metadata": {
    "collapsed": true
   },
   "outputs": [],
   "source": [
    "data = np.load(\"data/rdf/testing/p4/000010.npz\")\n",
    "dmap_rdf_disp = data[\"dmap\"]\n",
    "dmap_rdf_disp = background_sub(dmap_rdf_disp)\n",
    "dmap_rdf_disp[dmap_rdf_disp==0]=1500\n",
    "dmap_rdf_disp[dmap_rdf_disp<550]=1500\n",
    "dmap_rdf_disp[dmap_rdf_disp==1500]=0\n",
    "dmap_rdf_disp = ip.normalize2(dmap_rdf_disp)\n",
    "\n",
    "mask_disp = cv2.cvtColor(data[\"mask\"], cv2.COLOR_RGB2GRAY)"
   ]
  },
  {
   "cell_type": "code",
   "execution_count": null,
   "metadata": {},
   "outputs": [],
   "source": [
    "offset_gen = dcf.generate_feature_offsets\n",
    "feature_gen = dcf.calc_features\n",
    "M = 7\n",
    "radius = .2\n",
    "n_samples = 750\n",
    "base_model_folder = \"data/rdf/trainedmodels/\"\n",
    "seg_model_path = os.path.join(base_model_folder, \"{:s}_M{:d}_rad{:0.2f}\".format(\"mixed_no_{}\".format(\"p3\"), M, radius))\n",
    "\n",
    "rdf_hs = load_hs_model(\"Testing\", offset_gen, feature_gen, M, radius, n_samples, n_jobs=1, refresh=False, segmentation_model_path=seg_model_path, ms=None, combined=False)"
   ]
  },
  {
   "cell_type": "code",
   "execution_count": null,
   "metadata": {
    "collapsed": true
   },
   "outputs": [],
   "source": [
    "mask_pred = rdf_hs.generate_mask(data[\"dmap\"])\n",
    "mask_pred = cv2.cvtColor(mask_pred, cv2.COLOR_RGB2GRAY)"
   ]
  },
  {
   "cell_type": "code",
   "execution_count": null,
   "metadata": {},
   "outputs": [],
   "source": [
    "# plt.figure(figsize=(24,12))\n",
    "# plt.subplot(221)\n",
    "plt.imshow(dmap_rdf_disp, cmap=\"gray\")\n",
    "plt.tick_params(axis=\"both\", which=\"both\", bottom=\"off\", top=\"off\", labelbottom=\"off\", labelleft=\"off\", left=\"off\")\n",
    "plt.tight_layout()\n",
    "plt.savefig(\"/Users/fortjay81/Dropbox/Uvic/dissertation/publications/1_WIP/CMJ_VPT_2017/figures/rdf-dmap.jpg\")\n",
    "\n",
    "# plt.subplot(222)\n",
    "# plt.imshow(mask_disp, cmap=\"gray\")\n",
    "# plt.tick_params(axis=\"both\", which=\"both\", bottom=\"off\", top=\"off\", labelbottom=\"off\", labelleft=\"off\", left=\"off\")\n",
    "# plt.tight_layout()\n",
    "# plt.savefig(\"dmap-norm.pdf\")\n",
    "\n",
    "# plt.subplot(224)\n",
    "# plt.imshow(mask_pred, cmap=\"gray\")\n",
    "# plt.tick_params(axis=\"both\", which=\"both\", bottom=\"off\", top=\"off\", labelbottom=\"off\", labelleft=\"off\", left=\"off\")\n",
    "# # # plt.tight_layout()"
   ]
  },
  {
   "cell_type": "code",
   "execution_count": null,
   "metadata": {
    "collapsed": true
   },
   "outputs": [],
   "source": [
    "dcf_results = np.load(\"rdf_dcf_results_02_07.npz\")\n",
    "dif_results = np.load(\"rdf_dif_results-02-15.npz\")"
   ]
  },
  {
   "cell_type": "code",
   "execution_count": null,
   "metadata": {
    "collapsed": true
   },
   "outputs": [],
   "source": [
    "dcf_acc = dcf_results[\"accuracy\"]\n",
    "dcf_f_score = dcf_results[\"f_score\"]\n",
    "dif_acc = dif_results[\"accuracy\"]\n",
    "dif_f_score = dif_results[\"f_score\"]"
   ]
  },
  {
   "cell_type": "code",
   "execution_count": null,
   "metadata": {},
   "outputs": [],
   "source": [
    "print(dcf_acc)\n",
    "print(dif_acc)"
   ]
  },
  {
   "cell_type": "code",
   "execution_count": null,
   "metadata": {},
   "outputs": [],
   "source": [
    "x_vals = np.linspace(25000, 150000, 9)\n",
    "print(x_vals)\n",
    "\n",
    "axes = plt.gca()\n",
    "# axes.set_ylim([.97,.985])\n",
    "axes.set_xticks(x_vals)\n",
    "plt.plot(x_vals, dif_acc, marker='x')\n",
    "plt.legend(['M=4', 'M=5', 'M=6', 'M=7'])"
   ]
  },
  {
   "cell_type": "markdown",
   "metadata": {},
   "source": [
    "## ROC Plots"
   ]
  },
  {
   "cell_type": "code",
   "execution_count": null,
   "metadata": {
    "collapsed": true
   },
   "outputs": [],
   "source": [
    "x = np.array([])\n",
    "y = np.array([3, 4, 5, 6, 8])\n",
    "z = np.hstack((x,y))\n",
    "y = np.array([3, 4, 5, 6, 8])\n",
    "z = np.hstack((z,y))"
   ]
  },
  {
   "cell_type": "code",
   "execution_count": null,
   "metadata": {},
   "outputs": [],
   "source": [
    "z"
   ]
  },
  {
   "cell_type": "code",
   "execution_count": null,
   "metadata": {
    "collapsed": true
   },
   "outputs": [],
   "source": [
    "radii = np.linspace(.1, .3, 9)"
   ]
  },
  {
   "cell_type": "code",
   "execution_count": null,
   "metadata": {},
   "outputs": [],
   "source": [
    "print(radii)"
   ]
  },
  {
   "cell_type": "code",
   "execution_count": null,
   "metadata": {
    "collapsed": true
   },
   "outputs": [],
   "source": [
    "from skimage.transform import rotate\n",
    "from sklearn.preprocessing import normalize\n",
    "img = load_depthmap(\"data/posture/p1/p1e/000387.bin\")\n",
    "img = img.astype(float)\n",
    "img[img!=0] = (img[img!=0] - np.min(np.abs(img[img!=0]))) / ( np.max(np.abs(img[img!=0])) - np.min(np.abs(img[img!=0])))\n",
    "img = img[:, ::-1]\n"
   ]
  },
  {
   "cell_type": "code",
   "execution_count": null,
   "metadata": {},
   "outputs": [],
   "source": [
    "plt.imshow(img, cmap=\"gray\")\n",
    "plt.tick_params(axis=\"both\", which=\"both\", bottom=\"off\", top=\"off\", labelbottom=\"off\", labelleft=\"off\", left=\"off\")\n",
    "plt.tight_layout()\n",
    "# plt.savefig(\"/Users/fortjay81/Dropbox/Uvic/dissertation/publications/1_WIP/CMJ_VPT_2017/figures/depth-map.jpg\")"
   ]
  },
  {
   "cell_type": "code",
   "execution_count": null,
   "metadata": {
    "collapsed": true
   },
   "outputs": [],
   "source": [
    "test = np.fromfile(\"data/posture/p4/p4e/000400.bin\", 'uint16')\n",
    "test2 = load_depthmap(\"data/posture/p4/p4e/000400.bin\")"
   ]
  },
  {
   "cell_type": "code",
   "execution_count": null,
   "metadata": {
    "collapsed": true
   },
   "outputs": [],
   "source": [
    "test = test.reshape((480, 640))\n",
    "test = test[154:346, 80:560]"
   ]
  },
  {
   "cell_type": "code",
   "execution_count": null,
   "metadata": {},
   "outputs": [],
   "source": [
    "plt.hist(test)"
   ]
  },
  {
   "cell_type": "code",
   "execution_count": null,
   "metadata": {
    "collapsed": true
   },
   "outputs": [],
   "source": [
    "offsets_dcf4 = dcf.generate_feature_offsets(M=4, radius=.15)\n",
    "offsets_dcf5 = dcf.generate_feature_offsets(M=5, radius=.2)\n",
    "offsets_dcf6 = dcf.generate_feature_offsets(M=6, radius=.15)\n",
    "offsets_dcf7 = dcf.generate_feature_offsets(M=7, radius=.15)"
   ]
  },
  {
   "cell_type": "code",
   "execution_count": null,
   "metadata": {},
   "outputs": [],
   "source": [
    "print(len(offsets_dcf4))\n",
    "print(len(offsets_dcf5))\n",
    "print(len(offsets_dcf6))\n",
    "print(len(offsets_dcf7))"
   ]
  },
  {
   "cell_type": "code",
   "execution_count": null,
   "metadata": {
    "collapsed": true
   },
   "outputs": [],
   "source": [
    "hands =np.load(\"data/hands/hands-M5-rad0.15-pall.npz\")"
   ]
  },
  {
   "cell_type": "code",
   "execution_count": null,
   "metadata": {
    "collapsed": true
   },
   "outputs": [],
   "source": [
    "hands[\"lhs\"]"
   ]
  },
  {
   "cell_type": "code",
   "execution_count": null,
   "metadata": {
    "collapsed": true
   },
   "outputs": [],
   "source": [
    "import cv2"
   ]
  },
  {
   "cell_type": "code",
   "execution_count": null,
   "metadata": {
    "collapsed": true
   },
   "outputs": [],
   "source": [
    "mask = np.load(\"data/rdf/p4/seq_masks/masks/p4b/masks/000200_mask.npy\")\n",
    "mask = cv2.cvtColor(mask, cv2.COLOR_RGB2GRAY)"
   ]
  },
  {
   "cell_type": "code",
   "execution_count": null,
   "metadata": {},
   "outputs": [],
   "source": [
    "plt.imshow(mask, cmap='gray')\n",
    "plt.tick_params(axis=\"both\", which=\"both\", bottom=\"off\", top=\"off\", labelbottom=\"off\", labelleft=\"off\", left=\"off\")\n",
    "plt.savefig(\"/Users/fortjay81/Dropbox/Uvic/dissertation/publications/1_WIP/CMJ_VPT_2017/figures/rdf-mask.jpg\")"
   ]
  },
  {
   "cell_type": "code",
   "execution_count": 5,
   "metadata": {
    "collapsed": true
   },
   "outputs": [],
   "source": [
    "hands = np.load(\"data/hands/hands-M5-rad0.15-pall-test.npz\")"
   ]
  },
  {
   "cell_type": "code",
   "execution_count": 6,
   "metadata": {
    "collapsed": true
   },
   "outputs": [],
   "source": [
    "lh_dmap = hands[\"lh_dmaps\"][10]\n",
    "rh_dmap = hands[\"rh_dmaps\"][10]"
   ]
  },
  {
   "cell_type": "code",
   "execution_count": 7,
   "metadata": {},
   "outputs": [
    {
     "data": {
      "text/plain": [
       "(143, 86)"
      ]
     },
     "execution_count": 7,
     "metadata": {},
     "output_type": "execute_result"
    }
   ],
   "source": [
    "lh_dmap.shape"
   ]
  },
  {
   "cell_type": "code",
   "execution_count": null,
   "metadata": {},
   "outputs": [],
   "source": [
    "rh_dmap_f = rh_dmap[:, ::-1]\n",
    "plt.imshow(rh_dmap_f)"
   ]
  },
  {
   "cell_type": "code",
   "execution_count": null,
   "metadata": {},
   "outputs": [],
   "source": [
    "plt.imshow(lh_dmap)"
   ]
  },
  {
   "cell_type": "code",
   "execution_count": null,
   "metadata": {
    "collapsed": true
   },
   "outputs": [],
   "source": []
  }
 ],
 "metadata": {
  "kernelspec": {
   "display_name": "Python 3",
   "language": "python",
   "name": "python3"
  },
  "language_info": {
   "codemirror_mode": {
    "name": "ipython",
    "version": 3
   },
   "file_extension": ".py",
   "mimetype": "text/x-python",
   "name": "python",
   "nbconvert_exporter": "python",
   "pygments_lexer": "ipython3",
   "version": "3.6.1"
  },
  "toc": {
   "nav_menu": {},
   "number_sections": true,
   "sideBar": true,
   "skip_h1_title": false,
   "toc_cell": false,
   "toc_position": {},
   "toc_section_display": "block",
   "toc_window_display": false
  }
 },
 "nbformat": 4,
 "nbformat_minor": 2
}
