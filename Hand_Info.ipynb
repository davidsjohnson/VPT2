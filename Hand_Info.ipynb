{
 "cells": [
  {
   "cell_type": "markdown",
   "metadata": {},
   "source": [
    "## Extracted Hands"
   ]
  },
  {
   "cell_type": "code",
   "execution_count": 3,
   "metadata": {},
   "outputs": [],
   "source": [
    "%load_ext autoreload\n",
    "%autoreload 2"
   ]
  },
  {
   "cell_type": "code",
   "execution_count": 4,
   "metadata": {},
   "outputs": [],
   "source": [
    "import numpy as np\n",
    "import matplotlib as mpl\n",
    "import matplotlib.pyplot as plt\n",
    "from scipy.interpolate import interp2d\n",
    "import re\n",
    "import cv2\n",
    "%matplotlib inline"
   ]
  },
  {
   "cell_type": "code",
   "execution_count": 5,
   "metadata": {},
   "outputs": [],
   "source": [
    "participants = ['p1', 'p3', 'p4', 'p6']\n",
    "exercises = ['a', 'b', 'c', 'd', 'e']"
   ]
  },
  {
   "cell_type": "code",
   "execution_count": 6,
   "metadata": {},
   "outputs": [],
   "source": [
    "# parse hands based on participant\n",
    "def parse_participant_hands(X, y, filenames, participant, exercise=\"\"):\n",
    "    # extracts a participants hands from a given set of X, y data and a list of filenames\n",
    "    # optionally extract a specfic exercise from the data\n",
    "    \n",
    "    r = re.compile(participant + exercise)\n",
    "\n",
    "    # remove p data\n",
    "    vmatch = np.vectorize(lambda x:bool(r.search(x)))\n",
    "    p_files = vmatch(filenames)\n",
    "\n",
    "    return X[p_files], y[p_files], filenames[p_files]"
   ]
  },
  {
   "cell_type": "markdown",
   "metadata": {},
   "source": [
    "### Loading the Data"
   ]
  },
  {
   "cell_type": "code",
   "execution_count": 7,
   "metadata": {},
   "outputs": [],
   "source": [
    "hands = np.load(\"data/hands/hands-M5-rad0.15-pall.npz\")"
   ]
  },
  {
   "cell_type": "code",
   "execution_count": 8,
   "metadata": {},
   "outputs": [],
   "source": [
    "# Get hands and labels from the compressed numpy file\n",
    "lhs = hands[\"lh_dmaps\"]\n",
    "y_lh = hands[\"y_lh\"]\n",
    "\n",
    "rhs = hands[\"rh_dmaps\"]\n",
    "y_rh = hands[\"y_rh\"]\n",
    "\n",
    "filenames = hands[\"filenames\"]\n",
    "\n",
    "assert lhs.shape == y_lh.shape == rhs.shape == y_rh.shape == filenames.shape"
   ]
  },
  {
   "cell_type": "code",
   "execution_count": 9,
   "metadata": {},
   "outputs": [
    {
     "name": "stdout",
     "output_type": "stream",
     "text": [
      "Left Hand Info\t (15817,) object\n",
      "   Labels Info\t (15817,) int64\n",
      "Rght Hand Info\t (15817,) object\n",
      "   Labels Info\t (15817,) int64\n",
      "Filename Info\t (15817,) <U30\n"
     ]
    }
   ],
   "source": [
    "print(\"Left Hand Info\\t\", lhs.shape, lhs.dtype)\n",
    "print(\"   Labels Info\\t\", y_lh.shape, y_lh.dtype)\n",
    "print(\"Rght Hand Info\\t\", rhs.shape, rhs.dtype)\n",
    "print(\"   Labels Info\\t\", y_rh.shape, y_rh.dtype)\n",
    "print(\"Filename Info\\t\", filenames.shape, filenames.dtype)"
   ]
  },
  {
   "cell_type": "code",
   "execution_count": 10,
   "metadata": {},
   "outputs": [
    {
     "name": "stdout",
     "output_type": "stream",
     "text": [
      "Avg LH Shape [ 161.73800341   88.92021243]\n",
      "Avg RH Shape [ 160.99127521   91.69697161]\n",
      "\n",
      "Max LH Shape [189, 130]\n",
      "Max RH Shape [184, 125]\n"
     ]
    }
   ],
   "source": [
    "lh_avg_shape = np.array([0,0])\n",
    "rh_avg_shape = np.array([0,0])\n",
    "\n",
    "lh_max_shape = [0,0]\n",
    "rh_max_shape = [0,0]\n",
    "\n",
    "\n",
    "for lh, rh in zip(lhs, rhs):\n",
    "    \n",
    "    lh_avg_shape += lh.shape\n",
    "    rh_avg_shape += rh.shape\n",
    "    \n",
    "    if lh.shape[0] >= lh_max_shape[0]:\n",
    "        lh_max_shape[0] = lh.shape[0]\n",
    "        \n",
    "    if lh.shape[1] >= lh_max_shape[1]:\n",
    "        lh_max_shape[1] = lh.shape[1]\n",
    "        \n",
    "    if rh.shape[0] >= rh_max_shape[0]:\n",
    "        rh_max_shape[0] = rh.shape[0]\n",
    "        \n",
    "    if rh.shape[1] >= rh_max_shape[1]:\n",
    "        rh_max_shape[1] = rh.shape[1]\n",
    "    \n",
    "print(\"Avg LH Shape\", lh_avg_shape / len(lhs))\n",
    "print(\"Avg RH Shape\", rh_avg_shape / len(rhs))\n",
    "print()\n",
    "print(\"Max LH Shape\", lh_max_shape)\n",
    "print(\"Max RH Shape\", rh_max_shape)"
   ]
  },
  {
   "cell_type": "markdown",
   "metadata": {},
   "source": [
    "### TESTING SHIT"
   ]
  },
  {
   "cell_type": "code",
   "execution_count": 11,
   "metadata": {},
   "outputs": [],
   "source": [
    "h = lhs[filenames == \"data/posture/p3/p3c/000425.bin\"][0].astype(int)"
   ]
  },
  {
   "cell_type": "code",
   "execution_count": 12,
   "metadata": {},
   "outputs": [],
   "source": [
    "from vpt.features.features import *"
   ]
  },
  {
   "cell_type": "code",
   "execution_count": 13,
   "metadata": {},
   "outputs": [
    {
     "name": "stdout",
     "output_type": "stream",
     "text": [
      "(72900,)\n"
     ]
    }
   ],
   "source": [
    "x = extract_features(h, 'honv')\n",
    "print(x.shape)"
   ]
  },
  {
   "cell_type": "markdown",
   "metadata": {},
   "source": [
    "### Visualize a pair of hands"
   ]
  },
  {
   "cell_type": "code",
   "execution_count": 14,
   "metadata": {},
   "outputs": [],
   "source": [
    "lh = lhs[filenames == \"data/posture/p3/p3c/000425.bin\"][0].astype(int)\n",
    "rh = rhs[filenames == \"data/posture/p3/p3c/000425.bin\"][0].astype(int)\n",
    "rh = rh[:,::-1]  #flip image vertically for same orientation as lh"
   ]
  },
  {
   "cell_type": "code",
   "execution_count": 15,
   "metadata": {},
   "outputs": [],
   "source": [
    "#normalize images\n",
    "lh_norm = np.zeros_like(lh, dtype=float)\n",
    "lh_norm[lh!=0] = (lh[lh!=0]-lh[lh!=0].min())/(lh[lh!=0].max()-lh[lh!=0].min())\n",
    "\n",
    "rh_norm = np.zeros_like(rh, dtype=float)\n",
    "rh_norm[rh!=0] = (rh[rh!=0]-rh[rh!=0].min())/(rh[rh!=0].max()-rh[rh!=0].min())"
   ]
  },
  {
   "cell_type": "code",
   "execution_count": 16,
   "metadata": {},
   "outputs": [
    {
     "data": {
      "image/png": "[encoded data removed]",
      "text/plain": [
       "<matplotlib.figure.Figure at 0x118c7e518>"
      ]
     },
     "metadata": {},
     "output_type": "display_data"
    }
   ],
   "source": [
    "plt.figure(figsize=(6,4))\n",
    "plt.subplot(121)\n",
    "plt.imshow(lh_norm)\n",
    "plt.subplot(122)\n",
    "plt.imshow(rh_norm)\n",
    "plt.show()"
   ]
  },
  {
   "cell_type": "markdown",
   "metadata": {},
   "source": [
    "### Extracting Partipants and Exercises"
   ]
  },
  {
   "cell_type": "code",
   "execution_count": null,
   "metadata": {},
   "outputs": [],
   "source": [
    "# combine rh and lh for training a single model\n",
    "hands_comb = np.hstack((lhs, rhs))\n",
    "y = np.hstack((y_lh, y_rh))\n",
    "files_comb = np.hstack((filenames, filenames))\n",
    "\n",
    "assert hands_comb.shape == y.shape == files_comb.shape, \"Error combining hands.  Array shapes are different sizes\""
   ]
  },
  {
   "cell_type": "code",
   "execution_count": null,
   "metadata": {},
   "outputs": [],
   "source": [
    "for p in participants:\n",
    "    \n",
    "    print(\"Particpant {}\".format(p))\n",
    "    for e in exercises:\n",
    "        p_hands, p_y, p_files = parse_participant_hands(hands_comb, y, files_comb, p, e)\n",
    "        \n",
    "        print(\"\\tEx {}\".format(e))\n",
    "        print(\"\\tLabel 0:\", p_y[p_y==0].shape)\n",
    "        print(\"\\tLabel 1:\", p_y[p_y==1].shape)\n",
    "        print(\"\\tLabel 2:\", p_y[p_y==2].shape)\n",
    "        print()"
   ]
  },
  {
   "cell_type": "markdown",
   "metadata": {},
   "source": [
    "### TEst"
   ]
  },
  {
   "cell_type": "code",
   "execution_count": 9,
   "metadata": {},
   "outputs": [],
   "source": [
    "a = np.array([1, 2, 3, 4, 5, 1, 2, 3, 4, 5, 1, 2, 3, 4, 5])"
   ]
  },
  {
   "cell_type": "code",
   "execution_count": 10,
   "metadata": {},
   "outputs": [
    {
     "data": {
      "text/plain": [
       "(15,)"
      ]
     },
     "execution_count": 10,
     "metadata": {},
     "output_type": "execute_result"
    }
   ],
   "source": [
    "a.shape"
   ]
  },
  {
   "cell_type": "code",
   "execution_count": 13,
   "metadata": {},
   "outputs": [],
   "source": [
    "n = np.reshape(a, (3,5))"
   ]
  },
  {
   "cell_type": "code",
   "execution_count": 14,
   "metadata": {},
   "outputs": [
    {
     "data": {
      "text/plain": [
       "array([[1, 2, 3, 4, 5],\n",
       "       [1, 2, 3, 4, 5],\n",
       "       [1, 2, 3, 4, 5]])"
      ]
     },
     "execution_count": 14,
     "metadata": {},
     "output_type": "execute_result"
    }
   ],
   "source": [
    "n"
   ]
  },
  {
   "cell_type": "code",
   "execution_count": null,
   "metadata": {},
   "outputs": [],
   "source": []
  }
 ],
 "metadata": {
  "kernelspec": {
   "display_name": "Python 3",
   "language": "python",
   "name": "python3"
  },
  "language_info": {
   "codemirror_mode": {
    "name": "ipython",
    "version": 3
   },
   "file_extension": ".py",
   "mimetype": "text/x-python",
   "name": "python",
   "nbconvert_exporter": "python",
   "pygments_lexer": "ipython3",
   "version": "3.6.1"
  }
 },
 "nbformat": 4,
 "nbformat_minor": 2
}
